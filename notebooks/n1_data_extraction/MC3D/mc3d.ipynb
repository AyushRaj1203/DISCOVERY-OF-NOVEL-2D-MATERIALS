{
 "cells": [
  {
   "cell_type": "code",
   "execution_count": 3,
   "metadata": {},
   "outputs": [
    {
     "name": "stdout",
     "output_type": "stream",
     "text": [
      "Data has been saved to mc3d.csv\n"
     ]
    }
   ],
   "source": [
    "import requests\n",
    "import pandas as pd\n",
    "\n",
    "# Define the API URL\n",
    "api_url = \"https://www.materialscloud.org/mcloud/api/v2/discover/mc3d/compounds\"\n",
    "\n",
    "# Send a GET request to the API\n",
    "response = requests.get(api_url)\n",
    "\n",
    "# Check if the request was successful\n",
    "if response.status_code == 200:\n",
    "    # Parse the JSON response\n",
    "    data = response.json()\n",
    "    \n",
    "    # Convert the data to a pandas DataFrame\n",
    "    df = pd.DataFrame(data['data'])\n",
    "    \n",
    "    # Transpose the DataFrame to switch from column-wise to row-wise\n",
    "    df_transposed = df.transpose()\n",
    "    \n",
    "    # Save the transposed DataFrame to a CSV file\n",
    "    df_transposed.to_csv('../../../data/d1_data_extraction/mc3d.csv', index=False, header=True)\n",
    "    print(\"Data has been saved to mc3d.csv\")\n",
    "else:\n",
    "    print(f\"Failed to fetch data. HTTP Status code: {response.status_code}\")\n"
   ]
  },
  {
   "cell_type": "code",
   "execution_count": null,
   "metadata": {},
   "outputs": [],
   "source": []
  }
 ],
 "metadata": {
  "kernelspec": {
   "display_name": "Python 3",
   "language": "python",
   "name": "python3"
  },
  "language_info": {
   "codemirror_mode": {
    "name": "ipython",
    "version": 3
   },
   "file_extension": ".py",
   "mimetype": "text/x-python",
   "name": "python",
   "nbconvert_exporter": "python",
   "pygments_lexer": "ipython3",
   "version": "3.11.3"
  }
 },
 "nbformat": 4,
 "nbformat_minor": 2
}
