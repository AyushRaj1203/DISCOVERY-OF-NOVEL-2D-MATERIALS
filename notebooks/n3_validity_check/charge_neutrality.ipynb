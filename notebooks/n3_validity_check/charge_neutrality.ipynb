{
 "cells": [
  {
   "cell_type": "code",
   "execution_count": 1,
   "metadata": {},
   "outputs": [],
   "source": [
    "import smact\n",
    "from smact import neutral_ratios\n",
    "import pandas as pd\n",
    "import pymatgen.core as mg"
   ]
  },
  {
   "cell_type": "code",
   "execution_count": 2,
   "metadata": {},
   "outputs": [],
   "source": [
    "def check_neutrality(formula):\n",
    "    comp = mg.Composition(formula)\n",
    "    reduce_formula = comp.get_el_amt_dict()\n",
    "    element_num = len(list(reduce_formula.keys()))\n",
    "\n",
    "    if element_num == 1:\n",
    "        return True\n",
    "    elif element_num == 2:\n",
    "        return check_neutrality_2(formula)\n",
    "    elif element_num == 3:\n",
    "        return check_neutrality_3(formula)\n",
    "    elif element_num == 4:\n",
    "        return check_neutrality_4(formula)\n",
    "    elif element_num == 5:\n",
    "        return check_neutrality_5(formula)\n",
    "    elif element_num == 6:\n",
    "        return check_neutrality_6(formula)\n",
    "    elif element_num == 7:\n",
    "        return check_neutrality_7(formula)\n",
    "    elif element_num == 8:\n",
    "        return check_neutrality_8(formula)\n",
    "    else:\n",
    "        raise Exception('Not implemented')\n",
    "        return False"
   ]
  },
  {
   "cell_type": "code",
   "execution_count": 3,
   "metadata": {},
   "outputs": [],
   "source": [
    "def check_neutrality_2(formula):\n",
    "    charge_neutral_count = 0\n",
    "    comp = mg.Composition(formula)\n",
    "    reduce_formula = comp.get_el_amt_dict()\n",
    "    list_of_elements = list(reduce_formula.keys())\n",
    "    max_num = max(reduce_formula.values())\n",
    "    for i, ele_a in enumerate(list_of_elements):\n",
    "        for ox_a in smact.Element(ele_a).oxidation_states:\n",
    "            for j, ele_b in enumerate(list_of_elements[i+1:]):\n",
    "                for ox_b in smact.Element(ele_b).oxidation_states:                    \n",
    "                            \n",
    "                    # Checks if the combination is charge neutral before printing it out! #                        \n",
    "                    cn_e, cn_r = neutral_ratios([ox_a, ox_b], threshold = int(max_num))\n",
    "                    \n",
    "                    if cn_e:\n",
    "                        for num in cn_r:\n",
    "                            if tuple(reduce_formula.values()) == num:\n",
    "                                return True \n",
    "    return False\n",
    "\n",
    "def check_neutrality_3(formula):\n",
    "    charge_neutral_count = 0\n",
    "    comp = mg.Composition(formula)\n",
    "    reduce_formula = comp.get_el_amt_dict()\n",
    "    list_of_elements = list(reduce_formula.keys())\n",
    "    max_num = max(reduce_formula.values())\n",
    "    for i, ele_a in enumerate(list_of_elements):\n",
    "        for ox_a in smact.Element(ele_a).oxidation_states:\n",
    "            for j, ele_b in enumerate(list_of_elements[i+1:]):\n",
    "                for ox_b in smact.Element(ele_b).oxidation_states:\n",
    "                    for k, ele_c in enumerate(list_of_elements[i+j+2:]):\n",
    "                        for ox_c in smact.Element(ele_c).oxidation_states:\n",
    "                            \n",
    "                            # Checks if the combination is charge neutral before printing it out! #                        \n",
    "                            cn_e, cn_r = neutral_ratios([ox_a, ox_b, ox_c], threshold = int(max_num))\n",
    "                            \n",
    "                            if cn_e:\n",
    "                                for num in cn_r:\n",
    "                                    if tuple(reduce_formula.values()) == num:\n",
    "                                        return True\n",
    "    return False\n",
    "\n",
    "def check_neutrality_4(formula):\n",
    "    charge_neutral_count = 0\n",
    "    comp = mg.Composition(formula)\n",
    "    reduce_formula = comp.get_el_amt_dict()\n",
    "    list_of_elements = list(reduce_formula.keys())\n",
    "    max_num = max(reduce_formula.values())\n",
    "    for i, ele_a in enumerate(list_of_elements):\n",
    "        for ox_a in smact.Element(ele_a).oxidation_states:\n",
    "            for j, ele_b in enumerate(list_of_elements[i+1:]):\n",
    "                for ox_b in smact.Element(ele_b).oxidation_states:\n",
    "                    for k, ele_c in enumerate(list_of_elements[i+j+2:]):\n",
    "                        for ox_c in smact.Element(ele_c).oxidation_states:\n",
    "                            for m, ele_d in enumerate(list_of_elements[i+j+k+3:]):\n",
    "                                for ox_d in smact.Element(ele_d).oxidation_states:\n",
    "                            \n",
    "                                    # Checks if the combination is charge neutral before printing it out! #                        \n",
    "                                    cn_e, cn_r = neutral_ratios([ox_a, ox_b, ox_c, ox_d], threshold = int(max_num))\n",
    "                                    \n",
    "                                    if cn_e:\n",
    "                                        for num in cn_r:\n",
    "                                            if tuple(reduce_formula.values()) == num:\n",
    "                                                return True\n",
    "    return False\n",
    "\n",
    "def check_neutrality_5(formula):\n",
    "    charge_neutral_count = 0\n",
    "    comp = mg.Composition(formula)\n",
    "    reduce_formula = comp.get_el_amt_dict()\n",
    "    list_of_elements = list(reduce_formula.keys())\n",
    "    max_num = max(reduce_formula.values())\n",
    "    for i, ele_a in enumerate(list_of_elements):\n",
    "        for ox_a in smact.Element(ele_a).oxidation_states:\n",
    "            for j, ele_b in enumerate(list_of_elements[i+1:]):\n",
    "                for ox_b in smact.Element(ele_b).oxidation_states:\n",
    "                    for k, ele_c in enumerate(list_of_elements[i+j+2:]):\n",
    "                        for ox_c in smact.Element(ele_c).oxidation_states:\n",
    "                            for m, ele_d in enumerate(list_of_elements[i+j+k+3:]):\n",
    "                                for ox_d in smact.Element(ele_d).oxidation_states:\n",
    "                                    for n, ele_e in enumerate(list_of_elements[i+j+k+m+4:]):\n",
    "                                        for ox_e in smact.Element(ele_e).oxidation_states:                             \n",
    "                                            # Checks if the combination is charge neutral before printing it out! #                        \n",
    "                                            cn_e, cn_r = neutral_ratios([ox_a, ox_b, ox_c, ox_d, ox_e], threshold = int(max_num))\n",
    "                                            \n",
    "                                            if cn_e:\n",
    "                                                for num in cn_r:\n",
    "                                                    if tuple(reduce_formula.values()) == num:\n",
    "                                                        return True\n",
    "    return False\n",
    "\n",
    "def check_neutrality_6(formula):\n",
    "    charge_neutral_count = 0\n",
    "    comp = mg.Composition(formula)\n",
    "    reduce_formula = comp.get_el_amt_dict()\n",
    "    list_of_elements = list(reduce_formula.keys())\n",
    "    max_num = max(reduce_formula.values())\n",
    "    for i, ele_a in enumerate(list_of_elements):\n",
    "        for ox_a in smact.Element(ele_a).oxidation_states:\n",
    "            for j, ele_b in enumerate(list_of_elements[i+1:]):\n",
    "                for ox_b in smact.Element(ele_b).oxidation_states:\n",
    "                    for k, ele_c in enumerate(list_of_elements[i+j+2:]):\n",
    "                        for ox_c in smact.Element(ele_c).oxidation_states:\n",
    "                            for m, ele_d in enumerate(list_of_elements[i+j+k+3:]):\n",
    "                                for ox_d in smact.Element(ele_d).oxidation_states:\n",
    "                                    for n, ele_e in enumerate(list_of_elements[i+j+k+m+4:]):\n",
    "                                        for ox_e in smact.Element(ele_e).oxidation_states:\n",
    "                                            for p, ele_f in enumerate(list_of_elements[i+j+k+m+n+5:]):\n",
    "                                                for ox_f in smact.Element(ele_f).oxidation_states:\n",
    "                                                    # Checks if the combination is charge neutral before printing it out! #                        \n",
    "                                                    cn_e, cn_r = neutral_ratios([ox_a, ox_b, ox_c, ox_d, ox_e, ox_f], threshold = int(max_num))\n",
    "                                                    \n",
    "                                                    if cn_e:\n",
    "                                                        for num in cn_r:\n",
    "                                                            if tuple(reduce_formula.values()) == num:\n",
    "                                                                return True\n",
    "    return False\n",
    "\n",
    "def check_neutrality_7(formula):\n",
    "    charge_neutral_count = 0\n",
    "    comp = mg.Composition(formula)\n",
    "    reduce_formula = comp.get_el_amt_dict()\n",
    "    list_of_elements = list(reduce_formula.keys())\n",
    "    max_num = max(reduce_formula.values())\n",
    "    for element in reduce_formula.keys():\n",
    "        print(len(smact.Element(element).oxidation_states), end = \",\")\n",
    "    for i, ele_a in enumerate(list_of_elements):\n",
    "        for ox_a in smact.Element(ele_a).oxidation_states:\n",
    "            for j, ele_b in enumerate(list_of_elements[i+1:]):\n",
    "                for ox_b in smact.Element(ele_b).oxidation_states:\n",
    "                    for k, ele_c in enumerate(list_of_elements[i+j+2:]):\n",
    "                        for ox_c in smact.Element(ele_c).oxidation_states:\n",
    "                            for m, ele_d in enumerate(list_of_elements[i+j+k+3:]):\n",
    "                                for ox_d in smact.Element(ele_d).oxidation_states:\n",
    "                                    for n, ele_e in enumerate(list_of_elements[i+j+k+m+4:]):\n",
    "                                        for ox_e in smact.Element(ele_e).oxidation_states:\n",
    "                                            for p, ele_f in enumerate(list_of_elements[i+j+k+m+n+5:]):\n",
    "                                                for ox_f in smact.Element(ele_f).oxidation_states:\n",
    "                                                    for q, ele_g in enumerate(list_of_elements[i+j+k+m+n+p+6:]):\n",
    "                                                        for ox_g in smact.Element(ele_g).oxidation_states:\n",
    "                                                            # Checks if the combination is charge neutral before printing it out! #                        \n",
    "                                                            cn_e, cn_r = neutral_ratios([ox_a, ox_b, ox_c, ox_d, ox_e, ox_f, ox_g], threshold = int(max_num))\n",
    "                                                            \n",
    "                                                            if cn_e:\n",
    "                                                                for num in cn_r:\n",
    "                                                                    if tuple(reduce_formula.values()) == num:\n",
    "                                                                        return True\n",
    "    return False\n",
    "\n",
    "def check_neutrality_8(formula):\n",
    "    charge_neutral_count = 0\n",
    "    comp = mg.Composition(formula)\n",
    "    reduce_formula = comp.get_el_amt_dict()\n",
    "    list_of_elements = list(reduce_formula.keys())\n",
    "    max_num = max(reduce_formula.values())\n",
    "    for element in reduce_formula.keys():\n",
    "        print(len(smact.Element(element).oxidation_states), end = \",\")\n",
    "\n",
    "    for i, ele_a in enumerate(list_of_elements):\n",
    "        for ox_a in smact.Element(ele_a).oxidation_states:\n",
    "            for j, ele_b in enumerate(list_of_elements[i+1:]):\n",
    "                for ox_b in smact.Element(ele_b).oxidation_states:\n",
    "                    for k, ele_c in enumerate(list_of_elements[i+j+2:]):\n",
    "                        for ox_c in smact.Element(ele_c).oxidation_states:\n",
    "                            for m, ele_d in enumerate(list_of_elements[i+j+k+3:]):\n",
    "                                for ox_d in smact.Element(ele_d).oxidation_states:\n",
    "                                    for n, ele_e in enumerate(list_of_elements[i+j+k+m+4:]):\n",
    "                                        for ox_e in smact.Element(ele_e).oxidation_states:\n",
    "                                            for p, ele_f in enumerate(list_of_elements[i+j+k+m+n+5:]):\n",
    "                                                for ox_f in smact.Element(ele_f).oxidation_states:\n",
    "                                                    for q, ele_g in enumerate(list_of_elements[i+j+k+m+n+p+6:]):\n",
    "                                                        for ox_g in smact.Element(ele_g).oxidation_states:\n",
    "                                                            for s, ele_h in enumerate(list_of_elements[i+j+k+m+n+p+q+7:]):\n",
    "                                                                for ox_h in smact.Element(ele_h).oxidation_states:\n",
    "                                                                    # Checks if the combination is charge neutral before printing it out! #                        \n",
    "                                                                    cn_e, cn_r = neutral_ratios([ox_a, ox_b, ox_c, ox_d, ox_e, ox_f, ox_g, ox_h], threshold = int(max_num))\n",
    "                                                                    \n",
    "                                                                    if cn_e:\n",
    "                                                                        for num in cn_r:\n",
    "                                                                            if tuple(reduce_formula.values()) == num:\n",
    "                                                                                return True \n",
    "    return False"
   ]
  },
  {
   "cell_type": "code",
   "execution_count": 53,
   "metadata": {},
   "outputs": [
    {
     "name": "stdout",
     "output_type": "stream",
     "text": [
      "False\n"
     ]
    }
   ],
   "source": [
    "# print(check_neutrality(\"H2SO4\"))"
   ]
  },
  {
   "cell_type": "code",
   "execution_count": 4,
   "metadata": {},
   "outputs": [],
   "source": [
    "df = pd.read_csv(\"../../data/d2_data_generation/generated_formulas.csv\")"
   ]
  },
  {
   "cell_type": "code",
   "execution_count": 7,
   "metadata": {},
   "outputs": [
    {
     "name": "stdout",
     "output_type": "stream",
     "text": [
      "BATCH 1: \n",
      "Total Formulas:  200\n",
      "Number of neutral formulas: 77\n",
      "Number of non-neutral formulas: 123\n"
     ]
    },
    {
     "name": "stderr",
     "output_type": "stream",
     "text": [
      "C:\\Users\\aaayu\\AppData\\Local\\Temp\\ipykernel_9436\\454213937.py:7: SettingWithCopyWarning: \n",
      "A value is trying to be set on a copy of a slice from a DataFrame.\n",
      "Try using .loc[row_indexer,col_indexer] = value instead\n",
      "\n",
      "See the caveats in the documentation: https://pandas.pydata.org/pandas-docs/stable/user_guide/indexing.html#returning-a-view-versus-a-copy\n",
      "  df_1['Neutrality'] = df_1['Formula'].apply(check_neutrality)\n"
     ]
    }
   ],
   "source": [
    "\n",
    "    \n",
    "# Select the first 200 formulas\n",
    "df_1 = df.iloc[0:200]\n",
    "    \n",
    "# Apply the neutrality check\n",
    "df_1['Neutrality'] = df_1['Formula'].apply(check_neutrality)\n",
    "\n",
    "print(\"BATCH 1: \")\n",
    "print(\"Total Formulas: \", len(df_1))\n",
    "# Count true and false results\n",
    "true_count_b1 = df_1['Neutrality'].sum()\n",
    "false_count_b1 = len(df_1) - true_count_b1\n",
    "\n",
    "print(f\"Number of neutral formulas: {true_count_b1}\")\n",
    "print(f\"Number of non-neutral formulas: {false_count_b1}\")\n",
    "\n",
    "# Store the formulas with true results in a new CSV file\n",
    "df_true = df_1[df_1['Neutrality']]\n",
    "df_true.to_csv(\"../../data/d3_validity_check/valid_formulas.csv\", index=False)"
   ]
  },
  {
   "cell_type": "code",
   "execution_count": 8,
   "metadata": {},
   "outputs": [
    {
     "name": "stdout",
     "output_type": "stream",
     "text": [
      "BATCH 2: \n",
      "Total Formulas:  300\n",
      "Number of neutral formulas: 122\n",
      "Number of non-neutral formulas: 178\n"
     ]
    },
    {
     "name": "stderr",
     "output_type": "stream",
     "text": [
      "C:\\Users\\aaayu\\AppData\\Local\\Temp\\ipykernel_9436\\3123154322.py:5: SettingWithCopyWarning: \n",
      "A value is trying to be set on a copy of a slice from a DataFrame.\n",
      "Try using .loc[row_indexer,col_indexer] = value instead\n",
      "\n",
      "See the caveats in the documentation: https://pandas.pydata.org/pandas-docs/stable/user_guide/indexing.html#returning-a-view-versus-a-copy\n",
      "  df_2['Neutrality'] = df_2['Formula'].apply(check_neutrality)\n"
     ]
    }
   ],
   "source": [
    "# Select the next formulas\n",
    "df_2 = df.iloc[200:500]\n",
    "    \n",
    "# Apply the neutrality check\n",
    "df_2['Neutrality'] = df_2['Formula'].apply(check_neutrality)\n",
    "\n",
    "print(\"BATCH 2: \")\n",
    "print(\"Total Formulas: \", len(df_2))\n",
    "# Count true and false results\n",
    "true_count_b2 = df_2['Neutrality'].sum()\n",
    "false_count_b2 = len(df_2) - true_count_b2\n",
    "\n",
    "print(f\"Number of neutral formulas: {true_count_b2}\")\n",
    "print(f\"Number of non-neutral formulas: {false_count_b2}\")\n",
    "\n",
    "# Store the formulas with true results in a new CSV file\n",
    "df_true = df_2[df_2['Neutrality']]\n",
    "df_true.to_csv(\"../../data/d3_validity_check/valid_formulas.csv\", mode='a', header=False, index=False)"
   ]
  },
  {
   "cell_type": "code",
   "execution_count": 9,
   "metadata": {},
   "outputs": [
    {
     "name": "stderr",
     "output_type": "stream",
     "text": [
      "C:\\Users\\aaayu\\AppData\\Local\\Temp\\ipykernel_9436\\1083812444.py:5: SettingWithCopyWarning: \n",
      "A value is trying to be set on a copy of a slice from a DataFrame.\n",
      "Try using .loc[row_indexer,col_indexer] = value instead\n",
      "\n",
      "See the caveats in the documentation: https://pandas.pydata.org/pandas-docs/stable/user_guide/indexing.html#returning-a-view-versus-a-copy\n",
      "  df_3['Neutrality'] = df_3['Formula'].apply(check_neutrality)\n"
     ]
    },
    {
     "name": "stdout",
     "output_type": "stream",
     "text": [
      "BATCH 3: \n",
      "Total Formulas:  500\n",
      "Number of neutral formulas: 203\n",
      "Number of non-neutral formulas: 297\n"
     ]
    }
   ],
   "source": [
    "# Select the next formulas\n",
    "df_3 = df.iloc[500:1000]\n",
    "    \n",
    "# Apply the neutrality check\n",
    "df_3['Neutrality'] = df_3['Formula'].apply(check_neutrality)\n",
    "\n",
    "print(\"BATCH 3: \")\n",
    "print(\"Total Formulas: \", len(df_3))\n",
    "# Count true and false results\n",
    "true_count_b3 = df_3['Neutrality'].sum()\n",
    "false_count_b3 = len(df_3) - true_count_b3\n",
    "\n",
    "print(f\"Number of neutral formulas: {true_count_b3}\")\n",
    "print(f\"Number of non-neutral formulas: {false_count_b3}\")\n",
    "\n",
    "# Store the formulas with true results in a new CSV file\n",
    "df_true = df_3[df_3['Neutrality']]\n",
    "df_true.to_csv(\"../../data/d3_validity_check/valid_formulas.csv\", mode='a', header=False, index=False)"
   ]
  },
  {
   "cell_type": "code",
   "execution_count": 10,
   "metadata": {},
   "outputs": [
    {
     "name": "stdout",
     "output_type": "stream",
     "text": [
      "BATCH 4: \n",
      "Total Formulas:  500\n",
      "Number of neutral formulas: 194\n",
      "Number of non-neutral formulas: 306\n"
     ]
    },
    {
     "name": "stderr",
     "output_type": "stream",
     "text": [
      "C:\\Users\\aaayu\\AppData\\Local\\Temp\\ipykernel_9436\\3537637782.py:5: SettingWithCopyWarning: \n",
      "A value is trying to be set on a copy of a slice from a DataFrame.\n",
      "Try using .loc[row_indexer,col_indexer] = value instead\n",
      "\n",
      "See the caveats in the documentation: https://pandas.pydata.org/pandas-docs/stable/user_guide/indexing.html#returning-a-view-versus-a-copy\n",
      "  df_4['Neutrality'] = df_4['Formula'].apply(check_neutrality)\n"
     ]
    }
   ],
   "source": [
    "# Select the next formulas\n",
    "df_4 = df.iloc[1000:1500]\n",
    "    \n",
    "# Apply the neutrality check\n",
    "df_4['Neutrality'] = df_4['Formula'].apply(check_neutrality)\n",
    "\n",
    "print(\"BATCH 4: \")\n",
    "print(\"Total Formulas: \", len(df_4))\n",
    "# Count true and false results\n",
    "true_count_b4 = df_4['Neutrality'].sum()\n",
    "false_count_b4 = len(df_4) - true_count_b4\n",
    "\n",
    "print(f\"Number of neutral formulas: {true_count_b4}\")\n",
    "print(f\"Number of non-neutral formulas: {false_count_b4}\")\n",
    "\n",
    "# Store the formulas with true results in a new CSV file\n",
    "df_true = df_4[df_4['Neutrality']]\n",
    "df_true.to_csv(\"../../data/d3_validity_check/valid_formulas.csv\", mode='a', header=False, index=False)"
   ]
  },
  {
   "cell_type": "code",
   "execution_count": 11,
   "metadata": {},
   "outputs": [
    {
     "name": "stdout",
     "output_type": "stream",
     "text": [
      "BATCH 5: \n",
      "Total Formulas:  500\n",
      "Number of neutral formulas: 180\n",
      "Number of non-neutral formulas: 320\n"
     ]
    },
    {
     "name": "stderr",
     "output_type": "stream",
     "text": [
      "C:\\Users\\aaayu\\AppData\\Local\\Temp\\ipykernel_9436\\1150494636.py:5: SettingWithCopyWarning: \n",
      "A value is trying to be set on a copy of a slice from a DataFrame.\n",
      "Try using .loc[row_indexer,col_indexer] = value instead\n",
      "\n",
      "See the caveats in the documentation: https://pandas.pydata.org/pandas-docs/stable/user_guide/indexing.html#returning-a-view-versus-a-copy\n",
      "  df_5['Neutrality'] = df_5['Formula'].apply(check_neutrality)\n"
     ]
    }
   ],
   "source": [
    "# Select the next formulas\n",
    "df_5 = df.iloc[1500:2000]\n",
    "    \n",
    "# Apply the neutrality check\n",
    "df_5['Neutrality'] = df_5['Formula'].apply(check_neutrality)\n",
    "\n",
    "print(\"BATCH 5: \")\n",
    "print(\"Total Formulas: \", len(df_5))\n",
    "# Count true and false results\n",
    "true_count_b5 = df_5['Neutrality'].sum()\n",
    "false_count_b5 = len(df_5) - true_count_b5\n",
    "\n",
    "print(f\"Number of neutral formulas: {true_count_b5}\")\n",
    "print(f\"Number of non-neutral formulas: {false_count_b5}\")\n",
    "\n",
    "# Store the formulas with true results in a new CSV file\n",
    "df_true = df_5[df_5['Neutrality']]\n",
    "df_true.to_csv(\"../../data/d3_validity_check/valid_formulas.csv\", mode='a', header=False, index=False)"
   ]
  },
  {
   "cell_type": "code",
   "execution_count": 12,
   "metadata": {},
   "outputs": [
    {
     "name": "stdout",
     "output_type": "stream",
     "text": [
      "BATCH 6: \n",
      "Total Formulas:  500\n",
      "Number of neutral formulas: 191\n",
      "Number of non-neutral formulas: 309\n"
     ]
    },
    {
     "name": "stderr",
     "output_type": "stream",
     "text": [
      "C:\\Users\\aaayu\\AppData\\Local\\Temp\\ipykernel_9436\\1647094906.py:5: SettingWithCopyWarning: \n",
      "A value is trying to be set on a copy of a slice from a DataFrame.\n",
      "Try using .loc[row_indexer,col_indexer] = value instead\n",
      "\n",
      "See the caveats in the documentation: https://pandas.pydata.org/pandas-docs/stable/user_guide/indexing.html#returning-a-view-versus-a-copy\n",
      "  df_6['Neutrality'] = df_6['Formula'].apply(check_neutrality)\n"
     ]
    }
   ],
   "source": [
    "# Select the next formulas\n",
    "df_6 = df.iloc[2000:2500]\n",
    "    \n",
    "# Apply the neutrality check\n",
    "df_6['Neutrality'] = df_6['Formula'].apply(check_neutrality)\n",
    "\n",
    "print(\"BATCH 6: \")\n",
    "print(\"Total Formulas: \", len(df_6))\n",
    "# Count true and false results\n",
    "true_count_b6 = df_6['Neutrality'].sum()\n",
    "false_count_b6 = len(df_6) - true_count_b6\n",
    "\n",
    "print(f\"Number of neutral formulas: {true_count_b6}\")\n",
    "print(f\"Number of non-neutral formulas: {false_count_b6}\")\n",
    "\n",
    "# Store the formulas with true results in a new CSV file\n",
    "df_true = df_6[df_6['Neutrality']]\n",
    "df_true.to_csv(\"../../data/d3_validity_check/valid_formulas.csv\", mode='a', header=False, index=False)"
   ]
  },
  {
   "cell_type": "code",
   "execution_count": 13,
   "metadata": {},
   "outputs": [
    {
     "name": "stdout",
     "output_type": "stream",
     "text": [
      "BATCH 7: \n",
      "Total Formulas:  500\n",
      "Number of neutral formulas: 175\n",
      "Number of non-neutral formulas: 325\n"
     ]
    },
    {
     "name": "stderr",
     "output_type": "stream",
     "text": [
      "C:\\Users\\aaayu\\AppData\\Local\\Temp\\ipykernel_9436\\1979321328.py:5: SettingWithCopyWarning: \n",
      "A value is trying to be set on a copy of a slice from a DataFrame.\n",
      "Try using .loc[row_indexer,col_indexer] = value instead\n",
      "\n",
      "See the caveats in the documentation: https://pandas.pydata.org/pandas-docs/stable/user_guide/indexing.html#returning-a-view-versus-a-copy\n",
      "  df_7['Neutrality'] = df_7['Formula'].apply(check_neutrality)\n"
     ]
    }
   ],
   "source": [
    "# Select the next formulas\n",
    "df_7 = df.iloc[2500:3000]\n",
    "    \n",
    "# Apply the neutrality check\n",
    "df_7['Neutrality'] = df_7['Formula'].apply(check_neutrality)\n",
    "\n",
    "print(\"BATCH 7: \")\n",
    "print(\"Total Formulas: \", len(df_7))\n",
    "# Count true and false results\n",
    "true_count_b7 = df_7['Neutrality'].sum()\n",
    "false_count_b7 = len(df_7) - true_count_b7\n",
    "\n",
    "print(f\"Number of neutral formulas: {true_count_b7}\")\n",
    "print(f\"Number of non-neutral formulas: {false_count_b7}\")\n",
    "\n",
    "# Store the formulas with true results in a new CSV file\n",
    "df_true = df_7[df_7['Neutrality']]\n",
    "df_true.to_csv(\"../../data/d3_validity_check/valid_formulas.csv\", mode='a', header=False, index=False)"
   ]
  },
  {
   "cell_type": "code",
   "execution_count": 14,
   "metadata": {},
   "outputs": [
    {
     "name": "stdout",
     "output_type": "stream",
     "text": [
      "BATCH 8: \n",
      "Total Formulas:  500\n",
      "Number of neutral formulas: 185\n",
      "Number of non-neutral formulas: 315\n"
     ]
    },
    {
     "name": "stderr",
     "output_type": "stream",
     "text": [
      "C:\\Users\\aaayu\\AppData\\Local\\Temp\\ipykernel_9436\\3080935452.py:5: SettingWithCopyWarning: \n",
      "A value is trying to be set on a copy of a slice from a DataFrame.\n",
      "Try using .loc[row_indexer,col_indexer] = value instead\n",
      "\n",
      "See the caveats in the documentation: https://pandas.pydata.org/pandas-docs/stable/user_guide/indexing.html#returning-a-view-versus-a-copy\n",
      "  df_8['Neutrality'] = df_8['Formula'].apply(check_neutrality)\n"
     ]
    }
   ],
   "source": [
    "# Select the next formulas\n",
    "df_8 = df.iloc[3000:3500]\n",
    "    \n",
    "# Apply the neutrality check\n",
    "df_8['Neutrality'] = df_8['Formula'].apply(check_neutrality)\n",
    "\n",
    "print(\"BATCH 8: \")\n",
    "print(\"Total Formulas: \", len(df_8))\n",
    "# Count true and false results\n",
    "true_count_b8 = df_8['Neutrality'].sum()\n",
    "false_count_b8 = len(df_8) - true_count_b8\n",
    "\n",
    "print(f\"Number of neutral formulas: {true_count_b8}\")\n",
    "print(f\"Number of non-neutral formulas: {false_count_b8}\")\n",
    "\n",
    "# Store the formulas with true results in a new CSV file\n",
    "df_true = df_8[df_8['Neutrality']]\n",
    "df_true.to_csv(\"../../data/d3_validity_check/valid_formulas.csv\", mode='a', header=False, index=False)"
   ]
  },
  {
   "cell_type": "code",
   "execution_count": 15,
   "metadata": {},
   "outputs": [
    {
     "name": "stdout",
     "output_type": "stream",
     "text": [
      "BATCH 9: \n",
      "Total Formulas:  500\n",
      "Number of neutral formulas: 175\n",
      "Number of non-neutral formulas: 325\n"
     ]
    },
    {
     "name": "stderr",
     "output_type": "stream",
     "text": [
      "C:\\Users\\aaayu\\AppData\\Local\\Temp\\ipykernel_9436\\80987593.py:5: SettingWithCopyWarning: \n",
      "A value is trying to be set on a copy of a slice from a DataFrame.\n",
      "Try using .loc[row_indexer,col_indexer] = value instead\n",
      "\n",
      "See the caveats in the documentation: https://pandas.pydata.org/pandas-docs/stable/user_guide/indexing.html#returning-a-view-versus-a-copy\n",
      "  df_9['Neutrality'] = df_9['Formula'].apply(check_neutrality)\n"
     ]
    }
   ],
   "source": [
    "# Select the next formulas\n",
    "df_9 = df.iloc[3500:4000]\n",
    "    \n",
    "# Apply the neutrality check\n",
    "df_9['Neutrality'] = df_9['Formula'].apply(check_neutrality)\n",
    "\n",
    "print(\"BATCH 9: \")\n",
    "print(\"Total Formulas: \", len(df_9))\n",
    "# Count true and false results\n",
    "true_count_b9 = df_9['Neutrality'].sum()\n",
    "false_count_b9 = len(df_9) - true_count_b9\n",
    "\n",
    "print(f\"Number of neutral formulas: {true_count_b9}\")\n",
    "print(f\"Number of non-neutral formulas: {false_count_b9}\")\n",
    "\n",
    "# Store the formulas with true results in a new CSV file\n",
    "df_true = df_9[df_9['Neutrality']]\n",
    "df_true.to_csv(\"../../data/d3_validity_check/valid_formulas.csv\", mode='a', header=False, index=False)"
   ]
  },
  {
   "cell_type": "code",
   "execution_count": 16,
   "metadata": {},
   "outputs": [
    {
     "name": "stdout",
     "output_type": "stream",
     "text": [
      "BATCH 10: \n",
      "Total Formulas:  500\n",
      "Number of neutral formulas: 196\n",
      "Number of non-neutral formulas: 304\n"
     ]
    },
    {
     "name": "stderr",
     "output_type": "stream",
     "text": [
      "C:\\Users\\aaayu\\AppData\\Local\\Temp\\ipykernel_9436\\3798901825.py:5: SettingWithCopyWarning: \n",
      "A value is trying to be set on a copy of a slice from a DataFrame.\n",
      "Try using .loc[row_indexer,col_indexer] = value instead\n",
      "\n",
      "See the caveats in the documentation: https://pandas.pydata.org/pandas-docs/stable/user_guide/indexing.html#returning-a-view-versus-a-copy\n",
      "  df_10['Neutrality'] = df_10['Formula'].apply(check_neutrality)\n"
     ]
    }
   ],
   "source": [
    "# Select the next formulas\n",
    "df_10 = df.iloc[4000:4500]\n",
    "    \n",
    "# Apply the neutrality check\n",
    "df_10['Neutrality'] = df_10['Formula'].apply(check_neutrality)\n",
    "\n",
    "print(\"BATCH 10: \")\n",
    "print(\"Total Formulas: \", len(df_10))\n",
    "# Count true and false results\n",
    "true_count_b10 = df_10['Neutrality'].sum()\n",
    "false_count_b10 = len(df_10) - true_count_b10\n",
    "\n",
    "print(f\"Number of neutral formulas: {true_count_b10}\")\n",
    "print(f\"Number of non-neutral formulas: {false_count_b10}\")\n",
    "\n",
    "# Store the formulas with true results in a new CSV file\n",
    "df_true = df_10[df_10['Neutrality']]\n",
    "df_true.to_csv(\"../../data/d3_validity_check/valid_formulas.csv\", mode='a', header=False, index=False)"
   ]
  },
  {
   "cell_type": "code",
   "execution_count": 17,
   "metadata": {},
   "outputs": [
    {
     "name": "stdout",
     "output_type": "stream",
     "text": [
      "BATCH 11: \n",
      "Total Formulas:  500\n",
      "Number of neutral formulas: 203\n",
      "Number of non-neutral formulas: 297\n"
     ]
    },
    {
     "name": "stderr",
     "output_type": "stream",
     "text": [
      "C:\\Users\\aaayu\\AppData\\Local\\Temp\\ipykernel_9436\\448500419.py:5: SettingWithCopyWarning: \n",
      "A value is trying to be set on a copy of a slice from a DataFrame.\n",
      "Try using .loc[row_indexer,col_indexer] = value instead\n",
      "\n",
      "See the caveats in the documentation: https://pandas.pydata.org/pandas-docs/stable/user_guide/indexing.html#returning-a-view-versus-a-copy\n",
      "  df_11['Neutrality'] = df_11['Formula'].apply(check_neutrality)\n"
     ]
    }
   ],
   "source": [
    "# Select the next formulas\n",
    "df_11 = df.iloc[4500:5000]\n",
    "    \n",
    "# Apply the neutrality check\n",
    "df_11['Neutrality'] = df_11['Formula'].apply(check_neutrality)\n",
    "\n",
    "print(\"BATCH 11: \")\n",
    "print(\"Total Formulas: \", len(df_11))\n",
    "# Count true and false results\n",
    "true_count_b11 = df_11['Neutrality'].sum()\n",
    "false_count_b11 = len(df_11) - true_count_b11\n",
    "\n",
    "print(f\"Number of neutral formulas: {true_count_b11}\")\n",
    "print(f\"Number of non-neutral formulas: {false_count_b11}\")\n",
    "\n",
    "# Store the formulas with true results in a new CSV file\n",
    "df_true = df_11[df_11['Neutrality']]\n",
    "df_true.to_csv(\"../../data/d3_validity_check/valid_formulas.csv\", mode='a', header=False, index=False)"
   ]
  },
  {
   "cell_type": "code",
   "execution_count": 18,
   "metadata": {},
   "outputs": [
    {
     "name": "stdout",
     "output_type": "stream",
     "text": [
      "BATCH 12: \n",
      "Total Formulas:  500\n",
      "Number of neutral formulas: 198\n",
      "Number of non-neutral formulas: 302\n"
     ]
    },
    {
     "name": "stderr",
     "output_type": "stream",
     "text": [
      "C:\\Users\\aaayu\\AppData\\Local\\Temp\\ipykernel_9436\\4106892187.py:5: SettingWithCopyWarning: \n",
      "A value is trying to be set on a copy of a slice from a DataFrame.\n",
      "Try using .loc[row_indexer,col_indexer] = value instead\n",
      "\n",
      "See the caveats in the documentation: https://pandas.pydata.org/pandas-docs/stable/user_guide/indexing.html#returning-a-view-versus-a-copy\n",
      "  df_12['Neutrality'] = df_12['Formula'].apply(check_neutrality)\n"
     ]
    }
   ],
   "source": [
    "# Select the next formulas\n",
    "df_12 = df.iloc[5000:5500]\n",
    "    \n",
    "# Apply the neutrality check\n",
    "df_12['Neutrality'] = df_12['Formula'].apply(check_neutrality)\n",
    "\n",
    "print(\"BATCH 12: \")\n",
    "print(\"Total Formulas: \", len(df_12))\n",
    "# Count true and false results\n",
    "true_count_b12 = df_12['Neutrality'].sum()\n",
    "false_count_b12 = len(df_12) - true_count_b12\n",
    "\n",
    "print(f\"Number of neutral formulas: {true_count_b12}\")\n",
    "print(f\"Number of non-neutral formulas: {false_count_b12}\")\n",
    "\n",
    "# Store the formulas with true results in a new CSV file\n",
    "df_true = df_12[df_12['Neutrality']]\n",
    "df_true.to_csv(\"../../data/d3_validity_check/valid_formulas.csv\", mode='a', header=False, index=False)"
   ]
  },
  {
   "cell_type": "code",
   "execution_count": 19,
   "metadata": {},
   "outputs": [
    {
     "name": "stdout",
     "output_type": "stream",
     "text": [
      "BATCH 13: \n",
      "Total Formulas:  500\n",
      "Number of neutral formulas: 188\n",
      "Number of non-neutral formulas: 312\n"
     ]
    },
    {
     "name": "stderr",
     "output_type": "stream",
     "text": [
      "C:\\Users\\aaayu\\AppData\\Local\\Temp\\ipykernel_9436\\1486631559.py:5: SettingWithCopyWarning: \n",
      "A value is trying to be set on a copy of a slice from a DataFrame.\n",
      "Try using .loc[row_indexer,col_indexer] = value instead\n",
      "\n",
      "See the caveats in the documentation: https://pandas.pydata.org/pandas-docs/stable/user_guide/indexing.html#returning-a-view-versus-a-copy\n",
      "  df_13['Neutrality'] = df_13['Formula'].apply(check_neutrality)\n"
     ]
    }
   ],
   "source": [
    "# Select the next formulas\n",
    "df_13 = df.iloc[5500:6000]\n",
    "    \n",
    "# Apply the neutrality check\n",
    "df_13['Neutrality'] = df_13['Formula'].apply(check_neutrality)\n",
    "\n",
    "print(\"BATCH 13: \")\n",
    "print(\"Total Formulas: \", len(df_13))\n",
    "# Count true and false results\n",
    "true_count_b13 = df_13['Neutrality'].sum()\n",
    "false_count_b13 = len(df_13) - true_count_b13\n",
    "\n",
    "print(f\"Number of neutral formulas: {true_count_b13}\")\n",
    "print(f\"Number of non-neutral formulas: {false_count_b13}\")\n",
    "\n",
    "# Store the formulas with true results in a new CSV file\n",
    "df_true = df_13[df_13['Neutrality']]\n",
    "df_true.to_csv(\"../../data/d3_validity_check/valid_formulas.csv\", mode='a', header=False, index=False)"
   ]
  },
  {
   "cell_type": "code",
   "execution_count": 20,
   "metadata": {},
   "outputs": [
    {
     "name": "stdout",
     "output_type": "stream",
     "text": [
      "BATCH 14: \n",
      "Total Formulas:  500\n",
      "Number of neutral formulas: 199\n",
      "Number of non-neutral formulas: 301\n"
     ]
    },
    {
     "name": "stderr",
     "output_type": "stream",
     "text": [
      "C:\\Users\\aaayu\\AppData\\Local\\Temp\\ipykernel_9436\\3185788364.py:5: SettingWithCopyWarning: \n",
      "A value is trying to be set on a copy of a slice from a DataFrame.\n",
      "Try using .loc[row_indexer,col_indexer] = value instead\n",
      "\n",
      "See the caveats in the documentation: https://pandas.pydata.org/pandas-docs/stable/user_guide/indexing.html#returning-a-view-versus-a-copy\n",
      "  df_14['Neutrality'] = df_14['Formula'].apply(check_neutrality)\n"
     ]
    }
   ],
   "source": [
    "# Select the next formulas\n",
    "df_14 = df.iloc[6000:6500]\n",
    "    \n",
    "# Apply the neutrality check\n",
    "df_14['Neutrality'] = df_14['Formula'].apply(check_neutrality)\n",
    "print(\"BATCH 14: \")\n",
    "print(\"Total Formulas: \", len(df_14))\n",
    "# Count true and false results\n",
    "true_count_b14 = df_14['Neutrality'].sum()\n",
    "false_count_b14 = len(df_14) - true_count_b14\n",
    "\n",
    "print(f\"Number of neutral formulas: {true_count_b14}\")\n",
    "print(f\"Number of non-neutral formulas: {false_count_b14}\")\n",
    "\n",
    "# Store the formulas with true results in a new CSV file\n",
    "df_true = df_14[df_14['Neutrality']]\n",
    "df_true.to_csv(\"../../data/d3_validity_check/valid_formulas.csv\", mode='a', header=False, index=False)"
   ]
  },
  {
   "cell_type": "code",
   "execution_count": 21,
   "metadata": {},
   "outputs": [
    {
     "name": "stdout",
     "output_type": "stream",
     "text": [
      "BATCH 15: \n",
      "Total Formulas:  500\n",
      "Number of neutral formulas: 196\n",
      "Number of non-neutral formulas: 304\n"
     ]
    },
    {
     "name": "stderr",
     "output_type": "stream",
     "text": [
      "C:\\Users\\aaayu\\AppData\\Local\\Temp\\ipykernel_9436\\318668991.py:5: SettingWithCopyWarning: \n",
      "A value is trying to be set on a copy of a slice from a DataFrame.\n",
      "Try using .loc[row_indexer,col_indexer] = value instead\n",
      "\n",
      "See the caveats in the documentation: https://pandas.pydata.org/pandas-docs/stable/user_guide/indexing.html#returning-a-view-versus-a-copy\n",
      "  df_15['Neutrality'] = df_15['Formula'].apply(check_neutrality)\n"
     ]
    }
   ],
   "source": [
    "# Select the next formulas\n",
    "df_15 = df.iloc[6500:7000]\n",
    "    \n",
    "# Apply the neutrality check\n",
    "df_15['Neutrality'] = df_15['Formula'].apply(check_neutrality)\n",
    "print(\"BATCH 15: \")\n",
    "print(\"Total Formulas: \", len(df_15))\n",
    "# Count true and false results\n",
    "true_count_b15 = df_15['Neutrality'].sum()\n",
    "false_count_b15 = len(df_15) - true_count_b15\n",
    "\n",
    "print(f\"Number of neutral formulas: {true_count_b15}\")\n",
    "print(f\"Number of non-neutral formulas: {false_count_b15}\")\n",
    "\n",
    "# Store the formulas with true results in a new CSV file\n",
    "df_true = df_15[df_15['Neutrality']]\n",
    "df_true.to_csv(\"../../data/d3_validity_check/valid_formulas.csv\", mode='a', header=False, index=False)"
   ]
  },
  {
   "cell_type": "code",
   "execution_count": 22,
   "metadata": {},
   "outputs": [
    {
     "name": "stdout",
     "output_type": "stream",
     "text": [
      "BATCH 16: \n",
      "Total Formulas:  500\n",
      "Number of neutral formulas: 179\n",
      "Number of non-neutral formulas: 321\n"
     ]
    },
    {
     "name": "stderr",
     "output_type": "stream",
     "text": [
      "C:\\Users\\aaayu\\AppData\\Local\\Temp\\ipykernel_9436\\1840330955.py:5: SettingWithCopyWarning: \n",
      "A value is trying to be set on a copy of a slice from a DataFrame.\n",
      "Try using .loc[row_indexer,col_indexer] = value instead\n",
      "\n",
      "See the caveats in the documentation: https://pandas.pydata.org/pandas-docs/stable/user_guide/indexing.html#returning-a-view-versus-a-copy\n",
      "  df_16['Neutrality'] = df_16['Formula'].apply(check_neutrality)\n"
     ]
    }
   ],
   "source": [
    "# Select the next formulas\n",
    "df_16 = df.iloc[7000:7500]\n",
    "    \n",
    "# Apply the neutrality check\n",
    "df_16['Neutrality'] = df_16['Formula'].apply(check_neutrality)\n",
    "print(\"BATCH 16: \")\n",
    "print(\"Total Formulas: \", len(df_16))\n",
    "# Count true and false results\n",
    "true_count_b16 = df_16['Neutrality'].sum()\n",
    "false_count_b16 = len(df_16) - true_count_b16\n",
    "\n",
    "print(f\"Number of neutral formulas: {true_count_b16}\")\n",
    "print(f\"Number of non-neutral formulas: {false_count_b16}\")\n",
    "\n",
    "# Store the formulas with true results in a new CSV file\n",
    "df_true = df_16[df_16['Neutrality']]\n",
    "df_true.to_csv(\"../../data/d3_validity_check/valid_formulas.csv\", mode='a', header=False, index=False)"
   ]
  },
  {
   "cell_type": "code",
   "execution_count": 23,
   "metadata": {},
   "outputs": [
    {
     "name": "stdout",
     "output_type": "stream",
     "text": [
      "BATCH 17: \n",
      "Total Formulas:  500\n",
      "Number of neutral formulas: 179\n",
      "Number of non-neutral formulas: 321\n"
     ]
    },
    {
     "name": "stderr",
     "output_type": "stream",
     "text": [
      "C:\\Users\\aaayu\\AppData\\Local\\Temp\\ipykernel_9436\\2313773691.py:5: SettingWithCopyWarning: \n",
      "A value is trying to be set on a copy of a slice from a DataFrame.\n",
      "Try using .loc[row_indexer,col_indexer] = value instead\n",
      "\n",
      "See the caveats in the documentation: https://pandas.pydata.org/pandas-docs/stable/user_guide/indexing.html#returning-a-view-versus-a-copy\n",
      "  df_17['Neutrality'] = df_17['Formula'].apply(check_neutrality)\n"
     ]
    }
   ],
   "source": [
    "# Select the next formulas\n",
    "df_17 = df.iloc[7500:8000]\n",
    "    \n",
    "# Apply the neutrality check\n",
    "df_17['Neutrality'] = df_17['Formula'].apply(check_neutrality)\n",
    "print(\"BATCH 17: \")\n",
    "print(\"Total Formulas: \", len(df_17))\n",
    "# Count true and false results\n",
    "true_count_b17 = df_17['Neutrality'].sum()\n",
    "false_count_b17 = len(df_17) - true_count_b17\n",
    "\n",
    "print(f\"Number of neutral formulas: {true_count_b17}\")\n",
    "print(f\"Number of non-neutral formulas: {false_count_b17}\")\n",
    "\n",
    "# Store the formulas with true results in a new CSV file\n",
    "df_true = df_17[df_17['Neutrality']]\n",
    "df_true.to_csv(\"../../data/d3_validity_check/valid_formulas.csv\", mode='a', header=False, index=False)"
   ]
  },
  {
   "cell_type": "code",
   "execution_count": 24,
   "metadata": {},
   "outputs": [
    {
     "name": "stdout",
     "output_type": "stream",
     "text": [
      "BATCH 18: \n",
      "Total Formulas:  500\n",
      "Number of neutral formulas: 177\n",
      "Number of non-neutral formulas: 323\n"
     ]
    },
    {
     "name": "stderr",
     "output_type": "stream",
     "text": [
      "C:\\Users\\aaayu\\AppData\\Local\\Temp\\ipykernel_9436\\1367580170.py:5: SettingWithCopyWarning: \n",
      "A value is trying to be set on a copy of a slice from a DataFrame.\n",
      "Try using .loc[row_indexer,col_indexer] = value instead\n",
      "\n",
      "See the caveats in the documentation: https://pandas.pydata.org/pandas-docs/stable/user_guide/indexing.html#returning-a-view-versus-a-copy\n",
      "  df_18['Neutrality'] = df_18['Formula'].apply(check_neutrality)\n"
     ]
    }
   ],
   "source": [
    "# Select the next formulas\n",
    "df_18 = df.iloc[8000:8500]\n",
    "    \n",
    "# Apply the neutrality check\n",
    "df_18['Neutrality'] = df_18['Formula'].apply(check_neutrality)\n",
    "print(\"BATCH 18: \")\n",
    "print(\"Total Formulas: \", len(df_18))\n",
    "# Count true and false results\n",
    "true_count_b18 = df_18['Neutrality'].sum()\n",
    "false_count_b18 = len(df_18) - true_count_b18\n",
    "\n",
    "print(f\"Number of neutral formulas: {true_count_b18}\")\n",
    "print(f\"Number of non-neutral formulas: {false_count_b18}\")\n",
    "\n",
    "# Store the formulas with true results in a new CSV file\n",
    "df_true = df_18[df_18['Neutrality']]\n",
    "df_true.to_csv(\"../../data/d3_validity_check/valid_formulas.csv\", mode='a', header=False, index=False)"
   ]
  },
  {
   "cell_type": "code",
   "execution_count": 6,
   "metadata": {},
   "outputs": [
    {
     "name": "stdout",
     "output_type": "stream",
     "text": [
      "BATCH 19: \n",
      "Total Formulas:  500\n",
      "Number of neutral formulas: 195\n",
      "Number of non-neutral formulas: 305\n"
     ]
    },
    {
     "name": "stderr",
     "output_type": "stream",
     "text": [
      "C:\\Users\\aaayu\\AppData\\Local\\Temp\\ipykernel_9420\\3866716715.py:5: SettingWithCopyWarning: \n",
      "A value is trying to be set on a copy of a slice from a DataFrame.\n",
      "Try using .loc[row_indexer,col_indexer] = value instead\n",
      "\n",
      "See the caveats in the documentation: https://pandas.pydata.org/pandas-docs/stable/user_guide/indexing.html#returning-a-view-versus-a-copy\n",
      "  df_19['Neutrality'] = df_19['Formula'].apply(check_neutrality)\n"
     ]
    }
   ],
   "source": [
    "# Select the next formulas\n",
    "df_19 = df.iloc[8500:9000]\n",
    "    \n",
    "# Apply the neutrality check\n",
    "df_19['Neutrality'] = df_19['Formula'].apply(check_neutrality)\n",
    "print(\"BATCH 19: \")\n",
    "print(\"Total Formulas: \", len(df_19))\n",
    "# Count true and false results\n",
    "true_count_b19 = df_19['Neutrality'].sum()\n",
    "false_count_b19 = len(df_19) - true_count_b19\n",
    "\n",
    "print(f\"Number of neutral formulas: {true_count_b19}\")\n",
    "print(f\"Number of non-neutral formulas: {false_count_b19}\")\n",
    "\n",
    "# Store the formulas with true results in a new CSV file\n",
    "df_true = df_19[df_19['Neutrality']]\n",
    "df_true.to_csv(\"../../data/d3_validity_check/valid_formulas.csv\", mode='a', header=False, index=False)"
   ]
  },
  {
   "cell_type": "code",
   "execution_count": 7,
   "metadata": {},
   "outputs": [
    {
     "name": "stdout",
     "output_type": "stream",
     "text": [
      "BATCH 20: \n",
      "Total Formulas:  500\n",
      "Number of neutral formulas: 184\n",
      "Number of non-neutral formulas: 316\n"
     ]
    },
    {
     "name": "stderr",
     "output_type": "stream",
     "text": [
      "C:\\Users\\aaayu\\AppData\\Local\\Temp\\ipykernel_9420\\2804896685.py:5: SettingWithCopyWarning: \n",
      "A value is trying to be set on a copy of a slice from a DataFrame.\n",
      "Try using .loc[row_indexer,col_indexer] = value instead\n",
      "\n",
      "See the caveats in the documentation: https://pandas.pydata.org/pandas-docs/stable/user_guide/indexing.html#returning-a-view-versus-a-copy\n",
      "  df_20['Neutrality'] = df_20['Formula'].apply(check_neutrality)\n"
     ]
    }
   ],
   "source": [
    "# Select the next formulas\n",
    "df_20 = df.iloc[9000:9500]\n",
    "    \n",
    "# Apply the neutrality check\n",
    "df_20['Neutrality'] = df_20['Formula'].apply(check_neutrality)\n",
    "print(\"BATCH 20: \")\n",
    "print(\"Total Formulas: \", len(df_20))\n",
    "# Count true and false results\n",
    "true_count_b20 = df_20['Neutrality'].sum()\n",
    "false_count_b20 = len(df_20) - true_count_b20\n",
    "\n",
    "print(f\"Number of neutral formulas: {true_count_b20}\")\n",
    "print(f\"Number of non-neutral formulas: {false_count_b20}\")\n",
    "\n",
    "# Store the formulas with true results in a new CSV file\n",
    "df_true = df_20[df_20['Neutrality']]\n",
    "df_true.to_csv(\"../../data/d3_validity_check/valid_formulas.csv\", mode='a', header=False, index=False)"
   ]
  },
  {
   "cell_type": "code",
   "execution_count": 8,
   "metadata": {},
   "outputs": [
    {
     "name": "stdout",
     "output_type": "stream",
     "text": [
      "BATCH 21: \n",
      "Total Formulas:  500\n",
      "Number of neutral formulas: 184\n",
      "Number of non-neutral formulas: 316\n"
     ]
    },
    {
     "name": "stderr",
     "output_type": "stream",
     "text": [
      "C:\\Users\\aaayu\\AppData\\Local\\Temp\\ipykernel_9420\\1186941574.py:5: SettingWithCopyWarning: \n",
      "A value is trying to be set on a copy of a slice from a DataFrame.\n",
      "Try using .loc[row_indexer,col_indexer] = value instead\n",
      "\n",
      "See the caveats in the documentation: https://pandas.pydata.org/pandas-docs/stable/user_guide/indexing.html#returning-a-view-versus-a-copy\n",
      "  df_21['Neutrality'] = df_21['Formula'].apply(check_neutrality)\n"
     ]
    }
   ],
   "source": [
    "# Select the next formulas\n",
    "df_21 = df.iloc[9500:10000]\n",
    "    \n",
    "# Apply the neutrality check\n",
    "df_21['Neutrality'] = df_21['Formula'].apply(check_neutrality)\n",
    "print(\"BATCH 21: \")\n",
    "print(\"Total Formulas: \", len(df_21))\n",
    "# Count true and false results\n",
    "true_count_b21 = df_21['Neutrality'].sum()\n",
    "false_count_b21 = len(df_21) - true_count_b21\n",
    "\n",
    "print(f\"Number of neutral formulas: {true_count_b21}\")\n",
    "print(f\"Number of non-neutral formulas: {false_count_b21}\")\n",
    "\n",
    "# Store the formulas with true results in a new CSV file\n",
    "df_true = df_21[df_21['Neutrality']]\n",
    "df_true.to_csv(\"../../data/d3_validity_check/valid_formulas.csv\", mode='a', header=False, index=False)"
   ]
  },
  {
   "cell_type": "code",
   "execution_count": 9,
   "metadata": {},
   "outputs": [
    {
     "name": "stdout",
     "output_type": "stream",
     "text": [
      "BATCH 22: \n",
      "Total Formulas:  500\n",
      "Number of neutral formulas: 182\n",
      "Number of non-neutral formulas: 318\n"
     ]
    },
    {
     "name": "stderr",
     "output_type": "stream",
     "text": [
      "C:\\Users\\aaayu\\AppData\\Local\\Temp\\ipykernel_9420\\933649466.py:5: SettingWithCopyWarning: \n",
      "A value is trying to be set on a copy of a slice from a DataFrame.\n",
      "Try using .loc[row_indexer,col_indexer] = value instead\n",
      "\n",
      "See the caveats in the documentation: https://pandas.pydata.org/pandas-docs/stable/user_guide/indexing.html#returning-a-view-versus-a-copy\n",
      "  df_22['Neutrality'] = df_22['Formula'].apply(check_neutrality)\n"
     ]
    }
   ],
   "source": [
    "# Select the next formulas\n",
    "df_22 = df.iloc[10000:10500]\n",
    "    \n",
    "# Apply the neutrality check\n",
    "df_22['Neutrality'] = df_22['Formula'].apply(check_neutrality)\n",
    "print(\"BATCH 22: \")\n",
    "print(\"Total Formulas: \", len(df_22))\n",
    "# Count true and false results\n",
    "true_count_b22 = df_22['Neutrality'].sum()\n",
    "false_count_b22 = len(df_22) - true_count_b22\n",
    "\n",
    "print(f\"Number of neutral formulas: {true_count_b22}\")\n",
    "print(f\"Number of non-neutral formulas: {false_count_b22}\")\n",
    "\n",
    "# Store the formulas with true results in a new CSV file\n",
    "df_true = df_22[df_22['Neutrality']]\n",
    "df_true.to_csv(\"../../data/d3_validity_check/valid_formulas.csv\", mode='a', header=False, index=False)"
   ]
  },
  {
   "cell_type": "code",
   "execution_count": 10,
   "metadata": {},
   "outputs": [
    {
     "name": "stdout",
     "output_type": "stream",
     "text": [
      "BATCH 23: \n",
      "Total Formulas:  500\n",
      "Number of neutral formulas: 183\n",
      "Number of non-neutral formulas: 317\n"
     ]
    },
    {
     "name": "stderr",
     "output_type": "stream",
     "text": [
      "C:\\Users\\aaayu\\AppData\\Local\\Temp\\ipykernel_9420\\1050498521.py:5: SettingWithCopyWarning: \n",
      "A value is trying to be set on a copy of a slice from a DataFrame.\n",
      "Try using .loc[row_indexer,col_indexer] = value instead\n",
      "\n",
      "See the caveats in the documentation: https://pandas.pydata.org/pandas-docs/stable/user_guide/indexing.html#returning-a-view-versus-a-copy\n",
      "  df_23['Neutrality'] = df_23['Formula'].apply(check_neutrality)\n"
     ]
    }
   ],
   "source": [
    "# Select the next formulas\n",
    "df_23 = df.iloc[10500:11000]\n",
    "    \n",
    "# Apply the neutrality check\n",
    "df_23['Neutrality'] = df_23['Formula'].apply(check_neutrality)\n",
    "print(\"BATCH 23: \")\n",
    "print(\"Total Formulas: \", len(df_23))\n",
    "# Count true and false results\n",
    "true_count_b23 = df_23['Neutrality'].sum()\n",
    "false_count_b23 = len(df_23) - true_count_b23\n",
    "\n",
    "print(f\"Number of neutral formulas: {true_count_b23}\")\n",
    "print(f\"Number of non-neutral formulas: {false_count_b23}\")\n",
    "\n",
    "# Store the formulas with true results in a new CSV file\n",
    "df_true = df_23[df_23['Neutrality']]\n",
    "df_true.to_csv(\"../../data/d3_validity_check/valid_formulas.csv\", mode='a', header=False, index=False)"
   ]
  },
  {
   "cell_type": "code",
   "execution_count": 11,
   "metadata": {},
   "outputs": [
    {
     "name": "stdout",
     "output_type": "stream",
     "text": [
      "BATCH 24: \n",
      "Total Formulas:  500\n",
      "Number of neutral formulas: 189\n",
      "Number of non-neutral formulas: 311\n"
     ]
    },
    {
     "name": "stderr",
     "output_type": "stream",
     "text": [
      "C:\\Users\\aaayu\\AppData\\Local\\Temp\\ipykernel_9420\\766246301.py:5: SettingWithCopyWarning: \n",
      "A value is trying to be set on a copy of a slice from a DataFrame.\n",
      "Try using .loc[row_indexer,col_indexer] = value instead\n",
      "\n",
      "See the caveats in the documentation: https://pandas.pydata.org/pandas-docs/stable/user_guide/indexing.html#returning-a-view-versus-a-copy\n",
      "  df_24['Neutrality'] = df_24['Formula'].apply(check_neutrality)\n"
     ]
    }
   ],
   "source": [
    "# Select the next formulas\n",
    "df_24 = df.iloc[11000:11500]\n",
    "    \n",
    "# Apply the neutrality check\n",
    "df_24['Neutrality'] = df_24['Formula'].apply(check_neutrality)\n",
    "print(\"BATCH 24: \")\n",
    "print(\"Total Formulas: \", len(df_24))\n",
    "# Count true and false results\n",
    "true_count_b24 = df_24['Neutrality'].sum()\n",
    "false_count_b24 = len(df_24) - true_count_b24\n",
    "print(f\"Number of neutral formulas: {true_count_b24}\")\n",
    "print(f\"Number of non-neutral formulas: {false_count_b24}\")\n",
    "\n",
    "# Store the formulas with true results in a new CSV file\n",
    "df_true = df_24[df_24['Neutrality']]\n",
    "df_true.to_csv(\"../../data/d3_validity_check/valid_formulas.csv\", mode='a', header=False, index=False)"
   ]
  },
  {
   "cell_type": "code",
   "execution_count": 12,
   "metadata": {},
   "outputs": [
    {
     "name": "stdout",
     "output_type": "stream",
     "text": [
      "BATCH 25: \n",
      "Total Formulas:  500\n",
      "Number of neutral formulas: 190\n",
      "Number of non-neutral formulas: 310\n"
     ]
    },
    {
     "name": "stderr",
     "output_type": "stream",
     "text": [
      "C:\\Users\\aaayu\\AppData\\Local\\Temp\\ipykernel_9420\\1083885859.py:5: SettingWithCopyWarning: \n",
      "A value is trying to be set on a copy of a slice from a DataFrame.\n",
      "Try using .loc[row_indexer,col_indexer] = value instead\n",
      "\n",
      "See the caveats in the documentation: https://pandas.pydata.org/pandas-docs/stable/user_guide/indexing.html#returning-a-view-versus-a-copy\n",
      "  df_25['Neutrality'] = df_25['Formula'].apply(check_neutrality)\n"
     ]
    }
   ],
   "source": [
    "# Select the next formulas\n",
    "df_25 = df.iloc[11500:12000]\n",
    "    \n",
    "# Apply the neutrality check\n",
    "df_25['Neutrality'] = df_25['Formula'].apply(check_neutrality)\n",
    "print(\"BATCH 25: \")\n",
    "print(\"Total Formulas: \", len(df_25))\n",
    "# Count true and false results\n",
    "true_count_b25 = df_25['Neutrality'].sum()\n",
    "false_count_b25 = len(df_25) - true_count_b25\n",
    "print(f\"Number of neutral formulas: {true_count_b25}\")\n",
    "print(f\"Number of non-neutral formulas: {false_count_b25}\")\n",
    "\n",
    "# Store the formulas with true results in a new CSV file\n",
    "df_true = df_25[df_25['Neutrality']]\n",
    "df_true.to_csv(\"../../data/d3_validity_check/valid_formulas.csv\", mode='a', header=False, index=False)"
   ]
  },
  {
   "cell_type": "code",
   "execution_count": 13,
   "metadata": {},
   "outputs": [
    {
     "name": "stdout",
     "output_type": "stream",
     "text": [
      "BATCH 26: \n",
      "Total Formulas:  500\n",
      "Number of neutral formulas: 168\n",
      "Number of non-neutral formulas: 332\n"
     ]
    },
    {
     "name": "stderr",
     "output_type": "stream",
     "text": [
      "C:\\Users\\aaayu\\AppData\\Local\\Temp\\ipykernel_9420\\1719742813.py:5: SettingWithCopyWarning: \n",
      "A value is trying to be set on a copy of a slice from a DataFrame.\n",
      "Try using .loc[row_indexer,col_indexer] = value instead\n",
      "\n",
      "See the caveats in the documentation: https://pandas.pydata.org/pandas-docs/stable/user_guide/indexing.html#returning-a-view-versus-a-copy\n",
      "  df_26['Neutrality'] = df_26['Formula'].apply(check_neutrality)\n"
     ]
    }
   ],
   "source": [
    "# Select the next formulas\n",
    "df_26 = df.iloc[12000:12500]\n",
    "    \n",
    "# Apply the neutrality check\n",
    "df_26['Neutrality'] = df_26['Formula'].apply(check_neutrality)\n",
    "print(\"BATCH 26: \")\n",
    "print(\"Total Formulas: \", len(df_26))\n",
    "# Count true and false results\n",
    "true_count_b26 = df_26['Neutrality'].sum()\n",
    "false_count_b26 = len(df_26) - true_count_b26\n",
    "print(f\"Number of neutral formulas: {true_count_b26}\")\n",
    "print(f\"Number of non-neutral formulas: {false_count_b26}\")\n",
    "\n",
    "# Store the formulas with true results in a new CSV file\n",
    "df_true = df_26[df_26['Neutrality']]\n",
    "df_true.to_csv(\"../../data/d3_validity_check/valid_formulas.csv\", mode='a', header=False, index=False)"
   ]
  },
  {
   "cell_type": "code",
   "execution_count": 14,
   "metadata": {},
   "outputs": [
    {
     "name": "stdout",
     "output_type": "stream",
     "text": [
      "BATCH 27: \n",
      "Total Formulas:  500\n",
      "Number of neutral formulas: 198\n",
      "Number of non-neutral formulas: 302\n"
     ]
    },
    {
     "name": "stderr",
     "output_type": "stream",
     "text": [
      "C:\\Users\\aaayu\\AppData\\Local\\Temp\\ipykernel_9420\\3808028079.py:5: SettingWithCopyWarning: \n",
      "A value is trying to be set on a copy of a slice from a DataFrame.\n",
      "Try using .loc[row_indexer,col_indexer] = value instead\n",
      "\n",
      "See the caveats in the documentation: https://pandas.pydata.org/pandas-docs/stable/user_guide/indexing.html#returning-a-view-versus-a-copy\n",
      "  df_27['Neutrality'] = df_27['Formula'].apply(check_neutrality)\n"
     ]
    }
   ],
   "source": [
    "# Select the next formulas\n",
    "df_27 = df.iloc[12500:13000]\n",
    "    \n",
    "# Apply the neutrality check\n",
    "df_27['Neutrality'] = df_27['Formula'].apply(check_neutrality)\n",
    "print(\"BATCH 27: \")\n",
    "print(\"Total Formulas: \", len(df_27))\n",
    "# Count true and false results\n",
    "true_count_b27 = df_27['Neutrality'].sum()\n",
    "false_count_b27 = len(df_27) - true_count_b27\n",
    "print(f\"Number of neutral formulas: {true_count_b27}\")\n",
    "print(f\"Number of non-neutral formulas: {false_count_b27}\")\n",
    "\n",
    "# Store the formulas with true results in a new CSV file\n",
    "df_true = df_27[df_27['Neutrality']]\n",
    "df_true.to_csv(\"../../data/d3_validity_check/valid_formulas.csv\", mode='a', header=False, index=False)"
   ]
  },
  {
   "cell_type": "code",
   "execution_count": 15,
   "metadata": {},
   "outputs": [
    {
     "name": "stdout",
     "output_type": "stream",
     "text": [
      "BATCH 28: \n",
      "Total Formulas:  500\n",
      "Number of neutral formulas: 183\n",
      "Number of non-neutral formulas: 317\n"
     ]
    },
    {
     "name": "stderr",
     "output_type": "stream",
     "text": [
      "C:\\Users\\aaayu\\AppData\\Local\\Temp\\ipykernel_9420\\2272508676.py:5: SettingWithCopyWarning: \n",
      "A value is trying to be set on a copy of a slice from a DataFrame.\n",
      "Try using .loc[row_indexer,col_indexer] = value instead\n",
      "\n",
      "See the caveats in the documentation: https://pandas.pydata.org/pandas-docs/stable/user_guide/indexing.html#returning-a-view-versus-a-copy\n",
      "  df_28['Neutrality'] = df_28['Formula'].apply(check_neutrality)\n"
     ]
    }
   ],
   "source": [
    "# Select the next formulas\n",
    "df_28 = df.iloc[13000:13500]\n",
    "    \n",
    "# Apply the neutrality check\n",
    "df_28['Neutrality'] = df_28['Formula'].apply(check_neutrality)\n",
    "print(\"BATCH 28: \")\n",
    "print(\"Total Formulas: \", len(df_28))\n",
    "# Count true and false results\n",
    "true_count_b28 = df_28['Neutrality'].sum()\n",
    "false_count_b28 = len(df_28) - true_count_b28\n",
    "print(f\"Number of neutral formulas: {true_count_b28}\")\n",
    "print(f\"Number of non-neutral formulas: {false_count_b28}\")\n",
    "\n",
    "# Store the formulas with true results in a new CSV file\n",
    "df_true = df_28[df_28['Neutrality']]\n",
    "df_true.to_csv(\"../../data/d3_validity_check/valid_formulas.csv\", mode='a', header=False, index=False)"
   ]
  },
  {
   "cell_type": "code",
   "execution_count": 16,
   "metadata": {},
   "outputs": [
    {
     "name": "stderr",
     "output_type": "stream",
     "text": [
      "C:\\Users\\aaayu\\AppData\\Local\\Temp\\ipykernel_9420\\1430993782.py:5: SettingWithCopyWarning: \n",
      "A value is trying to be set on a copy of a slice from a DataFrame.\n",
      "Try using .loc[row_indexer,col_indexer] = value instead\n",
      "\n",
      "See the caveats in the documentation: https://pandas.pydata.org/pandas-docs/stable/user_guide/indexing.html#returning-a-view-versus-a-copy\n",
      "  df_29['Neutrality'] = df_29['Formula'].apply(check_neutrality)\n"
     ]
    },
    {
     "name": "stdout",
     "output_type": "stream",
     "text": [
      "BATCH 29: \n",
      "Total Formulas:  500\n",
      "Number of neutral formulas: 209\n",
      "Number of non-neutral formulas: 291\n"
     ]
    }
   ],
   "source": [
    "# Select the next formulas\n",
    "df_29 = df.iloc[13500:14000]\n",
    "    \n",
    "# Apply the neutrality check\n",
    "df_29['Neutrality'] = df_29['Formula'].apply(check_neutrality)\n",
    "print(\"BATCH 29: \")\n",
    "print(\"Total Formulas: \", len(df_29))\n",
    "# Count true and false results\n",
    "true_count_b29 = df_29['Neutrality'].sum()\n",
    "false_count_b29 = len(df_29) - true_count_b29\n",
    "print(f\"Number of neutral formulas: {true_count_b29}\")\n",
    "print(f\"Number of non-neutral formulas: {false_count_b29}\")\n",
    "\n",
    "# Store the formulas with true results in a new CSV file\n",
    "df_true = df_29[df_29['Neutrality']]\n",
    "df_true.to_csv(\"../../data/d3_validity_check/valid_formulas.csv\", mode='a', header=False, index=False)"
   ]
  },
  {
   "cell_type": "code",
   "execution_count": 17,
   "metadata": {},
   "outputs": [
    {
     "name": "stdout",
     "output_type": "stream",
     "text": [
      "BATCH 30: \n",
      "Total Formulas:  500\n",
      "Number of neutral formulas: 184\n",
      "Number of non-neutral formulas: 316\n"
     ]
    },
    {
     "name": "stderr",
     "output_type": "stream",
     "text": [
      "C:\\Users\\aaayu\\AppData\\Local\\Temp\\ipykernel_9420\\1121644497.py:5: SettingWithCopyWarning: \n",
      "A value is trying to be set on a copy of a slice from a DataFrame.\n",
      "Try using .loc[row_indexer,col_indexer] = value instead\n",
      "\n",
      "See the caveats in the documentation: https://pandas.pydata.org/pandas-docs/stable/user_guide/indexing.html#returning-a-view-versus-a-copy\n",
      "  df_30['Neutrality'] = df_30['Formula'].apply(check_neutrality)\n"
     ]
    }
   ],
   "source": [
    "# Select the next formulas\n",
    "df_30 = df.iloc[14000:14500]\n",
    "    \n",
    "# Apply the neutrality check\n",
    "df_30['Neutrality'] = df_30['Formula'].apply(check_neutrality)\n",
    "print(\"BATCH 30: \")\n",
    "print(\"Total Formulas: \", len(df_30))\n",
    "# Count true and false results\n",
    "true_count_b30 = df_30['Neutrality'].sum()\n",
    "false_count_b30 = len(df_30) - true_count_b30\n",
    "print(f\"Number of neutral formulas: {true_count_b30}\")\n",
    "print(f\"Number of non-neutral formulas: {false_count_b30}\")\n",
    "\n",
    "# Store the formulas with true results in a new CSV file\n",
    "df_true = df_30[df_30['Neutrality']]\n",
    "df_true.to_csv(\"../../data/d3_validity_check/valid_formulas.csv\", mode='a', header=False, index=False)"
   ]
  },
  {
   "cell_type": "code",
   "execution_count": 18,
   "metadata": {},
   "outputs": [
    {
     "name": "stdout",
     "output_type": "stream",
     "text": [
      "BATCH 31: \n",
      "Total Formulas:  500\n",
      "Number of neutral formulas: 186\n",
      "Number of non-neutral formulas: 314\n"
     ]
    },
    {
     "name": "stderr",
     "output_type": "stream",
     "text": [
      "C:\\Users\\aaayu\\AppData\\Local\\Temp\\ipykernel_9420\\3216419616.py:5: SettingWithCopyWarning: \n",
      "A value is trying to be set on a copy of a slice from a DataFrame.\n",
      "Try using .loc[row_indexer,col_indexer] = value instead\n",
      "\n",
      "See the caveats in the documentation: https://pandas.pydata.org/pandas-docs/stable/user_guide/indexing.html#returning-a-view-versus-a-copy\n",
      "  df_31['Neutrality'] = df_31['Formula'].apply(check_neutrality)\n"
     ]
    }
   ],
   "source": [
    "# Select the next formulas\n",
    "df_31 = df.iloc[14500:15000]\n",
    "    \n",
    "# Apply the neutrality check\n",
    "df_31['Neutrality'] = df_31['Formula'].apply(check_neutrality)\n",
    "print(\"BATCH 31: \")\n",
    "print(\"Total Formulas: \", len(df_31))\n",
    "# Count true and false results\n",
    "true_count_b31 = df_31['Neutrality'].sum()\n",
    "false_count_b31 = len(df_31) - true_count_b31\n",
    "print(f\"Number of neutral formulas: {true_count_b31}\")\n",
    "print(f\"Number of non-neutral formulas: {false_count_b31}\")\n",
    "\n",
    "# Store the formulas with true results in a new CSV file\n",
    "df_true = df_31[df_31['Neutrality']]\n",
    "df_true.to_csv(\"../../data/d3_validity_check/valid_formulas.csv\", mode='a', header=False, index=False)"
   ]
  },
  {
   "cell_type": "code",
   "execution_count": 19,
   "metadata": {},
   "outputs": [
    {
     "name": "stderr",
     "output_type": "stream",
     "text": [
      "C:\\Users\\aaayu\\AppData\\Local\\Temp\\ipykernel_9420\\161742639.py:5: SettingWithCopyWarning: \n",
      "A value is trying to be set on a copy of a slice from a DataFrame.\n",
      "Try using .loc[row_indexer,col_indexer] = value instead\n",
      "\n",
      "See the caveats in the documentation: https://pandas.pydata.org/pandas-docs/stable/user_guide/indexing.html#returning-a-view-versus-a-copy\n",
      "  df_32['Neutrality'] = df_32['Formula'].apply(check_neutrality)\n"
     ]
    },
    {
     "name": "stdout",
     "output_type": "stream",
     "text": [
      "BATCH 32: \n",
      "Total Formulas:  500\n",
      "Number of neutral formulas: 186\n",
      "Number of non-neutral formulas: 314\n"
     ]
    }
   ],
   "source": [
    "# Select the next formulas\n",
    "df_32 = df.iloc[15000:15500]\n",
    "    \n",
    "# Apply the neutrality check\n",
    "df_32['Neutrality'] = df_32['Formula'].apply(check_neutrality)\n",
    "print(\"BATCH 32: \")\n",
    "print(\"Total Formulas: \", len(df_32))\n",
    "# Count true and false results\n",
    "true_count_b32 = df_32['Neutrality'].sum()\n",
    "false_count_b32 = len(df_32) - true_count_b32\n",
    "print(f\"Number of neutral formulas: {true_count_b32}\")\n",
    "print(f\"Number of non-neutral formulas: {false_count_b32}\")\n",
    "\n",
    "# Store the formulas with true results in a new CSV file\n",
    "df_true = df_32[df_32['Neutrality']]\n",
    "df_true.to_csv(\"../../data/d3_validity_check/valid_formulas.csv\", mode='a', header=False, index=False)"
   ]
  },
  {
   "cell_type": "code",
   "execution_count": 20,
   "metadata": {},
   "outputs": [
    {
     "name": "stdout",
     "output_type": "stream",
     "text": [
      "BATCH 33: \n",
      "Total Formulas:  500\n",
      "Number of neutral formulas: 198\n",
      "Number of non-neutral formulas: 302\n"
     ]
    },
    {
     "name": "stderr",
     "output_type": "stream",
     "text": [
      "C:\\Users\\aaayu\\AppData\\Local\\Temp\\ipykernel_9420\\2052584955.py:5: SettingWithCopyWarning: \n",
      "A value is trying to be set on a copy of a slice from a DataFrame.\n",
      "Try using .loc[row_indexer,col_indexer] = value instead\n",
      "\n",
      "See the caveats in the documentation: https://pandas.pydata.org/pandas-docs/stable/user_guide/indexing.html#returning-a-view-versus-a-copy\n",
      "  df_33['Neutrality'] = df_33['Formula'].apply(check_neutrality)\n"
     ]
    }
   ],
   "source": [
    "# Select the next formulas\n",
    "df_33 = df.iloc[15500:16000]\n",
    "    \n",
    "# Apply the neutrality check\n",
    "df_33['Neutrality'] = df_33['Formula'].apply(check_neutrality)\n",
    "print(\"BATCH 33: \")\n",
    "print(\"Total Formulas: \", len(df_33))\n",
    "# Count true and false results\n",
    "true_count_b33 = df_33['Neutrality'].sum()\n",
    "false_count_b33 = len(df_33) - true_count_b33\n",
    "print(f\"Number of neutral formulas: {true_count_b33}\")\n",
    "print(f\"Number of non-neutral formulas: {false_count_b33}\")\n",
    "\n",
    "# Store the formulas with true results in a new CSV file\n",
    "df_true = df_33[df_33['Neutrality']]\n",
    "df_true.to_csv(\"../../data/d3_validity_check/valid_formulas.csv\", mode='a', header=False, index=False)"
   ]
  },
  {
   "cell_type": "code",
   "execution_count": 21,
   "metadata": {},
   "outputs": [
    {
     "name": "stdout",
     "output_type": "stream",
     "text": [
      "BATCH 34: \n",
      "Total Formulas:  500\n",
      "Number of neutral formulas: 191\n",
      "Number of non-neutral formulas: 309\n"
     ]
    },
    {
     "name": "stderr",
     "output_type": "stream",
     "text": [
      "C:\\Users\\aaayu\\AppData\\Local\\Temp\\ipykernel_9420\\1136997208.py:5: SettingWithCopyWarning: \n",
      "A value is trying to be set on a copy of a slice from a DataFrame.\n",
      "Try using .loc[row_indexer,col_indexer] = value instead\n",
      "\n",
      "See the caveats in the documentation: https://pandas.pydata.org/pandas-docs/stable/user_guide/indexing.html#returning-a-view-versus-a-copy\n",
      "  df_34['Neutrality'] = df_34['Formula'].apply(check_neutrality)\n"
     ]
    }
   ],
   "source": [
    "# Select the next formulas\n",
    "df_34 = df.iloc[16000:16500]\n",
    "    \n",
    "# Apply the neutrality check\n",
    "df_34['Neutrality'] = df_34['Formula'].apply(check_neutrality)\n",
    "print(\"BATCH 34: \")\n",
    "print(\"Total Formulas: \", len(df_34))\n",
    "# Count true and false results\n",
    "true_count_b34 = df_34['Neutrality'].sum()\n",
    "false_count_b34 = len(df_34) - true_count_b34\n",
    "print(f\"Number of neutral formulas: {true_count_b34}\")\n",
    "print(f\"Number of non-neutral formulas: {false_count_b34}\")\n",
    "\n",
    "# Store the formulas with true results in a new CSV file\n",
    "df_true = df_34[df_34['Neutrality']]\n",
    "df_true.to_csv(\"../../data/d3_validity_check/valid_formulas.csv\", mode='a', header=False, index=False)"
   ]
  },
  {
   "cell_type": "code",
   "execution_count": 22,
   "metadata": {},
   "outputs": [
    {
     "name": "stdout",
     "output_type": "stream",
     "text": [
      "BATCH 35: \n",
      "Total Formulas:  500\n",
      "Number of neutral formulas: 188\n",
      "Number of non-neutral formulas: 312\n"
     ]
    },
    {
     "name": "stderr",
     "output_type": "stream",
     "text": [
      "C:\\Users\\aaayu\\AppData\\Local\\Temp\\ipykernel_9420\\809261965.py:5: SettingWithCopyWarning: \n",
      "A value is trying to be set on a copy of a slice from a DataFrame.\n",
      "Try using .loc[row_indexer,col_indexer] = value instead\n",
      "\n",
      "See the caveats in the documentation: https://pandas.pydata.org/pandas-docs/stable/user_guide/indexing.html#returning-a-view-versus-a-copy\n",
      "  df_35['Neutrality'] = df_35['Formula'].apply(check_neutrality)\n"
     ]
    }
   ],
   "source": [
    "# Select the next formulas\n",
    "df_35 = df.iloc[16500:17000]\n",
    "    \n",
    "# Apply the neutrality check\n",
    "df_35['Neutrality'] = df_35['Formula'].apply(check_neutrality)\n",
    "print(\"BATCH 35: \")\n",
    "print(\"Total Formulas: \", len(df_35))\n",
    "# Count true and false results\n",
    "true_count_b35 = df_35['Neutrality'].sum()\n",
    "false_count_b35 = len(df_35) - true_count_b35\n",
    "print(f\"Number of neutral formulas: {true_count_b35}\")\n",
    "print(f\"Number of non-neutral formulas: {false_count_b35}\")\n",
    "\n",
    "# Store the formulas with true results in a new CSV file\n",
    "df_true = df_35[df_35['Neutrality']]\n",
    "df_true.to_csv(\"../../data/d3_validity_check/valid_formulas.csv\", mode='a', header=False, index=False)"
   ]
  },
  {
   "cell_type": "code",
   "execution_count": 23,
   "metadata": {},
   "outputs": [
    {
     "name": "stdout",
     "output_type": "stream",
     "text": [
      "BATCH 36: \n",
      "Total Formulas:  500\n",
      "Number of neutral formulas: 171\n",
      "Number of non-neutral formulas: 329\n"
     ]
    },
    {
     "name": "stderr",
     "output_type": "stream",
     "text": [
      "C:\\Users\\aaayu\\AppData\\Local\\Temp\\ipykernel_9420\\451372216.py:5: SettingWithCopyWarning: \n",
      "A value is trying to be set on a copy of a slice from a DataFrame.\n",
      "Try using .loc[row_indexer,col_indexer] = value instead\n",
      "\n",
      "See the caveats in the documentation: https://pandas.pydata.org/pandas-docs/stable/user_guide/indexing.html#returning-a-view-versus-a-copy\n",
      "  df_36['Neutrality'] = df_36['Formula'].apply(check_neutrality)\n"
     ]
    }
   ],
   "source": [
    "# Select the next formulas\n",
    "df_36 = df.iloc[17000:17500]\n",
    "    \n",
    "# Apply the neutrality check\n",
    "df_36['Neutrality'] = df_36['Formula'].apply(check_neutrality)\n",
    "print(\"BATCH 36: \")\n",
    "print(\"Total Formulas: \", len(df_36))\n",
    "# Count true and false results\n",
    "true_count_b36 = df_36['Neutrality'].sum()\n",
    "false_count_b36 = len(df_36) - true_count_b36\n",
    "print(f\"Number of neutral formulas: {true_count_b36}\")\n",
    "print(f\"Number of non-neutral formulas: {false_count_b36}\")\n",
    "\n",
    "# Store the formulas with true results in a new CSV file\n",
    "df_true = df_36[df_36['Neutrality']]\n",
    "df_true.to_csv(\"../../data/d3_validity_check/valid_formulas.csv\", mode='a', header=False, index=False)"
   ]
  },
  {
   "cell_type": "code",
   "execution_count": 24,
   "metadata": {},
   "outputs": [
    {
     "name": "stdout",
     "output_type": "stream",
     "text": [
      "BATCH 37: \n",
      "Total Formulas:  500\n",
      "Number of neutral formulas: 178\n",
      "Number of non-neutral formulas: 322\n"
     ]
    },
    {
     "name": "stderr",
     "output_type": "stream",
     "text": [
      "C:\\Users\\aaayu\\AppData\\Local\\Temp\\ipykernel_9420\\1321876021.py:5: SettingWithCopyWarning: \n",
      "A value is trying to be set on a copy of a slice from a DataFrame.\n",
      "Try using .loc[row_indexer,col_indexer] = value instead\n",
      "\n",
      "See the caveats in the documentation: https://pandas.pydata.org/pandas-docs/stable/user_guide/indexing.html#returning-a-view-versus-a-copy\n",
      "  df_37['Neutrality'] = df_37['Formula'].apply(check_neutrality)\n"
     ]
    }
   ],
   "source": [
    "# Select the next formulas\n",
    "df_37 = df.iloc[17500:18000]\n",
    "    \n",
    "# Apply the neutrality check\n",
    "df_37['Neutrality'] = df_37['Formula'].apply(check_neutrality)\n",
    "print(\"BATCH 37: \")\n",
    "print(\"Total Formulas: \", len(df_37))\n",
    "# Count true and false results\n",
    "true_count_b37 = df_37['Neutrality'].sum()\n",
    "false_count_b37 = len(df_37) - true_count_b37\n",
    "print(f\"Number of neutral formulas: {true_count_b37}\")\n",
    "print(f\"Number of non-neutral formulas: {false_count_b37}\")\n",
    "\n",
    "# Store the formulas with true results in a new CSV file\n",
    "df_true = df_37[df_37['Neutrality']]\n",
    "df_true.to_csv(\"../../data/d3_validity_check/valid_formulas.csv\", mode='a', header=False, index=False)"
   ]
  },
  {
   "cell_type": "code",
   "execution_count": 25,
   "metadata": {},
   "outputs": [
    {
     "name": "stdout",
     "output_type": "stream",
     "text": [
      "BATCH 38: \n",
      "Total Formulas:  500\n",
      "Number of neutral formulas: 166\n",
      "Number of non-neutral formulas: 334\n"
     ]
    },
    {
     "name": "stderr",
     "output_type": "stream",
     "text": [
      "C:\\Users\\aaayu\\AppData\\Local\\Temp\\ipykernel_9420\\1198680917.py:5: SettingWithCopyWarning: \n",
      "A value is trying to be set on a copy of a slice from a DataFrame.\n",
      "Try using .loc[row_indexer,col_indexer] = value instead\n",
      "\n",
      "See the caveats in the documentation: https://pandas.pydata.org/pandas-docs/stable/user_guide/indexing.html#returning-a-view-versus-a-copy\n",
      "  df_38['Neutrality'] = df_38['Formula'].apply(check_neutrality)\n"
     ]
    }
   ],
   "source": [
    "# Select the next formulas\n",
    "df_38 = df.iloc[18000:18500]\n",
    "    \n",
    "# Apply the neutrality check\n",
    "df_38['Neutrality'] = df_38['Formula'].apply(check_neutrality)\n",
    "print(\"BATCH 38: \")\n",
    "print(\"Total Formulas: \", len(df_38))\n",
    "# Count true and false results\n",
    "true_count_b38 = df_38['Neutrality'].sum()\n",
    "false_count_b38 = len(df_38) - true_count_b38\n",
    "print(f\"Number of neutral formulas: {true_count_b38}\")\n",
    "print(f\"Number of non-neutral formulas: {false_count_b38}\")\n",
    "\n",
    "# Store the formulas with true results in a new CSV file\n",
    "df_true = df_38[df_38['Neutrality']]\n",
    "df_true.to_csv(\"../../data/d3_validity_check/valid_formulas.csv\", mode='a', header=False, index=False)"
   ]
  },
  {
   "cell_type": "code",
   "execution_count": 26,
   "metadata": {},
   "outputs": [
    {
     "name": "stdout",
     "output_type": "stream",
     "text": [
      "BATCH 39: \n",
      "Total Formulas:  500\n",
      "Number of neutral formulas: 179\n",
      "Number of non-neutral formulas: 321\n"
     ]
    },
    {
     "name": "stderr",
     "output_type": "stream",
     "text": [
      "C:\\Users\\aaayu\\AppData\\Local\\Temp\\ipykernel_9420\\2726856180.py:5: SettingWithCopyWarning: \n",
      "A value is trying to be set on a copy of a slice from a DataFrame.\n",
      "Try using .loc[row_indexer,col_indexer] = value instead\n",
      "\n",
      "See the caveats in the documentation: https://pandas.pydata.org/pandas-docs/stable/user_guide/indexing.html#returning-a-view-versus-a-copy\n",
      "  df_39['Neutrality'] = df_39['Formula'].apply(check_neutrality)\n"
     ]
    }
   ],
   "source": [
    "# Select the next formulas\n",
    "df_39 = df.iloc[18500:19000]\n",
    "    \n",
    "# Apply the neutrality check\n",
    "df_39['Neutrality'] = df_39['Formula'].apply(check_neutrality)\n",
    "print(\"BATCH 39: \")\n",
    "print(\"Total Formulas: \", len(df_39))\n",
    "# Count true and false results\n",
    "true_count_b39 = df_39['Neutrality'].sum()\n",
    "false_count_b39 = len(df_39) - true_count_b39\n",
    "print(f\"Number of neutral formulas: {true_count_b39}\")\n",
    "print(f\"Number of non-neutral formulas: {false_count_b39}\")\n",
    "\n",
    "# Store the formulas with true results in a new CSV file\n",
    "df_true = df_39[df_39['Neutrality']]\n",
    "df_true.to_csv(\"../../data/d3_validity_check/valid_formulas.csv\", mode='a', header=False, index=False)"
   ]
  },
  {
   "cell_type": "code",
   "execution_count": 27,
   "metadata": {},
   "outputs": [
    {
     "name": "stdout",
     "output_type": "stream",
     "text": [
      "BATCH 40: \n",
      "Total Formulas:  500\n",
      "Number of neutral formulas: 188\n",
      "Number of non-neutral formulas: 312\n"
     ]
    },
    {
     "name": "stderr",
     "output_type": "stream",
     "text": [
      "C:\\Users\\aaayu\\AppData\\Local\\Temp\\ipykernel_9420\\3411690641.py:5: SettingWithCopyWarning: \n",
      "A value is trying to be set on a copy of a slice from a DataFrame.\n",
      "Try using .loc[row_indexer,col_indexer] = value instead\n",
      "\n",
      "See the caveats in the documentation: https://pandas.pydata.org/pandas-docs/stable/user_guide/indexing.html#returning-a-view-versus-a-copy\n",
      "  df_40['Neutrality'] = df_40['Formula'].apply(check_neutrality)\n"
     ]
    }
   ],
   "source": [
    "# Select the next formulas\n",
    "df_40 = df.iloc[19000:19500]\n",
    "    \n",
    "# Apply the neutrality check\n",
    "df_40['Neutrality'] = df_40['Formula'].apply(check_neutrality)\n",
    "print(\"BATCH 40: \")\n",
    "print(\"Total Formulas: \", len(df_40)) \n",
    "# Count true and false results\n",
    "true_count_b40 = df_40['Neutrality'].sum()\n",
    "false_count_b40 = len(df_40) - true_count_b40\n",
    "print(f\"Number of neutral formulas: {true_count_b40}\")\n",
    "print(f\"Number of non-neutral formulas: {false_count_b40}\")\n",
    "\n",
    "# Store the formulas with true results in a new CSV file\n",
    "df_true = df_40[df_40['Neutrality']]\n",
    "df_true.to_csv(\"../../data/d3_validity_check/valid_formulas.csv\", mode='a', header=False, index=False)"
   ]
  },
  {
   "cell_type": "code",
   "execution_count": 28,
   "metadata": {},
   "outputs": [
    {
     "name": "stdout",
     "output_type": "stream",
     "text": [
      "BATCH 41: \n",
      "Total Formulas:  500\n",
      "Number of neutral formulas: 204\n",
      "Number of non-neutral formulas: 296\n"
     ]
    },
    {
     "name": "stderr",
     "output_type": "stream",
     "text": [
      "C:\\Users\\aaayu\\AppData\\Local\\Temp\\ipykernel_9420\\2831373474.py:5: SettingWithCopyWarning: \n",
      "A value is trying to be set on a copy of a slice from a DataFrame.\n",
      "Try using .loc[row_indexer,col_indexer] = value instead\n",
      "\n",
      "See the caveats in the documentation: https://pandas.pydata.org/pandas-docs/stable/user_guide/indexing.html#returning-a-view-versus-a-copy\n",
      "  df_41['Neutrality'] = df_41['Formula'].apply(check_neutrality)\n"
     ]
    }
   ],
   "source": [
    "# Select the next formulas\n",
    "df_41 = df.iloc[19500:20000]\n",
    "    \n",
    "# Apply the neutrality check\n",
    "df_41['Neutrality'] = df_41['Formula'].apply(check_neutrality)\n",
    "print(\"BATCH 41: \")\n",
    "print(\"Total Formulas: \", len(df_41))\n",
    "# Count true and false results\n",
    "true_count_b41 = df_41['Neutrality'].sum()\n",
    "false_count_b41 = len(df_41) - true_count_b41\n",
    "print(f\"Number of neutral formulas: {true_count_b41}\")\n",
    "print(f\"Number of non-neutral formulas: {false_count_b41}\")\n",
    "\n",
    "# Store the formulas with true results in a new CSV file\n",
    "df_true = df_41[df_41['Neutrality']]\n",
    "df_true.to_csv(\"../../data/d3_validity_check/valid_formulas.csv\", mode='a', header=False, index=False)"
   ]
  },
  {
   "cell_type": "code",
   "execution_count": 29,
   "metadata": {},
   "outputs": [
    {
     "name": "stdout",
     "output_type": "stream",
     "text": [
      "BATCH 42: \n",
      "Total Formulas:  500\n",
      "Number of neutral formulas: 178\n",
      "Number of non-neutral formulas: 322\n"
     ]
    },
    {
     "name": "stderr",
     "output_type": "stream",
     "text": [
      "C:\\Users\\aaayu\\AppData\\Local\\Temp\\ipykernel_9420\\3594148621.py:5: SettingWithCopyWarning: \n",
      "A value is trying to be set on a copy of a slice from a DataFrame.\n",
      "Try using .loc[row_indexer,col_indexer] = value instead\n",
      "\n",
      "See the caveats in the documentation: https://pandas.pydata.org/pandas-docs/stable/user_guide/indexing.html#returning-a-view-versus-a-copy\n",
      "  df_42['Neutrality'] = df_42['Formula'].apply(check_neutrality)\n"
     ]
    }
   ],
   "source": [
    "# Select the next formulas\n",
    "df_42 = df.iloc[20000:20500]\n",
    "    \n",
    "# Apply the neutrality check\n",
    "df_42['Neutrality'] = df_42['Formula'].apply(check_neutrality)\n",
    "print(\"BATCH 42: \")\n",
    "print(\"Total Formulas: \", len(df_42))\n",
    "# Count true and false results\n",
    "true_count_b42 = df_42['Neutrality'].sum()\n",
    "false_count_b42 = len(df_42) - true_count_b42\n",
    "print(f\"Number of neutral formulas: {true_count_b42}\")\n",
    "print(f\"Number of non-neutral formulas: {false_count_b42}\")\n",
    "\n",
    "# Store the formulas with true results in a new CSV file\n",
    "df_true = df_42[df_42['Neutrality']]\n",
    "df_true.to_csv(\"../../data/d3_validity_check/valid_formulas.csv\", mode='a', header=False, index=False)"
   ]
  },
  {
   "cell_type": "code",
   "execution_count": 30,
   "metadata": {},
   "outputs": [
    {
     "name": "stdout",
     "output_type": "stream",
     "text": [
      "BATCH 43: \n",
      "Total Formulas:  500\n",
      "Number of neutral formulas: 193\n",
      "Number of non-neutral formulas: 307\n"
     ]
    },
    {
     "name": "stderr",
     "output_type": "stream",
     "text": [
      "C:\\Users\\aaayu\\AppData\\Local\\Temp\\ipykernel_9420\\2761367695.py:5: SettingWithCopyWarning: \n",
      "A value is trying to be set on a copy of a slice from a DataFrame.\n",
      "Try using .loc[row_indexer,col_indexer] = value instead\n",
      "\n",
      "See the caveats in the documentation: https://pandas.pydata.org/pandas-docs/stable/user_guide/indexing.html#returning-a-view-versus-a-copy\n",
      "  df_43['Neutrality'] = df_43['Formula'].apply(check_neutrality)\n"
     ]
    }
   ],
   "source": [
    "# Select the next formulas\n",
    "df_43 = df.iloc[20500:21000]\n",
    "    \n",
    "# Apply the neutrality check\n",
    "df_43['Neutrality'] = df_43['Formula'].apply(check_neutrality)\n",
    "print(\"BATCH 43: \")\n",
    "print(\"Total Formulas: \", len(df_43))\n",
    "# Count true and false results\n",
    "true_count_b43 = df_43['Neutrality'].sum()\n",
    "false_count_b43 = len(df_43) - true_count_b43\n",
    "print(f\"Number of neutral formulas: {true_count_b43}\")\n",
    "print(f\"Number of non-neutral formulas: {false_count_b43}\")\n",
    "\n",
    "# Store the formulas with true results in a new CSV file\n",
    "df_true = df_43[df_43['Neutrality']]\n",
    "df_true.to_csv(\"../../data/d3_validity_check/valid_formulas.csv\", mode='a', header=False, index=False)"
   ]
  },
  {
   "cell_type": "code",
   "execution_count": 31,
   "metadata": {},
   "outputs": [
    {
     "name": "stdout",
     "output_type": "stream",
     "text": [
      "BATCH 44: \n",
      "Total Formulas:  500\n",
      "Number of neutral formulas: 198\n",
      "Number of non-neutral formulas: 302\n"
     ]
    },
    {
     "name": "stderr",
     "output_type": "stream",
     "text": [
      "C:\\Users\\aaayu\\AppData\\Local\\Temp\\ipykernel_9420\\3829712938.py:5: SettingWithCopyWarning: \n",
      "A value is trying to be set on a copy of a slice from a DataFrame.\n",
      "Try using .loc[row_indexer,col_indexer] = value instead\n",
      "\n",
      "See the caveats in the documentation: https://pandas.pydata.org/pandas-docs/stable/user_guide/indexing.html#returning-a-view-versus-a-copy\n",
      "  df_44['Neutrality'] = df_44['Formula'].apply(check_neutrality)\n"
     ]
    }
   ],
   "source": [
    "# Select the next formulas\n",
    "df_44 = df.iloc[21000:21500]\n",
    "    \n",
    "# Apply the neutrality check\n",
    "df_44['Neutrality'] = df_44['Formula'].apply(check_neutrality)\n",
    "print(\"BATCH 44: \")\n",
    "print(\"Total Formulas: \", len(df_44))\n",
    "# Count true and false results\n",
    "true_count_b44 = df_44['Neutrality'].sum()\n",
    "false_count_b44 = len(df_44) - true_count_b44\n",
    "print(f\"Number of neutral formulas: {true_count_b44}\")\n",
    "print(f\"Number of non-neutral formulas: {false_count_b44}\")\n",
    "\n",
    "# Store the formulas with true results in a new CSV file\n",
    "df_true = df_44[df_44['Neutrality']]\n",
    "df_true.to_csv(\"../../data/d3_validity_check/valid_formulas.csv\", mode='a', header=False, index=False)"
   ]
  },
  {
   "cell_type": "code",
   "execution_count": 32,
   "metadata": {},
   "outputs": [
    {
     "name": "stdout",
     "output_type": "stream",
     "text": [
      "BATCH 45: \n",
      "Total Formulas:  500\n",
      "Number of neutral formulas: 187\n",
      "Number of non-neutral formulas: 313\n"
     ]
    },
    {
     "name": "stderr",
     "output_type": "stream",
     "text": [
      "C:\\Users\\aaayu\\AppData\\Local\\Temp\\ipykernel_9420\\1812535753.py:5: SettingWithCopyWarning: \n",
      "A value is trying to be set on a copy of a slice from a DataFrame.\n",
      "Try using .loc[row_indexer,col_indexer] = value instead\n",
      "\n",
      "See the caveats in the documentation: https://pandas.pydata.org/pandas-docs/stable/user_guide/indexing.html#returning-a-view-versus-a-copy\n",
      "  df_45['Neutrality'] = df_45['Formula'].apply(check_neutrality)\n"
     ]
    }
   ],
   "source": [
    "# Select the next formulas\n",
    "df_45 = df.iloc[21500:22000]\n",
    "    \n",
    "# Apply the neutrality check\n",
    "df_45['Neutrality'] = df_45['Formula'].apply(check_neutrality)\n",
    "print(\"BATCH 45: \")\n",
    "print(\"Total Formulas: \", len(df_45))\n",
    "# Count true and false results\n",
    "true_count_b45 = df_45['Neutrality'].sum()\n",
    "false_count_b45 = len(df_45) - true_count_b45\n",
    "print(f\"Number of neutral formulas: {true_count_b45}\")\n",
    "print(f\"Number of non-neutral formulas: {false_count_b45}\")\n",
    "\n",
    "# Store the formulas with true results in a new CSV file\n",
    "df_true = df_45[df_45['Neutrality']]\n",
    "df_true.to_csv(\"../../data/d3_validity_check/valid_formulas.csv\", mode='a', header=False, index=False)"
   ]
  },
  {
   "cell_type": "code",
   "execution_count": 33,
   "metadata": {},
   "outputs": [
    {
     "name": "stdout",
     "output_type": "stream",
     "text": [
      "BATCH 46: \n",
      "Total Formulas:  500\n",
      "Number of neutral formulas: 167\n",
      "Number of non-neutral formulas: 333\n"
     ]
    },
    {
     "name": "stderr",
     "output_type": "stream",
     "text": [
      "C:\\Users\\aaayu\\AppData\\Local\\Temp\\ipykernel_9420\\1802937690.py:5: SettingWithCopyWarning: \n",
      "A value is trying to be set on a copy of a slice from a DataFrame.\n",
      "Try using .loc[row_indexer,col_indexer] = value instead\n",
      "\n",
      "See the caveats in the documentation: https://pandas.pydata.org/pandas-docs/stable/user_guide/indexing.html#returning-a-view-versus-a-copy\n",
      "  df_46['Neutrality'] = df_46['Formula'].apply(check_neutrality)\n"
     ]
    }
   ],
   "source": [
    "# Select the next formulas\n",
    "df_46 = df.iloc[22000:22500]\n",
    "    \n",
    "# Apply the neutrality check\n",
    "df_46['Neutrality'] = df_46['Formula'].apply(check_neutrality)\n",
    "print(\"BATCH 46: \")\n",
    "print(\"Total Formulas: \", len(df_46))\n",
    "# Count true and false results\n",
    "true_count_b46 = df_46['Neutrality'].sum()\n",
    "false_count_b46 = len(df_46) - true_count_b46\n",
    "print(f\"Number of neutral formulas: {true_count_b46}\")\n",
    "print(f\"Number of non-neutral formulas: {false_count_b46}\")\n",
    "\n",
    "# Store the formulas with true results in a new CSV file\n",
    "df_true = df_46[df_46['Neutrality']]\n",
    "df_true.to_csv(\"../../data/d3_validity_check/valid_formulas.csv\", mode='a', header=False, index=False)"
   ]
  },
  {
   "cell_type": "code",
   "execution_count": 35,
   "metadata": {},
   "outputs": [
    {
     "name": "stdout",
     "output_type": "stream",
     "text": [
      "BATCH 47: \n",
      "Total Formulas:  500\n",
      "Number of neutral formulas: 200\n",
      "Number of non-neutral formulas: 300\n"
     ]
    },
    {
     "name": "stderr",
     "output_type": "stream",
     "text": [
      "C:\\Users\\aaayu\\AppData\\Local\\Temp\\ipykernel_9420\\437945425.py:5: SettingWithCopyWarning: \n",
      "A value is trying to be set on a copy of a slice from a DataFrame.\n",
      "Try using .loc[row_indexer,col_indexer] = value instead\n",
      "\n",
      "See the caveats in the documentation: https://pandas.pydata.org/pandas-docs/stable/user_guide/indexing.html#returning-a-view-versus-a-copy\n",
      "  df_47['Neutrality'] = df_47['Formula'].apply(check_neutrality)\n"
     ]
    }
   ],
   "source": [
    "# Select the next formulas\n",
    "df_47 = df.iloc[22500:23000]\n",
    "    \n",
    "# Apply the neutrality check\n",
    "df_47['Neutrality'] = df_47['Formula'].apply(check_neutrality)\n",
    "print(\"BATCH 47: \")\n",
    "print(\"Total Formulas: \", len(df_47))\n",
    "# Count true and false results\n",
    "true_count_b47 = df_47['Neutrality'].sum()\n",
    "false_count_b47 = len(df_47) - true_count_b47\n",
    "print(f\"Number of neutral formulas: {true_count_b47}\")\n",
    "print(f\"Number of non-neutral formulas: {false_count_b47}\")\n",
    "\n",
    "# Store the formulas with true results in a new CSV file\n",
    "df_true = df_47[df_47['Neutrality']]\n",
    "df_true.to_csv(\"../../data/d3_validity_check/valid_formulas.csv\", mode='a', header=False, index=False)"
   ]
  },
  {
   "cell_type": "code",
   "execution_count": 36,
   "metadata": {},
   "outputs": [
    {
     "name": "stdout",
     "output_type": "stream",
     "text": [
      "BATCH 48: \n",
      "Total Formulas:  500\n",
      "Number of neutral formulas: 189\n",
      "Number of non-neutral formulas: 311\n"
     ]
    },
    {
     "name": "stderr",
     "output_type": "stream",
     "text": [
      "C:\\Users\\aaayu\\AppData\\Local\\Temp\\ipykernel_9420\\3430523842.py:5: SettingWithCopyWarning: \n",
      "A value is trying to be set on a copy of a slice from a DataFrame.\n",
      "Try using .loc[row_indexer,col_indexer] = value instead\n",
      "\n",
      "See the caveats in the documentation: https://pandas.pydata.org/pandas-docs/stable/user_guide/indexing.html#returning-a-view-versus-a-copy\n",
      "  df_48['Neutrality'] = df_48['Formula'].apply(check_neutrality)\n"
     ]
    }
   ],
   "source": [
    "# Select the next formulas\n",
    "df_48 = df.iloc[23000:23500]\n",
    "    \n",
    "# Apply the neutrality check\n",
    "df_48['Neutrality'] = df_48['Formula'].apply(check_neutrality)\n",
    "print(\"BATCH 48: \")\n",
    "print(\"Total Formulas: \", len(df_48))\n",
    "# Count true and false results\n",
    "true_count_b48 = df_48['Neutrality'].sum()\n",
    "false_count_b48 = len(df_48) - true_count_b48\n",
    "print(f\"Number of neutral formulas: {true_count_b48}\")\n",
    "print(f\"Number of non-neutral formulas: {false_count_b48}\")\n",
    "\n",
    "# Store the formulas with true results in a new CSV file\n",
    "df_true = df_48[df_48['Neutrality']]\n",
    "df_true.to_csv(\"../../data/d3_validity_check/valid_formulas.csv\", mode='a', header=False, index=False)"
   ]
  },
  {
   "cell_type": "code",
   "execution_count": 37,
   "metadata": {},
   "outputs": [
    {
     "name": "stderr",
     "output_type": "stream",
     "text": [
      "C:\\Users\\aaayu\\AppData\\Local\\Temp\\ipykernel_9420\\103680166.py:5: SettingWithCopyWarning: \n",
      "A value is trying to be set on a copy of a slice from a DataFrame.\n",
      "Try using .loc[row_indexer,col_indexer] = value instead\n",
      "\n",
      "See the caveats in the documentation: https://pandas.pydata.org/pandas-docs/stable/user_guide/indexing.html#returning-a-view-versus-a-copy\n",
      "  df_49['Neutrality'] = df_49['Formula'].apply(check_neutrality)\n"
     ]
    },
    {
     "name": "stdout",
     "output_type": "stream",
     "text": [
      "BATCH 49: \n",
      "Total Formulas:  500\n",
      "Number of neutral formulas: 172\n",
      "Number of non-neutral formulas: 328\n"
     ]
    }
   ],
   "source": [
    "# Select the next formulas\n",
    "df_49 = df.iloc[23500:24000]\n",
    "    \n",
    "# Apply the neutrality check\n",
    "df_49['Neutrality'] = df_49['Formula'].apply(check_neutrality)\n",
    "print(\"BATCH 49: \")\n",
    "print(\"Total Formulas: \", len(df_49))\n",
    "# Count true and false results\n",
    "true_count_b49 = df_49['Neutrality'].sum()\n",
    "false_count_b49 = len(df_49) - true_count_b49\n",
    "print(f\"Number of neutral formulas: {true_count_b49}\")\n",
    "print(f\"Number of non-neutral formulas: {false_count_b49}\")\n",
    "\n",
    "# Store the formulas with true results in a new CSV file\n",
    "df_true = df_49[df_49['Neutrality']]\n",
    "df_true.to_csv(\"../../data/d3_validity_check/valid_formulas.csv\", mode='a', header=False, index=False)"
   ]
  },
  {
   "cell_type": "code",
   "execution_count": 38,
   "metadata": {},
   "outputs": [
    {
     "name": "stdout",
     "output_type": "stream",
     "text": [
      "BATCH 50: \n",
      "Total Formulas:  500\n",
      "Number of neutral formulas: 189\n",
      "Number of non-neutral formulas: 311\n"
     ]
    },
    {
     "name": "stderr",
     "output_type": "stream",
     "text": [
      "C:\\Users\\aaayu\\AppData\\Local\\Temp\\ipykernel_9420\\3127360067.py:5: SettingWithCopyWarning: \n",
      "A value is trying to be set on a copy of a slice from a DataFrame.\n",
      "Try using .loc[row_indexer,col_indexer] = value instead\n",
      "\n",
      "See the caveats in the documentation: https://pandas.pydata.org/pandas-docs/stable/user_guide/indexing.html#returning-a-view-versus-a-copy\n",
      "  df_50['Neutrality'] = df_50['Formula'].apply(check_neutrality)\n"
     ]
    }
   ],
   "source": [
    "# Select the next formulas\n",
    "df_50 = df.iloc[24000:24500]\n",
    "    \n",
    "# Apply the neutrality check\n",
    "df_50['Neutrality'] = df_50['Formula'].apply(check_neutrality)\n",
    "print(\"BATCH 50: \")\n",
    "print(\"Total Formulas: \", len(df_50))\n",
    "# Count true and false results\n",
    "true_count_b50 = df_50['Neutrality'].sum()\n",
    "false_count_b50 = len(df_50) - true_count_b50\n",
    "print(f\"Number of neutral formulas: {true_count_b50}\")\n",
    "print(f\"Number of non-neutral formulas: {false_count_b50}\")\n",
    "\n",
    "# Store the formulas with true results in a new CSV file\n",
    "df_true = df_50[df_50['Neutrality']]\n",
    "df_true.to_csv(\"../../data/d3_validity_check/valid_formulas.csv\", mode='a', header=False, index=False)"
   ]
  },
  {
   "cell_type": "code",
   "execution_count": 39,
   "metadata": {},
   "outputs": [
    {
     "name": "stdout",
     "output_type": "stream",
     "text": [
      "BATCH 51: \n",
      "Total Formulas:  500\n",
      "Number of neutral formulas: 205\n",
      "Number of non-neutral formulas: 295\n"
     ]
    },
    {
     "name": "stderr",
     "output_type": "stream",
     "text": [
      "C:\\Users\\aaayu\\AppData\\Local\\Temp\\ipykernel_9420\\3802710551.py:5: SettingWithCopyWarning: \n",
      "A value is trying to be set on a copy of a slice from a DataFrame.\n",
      "Try using .loc[row_indexer,col_indexer] = value instead\n",
      "\n",
      "See the caveats in the documentation: https://pandas.pydata.org/pandas-docs/stable/user_guide/indexing.html#returning-a-view-versus-a-copy\n",
      "  df_51['Neutrality'] = df_51['Formula'].apply(check_neutrality)\n"
     ]
    }
   ],
   "source": [
    "# Select the next formulas\n",
    "df_51 = df.iloc[24500:25000]\n",
    "    \n",
    "# Apply the neutrality check\n",
    "df_51['Neutrality'] = df_51['Formula'].apply(check_neutrality)\n",
    "print(\"BATCH 51: \")\n",
    "print(\"Total Formulas: \", len(df_51))\n",
    "# Count true and false results\n",
    "true_count_b51 = df_51['Neutrality'].sum()\n",
    "false_count_b51 = len(df_51) - true_count_b51\n",
    "print(f\"Number of neutral formulas: {true_count_b51}\")\n",
    "print(f\"Number of non-neutral formulas: {false_count_b51}\")\n",
    "\n",
    "# Store the formulas with true results in a new CSV file\n",
    "df_true = df_51[df_51['Neutrality']]\n",
    "df_true.to_csv(\"../../data/d3_validity_check/valid_formulas.csv\", mode='a', header=False, index=False)"
   ]
  },
  {
   "cell_type": "code",
   "execution_count": 40,
   "metadata": {},
   "outputs": [
    {
     "name": "stdout",
     "output_type": "stream",
     "text": [
      "BATCH 52: \n",
      "Total Formulas:  500\n",
      "Number of neutral formulas: 191\n",
      "Number of non-neutral formulas: 309\n"
     ]
    },
    {
     "name": "stderr",
     "output_type": "stream",
     "text": [
      "C:\\Users\\aaayu\\AppData\\Local\\Temp\\ipykernel_9420\\3261713063.py:5: SettingWithCopyWarning: \n",
      "A value is trying to be set on a copy of a slice from a DataFrame.\n",
      "Try using .loc[row_indexer,col_indexer] = value instead\n",
      "\n",
      "See the caveats in the documentation: https://pandas.pydata.org/pandas-docs/stable/user_guide/indexing.html#returning-a-view-versus-a-copy\n",
      "  df_52['Neutrality'] = df_52['Formula'].apply(check_neutrality)\n"
     ]
    }
   ],
   "source": [
    "# Select the next formulas\n",
    "df_52 = df.iloc[25000:25500]\n",
    "    \n",
    "# Apply the neutrality check\n",
    "df_52['Neutrality'] = df_52['Formula'].apply(check_neutrality)\n",
    "print(\"BATCH 52: \")\n",
    "print(\"Total Formulas: \", len(df_52))\n",
    "# Count true and false results\n",
    "true_count_b52 = df_52['Neutrality'].sum()\n",
    "false_count_b52 = len(df_52) - true_count_b52\n",
    "print(f\"Number of neutral formulas: {true_count_b52}\")\n",
    "print(f\"Number of non-neutral formulas: {false_count_b52}\")\n",
    "\n",
    "# Store the formulas with true results in a new CSV file\n",
    "df_true = df_52[df_52['Neutrality']]\n",
    "df_true.to_csv(\"../../data/d3_validity_check/valid_formulas.csv\", mode='a', header=False, index=False)"
   ]
  },
  {
   "cell_type": "code",
   "execution_count": 41,
   "metadata": {},
   "outputs": [
    {
     "name": "stdout",
     "output_type": "stream",
     "text": [
      "BATCH 53: \n",
      "Total Formulas:  500\n",
      "Number of neutral formulas: 196\n",
      "Number of non-neutral formulas: 304\n"
     ]
    },
    {
     "name": "stderr",
     "output_type": "stream",
     "text": [
      "C:\\Users\\aaayu\\AppData\\Local\\Temp\\ipykernel_9420\\3953423040.py:5: SettingWithCopyWarning: \n",
      "A value is trying to be set on a copy of a slice from a DataFrame.\n",
      "Try using .loc[row_indexer,col_indexer] = value instead\n",
      "\n",
      "See the caveats in the documentation: https://pandas.pydata.org/pandas-docs/stable/user_guide/indexing.html#returning-a-view-versus-a-copy\n",
      "  df_53['Neutrality'] = df_53['Formula'].apply(check_neutrality)\n"
     ]
    }
   ],
   "source": [
    "# Select the next formulas\n",
    "df_53 = df.iloc[25500:26000]\n",
    "    \n",
    "# Apply the neutrality check\n",
    "df_53['Neutrality'] = df_53['Formula'].apply(check_neutrality)\n",
    "print(\"BATCH 53: \")\n",
    "print(\"Total Formulas: \", len(df_53))\n",
    "# Count true and false results\n",
    "true_count_b53 = df_53['Neutrality'].sum()\n",
    "false_count_b53 = len(df_53) - true_count_b53\n",
    "print(f\"Number of neutral formulas: {true_count_b53}\")\n",
    "print(f\"Number of non-neutral formulas: {false_count_b53}\")\n",
    "\n",
    "# Store the formulas with true results in a new CSV file\n",
    "df_true = df_53[df_53['Neutrality']]\n",
    "df_true.to_csv(\"../../data/d3_validity_check/valid_formulas.csv\", mode='a', header=False, index=False)"
   ]
  },
  {
   "cell_type": "code",
   "execution_count": 42,
   "metadata": {},
   "outputs": [
    {
     "name": "stdout",
     "output_type": "stream",
     "text": [
      "BATCH 54: \n",
      "Total Formulas:  500\n",
      "Number of neutral formulas: 189\n",
      "Number of non-neutral formulas: 311\n"
     ]
    },
    {
     "name": "stderr",
     "output_type": "stream",
     "text": [
      "C:\\Users\\aaayu\\AppData\\Local\\Temp\\ipykernel_9420\\1499203865.py:5: SettingWithCopyWarning: \n",
      "A value is trying to be set on a copy of a slice from a DataFrame.\n",
      "Try using .loc[row_indexer,col_indexer] = value instead\n",
      "\n",
      "See the caveats in the documentation: https://pandas.pydata.org/pandas-docs/stable/user_guide/indexing.html#returning-a-view-versus-a-copy\n",
      "  df_54['Neutrality'] = df_54['Formula'].apply(check_neutrality)\n"
     ]
    }
   ],
   "source": [
    "# Select the next formulas\n",
    "df_54 = df.iloc[26000:26500]\n",
    "    \n",
    "# Apply the neutrality check\n",
    "df_54['Neutrality'] = df_54['Formula'].apply(check_neutrality)\n",
    "print(\"BATCH 54: \")\n",
    "print(\"Total Formulas: \", len(df_54))\n",
    "# Count true and false results\n",
    "true_count_b54 = df_54['Neutrality'].sum()\n",
    "false_count_b54 = len(df_54) - true_count_b54\n",
    "print(f\"Number of neutral formulas: {true_count_b54}\")\n",
    "print(f\"Number of non-neutral formulas: {false_count_b54}\")\n",
    "\n",
    "# Store the formulas with true results in a new CSV file\n",
    "df_true = df_54[df_54['Neutrality']]\n",
    "df_true.to_csv(\"../../data/d3_validity_check/valid_formulas.csv\", mode='a', header=False, index=False)"
   ]
  },
  {
   "cell_type": "code",
   "execution_count": 43,
   "metadata": {},
   "outputs": [
    {
     "name": "stdout",
     "output_type": "stream",
     "text": [
      "BATCH 55: \n",
      "Total Formulas:  500\n",
      "Number of neutral formulas: 178\n",
      "Number of non-neutral formulas: 322\n"
     ]
    },
    {
     "name": "stderr",
     "output_type": "stream",
     "text": [
      "C:\\Users\\aaayu\\AppData\\Local\\Temp\\ipykernel_9420\\1925280785.py:5: SettingWithCopyWarning: \n",
      "A value is trying to be set on a copy of a slice from a DataFrame.\n",
      "Try using .loc[row_indexer,col_indexer] = value instead\n",
      "\n",
      "See the caveats in the documentation: https://pandas.pydata.org/pandas-docs/stable/user_guide/indexing.html#returning-a-view-versus-a-copy\n",
      "  df_55['Neutrality'] = df_55['Formula'].apply(check_neutrality)\n"
     ]
    }
   ],
   "source": [
    "# Select the next formulas\n",
    "df_55 = df.iloc[26500:27000]\n",
    "    \n",
    "# Apply the neutrality check\n",
    "df_55['Neutrality'] = df_55['Formula'].apply(check_neutrality)\n",
    "print(\"BATCH 55: \")\n",
    "print(\"Total Formulas: \", len(df_55))\n",
    "# Count true and false results\n",
    "true_count_b55 = df_55['Neutrality'].sum()\n",
    "false_count_b55 = len(df_55) - true_count_b55\n",
    "print(f\"Number of neutral formulas: {true_count_b55}\")\n",
    "print(f\"Number of non-neutral formulas: {false_count_b55}\")\n",
    "\n",
    "# Store the formulas with true results in a new CSV file\n",
    "df_true = df_55[df_55['Neutrality']]\n",
    "df_true.to_csv(\"../../data/d3_validity_check/valid_formulas.csv\", mode='a', header=False, index=False)"
   ]
  },
  {
   "cell_type": "code",
   "execution_count": 44,
   "metadata": {},
   "outputs": [
    {
     "name": "stdout",
     "output_type": "stream",
     "text": [
      "BATCH 56: \n",
      "Total Formulas:  500\n",
      "Number of neutral formulas: 197\n",
      "Number of non-neutral formulas: 303\n"
     ]
    },
    {
     "name": "stderr",
     "output_type": "stream",
     "text": [
      "C:\\Users\\aaayu\\AppData\\Local\\Temp\\ipykernel_9420\\781720060.py:5: SettingWithCopyWarning: \n",
      "A value is trying to be set on a copy of a slice from a DataFrame.\n",
      "Try using .loc[row_indexer,col_indexer] = value instead\n",
      "\n",
      "See the caveats in the documentation: https://pandas.pydata.org/pandas-docs/stable/user_guide/indexing.html#returning-a-view-versus-a-copy\n",
      "  df_56['Neutrality'] = df_56['Formula'].apply(check_neutrality)\n"
     ]
    }
   ],
   "source": [
    "# Select the next formulas\n",
    "df_56 = df.iloc[27000:27500]\n",
    "    \n",
    "# Apply the neutrality check\n",
    "df_56['Neutrality'] = df_56['Formula'].apply(check_neutrality)\n",
    "print(\"BATCH 56: \")\n",
    "print(\"Total Formulas: \", len(df_56))\n",
    "# Count true and false results\n",
    "true_count_b56 = df_56['Neutrality'].sum()\n",
    "false_count_b56 = len(df_56) - true_count_b56\n",
    "print(f\"Number of neutral formulas: {true_count_b56}\")\n",
    "print(f\"Number of non-neutral formulas: {false_count_b56}\")\n",
    "\n",
    "# Store the formulas with true results in a new CSV file\n",
    "df_true = df_56[df_56['Neutrality']]\n",
    "df_true.to_csv(\"../../data/d3_validity_check/valid_formulas.csv\", mode='a', header=False, index=False)"
   ]
  },
  {
   "cell_type": "code",
   "execution_count": 45,
   "metadata": {},
   "outputs": [
    {
     "name": "stdout",
     "output_type": "stream",
     "text": [
      "BATCH 57: \n",
      "Total Formulas:  500\n",
      "Number of neutral formulas: 204\n",
      "Number of non-neutral formulas: 296\n"
     ]
    },
    {
     "name": "stderr",
     "output_type": "stream",
     "text": [
      "C:\\Users\\aaayu\\AppData\\Local\\Temp\\ipykernel_9420\\1534977802.py:5: SettingWithCopyWarning: \n",
      "A value is trying to be set on a copy of a slice from a DataFrame.\n",
      "Try using .loc[row_indexer,col_indexer] = value instead\n",
      "\n",
      "See the caveats in the documentation: https://pandas.pydata.org/pandas-docs/stable/user_guide/indexing.html#returning-a-view-versus-a-copy\n",
      "  df_57['Neutrality'] = df_57['Formula'].apply(check_neutrality)\n"
     ]
    }
   ],
   "source": [
    "# Select the next formulas\n",
    "df_57 = df.iloc[27500:28000]\n",
    "    \n",
    "# Apply the neutrality check\n",
    "df_57['Neutrality'] = df_57['Formula'].apply(check_neutrality)\n",
    "print(\"BATCH 57: \")\n",
    "print(\"Total Formulas: \", len(df_57))\n",
    "# Count true and false results\n",
    "true_count_b57 = df_57['Neutrality'].sum()\n",
    "false_count_b57 = len(df_57) - true_count_b57\n",
    "print(f\"Number of neutral formulas: {true_count_b57}\")\n",
    "print(f\"Number of non-neutral formulas: {false_count_b57}\")\n",
    "\n",
    "# Store the formulas with true results in a new CSV file\n",
    "df_true = df_57[df_57['Neutrality']]\n",
    "df_true.to_csv(\"../../data/d3_validity_check/valid_formulas.csv\", mode='a', header=False, index=False)"
   ]
  },
  {
   "cell_type": "code",
   "execution_count": 46,
   "metadata": {},
   "outputs": [
    {
     "name": "stdout",
     "output_type": "stream",
     "text": [
      "BATCH 58: \n",
      "Total Formulas:  500\n",
      "Number of neutral formulas: 185\n",
      "Number of non-neutral formulas: 315\n"
     ]
    },
    {
     "name": "stderr",
     "output_type": "stream",
     "text": [
      "C:\\Users\\aaayu\\AppData\\Local\\Temp\\ipykernel_9420\\1121827862.py:5: SettingWithCopyWarning: \n",
      "A value is trying to be set on a copy of a slice from a DataFrame.\n",
      "Try using .loc[row_indexer,col_indexer] = value instead\n",
      "\n",
      "See the caveats in the documentation: https://pandas.pydata.org/pandas-docs/stable/user_guide/indexing.html#returning-a-view-versus-a-copy\n",
      "  df_58['Neutrality'] = df_58['Formula'].apply(check_neutrality)\n"
     ]
    }
   ],
   "source": [
    "# Select the next formulas\n",
    "df_58 = df.iloc[28000:28500]\n",
    "    \n",
    "# Apply the neutrality check\n",
    "df_58['Neutrality'] = df_58['Formula'].apply(check_neutrality)\n",
    "print(\"BATCH 58: \")\n",
    "print(\"Total Formulas: \", len(df_58))\n",
    "# Count true and false results\n",
    "true_count_b58 = df_58['Neutrality'].sum()\n",
    "false_count_b58 = len(df_58) - true_count_b58\n",
    "print(f\"Number of neutral formulas: {true_count_b58}\")\n",
    "print(f\"Number of non-neutral formulas: {false_count_b58}\")\n",
    "\n",
    "# Store the formulas with true results in a new CSV file\n",
    "df_true = df_58[df_58['Neutrality']]\n",
    "df_true.to_csv(\"../../data/d3_validity_check/valid_formulas.csv\", mode='a', header=False, index=False)"
   ]
  },
  {
   "cell_type": "code",
   "execution_count": 47,
   "metadata": {},
   "outputs": [
    {
     "name": "stdout",
     "output_type": "stream",
     "text": [
      "BATCH 59: \n",
      "Total Formulas:  500\n",
      "Number of neutral formulas: 169\n",
      "Number of non-neutral formulas: 331\n"
     ]
    },
    {
     "name": "stderr",
     "output_type": "stream",
     "text": [
      "C:\\Users\\aaayu\\AppData\\Local\\Temp\\ipykernel_9420\\3348917196.py:5: SettingWithCopyWarning: \n",
      "A value is trying to be set on a copy of a slice from a DataFrame.\n",
      "Try using .loc[row_indexer,col_indexer] = value instead\n",
      "\n",
      "See the caveats in the documentation: https://pandas.pydata.org/pandas-docs/stable/user_guide/indexing.html#returning-a-view-versus-a-copy\n",
      "  df_59['Neutrality'] = df_59['Formula'].apply(check_neutrality)\n"
     ]
    }
   ],
   "source": [
    "# Select the next formulas\n",
    "df_59 = df.iloc[28500:29000]\n",
    "    \n",
    "# Apply the neutrality check\n",
    "df_59['Neutrality'] = df_59['Formula'].apply(check_neutrality)\n",
    "print(\"BATCH 59: \")\n",
    "print(\"Total Formulas: \", len(df_59))\n",
    "# Count true and false results\n",
    "true_count_b59 = df_59['Neutrality'].sum()\n",
    "false_count_b59 = len(df_59) - true_count_b59\n",
    "print(f\"Number of neutral formulas: {true_count_b59}\")\n",
    "print(f\"Number of non-neutral formulas: {false_count_b59}\")\n",
    "\n",
    "# Store the formulas with true results in a new CSV file\n",
    "df_true = df_59[df_59['Neutrality']]\n",
    "df_true.to_csv(\"../../data/d3_validity_check/valid_formulas.csv\", mode='a', header=False, index=False)"
   ]
  },
  {
   "cell_type": "code",
   "execution_count": 48,
   "metadata": {},
   "outputs": [
    {
     "name": "stdout",
     "output_type": "stream",
     "text": [
      "BATCH 60: \n",
      "Total Formulas:  500\n",
      "Number of neutral formulas: 172\n",
      "Number of non-neutral formulas: 328\n"
     ]
    },
    {
     "name": "stderr",
     "output_type": "stream",
     "text": [
      "C:\\Users\\aaayu\\AppData\\Local\\Temp\\ipykernel_9420\\1565410415.py:5: SettingWithCopyWarning: \n",
      "A value is trying to be set on a copy of a slice from a DataFrame.\n",
      "Try using .loc[row_indexer,col_indexer] = value instead\n",
      "\n",
      "See the caveats in the documentation: https://pandas.pydata.org/pandas-docs/stable/user_guide/indexing.html#returning-a-view-versus-a-copy\n",
      "  df_60['Neutrality'] = df_60['Formula'].apply(check_neutrality)\n"
     ]
    }
   ],
   "source": [
    "# Select the next formulas\n",
    "df_60 = df.iloc[29000:29500]\n",
    "    \n",
    "# Apply the neutrality check\n",
    "df_60['Neutrality'] = df_60['Formula'].apply(check_neutrality)\n",
    "print(\"BATCH 60: \")\n",
    "print(\"Total Formulas: \", len(df_60))\n",
    "# Count true and false results\n",
    "true_count_b60 = df_60['Neutrality'].sum()\n",
    "false_count_b60 = len(df_60) - true_count_b60\n",
    "print(f\"Number of neutral formulas: {true_count_b60}\")\n",
    "print(f\"Number of non-neutral formulas: {false_count_b60}\")\n",
    "\n",
    "# Store the formulas with true results in a new CSV file\n",
    "df_true = df_60[df_60['Neutrality']]\n",
    "df_true.to_csv(\"../../data/d3_validity_check/valid_formulas.csv\", mode='a', header=False, index=False)"
   ]
  },
  {
   "cell_type": "code",
   "execution_count": 49,
   "metadata": {},
   "outputs": [
    {
     "name": "stdout",
     "output_type": "stream",
     "text": [
      "BATCH 61: \n",
      "Total Formulas:  500\n",
      "Number of neutral formulas: 185\n",
      "Number of non-neutral formulas: 315\n"
     ]
    },
    {
     "name": "stderr",
     "output_type": "stream",
     "text": [
      "C:\\Users\\aaayu\\AppData\\Local\\Temp\\ipykernel_9420\\1226252505.py:5: SettingWithCopyWarning: \n",
      "A value is trying to be set on a copy of a slice from a DataFrame.\n",
      "Try using .loc[row_indexer,col_indexer] = value instead\n",
      "\n",
      "See the caveats in the documentation: https://pandas.pydata.org/pandas-docs/stable/user_guide/indexing.html#returning-a-view-versus-a-copy\n",
      "  df_61['Neutrality'] = df_61['Formula'].apply(check_neutrality)\n"
     ]
    }
   ],
   "source": [
    "# Select the next formulas\n",
    "df_61 = df.iloc[29500:30000]\n",
    "    \n",
    "# Apply the neutrality check\n",
    "df_61['Neutrality'] = df_61['Formula'].apply(check_neutrality)\n",
    "print(\"BATCH 61: \")\n",
    "print(\"Total Formulas: \", len(df_61))\n",
    "# Count true and false results\n",
    "true_count_b61 = df_61['Neutrality'].sum()\n",
    "false_count_b61 = len(df_61) - true_count_b61\n",
    "print(f\"Number of neutral formulas: {true_count_b61}\")\n",
    "print(f\"Number of non-neutral formulas: {false_count_b61}\")\n",
    "\n",
    "# Store the formulas with true results in a new CSV file\n",
    "df_true = df_61[df_61['Neutrality']]\n",
    "df_true.to_csv(\"../../data/d3_validity_check/valid_formulas.csv\", mode='a', header=False, index=False)"
   ]
  },
  {
   "cell_type": "code",
   "execution_count": 5,
   "metadata": {},
   "outputs": [
    {
     "name": "stderr",
     "output_type": "stream",
     "text": [
      "C:\\Users\\aaayu\\AppData\\Local\\Temp\\ipykernel_3136\\1719617728.py:5: SettingWithCopyWarning: \n",
      "A value is trying to be set on a copy of a slice from a DataFrame.\n",
      "Try using .loc[row_indexer,col_indexer] = value instead\n",
      "\n",
      "See the caveats in the documentation: https://pandas.pydata.org/pandas-docs/stable/user_guide/indexing.html#returning-a-view-versus-a-copy\n",
      "  df_62['Neutrality'] = df_62['Formula'].apply(check_neutrality)\n"
     ]
    },
    {
     "name": "stdout",
     "output_type": "stream",
     "text": [
      "BATCH 62: \n",
      "Total Formulas:  500\n",
      "Number of neutral formulas: 175\n",
      "Number of non-neutral formulas: 325\n"
     ]
    }
   ],
   "source": [
    "# Select the next formulas\n",
    "df_62 = df.iloc[30000:30500]\n",
    "    \n",
    "# Apply the neutrality check\n",
    "df_62['Neutrality'] = df_62['Formula'].apply(check_neutrality)\n",
    "print(\"BATCH 62: \")\n",
    "print(\"Total Formulas: \", len(df_62))\n",
    "# Count true and false results\n",
    "true_count_b62 = df_62['Neutrality'].sum()\n",
    "false_count_b62 = len(df_62) - true_count_b62\n",
    "print(f\"Number of neutral formulas: {true_count_b62}\")\n",
    "print(f\"Number of non-neutral formulas: {false_count_b62}\")\n",
    "\n",
    "# Store the formulas with true results in a new CSV file\n",
    "df_true = df_62[df_62['Neutrality']]\n",
    "df_true.to_csv(\"../../data/d3_validity_check/valid_formulas.csv\", mode='a', header=False, index=False)"
   ]
  },
  {
   "cell_type": "code",
   "execution_count": 6,
   "metadata": {},
   "outputs": [
    {
     "name": "stdout",
     "output_type": "stream",
     "text": [
      "BATCH 63: \n",
      "Total Formulas:  500\n",
      "Number of neutral formulas: 177\n",
      "Number of non-neutral formulas: 323\n"
     ]
    },
    {
     "name": "stderr",
     "output_type": "stream",
     "text": [
      "C:\\Users\\aaayu\\AppData\\Local\\Temp\\ipykernel_3136\\364905439.py:5: SettingWithCopyWarning: \n",
      "A value is trying to be set on a copy of a slice from a DataFrame.\n",
      "Try using .loc[row_indexer,col_indexer] = value instead\n",
      "\n",
      "See the caveats in the documentation: https://pandas.pydata.org/pandas-docs/stable/user_guide/indexing.html#returning-a-view-versus-a-copy\n",
      "  df_63['Neutrality'] = df_63['Formula'].apply(check_neutrality)\n"
     ]
    }
   ],
   "source": [
    "# Select the next formulas\n",
    "df_63 = df.iloc[30500:31000]\n",
    "    \n",
    "# Apply the neutrality check\n",
    "df_63['Neutrality'] = df_63['Formula'].apply(check_neutrality)\n",
    "print(\"BATCH 63: \")\n",
    "print(\"Total Formulas: \", len(df_63))\n",
    "# Count true and false results\n",
    "true_count_b63 = df_63['Neutrality'].sum()\n",
    "false_count_b63 = len(df_63) - true_count_b63\n",
    "print(f\"Number of neutral formulas: {true_count_b63}\")\n",
    "print(f\"Number of non-neutral formulas: {false_count_b63}\")\n",
    "\n",
    "# Store the formulas with true results in a new CSV file\n",
    "df_true = df_63[df_63['Neutrality']]\n",
    "df_true.to_csv(\"../../data/d3_validity_check/valid_formulas.csv\", mode='a', header=False, index=False)"
   ]
  },
  {
   "cell_type": "code",
   "execution_count": 7,
   "metadata": {},
   "outputs": [
    {
     "name": "stdout",
     "output_type": "stream",
     "text": [
      "BATCH 64: \n",
      "Total Formulas:  500\n",
      "Number of neutral formulas: 191\n",
      "Number of non-neutral formulas: 309\n"
     ]
    },
    {
     "name": "stderr",
     "output_type": "stream",
     "text": [
      "C:\\Users\\aaayu\\AppData\\Local\\Temp\\ipykernel_3136\\3158110616.py:5: SettingWithCopyWarning: \n",
      "A value is trying to be set on a copy of a slice from a DataFrame.\n",
      "Try using .loc[row_indexer,col_indexer] = value instead\n",
      "\n",
      "See the caveats in the documentation: https://pandas.pydata.org/pandas-docs/stable/user_guide/indexing.html#returning-a-view-versus-a-copy\n",
      "  df_64['Neutrality'] = df_64['Formula'].apply(check_neutrality)\n"
     ]
    }
   ],
   "source": [
    "# Select the next formulas\n",
    "df_64 = df.iloc[31000:31500]\n",
    "    \n",
    "# Apply the neutrality check\n",
    "df_64['Neutrality'] = df_64['Formula'].apply(check_neutrality)\n",
    "print(\"BATCH 64: \")\n",
    "print(\"Total Formulas: \", len(df_64))\n",
    "# Count true and false results\n",
    "true_count_b64 = df_64['Neutrality'].sum()\n",
    "false_count_b64 = len(df_64) - true_count_b64\n",
    "print(f\"Number of neutral formulas: {true_count_b64}\")\n",
    "print(f\"Number of non-neutral formulas: {false_count_b64}\")\n",
    "\n",
    "# Store the formulas with true results in a new CSV file\n",
    "df_true = df_64[df_64['Neutrality']]\n",
    "df_true.to_csv(\"../../data/d3_validity_check/valid_formulas.csv\", mode='a', header=False, index=False)"
   ]
  },
  {
   "cell_type": "code",
   "execution_count": 8,
   "metadata": {},
   "outputs": [
    {
     "name": "stdout",
     "output_type": "stream",
     "text": [
      "BATCH 65: \n",
      "Total Formulas:  500\n",
      "Number of neutral formulas: 193\n",
      "Number of non-neutral formulas: 307\n"
     ]
    },
    {
     "name": "stderr",
     "output_type": "stream",
     "text": [
      "C:\\Users\\aaayu\\AppData\\Local\\Temp\\ipykernel_3136\\2481732956.py:5: SettingWithCopyWarning: \n",
      "A value is trying to be set on a copy of a slice from a DataFrame.\n",
      "Try using .loc[row_indexer,col_indexer] = value instead\n",
      "\n",
      "See the caveats in the documentation: https://pandas.pydata.org/pandas-docs/stable/user_guide/indexing.html#returning-a-view-versus-a-copy\n",
      "  df_65['Neutrality'] = df_65['Formula'].apply(check_neutrality)\n"
     ]
    }
   ],
   "source": [
    "# Select the next formulas\n",
    "df_65 = df.iloc[31500:32000]\n",
    "    \n",
    "# Apply the neutrality check\n",
    "df_65['Neutrality'] = df_65['Formula'].apply(check_neutrality)\n",
    "print(\"BATCH 65: \")\n",
    "print(\"Total Formulas: \", len(df_65))\n",
    "# Count true and false results\n",
    "true_count_b65 = df_65['Neutrality'].sum()\n",
    "false_count_b65 = len(df_65) - true_count_b65\n",
    "print(f\"Number of neutral formulas: {true_count_b65}\")\n",
    "print(f\"Number of non-neutral formulas: {false_count_b65}\")\n",
    "\n",
    "# Store the formulas with true results in a new CSV file\n",
    "df_true = df_65[df_65['Neutrality']]\n",
    "df_true.to_csv(\"../../data/d3_validity_check/valid_formulas.csv\", mode='a', header=False, index=False)"
   ]
  },
  {
   "cell_type": "code",
   "execution_count": 9,
   "metadata": {},
   "outputs": [
    {
     "name": "stdout",
     "output_type": "stream",
     "text": [
      "BATCH 66: \n",
      "Total Formulas:  500\n",
      "Number of neutral formulas: 195\n",
      "Number of non-neutral formulas: 305\n"
     ]
    },
    {
     "name": "stderr",
     "output_type": "stream",
     "text": [
      "C:\\Users\\aaayu\\AppData\\Local\\Temp\\ipykernel_3136\\2954667508.py:5: SettingWithCopyWarning: \n",
      "A value is trying to be set on a copy of a slice from a DataFrame.\n",
      "Try using .loc[row_indexer,col_indexer] = value instead\n",
      "\n",
      "See the caveats in the documentation: https://pandas.pydata.org/pandas-docs/stable/user_guide/indexing.html#returning-a-view-versus-a-copy\n",
      "  df_66['Neutrality'] = df_66['Formula'].apply(check_neutrality)\n"
     ]
    }
   ],
   "source": [
    "# Select the next formulas\n",
    "df_66 = df.iloc[32000:32500]\n",
    "    \n",
    "# Apply the neutrality check\n",
    "df_66['Neutrality'] = df_66['Formula'].apply(check_neutrality)\n",
    "print(\"BATCH 66: \")\n",
    "print(\"Total Formulas: \", len(df_66))\n",
    "# Count true and false results\n",
    "true_count_b66 = df_66['Neutrality'].sum()\n",
    "false_count_b66 = len(df_66) - true_count_b66\n",
    "print(f\"Number of neutral formulas: {true_count_b66}\")\n",
    "print(f\"Number of non-neutral formulas: {false_count_b66}\")\n",
    "\n",
    "# Store the formulas with true results in a new CSV file\n",
    "df_true = df_66[df_66['Neutrality']]\n",
    "df_true.to_csv(\"../../data/d3_validity_check/valid_formulas.csv\", mode='a', header=False, index=False)"
   ]
  },
  {
   "cell_type": "code",
   "execution_count": 10,
   "metadata": {},
   "outputs": [
    {
     "name": "stdout",
     "output_type": "stream",
     "text": [
      "BATCH 67: \n",
      "Total Formulas:  500\n",
      "Number of neutral formulas: 213\n",
      "Number of non-neutral formulas: 287\n"
     ]
    },
    {
     "name": "stderr",
     "output_type": "stream",
     "text": [
      "C:\\Users\\aaayu\\AppData\\Local\\Temp\\ipykernel_3136\\1855517200.py:5: SettingWithCopyWarning: \n",
      "A value is trying to be set on a copy of a slice from a DataFrame.\n",
      "Try using .loc[row_indexer,col_indexer] = value instead\n",
      "\n",
      "See the caveats in the documentation: https://pandas.pydata.org/pandas-docs/stable/user_guide/indexing.html#returning-a-view-versus-a-copy\n",
      "  df_67['Neutrality'] = df_67['Formula'].apply(check_neutrality)\n"
     ]
    }
   ],
   "source": [
    "# Select the next formulas\n",
    "df_67 = df.iloc[32500:33000]\n",
    "    \n",
    "# Apply the neutrality check\n",
    "df_67['Neutrality'] = df_67['Formula'].apply(check_neutrality)\n",
    "print(\"BATCH 67: \")\n",
    "print(\"Total Formulas: \", len(df_67))\n",
    "# Count true and false results\n",
    "true_count_b67 = df_67['Neutrality'].sum()\n",
    "false_count_b67 = len(df_67) - true_count_b67\n",
    "print(f\"Number of neutral formulas: {true_count_b67}\")\n",
    "print(f\"Number of non-neutral formulas: {false_count_b67}\")\n",
    "\n",
    "# Store the formulas with true results in a new CSV file\n",
    "df_true = df_67[df_67['Neutrality']]\n",
    "df_true.to_csv(\"../../data/d3_validity_check/valid_formulas.csv\", mode='a', header=False, index=False)"
   ]
  },
  {
   "cell_type": "code",
   "execution_count": 11,
   "metadata": {},
   "outputs": [
    {
     "name": "stdout",
     "output_type": "stream",
     "text": [
      "BATCH 68: \n",
      "Total Formulas:  500\n",
      "Number of neutral formulas: 207\n",
      "Number of non-neutral formulas: 293\n"
     ]
    },
    {
     "name": "stderr",
     "output_type": "stream",
     "text": [
      "C:\\Users\\aaayu\\AppData\\Local\\Temp\\ipykernel_3136\\1156734620.py:5: SettingWithCopyWarning: \n",
      "A value is trying to be set on a copy of a slice from a DataFrame.\n",
      "Try using .loc[row_indexer,col_indexer] = value instead\n",
      "\n",
      "See the caveats in the documentation: https://pandas.pydata.org/pandas-docs/stable/user_guide/indexing.html#returning-a-view-versus-a-copy\n",
      "  df_68['Neutrality'] = df_68['Formula'].apply(check_neutrality)\n"
     ]
    }
   ],
   "source": [
    "# Select the next formulas\n",
    "df_68 = df.iloc[33000:33500]\n",
    "    \n",
    "# Apply the neutrality check\n",
    "df_68['Neutrality'] = df_68['Formula'].apply(check_neutrality)\n",
    "print(\"BATCH 68: \")\n",
    "print(\"Total Formulas: \", len(df_68))\n",
    "# Count true and false results\n",
    "true_count_b68 = df_68['Neutrality'].sum()\n",
    "false_count_b68 = len(df_68) - true_count_b68\n",
    "print(f\"Number of neutral formulas: {true_count_b68}\")\n",
    "print(f\"Number of non-neutral formulas: {false_count_b68}\")\n",
    "\n",
    "# Store the formulas with true results in a new CSV file\n",
    "df_true = df_68[df_68['Neutrality']]\n",
    "df_true.to_csv(\"../../data/d3_validity_check/valid_formulas.csv\", mode='a', header=False, index=False)"
   ]
  },
  {
   "cell_type": "code",
   "execution_count": 12,
   "metadata": {},
   "outputs": [
    {
     "name": "stdout",
     "output_type": "stream",
     "text": [
      "BATCH 69: \n",
      "Total Formulas:  500\n",
      "Number of neutral formulas: 184\n",
      "Number of non-neutral formulas: 316\n"
     ]
    },
    {
     "name": "stderr",
     "output_type": "stream",
     "text": [
      "C:\\Users\\aaayu\\AppData\\Local\\Temp\\ipykernel_3136\\282561677.py:5: SettingWithCopyWarning: \n",
      "A value is trying to be set on a copy of a slice from a DataFrame.\n",
      "Try using .loc[row_indexer,col_indexer] = value instead\n",
      "\n",
      "See the caveats in the documentation: https://pandas.pydata.org/pandas-docs/stable/user_guide/indexing.html#returning-a-view-versus-a-copy\n",
      "  df_69['Neutrality'] = df_69['Formula'].apply(check_neutrality)\n"
     ]
    }
   ],
   "source": [
    "# Select the next formulas\n",
    "df_69 = df.iloc[33500:34000]\n",
    "    \n",
    "# Apply the neutrality check\n",
    "df_69['Neutrality'] = df_69['Formula'].apply(check_neutrality)\n",
    "print(\"BATCH 69: \")\n",
    "print(\"Total Formulas: \", len(df_69))\n",
    "# Count true and false results\n",
    "true_count_b69 = df_69['Neutrality'].sum()\n",
    "false_count_b69 = len(df_69) - true_count_b69\n",
    "print(f\"Number of neutral formulas: {true_count_b69}\")\n",
    "print(f\"Number of non-neutral formulas: {false_count_b69}\")\n",
    "\n",
    "# Store the formulas with true results in a new CSV file\n",
    "df_true = df_69[df_69['Neutrality']]\n",
    "df_true.to_csv(\"../../data/d3_validity_check/valid_formulas.csv\", mode='a', header=False, index=False)"
   ]
  },
  {
   "cell_type": "code",
   "execution_count": 5,
   "metadata": {},
   "outputs": [
    {
     "name": "stderr",
     "output_type": "stream",
     "text": [
      "C:\\Users\\aaayu\\AppData\\Local\\Temp\\ipykernel_11736\\2888181463.py:5: SettingWithCopyWarning: \n",
      "A value is trying to be set on a copy of a slice from a DataFrame.\n",
      "Try using .loc[row_indexer,col_indexer] = value instead\n",
      "\n",
      "See the caveats in the documentation: https://pandas.pydata.org/pandas-docs/stable/user_guide/indexing.html#returning-a-view-versus-a-copy\n",
      "  df_70['Neutrality'] = df_70['Formula'].apply(check_neutrality)\n"
     ]
    },
    {
     "name": "stdout",
     "output_type": "stream",
     "text": [
      "BATCH 70: \n",
      "Total Formulas:  500\n",
      "Number of neutral formulas: 193\n",
      "Number of non-neutral formulas: 307\n"
     ]
    }
   ],
   "source": [
    "# Select the next formulas\n",
    "df_70 = df.iloc[34000:34500]\n",
    "    \n",
    "# Apply the neutrality check\n",
    "df_70['Neutrality'] = df_70['Formula'].apply(check_neutrality)\n",
    "print(\"BATCH 70: \")\n",
    "print(\"Total Formulas: \", len(df_70))\n",
    "# Count true and false results\n",
    "true_count_b70 = df_70['Neutrality'].sum()\n",
    "false_count_b70 = len(df_70) - true_count_b70\n",
    "print(f\"Number of neutral formulas: {true_count_b70}\")\n",
    "print(f\"Number of non-neutral formulas: {false_count_b70}\")\n",
    "\n",
    "# Store the formulas with true results in a new CSV file\n",
    "df_true = df_70[df_70['Neutrality']]\n",
    "df_true.to_csv(\"../../data/d3_validity_check/valid_formulas.csv\", mode='a', header=False, index=False)"
   ]
  },
  {
   "cell_type": "code",
   "execution_count": 6,
   "metadata": {},
   "outputs": [
    {
     "name": "stdout",
     "output_type": "stream",
     "text": [
      "BATCH 71: \n",
      "Total Formulas:  500\n",
      "Number of neutral formulas: 188\n",
      "Number of non-neutral formulas: 312\n"
     ]
    },
    {
     "name": "stderr",
     "output_type": "stream",
     "text": [
      "C:\\Users\\aaayu\\AppData\\Local\\Temp\\ipykernel_11736\\2475431223.py:5: SettingWithCopyWarning: \n",
      "A value is trying to be set on a copy of a slice from a DataFrame.\n",
      "Try using .loc[row_indexer,col_indexer] = value instead\n",
      "\n",
      "See the caveats in the documentation: https://pandas.pydata.org/pandas-docs/stable/user_guide/indexing.html#returning-a-view-versus-a-copy\n",
      "  df_71['Neutrality'] = df_71['Formula'].apply(check_neutrality)\n"
     ]
    }
   ],
   "source": [
    "# Select the next formulas\n",
    "df_71 = df.iloc[34500:35000]\n",
    "    \n",
    "# Apply the neutrality check\n",
    "df_71['Neutrality'] = df_71['Formula'].apply(check_neutrality)\n",
    "print(\"BATCH 71: \")\n",
    "print(\"Total Formulas: \", len(df_71))\n",
    "# Count true and false results\n",
    "true_count_b71 = df_71['Neutrality'].sum()\n",
    "false_count_b71 = len(df_71) - true_count_b71\n",
    "print(f\"Number of neutral formulas: {true_count_b71}\")\n",
    "print(f\"Number of non-neutral formulas: {false_count_b71}\")\n",
    "\n",
    "# Store the formulas with true results in a new CSV file\n",
    "df_true = df_71[df_71['Neutrality']]\n",
    "df_true.to_csv(\"../../data/d3_validity_check/valid_formulas.csv\", mode='a', header=False, index=False)"
   ]
  },
  {
   "cell_type": "code",
   "execution_count": 7,
   "metadata": {},
   "outputs": [
    {
     "name": "stdout",
     "output_type": "stream",
     "text": [
      "BATCH 72: \n",
      "Total Formulas:  500\n",
      "Number of neutral formulas: 191\n",
      "Number of non-neutral formulas: 309\n"
     ]
    },
    {
     "name": "stderr",
     "output_type": "stream",
     "text": [
      "C:\\Users\\aaayu\\AppData\\Local\\Temp\\ipykernel_11736\\2298226919.py:5: SettingWithCopyWarning: \n",
      "A value is trying to be set on a copy of a slice from a DataFrame.\n",
      "Try using .loc[row_indexer,col_indexer] = value instead\n",
      "\n",
      "See the caveats in the documentation: https://pandas.pydata.org/pandas-docs/stable/user_guide/indexing.html#returning-a-view-versus-a-copy\n",
      "  df_72['Neutrality'] = df_72['Formula'].apply(check_neutrality)\n"
     ]
    }
   ],
   "source": [
    "# Select the next formulas\n",
    "df_72 = df.iloc[35000:35500]\n",
    "    \n",
    "# Apply the neutrality check\n",
    "df_72['Neutrality'] = df_72['Formula'].apply(check_neutrality)\n",
    "print(\"BATCH 72: \")\n",
    "print(\"Total Formulas: \", len(df_72))\n",
    "# Count true and false results\n",
    "true_count_b72 = df_72['Neutrality'].sum()\n",
    "false_count_b72 = len(df_72) - true_count_b72\n",
    "print(f\"Number of neutral formulas: {true_count_b72}\")\n",
    "print(f\"Number of non-neutral formulas: {false_count_b72}\")\n",
    "\n",
    "# Store the formulas with true results in a new CSV file\n",
    "df_true = df_72[df_72['Neutrality']]\n",
    "df_true.to_csv(\"../../data/d3_validity_check/valid_formulas.csv\", mode='a', header=False, index=False)"
   ]
  },
  {
   "cell_type": "code",
   "execution_count": 8,
   "metadata": {},
   "outputs": [
    {
     "name": "stdout",
     "output_type": "stream",
     "text": [
      "BATCH 73: \n",
      "Total Formulas:  500\n",
      "Number of neutral formulas: 210\n",
      "Number of non-neutral formulas: 290\n"
     ]
    },
    {
     "name": "stderr",
     "output_type": "stream",
     "text": [
      "C:\\Users\\aaayu\\AppData\\Local\\Temp\\ipykernel_11736\\1928199186.py:5: SettingWithCopyWarning: \n",
      "A value is trying to be set on a copy of a slice from a DataFrame.\n",
      "Try using .loc[row_indexer,col_indexer] = value instead\n",
      "\n",
      "See the caveats in the documentation: https://pandas.pydata.org/pandas-docs/stable/user_guide/indexing.html#returning-a-view-versus-a-copy\n",
      "  df_73['Neutrality'] = df_73['Formula'].apply(check_neutrality)\n"
     ]
    }
   ],
   "source": [
    "# Select the next formulas\n",
    "df_73 = df.iloc[35500:36000]\n",
    "    \n",
    "# Apply the neutrality check\n",
    "df_73['Neutrality'] = df_73['Formula'].apply(check_neutrality)\n",
    "print(\"BATCH 73: \")\n",
    "print(\"Total Formulas: \", len(df_73))\n",
    "# Count true and false results\n",
    "true_count_b73 = df_73['Neutrality'].sum()\n",
    "false_count_b73 = len(df_73) - true_count_b73\n",
    "print(f\"Number of neutral formulas: {true_count_b73}\")\n",
    "print(f\"Number of non-neutral formulas: {false_count_b73}\")\n",
    "\n",
    "# Store the formulas with true results in a new CSV file\n",
    "df_true = df_73[df_73['Neutrality']]\n",
    "df_true.to_csv(\"../../data/d3_validity_check/valid_formulas.csv\", mode='a', header=False, index=False)"
   ]
  },
  {
   "cell_type": "code",
   "execution_count": 9,
   "metadata": {},
   "outputs": [
    {
     "name": "stdout",
     "output_type": "stream",
     "text": [
      "BATCH 74: \n",
      "Total Formulas:  500\n",
      "Number of neutral formulas: 197\n",
      "Number of non-neutral formulas: 303\n"
     ]
    },
    {
     "name": "stderr",
     "output_type": "stream",
     "text": [
      "C:\\Users\\aaayu\\AppData\\Local\\Temp\\ipykernel_11736\\2808994290.py:5: SettingWithCopyWarning: \n",
      "A value is trying to be set on a copy of a slice from a DataFrame.\n",
      "Try using .loc[row_indexer,col_indexer] = value instead\n",
      "\n",
      "See the caveats in the documentation: https://pandas.pydata.org/pandas-docs/stable/user_guide/indexing.html#returning-a-view-versus-a-copy\n",
      "  df_74['Neutrality'] = df_74['Formula'].apply(check_neutrality)\n"
     ]
    }
   ],
   "source": [
    "# Select the next formulas\n",
    "df_74 = df.iloc[36000:36500]\n",
    "    \n",
    "# Apply the neutrality check\n",
    "df_74['Neutrality'] = df_74['Formula'].apply(check_neutrality)\n",
    "print(\"BATCH 74: \")\n",
    "print(\"Total Formulas: \", len(df_74))\n",
    "# Count true and false results\n",
    "true_count_b74 = df_74['Neutrality'].sum()\n",
    "false_count_b74 = len(df_74) - true_count_b74\n",
    "print(f\"Number of neutral formulas: {true_count_b74}\")\n",
    "print(f\"Number of non-neutral formulas: {false_count_b74}\")\n",
    "\n",
    "# Store the formulas with true results in a new CSV file\n",
    "df_true = df_74[df_74['Neutrality']]\n",
    "df_true.to_csv(\"../../data/d3_validity_check/valid_formulas.csv\", mode='a', header=False, index=False)"
   ]
  },
  {
   "cell_type": "code",
   "execution_count": 10,
   "metadata": {},
   "outputs": [
    {
     "name": "stdout",
     "output_type": "stream",
     "text": [
      "BATCH 75: \n",
      "Total Formulas:  500\n",
      "Number of neutral formulas: 192\n",
      "Number of non-neutral formulas: 308\n"
     ]
    },
    {
     "name": "stderr",
     "output_type": "stream",
     "text": [
      "C:\\Users\\aaayu\\AppData\\Local\\Temp\\ipykernel_11736\\2927681941.py:5: SettingWithCopyWarning: \n",
      "A value is trying to be set on a copy of a slice from a DataFrame.\n",
      "Try using .loc[row_indexer,col_indexer] = value instead\n",
      "\n",
      "See the caveats in the documentation: https://pandas.pydata.org/pandas-docs/stable/user_guide/indexing.html#returning-a-view-versus-a-copy\n",
      "  df_75['Neutrality'] = df_75['Formula'].apply(check_neutrality)\n"
     ]
    }
   ],
   "source": [
    "# Select the next formulas\n",
    "df_75 = df.iloc[36500:37000]\n",
    "    \n",
    "# Apply the neutrality check\n",
    "df_75['Neutrality'] = df_75['Formula'].apply(check_neutrality)\n",
    "print(\"BATCH 75: \")\n",
    "print(\"Total Formulas: \", len(df_75))\n",
    "# Count true and false results\n",
    "true_count_b75 = df_75['Neutrality'].sum()\n",
    "false_count_b75 = len(df_75) - true_count_b75\n",
    "print(f\"Number of neutral formulas: {true_count_b75}\")\n",
    "print(f\"Number of non-neutral formulas: {false_count_b75}\")\n",
    "\n",
    "# Store the formulas with true results in a new CSV file\n",
    "df_true = df_75[df_75['Neutrality']]\n",
    "df_true.to_csv(\"../../data/d3_validity_check/valid_formulas.csv\", mode='a', header=False, index=False)"
   ]
  },
  {
   "cell_type": "code",
   "execution_count": 11,
   "metadata": {},
   "outputs": [
    {
     "name": "stdout",
     "output_type": "stream",
     "text": [
      "BATCH 76: \n",
      "Total Formulas:  500\n",
      "Number of neutral formulas: 196\n",
      "Number of non-neutral formulas: 304\n"
     ]
    },
    {
     "name": "stderr",
     "output_type": "stream",
     "text": [
      "C:\\Users\\aaayu\\AppData\\Local\\Temp\\ipykernel_11736\\3733225512.py:5: SettingWithCopyWarning: \n",
      "A value is trying to be set on a copy of a slice from a DataFrame.\n",
      "Try using .loc[row_indexer,col_indexer] = value instead\n",
      "\n",
      "See the caveats in the documentation: https://pandas.pydata.org/pandas-docs/stable/user_guide/indexing.html#returning-a-view-versus-a-copy\n",
      "  df_76['Neutrality'] = df_76['Formula'].apply(check_neutrality)\n"
     ]
    }
   ],
   "source": [
    "# Select the next formulas\n",
    "df_76 = df.iloc[37000:37500]\n",
    "    \n",
    "# Apply the neutrality check\n",
    "df_76['Neutrality'] = df_76['Formula'].apply(check_neutrality)\n",
    "print(\"BATCH 76: \")\n",
    "print(\"Total Formulas: \", len(df_76))\n",
    "# Count true and false results\n",
    "true_count_b76 = df_76['Neutrality'].sum()\n",
    "false_count_b76 = len(df_76) - true_count_b76\n",
    "print(f\"Number of neutral formulas: {true_count_b76}\")\n",
    "print(f\"Number of non-neutral formulas: {false_count_b76}\")\n",
    "\n",
    "# Store the formulas with true results in a new CSV file\n",
    "df_true = df_76[df_76['Neutrality']]\n",
    "df_true.to_csv(\"../../data/d3_validity_check/valid_formulas.csv\", mode='a', header=False, index=False)"
   ]
  },
  {
   "cell_type": "code",
   "execution_count": 12,
   "metadata": {},
   "outputs": [
    {
     "name": "stdout",
     "output_type": "stream",
     "text": [
      "BATCH 77: \n",
      "Total Formulas:  500\n",
      "Number of neutral formulas: 188\n",
      "Number of non-neutral formulas: 312\n"
     ]
    },
    {
     "name": "stderr",
     "output_type": "stream",
     "text": [
      "C:\\Users\\aaayu\\AppData\\Local\\Temp\\ipykernel_11736\\3663297034.py:5: SettingWithCopyWarning: \n",
      "A value is trying to be set on a copy of a slice from a DataFrame.\n",
      "Try using .loc[row_indexer,col_indexer] = value instead\n",
      "\n",
      "See the caveats in the documentation: https://pandas.pydata.org/pandas-docs/stable/user_guide/indexing.html#returning-a-view-versus-a-copy\n",
      "  df_77['Neutrality'] = df_77['Formula'].apply(check_neutrality)\n"
     ]
    }
   ],
   "source": [
    "# Select the next formulas\n",
    "df_77 = df.iloc[37500:38000]\n",
    "    \n",
    "# Apply the neutrality check\n",
    "df_77['Neutrality'] = df_77['Formula'].apply(check_neutrality)\n",
    "print(\"BATCH 77: \")\n",
    "print(\"Total Formulas: \", len(df_77))\n",
    "# Count true and false results\n",
    "true_count_b77 = df_77['Neutrality'].sum()\n",
    "false_count_b77 = len(df_77) - true_count_b77\n",
    "print(f\"Number of neutral formulas: {true_count_b77}\")\n",
    "print(f\"Number of non-neutral formulas: {false_count_b77}\")\n",
    "\n",
    "# Store the formulas with true results in a new CSV file\n",
    "df_true = df_77[df_77['Neutrality']]\n",
    "df_true.to_csv(\"../../data/d3_validity_check/valid_formulas.csv\", mode='a', header=False, index=False)"
   ]
  },
  {
   "cell_type": "code",
   "execution_count": 13,
   "metadata": {},
   "outputs": [
    {
     "name": "stdout",
     "output_type": "stream",
     "text": [
      "BATCH 78: \n",
      "Total Formulas:  500\n",
      "Number of neutral formulas: 197\n",
      "Number of non-neutral formulas: 303\n"
     ]
    },
    {
     "name": "stderr",
     "output_type": "stream",
     "text": [
      "C:\\Users\\aaayu\\AppData\\Local\\Temp\\ipykernel_11736\\3550289415.py:5: SettingWithCopyWarning: \n",
      "A value is trying to be set on a copy of a slice from a DataFrame.\n",
      "Try using .loc[row_indexer,col_indexer] = value instead\n",
      "\n",
      "See the caveats in the documentation: https://pandas.pydata.org/pandas-docs/stable/user_guide/indexing.html#returning-a-view-versus-a-copy\n",
      "  df_78['Neutrality'] = df_78['Formula'].apply(check_neutrality)\n"
     ]
    }
   ],
   "source": [
    "# Select the next formulas\n",
    "df_78 = df.iloc[38000:38500]\n",
    "    \n",
    "# Apply the neutrality check\n",
    "df_78['Neutrality'] = df_78['Formula'].apply(check_neutrality)\n",
    "print(\"BATCH 78: \")\n",
    "print(\"Total Formulas: \", len(df_78))\n",
    "# Count true and false results\n",
    "true_count_b78 = df_78['Neutrality'].sum()\n",
    "false_count_b78 = len(df_78) - true_count_b78\n",
    "print(f\"Number of neutral formulas: {true_count_b78}\")\n",
    "print(f\"Number of non-neutral formulas: {false_count_b78}\")\n",
    "\n",
    "# Store the formulas with true results in a new CSV file\n",
    "df_true = df_78[df_78['Neutrality']]\n",
    "df_true.to_csv(\"../../data/d3_validity_check/valid_formulas.csv\", mode='a', header=False, index=False)"
   ]
  },
  {
   "cell_type": "code",
   "execution_count": 14,
   "metadata": {},
   "outputs": [
    {
     "name": "stdout",
     "output_type": "stream",
     "text": [
      "BATCH 79: \n",
      "Total Formulas:  500\n",
      "Number of neutral formulas: 177\n",
      "Number of non-neutral formulas: 323\n"
     ]
    },
    {
     "name": "stderr",
     "output_type": "stream",
     "text": [
      "C:\\Users\\aaayu\\AppData\\Local\\Temp\\ipykernel_11736\\2020081507.py:5: SettingWithCopyWarning: \n",
      "A value is trying to be set on a copy of a slice from a DataFrame.\n",
      "Try using .loc[row_indexer,col_indexer] = value instead\n",
      "\n",
      "See the caveats in the documentation: https://pandas.pydata.org/pandas-docs/stable/user_guide/indexing.html#returning-a-view-versus-a-copy\n",
      "  df_79['Neutrality'] = df_79['Formula'].apply(check_neutrality)\n"
     ]
    }
   ],
   "source": [
    "# Select the next formulas\n",
    "df_79 = df.iloc[38500:39000]\n",
    "    \n",
    "# Apply the neutrality check\n",
    "df_79['Neutrality'] = df_79['Formula'].apply(check_neutrality)\n",
    "print(\"BATCH 79: \")\n",
    "print(\"Total Formulas: \", len(df_79))\n",
    "# Count true and false results\n",
    "true_count_b79 = df_79['Neutrality'].sum()\n",
    "false_count_b79 = len(df_79) - true_count_b79\n",
    "print(f\"Number of neutral formulas: {true_count_b79}\")\n",
    "print(f\"Number of non-neutral formulas: {false_count_b79}\")\n",
    "\n",
    "# Store the formulas with true results in a new CSV file\n",
    "df_true = df_79[df_79['Neutrality']]\n",
    "df_true.to_csv(\"../../data/d3_validity_check/valid_formulas.csv\", mode='a', header=False, index=False)"
   ]
  },
  {
   "cell_type": "code",
   "execution_count": 15,
   "metadata": {},
   "outputs": [
    {
     "name": "stdout",
     "output_type": "stream",
     "text": [
      "BATCH 80: \n",
      "Total Formulas:  500\n",
      "Number of neutral formulas: 184\n",
      "Number of non-neutral formulas: 316\n"
     ]
    },
    {
     "name": "stderr",
     "output_type": "stream",
     "text": [
      "C:\\Users\\aaayu\\AppData\\Local\\Temp\\ipykernel_11736\\1376165329.py:5: SettingWithCopyWarning: \n",
      "A value is trying to be set on a copy of a slice from a DataFrame.\n",
      "Try using .loc[row_indexer,col_indexer] = value instead\n",
      "\n",
      "See the caveats in the documentation: https://pandas.pydata.org/pandas-docs/stable/user_guide/indexing.html#returning-a-view-versus-a-copy\n",
      "  df_80['Neutrality'] = df_80['Formula'].apply(check_neutrality)\n"
     ]
    }
   ],
   "source": [
    "# Select the next formulas\n",
    "df_80 = df.iloc[39000:39500]\n",
    "    \n",
    "# Apply the neutrality check\n",
    "df_80['Neutrality'] = df_80['Formula'].apply(check_neutrality)\n",
    "print(\"BATCH 80: \")\n",
    "print(\"Total Formulas: \", len(df_80))\n",
    "# Count true and false results\n",
    "true_count_b80 = df_80['Neutrality'].sum()\n",
    "false_count_b80 = len(df_80) - true_count_b80\n",
    "print(f\"Number of neutral formulas: {true_count_b80}\")\n",
    "print(f\"Number of non-neutral formulas: {false_count_b80}\")\n",
    "\n",
    "# Store the formulas with true results in a new CSV file\n",
    "df_true = df_80[df_80['Neutrality']]\n",
    "df_true.to_csv(\"../../data/d3_validity_check/valid_formulas.csv\", mode='a', header=False, index=False)"
   ]
  },
  {
   "cell_type": "code",
   "execution_count": 16,
   "metadata": {},
   "outputs": [
    {
     "name": "stdout",
     "output_type": "stream",
     "text": [
      "BATCH 81: \n",
      "Total Formulas:  500\n",
      "Number of neutral formulas: 167\n",
      "Number of non-neutral formulas: 333\n"
     ]
    },
    {
     "name": "stderr",
     "output_type": "stream",
     "text": [
      "C:\\Users\\aaayu\\AppData\\Local\\Temp\\ipykernel_11736\\3819103069.py:5: SettingWithCopyWarning: \n",
      "A value is trying to be set on a copy of a slice from a DataFrame.\n",
      "Try using .loc[row_indexer,col_indexer] = value instead\n",
      "\n",
      "See the caveats in the documentation: https://pandas.pydata.org/pandas-docs/stable/user_guide/indexing.html#returning-a-view-versus-a-copy\n",
      "  df_81['Neutrality'] = df_81['Formula'].apply(check_neutrality)\n"
     ]
    }
   ],
   "source": [
    "# Select the next formulas\n",
    "df_81 = df.iloc[39500:40000]\n",
    "    \n",
    "# Apply the neutrality check\n",
    "df_81['Neutrality'] = df_81['Formula'].apply(check_neutrality)\n",
    "print(\"BATCH 81: \")\n",
    "print(\"Total Formulas: \", len(df_81))\n",
    "# Count true and false results\n",
    "true_count_b81 = df_81['Neutrality'].sum()\n",
    "false_count_b81 = len(df_81) - true_count_b81\n",
    "print(f\"Number of neutral formulas: {true_count_b81}\")\n",
    "print(f\"Number of non-neutral formulas: {false_count_b81}\")\n",
    "\n",
    "# Store the formulas with true results in a new CSV file\n",
    "df_true = df_81[df_81['Neutrality']]\n",
    "df_true.to_csv(\"../../data/d3_validity_check/valid_formulas.csv\", mode='a', header=False, index=False)"
   ]
  },
  {
   "cell_type": "code",
   "execution_count": 17,
   "metadata": {},
   "outputs": [
    {
     "name": "stdout",
     "output_type": "stream",
     "text": [
      "BATCH 82: \n",
      "Total Formulas:  500\n",
      "Number of neutral formulas: 192\n",
      "Number of non-neutral formulas: 308\n"
     ]
    },
    {
     "name": "stderr",
     "output_type": "stream",
     "text": [
      "C:\\Users\\aaayu\\AppData\\Local\\Temp\\ipykernel_11736\\224998720.py:5: SettingWithCopyWarning: \n",
      "A value is trying to be set on a copy of a slice from a DataFrame.\n",
      "Try using .loc[row_indexer,col_indexer] = value instead\n",
      "\n",
      "See the caveats in the documentation: https://pandas.pydata.org/pandas-docs/stable/user_guide/indexing.html#returning-a-view-versus-a-copy\n",
      "  df_82['Neutrality'] = df_82['Formula'].apply(check_neutrality)\n"
     ]
    }
   ],
   "source": [
    "# Select the next formulas\n",
    "df_82 = df.iloc[40000:40500]\n",
    "    \n",
    "# Apply the neutrality check\n",
    "df_82['Neutrality'] = df_82['Formula'].apply(check_neutrality)\n",
    "print(\"BATCH 82: \")\n",
    "print(\"Total Formulas: \", len(df_82))\n",
    "# Count true and false results\n",
    "true_count_b82 = df_82['Neutrality'].sum()\n",
    "false_count_b82 = len(df_82) - true_count_b82\n",
    "print(f\"Number of neutral formulas: {true_count_b82}\")\n",
    "print(f\"Number of non-neutral formulas: {false_count_b82}\")\n",
    "\n",
    "# Store the formulas with true results in a new CSV file\n",
    "df_true = df_82[df_82['Neutrality']]\n",
    "df_true.to_csv(\"../../data/d3_validity_check/valid_formulas.csv\", mode='a', header=False, index=False)"
   ]
  },
  {
   "cell_type": "code",
   "execution_count": 18,
   "metadata": {},
   "outputs": [
    {
     "name": "stdout",
     "output_type": "stream",
     "text": [
      "BATCH 83: \n",
      "Total Formulas:  500\n",
      "Number of neutral formulas: 183\n",
      "Number of non-neutral formulas: 317\n"
     ]
    },
    {
     "name": "stderr",
     "output_type": "stream",
     "text": [
      "C:\\Users\\aaayu\\AppData\\Local\\Temp\\ipykernel_11736\\1216863169.py:5: SettingWithCopyWarning: \n",
      "A value is trying to be set on a copy of a slice from a DataFrame.\n",
      "Try using .loc[row_indexer,col_indexer] = value instead\n",
      "\n",
      "See the caveats in the documentation: https://pandas.pydata.org/pandas-docs/stable/user_guide/indexing.html#returning-a-view-versus-a-copy\n",
      "  df_83['Neutrality'] = df_83['Formula'].apply(check_neutrality)\n"
     ]
    }
   ],
   "source": [
    "# Select the next formulas\n",
    "df_83 = df.iloc[40500:41000]\n",
    "    \n",
    "# Apply the neutrality check\n",
    "df_83['Neutrality'] = df_83['Formula'].apply(check_neutrality)\n",
    "print(\"BATCH 83: \")\n",
    "print(\"Total Formulas: \", len(df_83))\n",
    "# Count true and false results\n",
    "true_count_b83 = df_83['Neutrality'].sum()\n",
    "false_count_b83 = len(df_83) - true_count_b83\n",
    "print(f\"Number of neutral formulas: {true_count_b83}\")\n",
    "print(f\"Number of non-neutral formulas: {false_count_b83}\")\n",
    "\n",
    "# Store the formulas with true results in a new CSV file\n",
    "df_true = df_83[df_83['Neutrality']]\n",
    "df_true.to_csv(\"../../data/d3_validity_check/valid_formulas.csv\", mode='a', header=False, index=False)"
   ]
  },
  {
   "cell_type": "code",
   "execution_count": 19,
   "metadata": {},
   "outputs": [
    {
     "name": "stdout",
     "output_type": "stream",
     "text": [
      "BATCH 84: \n",
      "Total Formulas:  500\n",
      "Number of neutral formulas: 184\n",
      "Number of non-neutral formulas: 316\n"
     ]
    },
    {
     "name": "stderr",
     "output_type": "stream",
     "text": [
      "C:\\Users\\aaayu\\AppData\\Local\\Temp\\ipykernel_11736\\1085415034.py:5: SettingWithCopyWarning: \n",
      "A value is trying to be set on a copy of a slice from a DataFrame.\n",
      "Try using .loc[row_indexer,col_indexer] = value instead\n",
      "\n",
      "See the caveats in the documentation: https://pandas.pydata.org/pandas-docs/stable/user_guide/indexing.html#returning-a-view-versus-a-copy\n",
      "  df_84['Neutrality'] = df_84['Formula'].apply(check_neutrality)\n"
     ]
    }
   ],
   "source": [
    "# Select the next formulas\n",
    "df_84 = df.iloc[41000:41500]\n",
    "    \n",
    "# Apply the neutrality check\n",
    "df_84['Neutrality'] = df_84['Formula'].apply(check_neutrality)\n",
    "print(\"BATCH 84: \")\n",
    "print(\"Total Formulas: \", len(df_84))\n",
    "# Count true and false results\n",
    "true_count_b84 = df_84['Neutrality'].sum()\n",
    "false_count_b84 = len(df_84) - true_count_b84\n",
    "print(f\"Number of neutral formulas: {true_count_b84}\")\n",
    "print(f\"Number of non-neutral formulas: {false_count_b84}\")\n",
    "\n",
    "# Store the formulas with true results in a new CSV file\n",
    "df_true = df_84[df_84['Neutrality']]\n",
    "df_true.to_csv(\"../../data/d3_validity_check/valid_formulas.csv\", mode='a', header=False, index=False)"
   ]
  },
  {
   "cell_type": "code",
   "execution_count": 20,
   "metadata": {},
   "outputs": [
    {
     "name": "stdout",
     "output_type": "stream",
     "text": [
      "BATCH 85: \n",
      "Total Formulas:  500\n",
      "Number of neutral formulas: 187\n",
      "Number of non-neutral formulas: 313\n"
     ]
    },
    {
     "name": "stderr",
     "output_type": "stream",
     "text": [
      "C:\\Users\\aaayu\\AppData\\Local\\Temp\\ipykernel_11736\\1142580558.py:5: SettingWithCopyWarning: \n",
      "A value is trying to be set on a copy of a slice from a DataFrame.\n",
      "Try using .loc[row_indexer,col_indexer] = value instead\n",
      "\n",
      "See the caveats in the documentation: https://pandas.pydata.org/pandas-docs/stable/user_guide/indexing.html#returning-a-view-versus-a-copy\n",
      "  df_85['Neutrality'] = df_85['Formula'].apply(check_neutrality)\n"
     ]
    }
   ],
   "source": [
    "# Select the next formulas\n",
    "df_85 = df.iloc[41500:42000]\n",
    "    \n",
    "# Apply the neutrality check\n",
    "df_85['Neutrality'] = df_85['Formula'].apply(check_neutrality)\n",
    "print(\"BATCH 85: \")\n",
    "print(\"Total Formulas: \", len(df_85))\n",
    "# Count true and false results\n",
    "true_count_b85 = df_85['Neutrality'].sum()\n",
    "false_count_b85 = len(df_85) - true_count_b85\n",
    "print(f\"Number of neutral formulas: {true_count_b85}\")\n",
    "print(f\"Number of non-neutral formulas: {false_count_b85}\")\n",
    "\n",
    "# Store the formulas with true results in a new CSV file\n",
    "df_true = df_85[df_85['Neutrality']]\n",
    "df_true.to_csv(\"../../data/d3_validity_check/valid_formulas.csv\", mode='a', header=False, index=False)"
   ]
  },
  {
   "cell_type": "code",
   "execution_count": 21,
   "metadata": {},
   "outputs": [
    {
     "name": "stdout",
     "output_type": "stream",
     "text": [
      "BATCH 86: \n",
      "Total Formulas:  500\n",
      "Number of neutral formulas: 203\n",
      "Number of non-neutral formulas: 297\n"
     ]
    },
    {
     "name": "stderr",
     "output_type": "stream",
     "text": [
      "C:\\Users\\aaayu\\AppData\\Local\\Temp\\ipykernel_11736\\425765454.py:5: SettingWithCopyWarning: \n",
      "A value is trying to be set on a copy of a slice from a DataFrame.\n",
      "Try using .loc[row_indexer,col_indexer] = value instead\n",
      "\n",
      "See the caveats in the documentation: https://pandas.pydata.org/pandas-docs/stable/user_guide/indexing.html#returning-a-view-versus-a-copy\n",
      "  df_86['Neutrality'] = df_86['Formula'].apply(check_neutrality)\n"
     ]
    }
   ],
   "source": [
    "# Select the next formulas\n",
    "df_86 = df.iloc[42000:42500]\n",
    "    \n",
    "# Apply the neutrality check\n",
    "df_86['Neutrality'] = df_86['Formula'].apply(check_neutrality)\n",
    "print(\"BATCH 86: \")\n",
    "print(\"Total Formulas: \", len(df_86))\n",
    "# Count true and false results\n",
    "true_count_b86 = df_86['Neutrality'].sum()\n",
    "false_count_b86 = len(df_86) - true_count_b86\n",
    "print(f\"Number of neutral formulas: {true_count_b86}\")\n",
    "print(f\"Number of non-neutral formulas: {false_count_b86}\")\n",
    "\n",
    "# Store the formulas with true results in a new CSV file\n",
    "df_true = df_86[df_86['Neutrality']]\n",
    "df_true.to_csv(\"../../data/d3_validity_check/valid_formulas.csv\", mode='a', header=False, index=False)"
   ]
  },
  {
   "cell_type": "code",
   "execution_count": 22,
   "metadata": {},
   "outputs": [
    {
     "name": "stderr",
     "output_type": "stream",
     "text": [
      "C:\\Users\\aaayu\\AppData\\Local\\Temp\\ipykernel_11736\\3204537169.py:5: SettingWithCopyWarning: \n",
      "A value is trying to be set on a copy of a slice from a DataFrame.\n",
      "Try using .loc[row_indexer,col_indexer] = value instead\n",
      "\n",
      "See the caveats in the documentation: https://pandas.pydata.org/pandas-docs/stable/user_guide/indexing.html#returning-a-view-versus-a-copy\n",
      "  df_87['Neutrality'] = df_87['Formula'].apply(check_neutrality)\n"
     ]
    },
    {
     "name": "stdout",
     "output_type": "stream",
     "text": [
      "BATCH 87: \n",
      "Total Formulas:  500\n",
      "Number of neutral formulas: 189\n",
      "Number of non-neutral formulas: 311\n"
     ]
    }
   ],
   "source": [
    "# Select the next formulas\n",
    "df_87 = df.iloc[42500:43000]\n",
    "    \n",
    "# Apply the neutrality check\n",
    "df_87['Neutrality'] = df_87['Formula'].apply(check_neutrality)\n",
    "print(\"BATCH 87: \")\n",
    "print(\"Total Formulas: \", len(df_87))\n",
    "# Count true and false results\n",
    "true_count_b87 = df_87['Neutrality'].sum()\n",
    "false_count_b87 = len(df_87) - true_count_b87\n",
    "print(f\"Number of neutral formulas: {true_count_b87}\")\n",
    "print(f\"Number of non-neutral formulas: {false_count_b87}\")\n",
    "\n",
    "# Store the formulas with true results in a new CSV file\n",
    "df_true = df_87[df_87['Neutrality']]\n",
    "df_true.to_csv(\"../../data/d3_validity_check/valid_formulas.csv\", mode='a', header=False, index=False)"
   ]
  },
  {
   "cell_type": "code",
   "execution_count": 23,
   "metadata": {},
   "outputs": [
    {
     "name": "stdout",
     "output_type": "stream",
     "text": [
      "BATCH 88: \n",
      "Total Formulas:  500\n",
      "Number of neutral formulas: 180\n",
      "Number of non-neutral formulas: 320\n"
     ]
    },
    {
     "name": "stderr",
     "output_type": "stream",
     "text": [
      "C:\\Users\\aaayu\\AppData\\Local\\Temp\\ipykernel_11736\\793513378.py:5: SettingWithCopyWarning: \n",
      "A value is trying to be set on a copy of a slice from a DataFrame.\n",
      "Try using .loc[row_indexer,col_indexer] = value instead\n",
      "\n",
      "See the caveats in the documentation: https://pandas.pydata.org/pandas-docs/stable/user_guide/indexing.html#returning-a-view-versus-a-copy\n",
      "  df_88['Neutrality'] = df_88['Formula'].apply(check_neutrality)\n"
     ]
    }
   ],
   "source": [
    "# Select the next formulas\n",
    "df_88 = df.iloc[43000:43500]\n",
    "    \n",
    "# Apply the neutrality check\n",
    "df_88['Neutrality'] = df_88['Formula'].apply(check_neutrality)\n",
    "print(\"BATCH 88: \")\n",
    "print(\"Total Formulas: \", len(df_88))\n",
    "# Count true and false results\n",
    "true_count_b88 = df_88['Neutrality'].sum()\n",
    "false_count_b88 = len(df_88) - true_count_b88\n",
    "print(f\"Number of neutral formulas: {true_count_b88}\")\n",
    "print(f\"Number of non-neutral formulas: {false_count_b88}\")\n",
    "\n",
    "# Store the formulas with true results in a new CSV file\n",
    "df_true = df_88[df_88['Neutrality']]\n",
    "df_true.to_csv(\"../../data/d3_validity_check/valid_formulas.csv\", mode='a', header=False, index=False)"
   ]
  },
  {
   "cell_type": "code",
   "execution_count": 24,
   "metadata": {},
   "outputs": [
    {
     "name": "stdout",
     "output_type": "stream",
     "text": [
      "BATCH 89: \n",
      "Total Formulas:  500\n",
      "Number of neutral formulas: 200\n",
      "Number of non-neutral formulas: 300\n"
     ]
    },
    {
     "name": "stderr",
     "output_type": "stream",
     "text": [
      "C:\\Users\\aaayu\\AppData\\Local\\Temp\\ipykernel_11736\\1990541513.py:5: SettingWithCopyWarning: \n",
      "A value is trying to be set on a copy of a slice from a DataFrame.\n",
      "Try using .loc[row_indexer,col_indexer] = value instead\n",
      "\n",
      "See the caveats in the documentation: https://pandas.pydata.org/pandas-docs/stable/user_guide/indexing.html#returning-a-view-versus-a-copy\n",
      "  df_89['Neutrality'] = df_89['Formula'].apply(check_neutrality)\n"
     ]
    }
   ],
   "source": [
    "# Select the next formulas\n",
    "df_89 = df.iloc[43500:44000]\n",
    "    \n",
    "# Apply the neutrality check\n",
    "df_89['Neutrality'] = df_89['Formula'].apply(check_neutrality)\n",
    "print(\"BATCH 89: \")\n",
    "print(\"Total Formulas: \", len(df_89))\n",
    "# Count true and false results\n",
    "true_count_b89 = df_89['Neutrality'].sum()\n",
    "false_count_b89 = len(df_89) - true_count_b89\n",
    "print(f\"Number of neutral formulas: {true_count_b89}\")\n",
    "print(f\"Number of non-neutral formulas: {false_count_b89}\")\n",
    "\n",
    "# Store the formulas with true results in a new CSV file\n",
    "df_true = df_89[df_89['Neutrality']]\n",
    "df_true.to_csv(\"../../data/d3_validity_check/valid_formulas.csv\", mode='a', header=False, index=False)"
   ]
  },
  {
   "cell_type": "code",
   "execution_count": 25,
   "metadata": {},
   "outputs": [
    {
     "name": "stdout",
     "output_type": "stream",
     "text": [
      "BATCH 90: \n",
      "Total Formulas:  500\n",
      "Number of neutral formulas: 190\n",
      "Number of non-neutral formulas: 310\n"
     ]
    },
    {
     "name": "stderr",
     "output_type": "stream",
     "text": [
      "C:\\Users\\aaayu\\AppData\\Local\\Temp\\ipykernel_11736\\2765336141.py:5: SettingWithCopyWarning: \n",
      "A value is trying to be set on a copy of a slice from a DataFrame.\n",
      "Try using .loc[row_indexer,col_indexer] = value instead\n",
      "\n",
      "See the caveats in the documentation: https://pandas.pydata.org/pandas-docs/stable/user_guide/indexing.html#returning-a-view-versus-a-copy\n",
      "  df_90['Neutrality'] = df_90['Formula'].apply(check_neutrality)\n"
     ]
    }
   ],
   "source": [
    "# Select the next formulas\n",
    "df_90 = df.iloc[44000:44500]\n",
    "    \n",
    "# Apply the neutrality check\n",
    "df_90['Neutrality'] = df_90['Formula'].apply(check_neutrality)\n",
    "print(\"BATCH 90: \")\n",
    "print(\"Total Formulas: \", len(df_90))\n",
    "# Count true and false results\n",
    "true_count_b90 = df_90['Neutrality'].sum()\n",
    "false_count_b90 = len(df_90) - true_count_b90\n",
    "print(f\"Number of neutral formulas: {true_count_b90}\")\n",
    "print(f\"Number of non-neutral formulas: {false_count_b90}\")\n",
    "\n",
    "# Store the formulas with true results in a new CSV file\n",
    "df_true = df_90[df_90['Neutrality']]\n",
    "df_true.to_csv(\"../../data/d3_validity_check/valid_formulas.csv\", mode='a', header=False, index=False)"
   ]
  },
  {
   "cell_type": "code",
   "execution_count": 26,
   "metadata": {},
   "outputs": [
    {
     "name": "stdout",
     "output_type": "stream",
     "text": [
      "BATCH 91: \n",
      "Total Formulas:  500\n",
      "Number of neutral formulas: 177\n",
      "Number of non-neutral formulas: 323\n"
     ]
    },
    {
     "name": "stderr",
     "output_type": "stream",
     "text": [
      "C:\\Users\\aaayu\\AppData\\Local\\Temp\\ipykernel_11736\\1149564659.py:5: SettingWithCopyWarning: \n",
      "A value is trying to be set on a copy of a slice from a DataFrame.\n",
      "Try using .loc[row_indexer,col_indexer] = value instead\n",
      "\n",
      "See the caveats in the documentation: https://pandas.pydata.org/pandas-docs/stable/user_guide/indexing.html#returning-a-view-versus-a-copy\n",
      "  df_91['Neutrality'] = df_91['Formula'].apply(check_neutrality)\n"
     ]
    }
   ],
   "source": [
    "# Select the next formulas\n",
    "df_91 = df.iloc[44500:45000]\n",
    "    \n",
    "# Apply the neutrality check\n",
    "df_91['Neutrality'] = df_91['Formula'].apply(check_neutrality)\n",
    "print(\"BATCH 91: \")\n",
    "print(\"Total Formulas: \", len(df_91))\n",
    "# Count true and false results\n",
    "true_count_b91 = df_91['Neutrality'].sum()\n",
    "false_count_b91 = len(df_91) - true_count_b91\n",
    "print(f\"Number of neutral formulas: {true_count_b91}\")\n",
    "print(f\"Number of non-neutral formulas: {false_count_b91}\")\n",
    "\n",
    "# Store the formulas with true results in a new CSV file\n",
    "df_true = df_91[df_91['Neutrality']]\n",
    "df_true.to_csv(\"../../data/d3_validity_check/valid_formulas.csv\", mode='a', header=False, index=False)"
   ]
  },
  {
   "cell_type": "code",
   "execution_count": 27,
   "metadata": {},
   "outputs": [
    {
     "name": "stdout",
     "output_type": "stream",
     "text": [
      "BATCH 92: \n",
      "Total Formulas:  500\n",
      "Number of neutral formulas: 166\n",
      "Number of non-neutral formulas: 334\n"
     ]
    },
    {
     "name": "stderr",
     "output_type": "stream",
     "text": [
      "C:\\Users\\aaayu\\AppData\\Local\\Temp\\ipykernel_11736\\1162615057.py:5: SettingWithCopyWarning: \n",
      "A value is trying to be set on a copy of a slice from a DataFrame.\n",
      "Try using .loc[row_indexer,col_indexer] = value instead\n",
      "\n",
      "See the caveats in the documentation: https://pandas.pydata.org/pandas-docs/stable/user_guide/indexing.html#returning-a-view-versus-a-copy\n",
      "  df_92['Neutrality'] = df_92['Formula'].apply(check_neutrality)\n"
     ]
    }
   ],
   "source": [
    "# Select the next formulas\n",
    "df_92 = df.iloc[45000:45500]\n",
    "    \n",
    "# Apply the neutrality check\n",
    "df_92['Neutrality'] = df_92['Formula'].apply(check_neutrality)\n",
    "print(\"BATCH 92: \")\n",
    "print(\"Total Formulas: \", len(df_92))\n",
    "# Count true and false results\n",
    "true_count_b92 = df_92['Neutrality'].sum()\n",
    "false_count_b92 = len(df_92) - true_count_b92\n",
    "print(f\"Number of neutral formulas: {true_count_b92}\")\n",
    "print(f\"Number of non-neutral formulas: {false_count_b92}\")\n",
    "\n",
    "# Store the formulas with true results in a new CSV file\n",
    "df_true = df_92[df_92['Neutrality']]\n",
    "df_true.to_csv(\"../../data/d3_validity_check/valid_formulas.csv\", mode='a', header=False, index=False)"
   ]
  },
  {
   "cell_type": "code",
   "execution_count": 28,
   "metadata": {},
   "outputs": [
    {
     "name": "stdout",
     "output_type": "stream",
     "text": [
      "BATCH 93: \n",
      "Total Formulas:  500\n",
      "Number of neutral formulas: 165\n",
      "Number of non-neutral formulas: 335\n"
     ]
    },
    {
     "name": "stderr",
     "output_type": "stream",
     "text": [
      "C:\\Users\\aaayu\\AppData\\Local\\Temp\\ipykernel_11736\\4051549107.py:5: SettingWithCopyWarning: \n",
      "A value is trying to be set on a copy of a slice from a DataFrame.\n",
      "Try using .loc[row_indexer,col_indexer] = value instead\n",
      "\n",
      "See the caveats in the documentation: https://pandas.pydata.org/pandas-docs/stable/user_guide/indexing.html#returning-a-view-versus-a-copy\n",
      "  df_93['Neutrality'] = df_93['Formula'].apply(check_neutrality)\n"
     ]
    }
   ],
   "source": [
    "# Select the next formulas\n",
    "df_93 = df.iloc[45500:46000]\n",
    "    \n",
    "# Apply the neutrality check\n",
    "df_93['Neutrality'] = df_93['Formula'].apply(check_neutrality)\n",
    "print(\"BATCH 93: \")\n",
    "print(\"Total Formulas: \", len(df_93))\n",
    "# Count true and false results\n",
    "true_count_b93 = df_93['Neutrality'].sum()\n",
    "false_count_b93 = len(df_93) - true_count_b93\n",
    "print(f\"Number of neutral formulas: {true_count_b93}\")\n",
    "print(f\"Number of non-neutral formulas: {false_count_b93}\")\n",
    "\n",
    "# Store the formulas with true results in a new CSV file\n",
    "df_true = df_93[df_93['Neutrality']]\n",
    "df_true.to_csv(\"../../data/d3_validity_check/valid_formulas.csv\", mode='a', header=False, index=False)"
   ]
  },
  {
   "cell_type": "code",
   "execution_count": 29,
   "metadata": {},
   "outputs": [
    {
     "name": "stdout",
     "output_type": "stream",
     "text": [
      "BATCH 94: \n",
      "Total Formulas:  500\n",
      "Number of neutral formulas: 191\n",
      "Number of non-neutral formulas: 309\n"
     ]
    },
    {
     "name": "stderr",
     "output_type": "stream",
     "text": [
      "C:\\Users\\aaayu\\AppData\\Local\\Temp\\ipykernel_11736\\1210029895.py:5: SettingWithCopyWarning: \n",
      "A value is trying to be set on a copy of a slice from a DataFrame.\n",
      "Try using .loc[row_indexer,col_indexer] = value instead\n",
      "\n",
      "See the caveats in the documentation: https://pandas.pydata.org/pandas-docs/stable/user_guide/indexing.html#returning-a-view-versus-a-copy\n",
      "  df_94['Neutrality'] = df_94['Formula'].apply(check_neutrality)\n"
     ]
    }
   ],
   "source": [
    "# Select the next formulas\n",
    "df_94 = df.iloc[46000:46500]\n",
    "    \n",
    "# Apply the neutrality check\n",
    "df_94['Neutrality'] = df_94['Formula'].apply(check_neutrality)\n",
    "print(\"BATCH 94: \")\n",
    "print(\"Total Formulas: \", len(df_94))\n",
    "# Count true and false results\n",
    "true_count_b94 = df_94['Neutrality'].sum()\n",
    "false_count_b94 = len(df_94) - true_count_b94\n",
    "print(f\"Number of neutral formulas: {true_count_b94}\")\n",
    "print(f\"Number of non-neutral formulas: {false_count_b94}\")\n",
    "\n",
    "# Store the formulas with true results in a new CSV file\n",
    "df_true = df_94[df_94['Neutrality']]\n",
    "df_true.to_csv(\"../../data/d3_validity_check/valid_formulas.csv\", mode='a', header=False, index=False)"
   ]
  },
  {
   "cell_type": "code",
   "execution_count": 30,
   "metadata": {},
   "outputs": [
    {
     "name": "stdout",
     "output_type": "stream",
     "text": [
      "BATCH 95: \n",
      "Total Formulas:  500\n",
      "Number of neutral formulas: 166\n",
      "Number of non-neutral formulas: 334\n"
     ]
    },
    {
     "name": "stderr",
     "output_type": "stream",
     "text": [
      "C:\\Users\\aaayu\\AppData\\Local\\Temp\\ipykernel_11736\\2737843261.py:5: SettingWithCopyWarning: \n",
      "A value is trying to be set on a copy of a slice from a DataFrame.\n",
      "Try using .loc[row_indexer,col_indexer] = value instead\n",
      "\n",
      "See the caveats in the documentation: https://pandas.pydata.org/pandas-docs/stable/user_guide/indexing.html#returning-a-view-versus-a-copy\n",
      "  df_95['Neutrality'] = df_95['Formula'].apply(check_neutrality)\n"
     ]
    }
   ],
   "source": [
    "# Select the next formulas\n",
    "df_95 = df.iloc[46500:47000]\n",
    "    \n",
    "# Apply the neutrality check\n",
    "df_95['Neutrality'] = df_95['Formula'].apply(check_neutrality)\n",
    "print(\"BATCH 95: \")\n",
    "print(\"Total Formulas: \", len(df_95))\n",
    "# Count true and false results\n",
    "true_count_b95 = df_95['Neutrality'].sum()\n",
    "false_count_b95 = len(df_95) - true_count_b95\n",
    "print(f\"Number of neutral formulas: {true_count_b95}\")\n",
    "print(f\"Number of non-neutral formulas: {false_count_b95}\")\n",
    "\n",
    "# Store the formulas with true results in a new CSV file\n",
    "df_true = df_95[df_95['Neutrality']]\n",
    "df_true.to_csv(\"../../data/d3_validity_check/valid_formulas.csv\", mode='a', header=False, index=False)"
   ]
  },
  {
   "cell_type": "code",
   "execution_count": 31,
   "metadata": {},
   "outputs": [
    {
     "name": "stdout",
     "output_type": "stream",
     "text": [
      "BATCH 96: \n",
      "Total Formulas:  500\n",
      "Number of neutral formulas: 182\n",
      "Number of non-neutral formulas: 318\n"
     ]
    },
    {
     "name": "stderr",
     "output_type": "stream",
     "text": [
      "C:\\Users\\aaayu\\AppData\\Local\\Temp\\ipykernel_11736\\2868799515.py:5: SettingWithCopyWarning: \n",
      "A value is trying to be set on a copy of a slice from a DataFrame.\n",
      "Try using .loc[row_indexer,col_indexer] = value instead\n",
      "\n",
      "See the caveats in the documentation: https://pandas.pydata.org/pandas-docs/stable/user_guide/indexing.html#returning-a-view-versus-a-copy\n",
      "  df_96['Neutrality'] = df_96['Formula'].apply(check_neutrality)\n"
     ]
    }
   ],
   "source": [
    "# Select the next formulas\n",
    "df_96 = df.iloc[47000:47500]\n",
    "    \n",
    "# Apply the neutrality check\n",
    "df_96['Neutrality'] = df_96['Formula'].apply(check_neutrality)\n",
    "print(\"BATCH 96: \")\n",
    "print(\"Total Formulas: \", len(df_96))\n",
    "# Count true and false results\n",
    "true_count_b96 = df_96['Neutrality'].sum()\n",
    "false_count_b96 = len(df_96) - true_count_b96\n",
    "print(f\"Number of neutral formulas: {true_count_b96}\")\n",
    "print(f\"Number of non-neutral formulas: {false_count_b96}\")\n",
    "\n",
    "# Store the formulas with true results in a new CSV file\n",
    "df_true = df_96[df_96['Neutrality']]\n",
    "df_true.to_csv(\"../../data/d3_validity_check/valid_formulas.csv\", mode='a', header=False, index=False)"
   ]
  },
  {
   "cell_type": "code",
   "execution_count": 32,
   "metadata": {},
   "outputs": [
    {
     "name": "stdout",
     "output_type": "stream",
     "text": [
      "BATCH 97: \n",
      "Total Formulas:  500\n",
      "Number of neutral formulas: 192\n",
      "Number of non-neutral formulas: 308\n"
     ]
    },
    {
     "name": "stderr",
     "output_type": "stream",
     "text": [
      "C:\\Users\\aaayu\\AppData\\Local\\Temp\\ipykernel_11736\\2717390049.py:5: SettingWithCopyWarning: \n",
      "A value is trying to be set on a copy of a slice from a DataFrame.\n",
      "Try using .loc[row_indexer,col_indexer] = value instead\n",
      "\n",
      "See the caveats in the documentation: https://pandas.pydata.org/pandas-docs/stable/user_guide/indexing.html#returning-a-view-versus-a-copy\n",
      "  df_97['Neutrality'] = df_97['Formula'].apply(check_neutrality)\n"
     ]
    }
   ],
   "source": [
    "# Select the next formulas\n",
    "df_97 = df.iloc[47500:48000]\n",
    "    \n",
    "# Apply the neutrality check\n",
    "df_97['Neutrality'] = df_97['Formula'].apply(check_neutrality)\n",
    "print(\"BATCH 97: \")\n",
    "print(\"Total Formulas: \", len(df_97))\n",
    "# Count true and false results\n",
    "true_count_b97 = df_97['Neutrality'].sum()\n",
    "false_count_b97 = len(df_97) - true_count_b97\n",
    "print(f\"Number of neutral formulas: {true_count_b97}\")\n",
    "print(f\"Number of non-neutral formulas: {false_count_b97}\")\n",
    "\n",
    "# Store the formulas with true results in a new CSV file\n",
    "df_true = df_97[df_97['Neutrality']]\n",
    "df_true.to_csv(\"../../data/d3_validity_check/valid_formulas.csv\", mode='a', header=False, index=False)"
   ]
  },
  {
   "cell_type": "code",
   "execution_count": 33,
   "metadata": {},
   "outputs": [
    {
     "name": "stdout",
     "output_type": "stream",
     "text": [
      "BATCH 98: \n",
      "Total Formulas:  500\n",
      "Number of neutral formulas: 205\n",
      "Number of non-neutral formulas: 295\n"
     ]
    },
    {
     "name": "stderr",
     "output_type": "stream",
     "text": [
      "C:\\Users\\aaayu\\AppData\\Local\\Temp\\ipykernel_11736\\4080141644.py:5: SettingWithCopyWarning: \n",
      "A value is trying to be set on a copy of a slice from a DataFrame.\n",
      "Try using .loc[row_indexer,col_indexer] = value instead\n",
      "\n",
      "See the caveats in the documentation: https://pandas.pydata.org/pandas-docs/stable/user_guide/indexing.html#returning-a-view-versus-a-copy\n",
      "  df_98['Neutrality'] = df_98['Formula'].apply(check_neutrality)\n"
     ]
    }
   ],
   "source": [
    "# Select the next formulas\n",
    "df_98 = df.iloc[48000:48500]\n",
    "    \n",
    "# Apply the neutrality check\n",
    "df_98['Neutrality'] = df_98['Formula'].apply(check_neutrality)\n",
    "print(\"BATCH 98: \")\n",
    "print(\"Total Formulas: \", len(df_98))\n",
    "# Count true and false results\n",
    "true_count_b98 = df_98['Neutrality'].sum()\n",
    "false_count_b98 = len(df_98) - true_count_b98\n",
    "print(f\"Number of neutral formulas: {true_count_b98}\")\n",
    "print(f\"Number of non-neutral formulas: {false_count_b98}\")\n",
    "\n",
    "# Store the formulas with true results in a new CSV file\n",
    "df_true = df_98[df_98['Neutrality']]\n",
    "df_true.to_csv(\"../../data/d3_validity_check/valid_formulas.csv\", mode='a', header=False, index=False)"
   ]
  },
  {
   "cell_type": "code",
   "execution_count": 34,
   "metadata": {},
   "outputs": [
    {
     "name": "stdout",
     "output_type": "stream",
     "text": [
      "BATCH 99: \n",
      "Total Formulas:  500\n",
      "Number of neutral formulas: 198\n",
      "Number of non-neutral formulas: 302\n"
     ]
    },
    {
     "name": "stderr",
     "output_type": "stream",
     "text": [
      "C:\\Users\\aaayu\\AppData\\Local\\Temp\\ipykernel_11736\\742741448.py:5: SettingWithCopyWarning: \n",
      "A value is trying to be set on a copy of a slice from a DataFrame.\n",
      "Try using .loc[row_indexer,col_indexer] = value instead\n",
      "\n",
      "See the caveats in the documentation: https://pandas.pydata.org/pandas-docs/stable/user_guide/indexing.html#returning-a-view-versus-a-copy\n",
      "  df_99['Neutrality'] = df_99['Formula'].apply(check_neutrality)\n"
     ]
    }
   ],
   "source": [
    "# Select the next formulas\n",
    "df_99 = df.iloc[48500:49000]\n",
    "    \n",
    "# Apply the neutrality check\n",
    "df_99['Neutrality'] = df_99['Formula'].apply(check_neutrality)\n",
    "print(\"BATCH 99: \")\n",
    "print(\"Total Formulas: \", len(df_99))\n",
    "# Count true and false results\n",
    "true_count_b99 = df_99['Neutrality'].sum()\n",
    "false_count_b99 = len(df_99) - true_count_b99\n",
    "print(f\"Number of neutral formulas: {true_count_b99}\")\n",
    "print(f\"Number of non-neutral formulas: {false_count_b99}\")\n",
    "\n",
    "# Store the formulas with true results in a new CSV file\n",
    "df_true = df_99[df_99['Neutrality']]\n",
    "df_true.to_csv(\"../../data/d3_validity_check/valid_formulas.csv\", mode='a', header=False, index=False)"
   ]
  },
  {
   "cell_type": "code",
   "execution_count": 35,
   "metadata": {},
   "outputs": [
    {
     "name": "stdout",
     "output_type": "stream",
     "text": [
      "BATCH 100: \n",
      "Total Formulas:  500\n",
      "Number of neutral formulas: 172\n",
      "Number of non-neutral formulas: 328\n"
     ]
    },
    {
     "name": "stderr",
     "output_type": "stream",
     "text": [
      "C:\\Users\\aaayu\\AppData\\Local\\Temp\\ipykernel_11736\\3621015769.py:5: SettingWithCopyWarning: \n",
      "A value is trying to be set on a copy of a slice from a DataFrame.\n",
      "Try using .loc[row_indexer,col_indexer] = value instead\n",
      "\n",
      "See the caveats in the documentation: https://pandas.pydata.org/pandas-docs/stable/user_guide/indexing.html#returning-a-view-versus-a-copy\n",
      "  df_100['Neutrality'] = df_100['Formula'].apply(check_neutrality)\n"
     ]
    }
   ],
   "source": [
    "# Select the next formulas\n",
    "df_100 = df.iloc[49000:49500]\n",
    "    \n",
    "# Apply the neutrality check\n",
    "df_100['Neutrality'] = df_100['Formula'].apply(check_neutrality)\n",
    "print(\"BATCH 100: \")\n",
    "print(\"Total Formulas: \", len(df_100))\n",
    "# Count true and false results\n",
    "true_count_b100 = df_100['Neutrality'].sum()\n",
    "false_count_b100 = len(df_100) - true_count_b100\n",
    "print(f\"Number of neutral formulas: {true_count_b100}\")\n",
    "print(f\"Number of non-neutral formulas: {false_count_b100}\")\n",
    "\n",
    "# Store the formulas with true results in a new CSV file\n",
    "df_true = df_100[df_100['Neutrality']]\n",
    "df_true.to_csv(\"../../data/d3_validity_check/valid_formulas.csv\", mode='a', header=False, index=False)"
   ]
  },
  {
   "cell_type": "code",
   "execution_count": 36,
   "metadata": {},
   "outputs": [
    {
     "name": "stdout",
     "output_type": "stream",
     "text": [
      "BATCH 101: \n",
      "Total Formulas:  500\n",
      "Number of neutral formulas: 186\n",
      "Number of non-neutral formulas: 314\n"
     ]
    },
    {
     "name": "stderr",
     "output_type": "stream",
     "text": [
      "C:\\Users\\aaayu\\AppData\\Local\\Temp\\ipykernel_11736\\1384772478.py:5: SettingWithCopyWarning: \n",
      "A value is trying to be set on a copy of a slice from a DataFrame.\n",
      "Try using .loc[row_indexer,col_indexer] = value instead\n",
      "\n",
      "See the caveats in the documentation: https://pandas.pydata.org/pandas-docs/stable/user_guide/indexing.html#returning-a-view-versus-a-copy\n",
      "  df_101['Neutrality'] = df_101['Formula'].apply(check_neutrality)\n"
     ]
    }
   ],
   "source": [
    "# Select the next formulas\n",
    "df_101 = df.iloc[49500:50000]\n",
    "    \n",
    "# Apply the neutrality check\n",
    "df_101['Neutrality'] = df_101['Formula'].apply(check_neutrality)\n",
    "print(\"BATCH 101: \")\n",
    "print(\"Total Formulas: \", len(df_101))\n",
    "# Count true and false results\n",
    "true_count_b101 = df_101['Neutrality'].sum()\n",
    "false_count_b101 = len(df_101) - true_count_b101\n",
    "print(f\"Number of neutral formulas: {true_count_b101}\")\n",
    "print(f\"Number of non-neutral formulas: {false_count_b101}\")\n",
    "\n",
    "# Store the formulas with true results in a new CSV file\n",
    "df_true = df_101[df_101['Neutrality']]\n",
    "df_true.to_csv(\"../../data/d3_validity_check/valid_formulas.csv\", mode='a', header=False, index=False)"
   ]
  },
  {
   "cell_type": "code",
   "execution_count": 37,
   "metadata": {},
   "outputs": [
    {
     "name": "stderr",
     "output_type": "stream",
     "text": [
      "C:\\Users\\aaayu\\AppData\\Local\\Temp\\ipykernel_11736\\757750101.py:5: SettingWithCopyWarning: \n",
      "A value is trying to be set on a copy of a slice from a DataFrame.\n",
      "Try using .loc[row_indexer,col_indexer] = value instead\n",
      "\n",
      "See the caveats in the documentation: https://pandas.pydata.org/pandas-docs/stable/user_guide/indexing.html#returning-a-view-versus-a-copy\n",
      "  df_102['Neutrality'] = df_102['Formula'].apply(check_neutrality)\n"
     ]
    },
    {
     "name": "stdout",
     "output_type": "stream",
     "text": [
      "BATCH 102: \n",
      "Total Formulas:  500\n",
      "Number of neutral formulas: 187\n",
      "Number of non-neutral formulas: 313\n"
     ]
    }
   ],
   "source": [
    "# Select the next formulas\n",
    "df_102 = df.iloc[50000:50500]\n",
    "    \n",
    "# Apply the neutrality check\n",
    "df_102['Neutrality'] = df_102['Formula'].apply(check_neutrality)\n",
    "print(\"BATCH 102: \")\n",
    "print(\"Total Formulas: \", len(df_102))\n",
    "# Count true and false results\n",
    "true_count_b102 = df_102['Neutrality'].sum()\n",
    "false_count_b102 = len(df_102) - true_count_b102\n",
    "print(f\"Number of neutral formulas: {true_count_b102}\")\n",
    "print(f\"Number of non-neutral formulas: {false_count_b102}\")\n",
    "\n",
    "# Store the formulas with true results in a new CSV file\n",
    "df_true = df_102[df_102['Neutrality']]\n",
    "df_true.to_csv(\"../../data/d3_validity_check/valid_formulas.csv\", mode='a', header=False, index=False)"
   ]
  },
  {
   "cell_type": "code",
   "execution_count": 5,
   "metadata": {},
   "outputs": [
    {
     "name": "stderr",
     "output_type": "stream",
     "text": [
      "C:\\Users\\aaayu\\AppData\\Local\\Temp\\ipykernel_7704\\2285608550.py:5: SettingWithCopyWarning: \n",
      "A value is trying to be set on a copy of a slice from a DataFrame.\n",
      "Try using .loc[row_indexer,col_indexer] = value instead\n",
      "\n",
      "See the caveats in the documentation: https://pandas.pydata.org/pandas-docs/stable/user_guide/indexing.html#returning-a-view-versus-a-copy\n",
      "  df_103['Neutrality'] = df_103['Formula'].apply(check_neutrality)\n"
     ]
    },
    {
     "name": "stdout",
     "output_type": "stream",
     "text": [
      "BATCH 103: \n",
      "Total Formulas:  500\n",
      "Number of neutral formulas: 193\n",
      "Number of non-neutral formulas: 307\n"
     ]
    }
   ],
   "source": [
    "# Select the next formulas\n",
    "df_103 = df.iloc[50500:51000]\n",
    "    \n",
    "# Apply the neutrality check\n",
    "df_103['Neutrality'] = df_103['Formula'].apply(check_neutrality)\n",
    "print(\"BATCH 103: \")\n",
    "print(\"Total Formulas: \", len(df_103))\n",
    "# Count true and false results\n",
    "true_count_b103 = df_103['Neutrality'].sum()\n",
    "false_count_b103 = len(df_103) - true_count_b103\n",
    "print(f\"Number of neutral formulas: {true_count_b103}\")\n",
    "print(f\"Number of non-neutral formulas: {false_count_b103}\")\n",
    "\n",
    "# Store the formulas with true results in a new CSV file\n",
    "df_true = df_103[df_103['Neutrality']]\n",
    "df_true.to_csv(\"../../data/d3_validity_check/valid_formulas.csv\", mode='a', header=False, index=False)"
   ]
  },
  {
   "cell_type": "code",
   "execution_count": 6,
   "metadata": {},
   "outputs": [
    {
     "name": "stdout",
     "output_type": "stream",
     "text": [
      "BATCH 103: \n",
      "Total Formulas:  500\n",
      "Number of neutral formulas: 179\n",
      "Number of non-neutral formulas: 321\n"
     ]
    },
    {
     "name": "stderr",
     "output_type": "stream",
     "text": [
      "C:\\Users\\aaayu\\AppData\\Local\\Temp\\ipykernel_7704\\933499369.py:5: SettingWithCopyWarning: \n",
      "A value is trying to be set on a copy of a slice from a DataFrame.\n",
      "Try using .loc[row_indexer,col_indexer] = value instead\n",
      "\n",
      "See the caveats in the documentation: https://pandas.pydata.org/pandas-docs/stable/user_guide/indexing.html#returning-a-view-versus-a-copy\n",
      "  df_104['Neutrality'] = df_104['Formula'].apply(check_neutrality)\n"
     ]
    }
   ],
   "source": [
    "# Select the next formulas\n",
    "df_104 = df.iloc[51000:51500]\n",
    "    \n",
    "# Apply the neutrality check\n",
    "df_104['Neutrality'] = df_104['Formula'].apply(check_neutrality)\n",
    "print(\"BATCH 104: \")\n",
    "print(\"Total Formulas: \", len(df_104))\n",
    "# Count true and false results\n",
    "true_count_b104 = df_104['Neutrality'].sum()\n",
    "false_count_b104 = len(df_104) - true_count_b104\n",
    "print(f\"Number of neutral formulas: {true_count_b104}\")\n",
    "print(f\"Number of non-neutral formulas: {false_count_b104}\")\n",
    "\n",
    "# Store the formulas with true results in a new CSV file\n",
    "df_true = df_104[df_104['Neutrality']]\n",
    "df_true.to_csv(\"../../data/d3_validity_check/valid_formulas.csv\", mode='a', header=False, index=False)"
   ]
  },
  {
   "cell_type": "code",
   "execution_count": 7,
   "metadata": {},
   "outputs": [
    {
     "name": "stdout",
     "output_type": "stream",
     "text": [
      "BATCH 105: \n",
      "Total Formulas:  500\n",
      "Number of neutral formulas: 197\n",
      "Number of non-neutral formulas: 303\n"
     ]
    },
    {
     "name": "stderr",
     "output_type": "stream",
     "text": [
      "C:\\Users\\aaayu\\AppData\\Local\\Temp\\ipykernel_7704\\4073093110.py:5: SettingWithCopyWarning: \n",
      "A value is trying to be set on a copy of a slice from a DataFrame.\n",
      "Try using .loc[row_indexer,col_indexer] = value instead\n",
      "\n",
      "See the caveats in the documentation: https://pandas.pydata.org/pandas-docs/stable/user_guide/indexing.html#returning-a-view-versus-a-copy\n",
      "  df_105['Neutrality'] = df_105['Formula'].apply(check_neutrality)\n"
     ]
    }
   ],
   "source": [
    "# Select the next formulas\n",
    "df_105 = df.iloc[51500:52000]\n",
    "    \n",
    "# Apply the neutrality check\n",
    "df_105['Neutrality'] = df_105['Formula'].apply(check_neutrality)\n",
    "print(\"BATCH 105: \")\n",
    "print(\"Total Formulas: \", len(df_105))\n",
    "# Count true and false results\n",
    "true_count_b105 = df_105['Neutrality'].sum()\n",
    "false_count_b105 = len(df_105) - true_count_b105\n",
    "print(f\"Number of neutral formulas: {true_count_b105}\")\n",
    "print(f\"Number of non-neutral formulas: {false_count_b105}\")\n",
    "\n",
    "# Store the formulas with true results in a new CSV file\n",
    "df_true = df_105[df_105['Neutrality']]\n",
    "df_true.to_csv(\"../../data/d3_validity_check/valid_formulas.csv\", mode='a', header=False, index=False)"
   ]
  },
  {
   "cell_type": "code",
   "execution_count": 8,
   "metadata": {},
   "outputs": [
    {
     "name": "stdout",
     "output_type": "stream",
     "text": [
      "BATCH 106: \n",
      "Total Formulas:  500\n",
      "Number of neutral formulas: 167\n",
      "Number of non-neutral formulas: 333\n"
     ]
    },
    {
     "name": "stderr",
     "output_type": "stream",
     "text": [
      "C:\\Users\\aaayu\\AppData\\Local\\Temp\\ipykernel_7704\\2872201562.py:5: SettingWithCopyWarning: \n",
      "A value is trying to be set on a copy of a slice from a DataFrame.\n",
      "Try using .loc[row_indexer,col_indexer] = value instead\n",
      "\n",
      "See the caveats in the documentation: https://pandas.pydata.org/pandas-docs/stable/user_guide/indexing.html#returning-a-view-versus-a-copy\n",
      "  df_106['Neutrality'] = df_106['Formula'].apply(check_neutrality)\n"
     ]
    }
   ],
   "source": [
    "# Select the next formulas\n",
    "df_106 = df.iloc[52000:52500]\n",
    "    \n",
    "# Apply the neutrality check\n",
    "df_106['Neutrality'] = df_106['Formula'].apply(check_neutrality)\n",
    "print(\"BATCH 106: \")\n",
    "print(\"Total Formulas: \", len(df_106))\n",
    "# Count true and false results\n",
    "true_count_b106 = df_106['Neutrality'].sum()\n",
    "false_count_b106 = len(df_106) - true_count_b106\n",
    "print(f\"Number of neutral formulas: {true_count_b106}\")\n",
    "print(f\"Number of non-neutral formulas: {false_count_b106}\")\n",
    "\n",
    "# Store the formulas with true results in a new CSV file\n",
    "df_true = df_106[df_106['Neutrality']]\n",
    "df_true.to_csv(\"../../data/d3_validity_check/valid_formulas.csv\", mode='a', header=False, index=False)"
   ]
  },
  {
   "cell_type": "code",
   "execution_count": 9,
   "metadata": {},
   "outputs": [
    {
     "name": "stdout",
     "output_type": "stream",
     "text": [
      "BATCH 107: \n",
      "Total Formulas:  500\n",
      "Number of neutral formulas: 208\n",
      "Number of non-neutral formulas: 292\n"
     ]
    },
    {
     "name": "stderr",
     "output_type": "stream",
     "text": [
      "C:\\Users\\aaayu\\AppData\\Local\\Temp\\ipykernel_7704\\1534501206.py:5: SettingWithCopyWarning: \n",
      "A value is trying to be set on a copy of a slice from a DataFrame.\n",
      "Try using .loc[row_indexer,col_indexer] = value instead\n",
      "\n",
      "See the caveats in the documentation: https://pandas.pydata.org/pandas-docs/stable/user_guide/indexing.html#returning-a-view-versus-a-copy\n",
      "  df_107['Neutrality'] = df_107['Formula'].apply(check_neutrality)\n"
     ]
    }
   ],
   "source": [
    "# Select the next formulas\n",
    "df_107 = df.iloc[52500:53000]\n",
    "    \n",
    "# Apply the neutrality check\n",
    "df_107['Neutrality'] = df_107['Formula'].apply(check_neutrality)\n",
    "print(\"BATCH 107: \")\n",
    "print(\"Total Formulas: \", len(df_107))\n",
    "# Count true and false results\n",
    "true_count_b107 = df_107['Neutrality'].sum()\n",
    "false_count_b107 = len(df_107) - true_count_b107\n",
    "print(f\"Number of neutral formulas: {true_count_b107}\")\n",
    "print(f\"Number of non-neutral formulas: {false_count_b107}\")\n",
    "\n",
    "# Store the formulas with true results in a new CSV file\n",
    "df_true = df_107[df_107['Neutrality']]\n",
    "df_true.to_csv(\"../../data/d3_validity_check/valid_formulas.csv\", mode='a', header=False, index=False)"
   ]
  },
  {
   "cell_type": "code",
   "execution_count": 10,
   "metadata": {},
   "outputs": [
    {
     "name": "stdout",
     "output_type": "stream",
     "text": [
      "BATCH 108: \n",
      "Total Formulas:  500\n",
      "Number of neutral formulas: 187\n",
      "Number of non-neutral formulas: 313\n"
     ]
    },
    {
     "name": "stderr",
     "output_type": "stream",
     "text": [
      "C:\\Users\\aaayu\\AppData\\Local\\Temp\\ipykernel_7704\\1630255681.py:5: SettingWithCopyWarning: \n",
      "A value is trying to be set on a copy of a slice from a DataFrame.\n",
      "Try using .loc[row_indexer,col_indexer] = value instead\n",
      "\n",
      "See the caveats in the documentation: https://pandas.pydata.org/pandas-docs/stable/user_guide/indexing.html#returning-a-view-versus-a-copy\n",
      "  df_108['Neutrality'] = df_108['Formula'].apply(check_neutrality)\n"
     ]
    }
   ],
   "source": [
    "# Select the next formulas\n",
    "df_108 = df.iloc[53000:53500]\n",
    "    \n",
    "# Apply the neutrality check\n",
    "df_108['Neutrality'] = df_108['Formula'].apply(check_neutrality)\n",
    "print(\"BATCH 108: \")\n",
    "print(\"Total Formulas: \", len(df_108))\n",
    "# Count true and false results\n",
    "true_count_b108 = df_108['Neutrality'].sum()\n",
    "false_count_b108 = len(df_108) - true_count_b108\n",
    "print(f\"Number of neutral formulas: {true_count_b108}\")\n",
    "print(f\"Number of non-neutral formulas: {false_count_b108}\")\n",
    "\n",
    "# Store the formulas with true results in a new CSV file\n",
    "df_true = df_108[df_108['Neutrality']]\n",
    "df_true.to_csv(\"../../data/d3_validity_check/valid_formulas.csv\", mode='a', header=False, index=False)"
   ]
  },
  {
   "cell_type": "code",
   "execution_count": 11,
   "metadata": {},
   "outputs": [
    {
     "name": "stdout",
     "output_type": "stream",
     "text": [
      "BATCH 109: \n",
      "Total Formulas:  500\n",
      "Number of neutral formulas: 173\n",
      "Number of non-neutral formulas: 327\n"
     ]
    },
    {
     "name": "stderr",
     "output_type": "stream",
     "text": [
      "C:\\Users\\aaayu\\AppData\\Local\\Temp\\ipykernel_7704\\708895696.py:5: SettingWithCopyWarning: \n",
      "A value is trying to be set on a copy of a slice from a DataFrame.\n",
      "Try using .loc[row_indexer,col_indexer] = value instead\n",
      "\n",
      "See the caveats in the documentation: https://pandas.pydata.org/pandas-docs/stable/user_guide/indexing.html#returning-a-view-versus-a-copy\n",
      "  df_109['Neutrality'] = df_109['Formula'].apply(check_neutrality)\n"
     ]
    }
   ],
   "source": [
    "# Select the next formulas\n",
    "df_109 = df.iloc[53500:54000]\n",
    "    \n",
    "# Apply the neutrality check\n",
    "df_109['Neutrality'] = df_109['Formula'].apply(check_neutrality)\n",
    "print(\"BATCH 109: \")\n",
    "print(\"Total Formulas: \", len(df_109))\n",
    "# Count true and false results\n",
    "true_count_b109 = df_109['Neutrality'].sum()\n",
    "false_count_b109 = len(df_109) - true_count_b109\n",
    "print(f\"Number of neutral formulas: {true_count_b109}\")\n",
    "print(f\"Number of non-neutral formulas: {false_count_b109}\")\n",
    "\n",
    "# Store the formulas with true results in a new CSV file\n",
    "df_true = df_109[df_109['Neutrality']]\n",
    "df_true.to_csv(\"../../data/d3_validity_check/valid_formulas.csv\", mode='a', header=False, index=False)"
   ]
  },
  {
   "cell_type": "code",
   "execution_count": 12,
   "metadata": {},
   "outputs": [
    {
     "name": "stdout",
     "output_type": "stream",
     "text": [
      "BATCH 110: \n",
      "Total Formulas:  500\n",
      "Number of neutral formulas: 205\n",
      "Number of non-neutral formulas: 295\n"
     ]
    },
    {
     "name": "stderr",
     "output_type": "stream",
     "text": [
      "C:\\Users\\aaayu\\AppData\\Local\\Temp\\ipykernel_7704\\4294711813.py:5: SettingWithCopyWarning: \n",
      "A value is trying to be set on a copy of a slice from a DataFrame.\n",
      "Try using .loc[row_indexer,col_indexer] = value instead\n",
      "\n",
      "See the caveats in the documentation: https://pandas.pydata.org/pandas-docs/stable/user_guide/indexing.html#returning-a-view-versus-a-copy\n",
      "  df_110['Neutrality'] = df_110['Formula'].apply(check_neutrality)\n"
     ]
    }
   ],
   "source": [
    "# Select the next formulas\n",
    "df_110 = df.iloc[54000:54500]\n",
    "    \n",
    "# Apply the neutrality check\n",
    "df_110['Neutrality'] = df_110['Formula'].apply(check_neutrality)\n",
    "print(\"BATCH 110: \")\n",
    "print(\"Total Formulas: \", len(df_110))\n",
    "# Count true and false results\n",
    "true_count_b110 = df_110['Neutrality'].sum()\n",
    "false_count_b110 = len(df_110) - true_count_b110\n",
    "print(f\"Number of neutral formulas: {true_count_b110}\")\n",
    "print(f\"Number of non-neutral formulas: {false_count_b110}\")\n",
    "\n",
    "# Store the formulas with true results in a new CSV file\n",
    "df_true = df_110[df_110['Neutrality']]\n",
    "df_true.to_csv(\"../../data/d3_validity_check/valid_formulas.csv\", mode='a', header=False, index=False)"
   ]
  },
  {
   "cell_type": "code",
   "execution_count": 13,
   "metadata": {},
   "outputs": [
    {
     "name": "stdout",
     "output_type": "stream",
     "text": [
      "BATCH 111: \n",
      "Total Formulas:  500\n",
      "Number of neutral formulas: 172\n",
      "Number of non-neutral formulas: 328\n"
     ]
    },
    {
     "name": "stderr",
     "output_type": "stream",
     "text": [
      "C:\\Users\\aaayu\\AppData\\Local\\Temp\\ipykernel_7704\\1799546804.py:5: SettingWithCopyWarning: \n",
      "A value is trying to be set on a copy of a slice from a DataFrame.\n",
      "Try using .loc[row_indexer,col_indexer] = value instead\n",
      "\n",
      "See the caveats in the documentation: https://pandas.pydata.org/pandas-docs/stable/user_guide/indexing.html#returning-a-view-versus-a-copy\n",
      "  df_111['Neutrality'] = df_111['Formula'].apply(check_neutrality)\n"
     ]
    }
   ],
   "source": [
    "# Select the next formulas\n",
    "df_111 = df.iloc[54500:55000]\n",
    "    \n",
    "# Apply the neutrality check\n",
    "df_111['Neutrality'] = df_111['Formula'].apply(check_neutrality)\n",
    "print(\"BATCH 111: \")\n",
    "print(\"Total Formulas: \", len(df_111))\n",
    "# Count true and false results\n",
    "true_count_b111 = df_111['Neutrality'].sum()\n",
    "false_count_b111 = len(df_111) - true_count_b111\n",
    "print(f\"Number of neutral formulas: {true_count_b111}\")\n",
    "print(f\"Number of non-neutral formulas: {false_count_b111}\")\n",
    "\n",
    "# Store the formulas with true results in a new CSV file\n",
    "df_true = df_111[df_111['Neutrality']]\n",
    "df_true.to_csv(\"../../data/d3_validity_check/valid_formulas.csv\", mode='a', header=False, index=False)"
   ]
  },
  {
   "cell_type": "code",
   "execution_count": 14,
   "metadata": {},
   "outputs": [
    {
     "name": "stdout",
     "output_type": "stream",
     "text": [
      "BATCH 112: \n",
      "Total Formulas:  500\n",
      "Number of neutral formulas: 193\n",
      "Number of non-neutral formulas: 307\n"
     ]
    },
    {
     "name": "stderr",
     "output_type": "stream",
     "text": [
      "C:\\Users\\aaayu\\AppData\\Local\\Temp\\ipykernel_7704\\4096456137.py:5: SettingWithCopyWarning: \n",
      "A value is trying to be set on a copy of a slice from a DataFrame.\n",
      "Try using .loc[row_indexer,col_indexer] = value instead\n",
      "\n",
      "See the caveats in the documentation: https://pandas.pydata.org/pandas-docs/stable/user_guide/indexing.html#returning-a-view-versus-a-copy\n",
      "  df_112['Neutrality'] = df_112['Formula'].apply(check_neutrality)\n"
     ]
    }
   ],
   "source": [
    "# Select the next formulas\n",
    "df_112 = df.iloc[55000:55500]\n",
    "    \n",
    "# Apply the neutrality check\n",
    "df_112['Neutrality'] = df_112['Formula'].apply(check_neutrality)\n",
    "print(\"BATCH 112: \")\n",
    "print(\"Total Formulas: \", len(df_112))\n",
    "# Count true and false results\n",
    "true_count_b112 = df_112['Neutrality'].sum()\n",
    "false_count_b112 = len(df_112) - true_count_b112\n",
    "print(f\"Number of neutral formulas: {true_count_b112}\")\n",
    "print(f\"Number of non-neutral formulas: {false_count_b112}\")\n",
    "\n",
    "# Store the formulas with true results in a new CSV file\n",
    "df_true = df_112[df_112['Neutrality']]\n",
    "df_true.to_csv(\"../../data/d3_validity_check/valid_formulas.csv\", mode='a', header=False, index=False)"
   ]
  },
  {
   "cell_type": "code",
   "execution_count": 15,
   "metadata": {},
   "outputs": [
    {
     "name": "stdout",
     "output_type": "stream",
     "text": [
      "BATCH 113: \n",
      "Total Formulas:  500\n",
      "Number of neutral formulas: 188\n",
      "Number of non-neutral formulas: 312\n"
     ]
    },
    {
     "name": "stderr",
     "output_type": "stream",
     "text": [
      "C:\\Users\\aaayu\\AppData\\Local\\Temp\\ipykernel_7704\\2344230153.py:5: SettingWithCopyWarning: \n",
      "A value is trying to be set on a copy of a slice from a DataFrame.\n",
      "Try using .loc[row_indexer,col_indexer] = value instead\n",
      "\n",
      "See the caveats in the documentation: https://pandas.pydata.org/pandas-docs/stable/user_guide/indexing.html#returning-a-view-versus-a-copy\n",
      "  df_113['Neutrality'] = df_113['Formula'].apply(check_neutrality)\n"
     ]
    }
   ],
   "source": [
    "# Select the next formulas\n",
    "df_113 = df.iloc[55500:56000]\n",
    "    \n",
    "# Apply the neutrality check\n",
    "df_113['Neutrality'] = df_113['Formula'].apply(check_neutrality)\n",
    "print(\"BATCH 113: \")\n",
    "print(\"Total Formulas: \", len(df_113))\n",
    "# Count true and false results\n",
    "true_count_b113 = df_113['Neutrality'].sum()\n",
    "false_count_b113 = len(df_113) - true_count_b113\n",
    "print(f\"Number of neutral formulas: {true_count_b113}\")\n",
    "print(f\"Number of non-neutral formulas: {false_count_b113}\")\n",
    "\n",
    "# Store the formulas with true results in a new CSV file\n",
    "df_true = df_113[df_113['Neutrality']]\n",
    "df_true.to_csv(\"../../data/d3_validity_check/valid_formulas.csv\", mode='a', header=False, index=False)"
   ]
  },
  {
   "cell_type": "code",
   "execution_count": 16,
   "metadata": {},
   "outputs": [
    {
     "name": "stdout",
     "output_type": "stream",
     "text": [
      "BATCH 114: \n",
      "Total Formulas:  500\n",
      "Number of neutral formulas: 181\n",
      "Number of non-neutral formulas: 319\n"
     ]
    },
    {
     "name": "stderr",
     "output_type": "stream",
     "text": [
      "C:\\Users\\aaayu\\AppData\\Local\\Temp\\ipykernel_7704\\380556700.py:5: SettingWithCopyWarning: \n",
      "A value is trying to be set on a copy of a slice from a DataFrame.\n",
      "Try using .loc[row_indexer,col_indexer] = value instead\n",
      "\n",
      "See the caveats in the documentation: https://pandas.pydata.org/pandas-docs/stable/user_guide/indexing.html#returning-a-view-versus-a-copy\n",
      "  df_114['Neutrality'] = df_114['Formula'].apply(check_neutrality)\n"
     ]
    }
   ],
   "source": [
    "# Select the next formulas\n",
    "df_114 = df.iloc[56000:56500]\n",
    "    \n",
    "# Apply the neutrality check\n",
    "df_114['Neutrality'] = df_114['Formula'].apply(check_neutrality)\n",
    "print(\"BATCH 114: \")\n",
    "print(\"Total Formulas: \", len(df_114))\n",
    "# Count true and false results\n",
    "true_count_b114 = df_114['Neutrality'].sum()\n",
    "false_count_b114 = len(df_114) - true_count_b114\n",
    "print(f\"Number of neutral formulas: {true_count_b114}\")\n",
    "print(f\"Number of non-neutral formulas: {false_count_b114}\")\n",
    "\n",
    "# Store the formulas with true results in a new CSV file\n",
    "df_true = df_114[df_114['Neutrality']]\n",
    "df_true.to_csv(\"../../data/d3_validity_check/valid_formulas.csv\", mode='a', header=False, index=False)"
   ]
  },
  {
   "cell_type": "code",
   "execution_count": 17,
   "metadata": {},
   "outputs": [
    {
     "name": "stdout",
     "output_type": "stream",
     "text": [
      "BATCH 115: \n",
      "Total Formulas:  500\n",
      "Number of neutral formulas: 201\n",
      "Number of non-neutral formulas: 299\n"
     ]
    },
    {
     "name": "stderr",
     "output_type": "stream",
     "text": [
      "C:\\Users\\aaayu\\AppData\\Local\\Temp\\ipykernel_7704\\1289639441.py:5: SettingWithCopyWarning: \n",
      "A value is trying to be set on a copy of a slice from a DataFrame.\n",
      "Try using .loc[row_indexer,col_indexer] = value instead\n",
      "\n",
      "See the caveats in the documentation: https://pandas.pydata.org/pandas-docs/stable/user_guide/indexing.html#returning-a-view-versus-a-copy\n",
      "  df_115['Neutrality'] = df_115['Formula'].apply(check_neutrality)\n"
     ]
    }
   ],
   "source": [
    "# Select the next formulas\n",
    "df_115 = df.iloc[56500:57000]\n",
    "    \n",
    "# Apply the neutrality check\n",
    "df_115['Neutrality'] = df_115['Formula'].apply(check_neutrality)\n",
    "print(\"BATCH 115: \")\n",
    "print(\"Total Formulas: \", len(df_115))\n",
    "# Count true and false results\n",
    "true_count_b115 = df_115['Neutrality'].sum()\n",
    "false_count_b115 = len(df_115) - true_count_b115\n",
    "print(f\"Number of neutral formulas: {true_count_b115}\")\n",
    "print(f\"Number of non-neutral formulas: {false_count_b115}\")\n",
    "\n",
    "# Store the formulas with true results in a new CSV file\n",
    "df_true = df_115[df_115['Neutrality']]\n",
    "df_true.to_csv(\"../../data/d3_validity_check/valid_formulas.csv\", mode='a', header=False, index=False)"
   ]
  },
  {
   "cell_type": "code",
   "execution_count": 18,
   "metadata": {},
   "outputs": [
    {
     "name": "stdout",
     "output_type": "stream",
     "text": [
      "BATCH 116: \n",
      "Total Formulas:  500\n",
      "Number of neutral formulas: 187\n",
      "Number of non-neutral formulas: 313\n"
     ]
    },
    {
     "name": "stderr",
     "output_type": "stream",
     "text": [
      "C:\\Users\\aaayu\\AppData\\Local\\Temp\\ipykernel_7704\\1037016247.py:5: SettingWithCopyWarning: \n",
      "A value is trying to be set on a copy of a slice from a DataFrame.\n",
      "Try using .loc[row_indexer,col_indexer] = value instead\n",
      "\n",
      "See the caveats in the documentation: https://pandas.pydata.org/pandas-docs/stable/user_guide/indexing.html#returning-a-view-versus-a-copy\n",
      "  df_116['Neutrality'] = df_116['Formula'].apply(check_neutrality)\n"
     ]
    }
   ],
   "source": [
    "# Select the next formulas\n",
    "df_116 = df.iloc[57000:57500]\n",
    "    \n",
    "# Apply the neutrality check\n",
    "df_116['Neutrality'] = df_116['Formula'].apply(check_neutrality)\n",
    "print(\"BATCH 116: \")\n",
    "print(\"Total Formulas: \", len(df_116))\n",
    "# Count true and false results\n",
    "true_count_b116 = df_116['Neutrality'].sum()\n",
    "false_count_b116 = len(df_116) - true_count_b116\n",
    "print(f\"Number of neutral formulas: {true_count_b116}\")\n",
    "print(f\"Number of non-neutral formulas: {false_count_b116}\")\n",
    "\n",
    "# Store the formulas with true results in a new CSV file\n",
    "df_true = df_116[df_116['Neutrality']]\n",
    "df_true.to_csv(\"../../data/d3_validity_check/valid_formulas.csv\", mode='a', header=False, index=False)"
   ]
  },
  {
   "cell_type": "code",
   "execution_count": 19,
   "metadata": {},
   "outputs": [
    {
     "name": "stdout",
     "output_type": "stream",
     "text": [
      "BATCH 117: \n",
      "Total Formulas:  500\n",
      "Number of neutral formulas: 178\n",
      "Number of non-neutral formulas: 322\n"
     ]
    },
    {
     "name": "stderr",
     "output_type": "stream",
     "text": [
      "C:\\Users\\aaayu\\AppData\\Local\\Temp\\ipykernel_7704\\309532373.py:5: SettingWithCopyWarning: \n",
      "A value is trying to be set on a copy of a slice from a DataFrame.\n",
      "Try using .loc[row_indexer,col_indexer] = value instead\n",
      "\n",
      "See the caveats in the documentation: https://pandas.pydata.org/pandas-docs/stable/user_guide/indexing.html#returning-a-view-versus-a-copy\n",
      "  df_117['Neutrality'] = df_117['Formula'].apply(check_neutrality)\n"
     ]
    }
   ],
   "source": [
    "# Select the next formulas\n",
    "df_117 = df.iloc[57500:58000]\n",
    "    \n",
    "# Apply the neutrality check\n",
    "df_117['Neutrality'] = df_117['Formula'].apply(check_neutrality)\n",
    "print(\"BATCH 117: \")\n",
    "print(\"Total Formulas: \", len(df_117))\n",
    "# Count true and false results\n",
    "true_count_b117 = df_117['Neutrality'].sum()\n",
    "false_count_b117 = len(df_117) - true_count_b117\n",
    "print(f\"Number of neutral formulas: {true_count_b117}\")\n",
    "print(f\"Number of non-neutral formulas: {false_count_b117}\")\n",
    "\n",
    "# Store the formulas with true results in a new CSV file\n",
    "df_true = df_117[df_117['Neutrality']]\n",
    "df_true.to_csv(\"../../data/d3_validity_check/valid_formulas.csv\", mode='a', header=False, index=False)"
   ]
  },
  {
   "cell_type": "code",
   "execution_count": 20,
   "metadata": {},
   "outputs": [
    {
     "name": "stdout",
     "output_type": "stream",
     "text": [
      "BATCH 118: \n",
      "Total Formulas:  500\n",
      "Number of neutral formulas: 187\n",
      "Number of non-neutral formulas: 313\n"
     ]
    },
    {
     "name": "stderr",
     "output_type": "stream",
     "text": [
      "C:\\Users\\aaayu\\AppData\\Local\\Temp\\ipykernel_7704\\4148615260.py:5: SettingWithCopyWarning: \n",
      "A value is trying to be set on a copy of a slice from a DataFrame.\n",
      "Try using .loc[row_indexer,col_indexer] = value instead\n",
      "\n",
      "See the caveats in the documentation: https://pandas.pydata.org/pandas-docs/stable/user_guide/indexing.html#returning-a-view-versus-a-copy\n",
      "  df_118['Neutrality'] = df_118['Formula'].apply(check_neutrality)\n"
     ]
    }
   ],
   "source": [
    "# Select the next formulas\n",
    "df_118 = df.iloc[58000:58500]\n",
    "    \n",
    "# Apply the neutrality check\n",
    "df_118['Neutrality'] = df_118['Formula'].apply(check_neutrality)\n",
    "print(\"BATCH 118: \")\n",
    "print(\"Total Formulas: \", len(df_118))\n",
    "# Count true and false results\n",
    "true_count_b118 = df_118['Neutrality'].sum()\n",
    "false_count_b118 = len(df_118) - true_count_b118\n",
    "print(f\"Number of neutral formulas: {true_count_b118}\")\n",
    "print(f\"Number of non-neutral formulas: {false_count_b118}\")\n",
    "\n",
    "# Store the formulas with true results in a new CSV file\n",
    "df_true = df_118[df_118['Neutrality']]\n",
    "df_true.to_csv(\"../../data/d3_validity_check/valid_formulas.csv\", mode='a', header=False, index=False)"
   ]
  },
  {
   "cell_type": "code",
   "execution_count": 21,
   "metadata": {},
   "outputs": [
    {
     "name": "stdout",
     "output_type": "stream",
     "text": [
      "BATCH 119: \n",
      "Total Formulas:  500\n",
      "Number of neutral formulas: 208\n",
      "Number of non-neutral formulas: 292\n"
     ]
    },
    {
     "name": "stderr",
     "output_type": "stream",
     "text": [
      "C:\\Users\\aaayu\\AppData\\Local\\Temp\\ipykernel_7704\\2427974895.py:5: SettingWithCopyWarning: \n",
      "A value is trying to be set on a copy of a slice from a DataFrame.\n",
      "Try using .loc[row_indexer,col_indexer] = value instead\n",
      "\n",
      "See the caveats in the documentation: https://pandas.pydata.org/pandas-docs/stable/user_guide/indexing.html#returning-a-view-versus-a-copy\n",
      "  df_119['Neutrality'] = df_119['Formula'].apply(check_neutrality)\n"
     ]
    }
   ],
   "source": [
    "# Select the next formulas\n",
    "df_119 = df.iloc[58500:59000]\n",
    "    \n",
    "# Apply the neutrality check\n",
    "df_119['Neutrality'] = df_119['Formula'].apply(check_neutrality)\n",
    "print(\"BATCH 119: \")\n",
    "print(\"Total Formulas: \", len(df_119))\n",
    "# Count true and false results\n",
    "true_count_b119 = df_119['Neutrality'].sum()\n",
    "false_count_b119 = len(df_119) - true_count_b119\n",
    "print(f\"Number of neutral formulas: {true_count_b119}\")\n",
    "print(f\"Number of non-neutral formulas: {false_count_b119}\")\n",
    "\n",
    "# Store the formulas with true results in a new CSV file\n",
    "df_true = df_119[df_119['Neutrality']]\n",
    "df_true.to_csv(\"../../data/d3_validity_check/valid_formulas.csv\", mode='a', header=False, index=False)"
   ]
  },
  {
   "cell_type": "code",
   "execution_count": 22,
   "metadata": {},
   "outputs": [
    {
     "name": "stdout",
     "output_type": "stream",
     "text": [
      "BATCH 120: \n",
      "Total Formulas:  500\n",
      "Number of neutral formulas: 174\n",
      "Number of non-neutral formulas: 326\n"
     ]
    },
    {
     "name": "stderr",
     "output_type": "stream",
     "text": [
      "C:\\Users\\aaayu\\AppData\\Local\\Temp\\ipykernel_7704\\3682786617.py:5: SettingWithCopyWarning: \n",
      "A value is trying to be set on a copy of a slice from a DataFrame.\n",
      "Try using .loc[row_indexer,col_indexer] = value instead\n",
      "\n",
      "See the caveats in the documentation: https://pandas.pydata.org/pandas-docs/stable/user_guide/indexing.html#returning-a-view-versus-a-copy\n",
      "  df_120['Neutrality'] = df_120['Formula'].apply(check_neutrality)\n"
     ]
    }
   ],
   "source": [
    "# Select the next formulas\n",
    "df_120 = df.iloc[59000:59500]\n",
    "    \n",
    "# Apply the neutrality check\n",
    "df_120['Neutrality'] = df_120['Formula'].apply(check_neutrality)\n",
    "print(\"BATCH 120: \")\n",
    "print(\"Total Formulas: \", len(df_120))\n",
    "# Count true and false results\n",
    "true_count_b120 = df_120['Neutrality'].sum()\n",
    "false_count_b120 = len(df_120) - true_count_b120\n",
    "print(f\"Number of neutral formulas: {true_count_b120}\")\n",
    "print(f\"Number of non-neutral formulas: {false_count_b120}\")\n",
    "\n",
    "# Store the formulas with true results in a new CSV file\n",
    "df_true = df_120[df_120['Neutrality']]\n",
    "df_true.to_csv(\"../../data/d3_validity_check/valid_formulas.csv\", mode='a', header=False, index=False)"
   ]
  },
  {
   "cell_type": "code",
   "execution_count": 23,
   "metadata": {},
   "outputs": [
    {
     "name": "stdout",
     "output_type": "stream",
     "text": [
      "BATCH 121: \n",
      "Total Formulas:  500\n",
      "Number of neutral formulas: 160\n",
      "Number of non-neutral formulas: 340\n"
     ]
    },
    {
     "name": "stderr",
     "output_type": "stream",
     "text": [
      "C:\\Users\\aaayu\\AppData\\Local\\Temp\\ipykernel_7704\\1487816683.py:5: SettingWithCopyWarning: \n",
      "A value is trying to be set on a copy of a slice from a DataFrame.\n",
      "Try using .loc[row_indexer,col_indexer] = value instead\n",
      "\n",
      "See the caveats in the documentation: https://pandas.pydata.org/pandas-docs/stable/user_guide/indexing.html#returning-a-view-versus-a-copy\n",
      "  df_121['Neutrality'] = df_121['Formula'].apply(check_neutrality)\n"
     ]
    }
   ],
   "source": [
    "# Select the next formulas\n",
    "df_121 = df.iloc[59500:60000]\n",
    "    \n",
    "# Apply the neutrality check\n",
    "df_121['Neutrality'] = df_121['Formula'].apply(check_neutrality)\n",
    "print(\"BATCH 121: \")\n",
    "print(\"Total Formulas: \", len(df_121))\n",
    "# Count true and false results\n",
    "true_count_b121 = df_121['Neutrality'].sum()\n",
    "false_count_b121 = len(df_121) - true_count_b121\n",
    "print(f\"Number of neutral formulas: {true_count_b121}\")\n",
    "print(f\"Number of non-neutral formulas: {false_count_b121}\")\n",
    "\n",
    "# Store the formulas with true results in a new CSV file\n",
    "df_true = df_121[df_121['Neutrality']]\n",
    "df_true.to_csv(\"../../data/d3_validity_check/valid_formulas.csv\", mode='a', header=False, index=False)"
   ]
  },
  {
   "cell_type": "code",
   "execution_count": 24,
   "metadata": {},
   "outputs": [
    {
     "name": "stdout",
     "output_type": "stream",
     "text": [
      "BATCH 122: \n",
      "Total Formulas:  500\n",
      "Number of neutral formulas: 176\n",
      "Number of non-neutral formulas: 324\n"
     ]
    },
    {
     "name": "stderr",
     "output_type": "stream",
     "text": [
      "C:\\Users\\aaayu\\AppData\\Local\\Temp\\ipykernel_7704\\3639647547.py:5: SettingWithCopyWarning: \n",
      "A value is trying to be set on a copy of a slice from a DataFrame.\n",
      "Try using .loc[row_indexer,col_indexer] = value instead\n",
      "\n",
      "See the caveats in the documentation: https://pandas.pydata.org/pandas-docs/stable/user_guide/indexing.html#returning-a-view-versus-a-copy\n",
      "  df_122['Neutrality'] = df_122['Formula'].apply(check_neutrality)\n"
     ]
    }
   ],
   "source": [
    "# Select the next formulas\n",
    "df_122 = df.iloc[60000:60500]\n",
    "    \n",
    "# Apply the neutrality check\n",
    "df_122['Neutrality'] = df_122['Formula'].apply(check_neutrality)\n",
    "print(\"BATCH 122: \")\n",
    "print(\"Total Formulas: \", len(df_122))\n",
    "# Count true and false results\n",
    "true_count_b122 = df_122['Neutrality'].sum()\n",
    "false_count_b122 = len(df_122) - true_count_b122\n",
    "print(f\"Number of neutral formulas: {true_count_b122}\")\n",
    "print(f\"Number of non-neutral formulas: {false_count_b122}\")\n",
    "\n",
    "# Store the formulas with true results in a new CSV file\n",
    "df_true = df_122[df_122['Neutrality']]\n",
    "df_true.to_csv(\"../../data/d3_validity_check/valid_formulas.csv\", mode='a', header=False, index=False)"
   ]
  },
  {
   "cell_type": "code",
   "execution_count": 25,
   "metadata": {},
   "outputs": [
    {
     "name": "stdout",
     "output_type": "stream",
     "text": [
      "BATCH 123: \n",
      "Total Formulas:  500\n",
      "Number of neutral formulas: 178\n",
      "Number of non-neutral formulas: 322\n"
     ]
    },
    {
     "name": "stderr",
     "output_type": "stream",
     "text": [
      "C:\\Users\\aaayu\\AppData\\Local\\Temp\\ipykernel_7704\\506483991.py:5: SettingWithCopyWarning: \n",
      "A value is trying to be set on a copy of a slice from a DataFrame.\n",
      "Try using .loc[row_indexer,col_indexer] = value instead\n",
      "\n",
      "See the caveats in the documentation: https://pandas.pydata.org/pandas-docs/stable/user_guide/indexing.html#returning-a-view-versus-a-copy\n",
      "  df_123['Neutrality'] = df_123['Formula'].apply(check_neutrality)\n"
     ]
    }
   ],
   "source": [
    "# Select the next formulas\n",
    "df_123 = df.iloc[60500:61000]\n",
    "    \n",
    "# Apply the neutrality check\n",
    "df_123['Neutrality'] = df_123['Formula'].apply(check_neutrality)\n",
    "print(\"BATCH 123: \")\n",
    "print(\"Total Formulas: \", len(df_123))\n",
    "# Count true and false results\n",
    "true_count_b123 = df_123['Neutrality'].sum()\n",
    "false_count_b123 = len(df_123) - true_count_b123\n",
    "print(f\"Number of neutral formulas: {true_count_b123}\")\n",
    "print(f\"Number of non-neutral formulas: {false_count_b123}\")\n",
    "\n",
    "# Store the formulas with true results in a new CSV file\n",
    "df_true = df_123[df_123['Neutrality']]\n",
    "df_true.to_csv(\"../../data/d3_validity_check/valid_formulas.csv\", mode='a', header=False, index=False)"
   ]
  },
  {
   "cell_type": "code",
   "execution_count": 26,
   "metadata": {},
   "outputs": [
    {
     "name": "stdout",
     "output_type": "stream",
     "text": [
      "BATCH 124: \n",
      "Total Formulas:  500\n",
      "Number of neutral formulas: 178\n",
      "Number of non-neutral formulas: 322\n"
     ]
    },
    {
     "name": "stderr",
     "output_type": "stream",
     "text": [
      "C:\\Users\\aaayu\\AppData\\Local\\Temp\\ipykernel_7704\\749213690.py:5: SettingWithCopyWarning: \n",
      "A value is trying to be set on a copy of a slice from a DataFrame.\n",
      "Try using .loc[row_indexer,col_indexer] = value instead\n",
      "\n",
      "See the caveats in the documentation: https://pandas.pydata.org/pandas-docs/stable/user_guide/indexing.html#returning-a-view-versus-a-copy\n",
      "  df_124['Neutrality'] = df_124['Formula'].apply(check_neutrality)\n"
     ]
    }
   ],
   "source": [
    "# Select the next formulas\n",
    "df_124 = df.iloc[61000:61500]\n",
    "    \n",
    "# Apply the neutrality check\n",
    "df_124['Neutrality'] = df_124['Formula'].apply(check_neutrality)\n",
    "print(\"BATCH 124: \")\n",
    "print(\"Total Formulas: \", len(df_124))\n",
    "# Count true and false results\n",
    "true_count_b124 = df_124['Neutrality'].sum()\n",
    "false_count_b124 = len(df_124) - true_count_b124\n",
    "print(f\"Number of neutral formulas: {true_count_b124}\")\n",
    "print(f\"Number of non-neutral formulas: {false_count_b124}\")\n",
    "\n",
    "# Store the formulas with true results in a new CSV file\n",
    "df_true = df_124[df_124['Neutrality']]\n",
    "df_true.to_csv(\"../../data/d3_validity_check/valid_formulas.csv\", mode='a', header=False, index=False)"
   ]
  },
  {
   "cell_type": "code",
   "execution_count": 27,
   "metadata": {},
   "outputs": [
    {
     "name": "stdout",
     "output_type": "stream",
     "text": [
      "BATCH 125: \n",
      "Total Formulas:  500\n",
      "Number of neutral formulas: 197\n",
      "Number of non-neutral formulas: 303\n"
     ]
    },
    {
     "name": "stderr",
     "output_type": "stream",
     "text": [
      "C:\\Users\\aaayu\\AppData\\Local\\Temp\\ipykernel_7704\\1761874410.py:5: SettingWithCopyWarning: \n",
      "A value is trying to be set on a copy of a slice from a DataFrame.\n",
      "Try using .loc[row_indexer,col_indexer] = value instead\n",
      "\n",
      "See the caveats in the documentation: https://pandas.pydata.org/pandas-docs/stable/user_guide/indexing.html#returning-a-view-versus-a-copy\n",
      "  df_125['Neutrality'] = df_125['Formula'].apply(check_neutrality)\n"
     ]
    }
   ],
   "source": [
    "# Select the next formulas\n",
    "df_125 = df.iloc[61500:62000]\n",
    "    \n",
    "# Apply the neutrality check\n",
    "df_125['Neutrality'] = df_125['Formula'].apply(check_neutrality)\n",
    "print(\"BATCH 125: \")\n",
    "print(\"Total Formulas: \", len(df_125))\n",
    "# Count true and false results\n",
    "true_count_b125 = df_125['Neutrality'].sum()\n",
    "false_count_b125 = len(df_125) - true_count_b125\n",
    "print(f\"Number of neutral formulas: {true_count_b125}\")\n",
    "print(f\"Number of non-neutral formulas: {false_count_b125}\")\n",
    "\n",
    "# Store the formulas with true results in a new CSV file\n",
    "df_true = df_125[df_125['Neutrality']]\n",
    "df_true.to_csv(\"../../data/d3_validity_check/valid_formulas.csv\", mode='a', header=False, index=False)"
   ]
  },
  {
   "cell_type": "code",
   "execution_count": 28,
   "metadata": {},
   "outputs": [
    {
     "name": "stdout",
     "output_type": "stream",
     "text": [
      "BATCH 126: \n",
      "Total Formulas:  500\n",
      "Number of neutral formulas: 182\n",
      "Number of non-neutral formulas: 318\n"
     ]
    },
    {
     "name": "stderr",
     "output_type": "stream",
     "text": [
      "C:\\Users\\aaayu\\AppData\\Local\\Temp\\ipykernel_7704\\3104631164.py:5: SettingWithCopyWarning: \n",
      "A value is trying to be set on a copy of a slice from a DataFrame.\n",
      "Try using .loc[row_indexer,col_indexer] = value instead\n",
      "\n",
      "See the caveats in the documentation: https://pandas.pydata.org/pandas-docs/stable/user_guide/indexing.html#returning-a-view-versus-a-copy\n",
      "  df_126['Neutrality'] = df_126['Formula'].apply(check_neutrality)\n"
     ]
    }
   ],
   "source": [
    "# Select the next formulas\n",
    "df_126 = df.iloc[62000:62500]\n",
    "    \n",
    "# Apply the neutrality check\n",
    "df_126['Neutrality'] = df_126['Formula'].apply(check_neutrality)\n",
    "print(\"BATCH 126: \")\n",
    "print(\"Total Formulas: \", len(df_126))\n",
    "# Count true and false results\n",
    "true_count_b126 = df_126['Neutrality'].sum()\n",
    "false_count_b126 = len(df_126) - true_count_b126\n",
    "print(f\"Number of neutral formulas: {true_count_b126}\")\n",
    "print(f\"Number of non-neutral formulas: {false_count_b126}\")\n",
    "\n",
    "# Store the formulas with true results in a new CSV file\n",
    "df_true = df_126[df_126['Neutrality']]\n",
    "df_true.to_csv(\"../../data/d3_validity_check/valid_formulas.csv\", mode='a', header=False, index=False)"
   ]
  },
  {
   "cell_type": "code",
   "execution_count": 29,
   "metadata": {},
   "outputs": [
    {
     "name": "stderr",
     "output_type": "stream",
     "text": [
      "C:\\Users\\aaayu\\AppData\\Local\\Temp\\ipykernel_7704\\3690167928.py:5: SettingWithCopyWarning: \n",
      "A value is trying to be set on a copy of a slice from a DataFrame.\n",
      "Try using .loc[row_indexer,col_indexer] = value instead\n",
      "\n",
      "See the caveats in the documentation: https://pandas.pydata.org/pandas-docs/stable/user_guide/indexing.html#returning-a-view-versus-a-copy\n",
      "  df_127['Neutrality'] = df_127['Formula'].apply(check_neutrality)\n"
     ]
    },
    {
     "name": "stdout",
     "output_type": "stream",
     "text": [
      "BATCH 127: \n",
      "Total Formulas:  500\n",
      "Number of neutral formulas: 178\n",
      "Number of non-neutral formulas: 322\n"
     ]
    }
   ],
   "source": [
    "# Select the next formulas\n",
    "df_127 = df.iloc[62500:63000]\n",
    "    \n",
    "# Apply the neutrality check\n",
    "df_127['Neutrality'] = df_127['Formula'].apply(check_neutrality)\n",
    "print(\"BATCH 127: \")\n",
    "print(\"Total Formulas: \", len(df_127))\n",
    "# Count true and false results\n",
    "true_count_b127 = df_127['Neutrality'].sum()\n",
    "false_count_b127 = len(df_127) - true_count_b127\n",
    "print(f\"Number of neutral formulas: {true_count_b127}\")\n",
    "print(f\"Number of non-neutral formulas: {false_count_b127}\")\n",
    "\n",
    "# Store the formulas with true results in a new CSV file\n",
    "df_true = df_127[df_127['Neutrality']]\n",
    "df_true.to_csv(\"../../data/d3_validity_check/valid_formulas.csv\", mode='a', header=False, index=False)"
   ]
  },
  {
   "cell_type": "code",
   "execution_count": 30,
   "metadata": {},
   "outputs": [
    {
     "name": "stdout",
     "output_type": "stream",
     "text": [
      "BATCH 128: \n",
      "Total Formulas:  500\n",
      "Number of neutral formulas: 199\n",
      "Number of non-neutral formulas: 301\n"
     ]
    },
    {
     "name": "stderr",
     "output_type": "stream",
     "text": [
      "C:\\Users\\aaayu\\AppData\\Local\\Temp\\ipykernel_7704\\487175525.py:5: SettingWithCopyWarning: \n",
      "A value is trying to be set on a copy of a slice from a DataFrame.\n",
      "Try using .loc[row_indexer,col_indexer] = value instead\n",
      "\n",
      "See the caveats in the documentation: https://pandas.pydata.org/pandas-docs/stable/user_guide/indexing.html#returning-a-view-versus-a-copy\n",
      "  df_128['Neutrality'] = df_128['Formula'].apply(check_neutrality)\n"
     ]
    }
   ],
   "source": [
    "# Select the next formulas\n",
    "df_128 = df.iloc[63000:63500]\n",
    "    \n",
    "# Apply the neutrality check\n",
    "df_128['Neutrality'] = df_128['Formula'].apply(check_neutrality)\n",
    "print(\"BATCH 128: \")\n",
    "print(\"Total Formulas: \", len(df_128))\n",
    "# Count true and false results\n",
    "true_count_b128 = df_128['Neutrality'].sum()\n",
    "false_count_b128 = len(df_128) - true_count_b128\n",
    "print(f\"Number of neutral formulas: {true_count_b128}\")\n",
    "print(f\"Number of non-neutral formulas: {false_count_b128}\")\n",
    "\n",
    "# Store the formulas with true results in a new CSV file\n",
    "df_true = df_128[df_128['Neutrality']]\n",
    "df_true.to_csv(\"../../data/d3_validity_check/valid_formulas.csv\", mode='a', header=False, index=False)"
   ]
  },
  {
   "cell_type": "code",
   "execution_count": 31,
   "metadata": {},
   "outputs": [
    {
     "name": "stdout",
     "output_type": "stream",
     "text": [
      "BATCH 129: \n",
      "Total Formulas:  500\n",
      "Number of neutral formulas: 194\n",
      "Number of non-neutral formulas: 306\n"
     ]
    },
    {
     "name": "stderr",
     "output_type": "stream",
     "text": [
      "C:\\Users\\aaayu\\AppData\\Local\\Temp\\ipykernel_7704\\3953499881.py:5: SettingWithCopyWarning: \n",
      "A value is trying to be set on a copy of a slice from a DataFrame.\n",
      "Try using .loc[row_indexer,col_indexer] = value instead\n",
      "\n",
      "See the caveats in the documentation: https://pandas.pydata.org/pandas-docs/stable/user_guide/indexing.html#returning-a-view-versus-a-copy\n",
      "  df_129['Neutrality'] = df_129['Formula'].apply(check_neutrality)\n"
     ]
    }
   ],
   "source": [
    "# Select the next formulas\n",
    "df_129 = df.iloc[63500:64000]\n",
    "    \n",
    "# Apply the neutrality check\n",
    "df_129['Neutrality'] = df_129['Formula'].apply(check_neutrality)\n",
    "print(\"BATCH 129: \")\n",
    "print(\"Total Formulas: \", len(df_129))\n",
    "# Count true and false results\n",
    "true_count_b129 = df_129['Neutrality'].sum()\n",
    "false_count_b129 = len(df_129) - true_count_b129\n",
    "print(f\"Number of neutral formulas: {true_count_b129}\")\n",
    "print(f\"Number of non-neutral formulas: {false_count_b129}\")\n",
    "\n",
    "# Store the formulas with true results in a new CSV file\n",
    "df_true = df_129[df_129['Neutrality']]\n",
    "df_true.to_csv(\"../../data/d3_validity_check/valid_formulas.csv\", mode='a', header=False, index=False)"
   ]
  },
  {
   "cell_type": "code",
   "execution_count": 32,
   "metadata": {},
   "outputs": [
    {
     "name": "stdout",
     "output_type": "stream",
     "text": [
      "BATCH 130: \n",
      "Total Formulas:  500\n",
      "Number of neutral formulas: 179\n",
      "Number of non-neutral formulas: 321\n"
     ]
    },
    {
     "name": "stderr",
     "output_type": "stream",
     "text": [
      "C:\\Users\\aaayu\\AppData\\Local\\Temp\\ipykernel_7704\\2287711800.py:5: SettingWithCopyWarning: \n",
      "A value is trying to be set on a copy of a slice from a DataFrame.\n",
      "Try using .loc[row_indexer,col_indexer] = value instead\n",
      "\n",
      "See the caveats in the documentation: https://pandas.pydata.org/pandas-docs/stable/user_guide/indexing.html#returning-a-view-versus-a-copy\n",
      "  df_130['Neutrality'] = df_130['Formula'].apply(check_neutrality)\n"
     ]
    }
   ],
   "source": [
    "# Select the next formulas\n",
    "df_130 = df.iloc[64000:64500]\n",
    "    \n",
    "# Apply the neutrality check\n",
    "df_130['Neutrality'] = df_130['Formula'].apply(check_neutrality)\n",
    "print(\"BATCH 130: \")\n",
    "print(\"Total Formulas: \", len(df_130))\n",
    "# Count true and false results\n",
    "true_count_b130 = df_130['Neutrality'].sum()\n",
    "false_count_b130 = len(df_130) - true_count_b130\n",
    "print(f\"Number of neutral formulas: {true_count_b130}\")\n",
    "print(f\"Number of non-neutral formulas: {false_count_b130}\")\n",
    "\n",
    "# Store the formulas with true results in a new CSV file\n",
    "df_true = df_130[df_130['Neutrality']]\n",
    "df_true.to_csv(\"../../data/d3_validity_check/valid_formulas.csv\", mode='a', header=False, index=False)"
   ]
  },
  {
   "cell_type": "code",
   "execution_count": 33,
   "metadata": {},
   "outputs": [
    {
     "name": "stdout",
     "output_type": "stream",
     "text": [
      "BATCH 131: \n",
      "Total Formulas:  500\n",
      "Number of neutral formulas: 181\n",
      "Number of non-neutral formulas: 319\n"
     ]
    },
    {
     "name": "stderr",
     "output_type": "stream",
     "text": [
      "C:\\Users\\aaayu\\AppData\\Local\\Temp\\ipykernel_7704\\229257483.py:5: SettingWithCopyWarning: \n",
      "A value is trying to be set on a copy of a slice from a DataFrame.\n",
      "Try using .loc[row_indexer,col_indexer] = value instead\n",
      "\n",
      "See the caveats in the documentation: https://pandas.pydata.org/pandas-docs/stable/user_guide/indexing.html#returning-a-view-versus-a-copy\n",
      "  df_131['Neutrality'] = df_131['Formula'].apply(check_neutrality)\n"
     ]
    }
   ],
   "source": [
    "# Select the next formulas\n",
    "df_131 = df.iloc[64500:65000]\n",
    "    \n",
    "# Apply the neutrality check\n",
    "df_131['Neutrality'] = df_131['Formula'].apply(check_neutrality)\n",
    "print(\"BATCH 131: \")\n",
    "print(\"Total Formulas: \", len(df_131))\n",
    "# Count true and false results\n",
    "true_count_b131 = df_131['Neutrality'].sum()\n",
    "false_count_b131 = len(df_131) - true_count_b131\n",
    "print(f\"Number of neutral formulas: {true_count_b131}\")\n",
    "print(f\"Number of non-neutral formulas: {false_count_b131}\")\n",
    "\n",
    "# Store the formulas with true results in a new CSV file\n",
    "df_true = df_131[df_131['Neutrality']]\n",
    "df_true.to_csv(\"../../data/d3_validity_check/valid_formulas.csv\", mode='a', header=False, index=False)"
   ]
  },
  {
   "cell_type": "code",
   "execution_count": 34,
   "metadata": {},
   "outputs": [
    {
     "name": "stdout",
     "output_type": "stream",
     "text": [
      "BATCH 132: \n",
      "Total Formulas:  500\n",
      "Number of neutral formulas: 201\n",
      "Number of non-neutral formulas: 299\n"
     ]
    },
    {
     "name": "stderr",
     "output_type": "stream",
     "text": [
      "C:\\Users\\aaayu\\AppData\\Local\\Temp\\ipykernel_7704\\4285740075.py:5: SettingWithCopyWarning: \n",
      "A value is trying to be set on a copy of a slice from a DataFrame.\n",
      "Try using .loc[row_indexer,col_indexer] = value instead\n",
      "\n",
      "See the caveats in the documentation: https://pandas.pydata.org/pandas-docs/stable/user_guide/indexing.html#returning-a-view-versus-a-copy\n",
      "  df_132['Neutrality'] = df_132['Formula'].apply(check_neutrality)\n"
     ]
    }
   ],
   "source": [
    "# Select the next formulas\n",
    "df_132 = df.iloc[65000:65500]\n",
    "    \n",
    "# Apply the neutrality check\n",
    "df_132['Neutrality'] = df_132['Formula'].apply(check_neutrality)\n",
    "print(\"BATCH 132: \")\n",
    "print(\"Total Formulas: \", len(df_132))\n",
    "# Count true and false results\n",
    "true_count_b132 = df_132['Neutrality'].sum()\n",
    "false_count_b132 = len(df_132) - true_count_b132\n",
    "print(f\"Number of neutral formulas: {true_count_b132}\")\n",
    "print(f\"Number of non-neutral formulas: {false_count_b132}\")\n",
    "\n",
    "# Store the formulas with true results in a new CSV file\n",
    "df_true = df_132[df_132['Neutrality']]\n",
    "df_true.to_csv(\"../../data/d3_validity_check/valid_formulas.csv\", mode='a', header=False, index=False)"
   ]
  },
  {
   "cell_type": "code",
   "execution_count": 36,
   "metadata": {},
   "outputs": [
    {
     "name": "stdout",
     "output_type": "stream",
     "text": [
      "BATCH 133: \n",
      "Total Formulas:  500\n",
      "Number of neutral formulas: 193\n",
      "Number of non-neutral formulas: 307\n"
     ]
    },
    {
     "name": "stderr",
     "output_type": "stream",
     "text": [
      "C:\\Users\\aaayu\\AppData\\Local\\Temp\\ipykernel_7704\\2128000666.py:5: SettingWithCopyWarning: \n",
      "A value is trying to be set on a copy of a slice from a DataFrame.\n",
      "Try using .loc[row_indexer,col_indexer] = value instead\n",
      "\n",
      "See the caveats in the documentation: https://pandas.pydata.org/pandas-docs/stable/user_guide/indexing.html#returning-a-view-versus-a-copy\n",
      "  df_133['Neutrality'] = df_133['Formula'].apply(check_neutrality)\n"
     ]
    }
   ],
   "source": [
    "# Select the next formulas\n",
    "df_133 = df.iloc[65500:66000]\n",
    "    \n",
    "# Apply the neutrality check\n",
    "df_133['Neutrality'] = df_133['Formula'].apply(check_neutrality)\n",
    "print(\"BATCH 133: \")\n",
    "print(\"Total Formulas: \", len(df_133))\n",
    "# Count true and false results\n",
    "true_count_b133 = df_133['Neutrality'].sum()\n",
    "false_count_b133 = len(df_133) - true_count_b133\n",
    "print(f\"Number of neutral formulas: {true_count_b133}\")\n",
    "print(f\"Number of non-neutral formulas: {false_count_b133}\")\n",
    "\n",
    "# Store the formulas with true results in a new CSV file\n",
    "df_true = df_133[df_133['Neutrality']]\n",
    "df_true.to_csv(\"../../data/d3_validity_check/valid_formulas.csv\", mode='a', header=False, index=False)"
   ]
  },
  {
   "cell_type": "code",
   "execution_count": 37,
   "metadata": {},
   "outputs": [
    {
     "name": "stderr",
     "output_type": "stream",
     "text": [
      "C:\\Users\\aaayu\\AppData\\Local\\Temp\\ipykernel_7704\\3836926875.py:5: SettingWithCopyWarning: \n",
      "A value is trying to be set on a copy of a slice from a DataFrame.\n",
      "Try using .loc[row_indexer,col_indexer] = value instead\n",
      "\n",
      "See the caveats in the documentation: https://pandas.pydata.org/pandas-docs/stable/user_guide/indexing.html#returning-a-view-versus-a-copy\n",
      "  df_134['Neutrality'] = df_134['Formula'].apply(check_neutrality)\n"
     ]
    },
    {
     "name": "stdout",
     "output_type": "stream",
     "text": [
      "BATCH 134: \n",
      "Total Formulas:  500\n",
      "Number of neutral formulas: 194\n",
      "Number of non-neutral formulas: 306\n"
     ]
    }
   ],
   "source": [
    "# Select the next formulas\n",
    "df_134 = df.iloc[66000:66500]\n",
    "    \n",
    "# Apply the neutrality check\n",
    "df_134['Neutrality'] = df_134['Formula'].apply(check_neutrality)\n",
    "print(\"BATCH 134: \")\n",
    "print(\"Total Formulas: \", len(df_134))\n",
    "# Count true and false results\n",
    "true_count_b134 = df_134['Neutrality'].sum()\n",
    "false_count_b134 = len(df_134) - true_count_b134\n",
    "print(f\"Number of neutral formulas: {true_count_b134}\")\n",
    "print(f\"Number of non-neutral formulas: {false_count_b134}\")\n",
    "\n",
    "# Store the formulas with true results in a new CSV file\n",
    "df_true = df_134[df_134['Neutrality']]\n",
    "df_true.to_csv(\"../../data/d3_validity_check/valid_formulas.csv\", mode='a', header=False, index=False)"
   ]
  },
  {
   "cell_type": "code",
   "execution_count": 5,
   "metadata": {},
   "outputs": [
    {
     "name": "stderr",
     "output_type": "stream",
     "text": [
      "C:\\Users\\aaayu\\AppData\\Local\\Temp\\ipykernel_13180\\1815173393.py:5: SettingWithCopyWarning: \n",
      "A value is trying to be set on a copy of a slice from a DataFrame.\n",
      "Try using .loc[row_indexer,col_indexer] = value instead\n",
      "\n",
      "See the caveats in the documentation: https://pandas.pydata.org/pandas-docs/stable/user_guide/indexing.html#returning-a-view-versus-a-copy\n",
      "  df_135['Neutrality'] = df_135['Formula'].apply(check_neutrality)\n"
     ]
    },
    {
     "name": "stdout",
     "output_type": "stream",
     "text": [
      "BATCH 135: \n",
      "Total Formulas:  500\n",
      "Number of neutral formulas: 193\n",
      "Number of non-neutral formulas: 307\n"
     ]
    }
   ],
   "source": [
    "# Select the next formulas\n",
    "df_135 = df.iloc[66500:67000]\n",
    "    \n",
    "# Apply the neutrality check\n",
    "df_135['Neutrality'] = df_135['Formula'].apply(check_neutrality)\n",
    "print(\"BATCH 135: \")\n",
    "print(\"Total Formulas: \", len(df_135))\n",
    "# Count true and false results\n",
    "true_count_b135 = df_135['Neutrality'].sum()\n",
    "false_count_b135 = len(df_135) - true_count_b135\n",
    "print(f\"Number of neutral formulas: {true_count_b135}\")\n",
    "print(f\"Number of non-neutral formulas: {false_count_b135}\")\n",
    "\n",
    "# Store the formulas with true results in a new CSV file\n",
    "df_true = df_135[df_135['Neutrality']]\n",
    "df_true.to_csv(\"../../data/d3_validity_check/valid_formulas.csv\", mode='a', header=False, index=False)"
   ]
  },
  {
   "cell_type": "code",
   "execution_count": 6,
   "metadata": {},
   "outputs": [
    {
     "name": "stdout",
     "output_type": "stream",
     "text": [
      "BATCH 136: \n",
      "Total Formulas:  500\n",
      "Number of neutral formulas: 189\n",
      "Number of non-neutral formulas: 311\n"
     ]
    },
    {
     "name": "stderr",
     "output_type": "stream",
     "text": [
      "C:\\Users\\aaayu\\AppData\\Local\\Temp\\ipykernel_13180\\4272781755.py:5: SettingWithCopyWarning: \n",
      "A value is trying to be set on a copy of a slice from a DataFrame.\n",
      "Try using .loc[row_indexer,col_indexer] = value instead\n",
      "\n",
      "See the caveats in the documentation: https://pandas.pydata.org/pandas-docs/stable/user_guide/indexing.html#returning-a-view-versus-a-copy\n",
      "  df_136['Neutrality'] = df_136['Formula'].apply(check_neutrality)\n"
     ]
    }
   ],
   "source": [
    "# Select the next formulas\n",
    "df_136 = df.iloc[67000:67500]\n",
    "    \n",
    "# Apply the neutrality check\n",
    "df_136['Neutrality'] = df_136['Formula'].apply(check_neutrality)\n",
    "print(\"BATCH 136: \")\n",
    "print(\"Total Formulas: \", len(df_136))\n",
    "# Count true and false results\n",
    "true_count_b136 = df_136['Neutrality'].sum()\n",
    "false_count_b136 = len(df_136) - true_count_b136\n",
    "print(f\"Number of neutral formulas: {true_count_b136}\")\n",
    "print(f\"Number of non-neutral formulas: {false_count_b136}\")\n",
    "\n",
    "# Store the formulas with true results in a new CSV file\n",
    "df_true = df_136[df_136['Neutrality']]\n",
    "df_true.to_csv(\"../../data/d3_validity_check/valid_formulas.csv\", mode='a', header=False, index=False)"
   ]
  },
  {
   "cell_type": "code",
   "execution_count": 7,
   "metadata": {},
   "outputs": [
    {
     "name": "stdout",
     "output_type": "stream",
     "text": [
      "BATCH 137: \n",
      "Total Formulas:  500\n",
      "Number of neutral formulas: 190\n",
      "Number of non-neutral formulas: 310\n"
     ]
    },
    {
     "name": "stderr",
     "output_type": "stream",
     "text": [
      "C:\\Users\\aaayu\\AppData\\Local\\Temp\\ipykernel_13180\\4104415527.py:5: SettingWithCopyWarning: \n",
      "A value is trying to be set on a copy of a slice from a DataFrame.\n",
      "Try using .loc[row_indexer,col_indexer] = value instead\n",
      "\n",
      "See the caveats in the documentation: https://pandas.pydata.org/pandas-docs/stable/user_guide/indexing.html#returning-a-view-versus-a-copy\n",
      "  df_137['Neutrality'] = df_137['Formula'].apply(check_neutrality)\n"
     ]
    }
   ],
   "source": [
    "# Select the next formulas\n",
    "df_137 = df.iloc[67500:68000]\n",
    "    \n",
    "# Apply the neutrality check\n",
    "df_137['Neutrality'] = df_137['Formula'].apply(check_neutrality)\n",
    "print(\"BATCH 137: \")\n",
    "print(\"Total Formulas: \", len(df_137))\n",
    "# Count true and false results\n",
    "true_count_b137 = df_137['Neutrality'].sum()\n",
    "false_count_b137 = len(df_137) - true_count_b137\n",
    "print(f\"Number of neutral formulas: {true_count_b137}\")\n",
    "print(f\"Number of non-neutral formulas: {false_count_b137}\")\n",
    "\n",
    "# Store the formulas with true results in a new CSV file\n",
    "df_true = df_137[df_137['Neutrality']]\n",
    "df_true.to_csv(\"../../data/d3_validity_check/valid_formulas.csv\", mode='a', header=False, index=False)"
   ]
  },
  {
   "cell_type": "code",
   "execution_count": 8,
   "metadata": {},
   "outputs": [
    {
     "name": "stdout",
     "output_type": "stream",
     "text": [
      "BATCH 138: \n",
      "Total Formulas:  500\n",
      "Number of neutral formulas: 186\n",
      "Number of non-neutral formulas: 314\n"
     ]
    },
    {
     "name": "stderr",
     "output_type": "stream",
     "text": [
      "C:\\Users\\aaayu\\AppData\\Local\\Temp\\ipykernel_13180\\3050743988.py:5: SettingWithCopyWarning: \n",
      "A value is trying to be set on a copy of a slice from a DataFrame.\n",
      "Try using .loc[row_indexer,col_indexer] = value instead\n",
      "\n",
      "See the caveats in the documentation: https://pandas.pydata.org/pandas-docs/stable/user_guide/indexing.html#returning-a-view-versus-a-copy\n",
      "  df_138['Neutrality'] = df_138['Formula'].apply(check_neutrality)\n"
     ]
    }
   ],
   "source": [
    "# Select the next formulas\n",
    "df_138 = df.iloc[68000:68500]\n",
    "    \n",
    "# Apply the neutrality check\n",
    "df_138['Neutrality'] = df_138['Formula'].apply(check_neutrality)\n",
    "print(\"BATCH 138: \")\n",
    "print(\"Total Formulas: \", len(df_138))\n",
    "# Count true and false results\n",
    "true_count_b138 = df_138['Neutrality'].sum()\n",
    "false_count_b138 = len(df_138) - true_count_b138\n",
    "print(f\"Number of neutral formulas: {true_count_b138}\")\n",
    "print(f\"Number of non-neutral formulas: {false_count_b138}\")\n",
    "\n",
    "# Store the formulas with true results in a new CSV file\n",
    "df_true = df_138[df_138['Neutrality']]\n",
    "df_true.to_csv(\"../../data/d3_validity_check/valid_formulas.csv\", mode='a', header=False, index=False)"
   ]
  },
  {
   "cell_type": "code",
   "execution_count": 9,
   "metadata": {},
   "outputs": [
    {
     "name": "stdout",
     "output_type": "stream",
     "text": [
      "BATCH 139: \n",
      "Total Formulas:  500\n",
      "Number of neutral formulas: 183\n",
      "Number of non-neutral formulas: 317\n"
     ]
    },
    {
     "name": "stderr",
     "output_type": "stream",
     "text": [
      "C:\\Users\\aaayu\\AppData\\Local\\Temp\\ipykernel_13180\\456891664.py:5: SettingWithCopyWarning: \n",
      "A value is trying to be set on a copy of a slice from a DataFrame.\n",
      "Try using .loc[row_indexer,col_indexer] = value instead\n",
      "\n",
      "See the caveats in the documentation: https://pandas.pydata.org/pandas-docs/stable/user_guide/indexing.html#returning-a-view-versus-a-copy\n",
      "  df_139['Neutrality'] = df_139['Formula'].apply(check_neutrality)\n"
     ]
    }
   ],
   "source": [
    "# Select the next formulas\n",
    "df_139 = df.iloc[68500:69000]\n",
    "    \n",
    "# Apply the neutrality check\n",
    "df_139['Neutrality'] = df_139['Formula'].apply(check_neutrality)\n",
    "print(\"BATCH 139: \")\n",
    "print(\"Total Formulas: \", len(df_139))\n",
    "# Count true and false results\n",
    "true_count_b139 = df_139['Neutrality'].sum()\n",
    "false_count_b139 = len(df_139) - true_count_b139\n",
    "print(f\"Number of neutral formulas: {true_count_b139}\")\n",
    "print(f\"Number of non-neutral formulas: {false_count_b139}\")\n",
    "\n",
    "# Store the formulas with true results in a new CSV file\n",
    "df_true = df_139[df_139['Neutrality']]\n",
    "df_true.to_csv(\"../../data/d3_validity_check/valid_formulas.csv\", mode='a', header=False, index=False)"
   ]
  },
  {
   "cell_type": "code",
   "execution_count": 10,
   "metadata": {},
   "outputs": [
    {
     "name": "stdout",
     "output_type": "stream",
     "text": [
      "BATCH 140: \n",
      "Total Formulas:  500\n",
      "Number of neutral formulas: 188\n",
      "Number of non-neutral formulas: 312\n"
     ]
    },
    {
     "name": "stderr",
     "output_type": "stream",
     "text": [
      "C:\\Users\\aaayu\\AppData\\Local\\Temp\\ipykernel_13180\\369275262.py:5: SettingWithCopyWarning: \n",
      "A value is trying to be set on a copy of a slice from a DataFrame.\n",
      "Try using .loc[row_indexer,col_indexer] = value instead\n",
      "\n",
      "See the caveats in the documentation: https://pandas.pydata.org/pandas-docs/stable/user_guide/indexing.html#returning-a-view-versus-a-copy\n",
      "  df_140['Neutrality'] = df_140['Formula'].apply(check_neutrality)\n"
     ]
    }
   ],
   "source": [
    "# Select the next formulas\n",
    "df_140 = df.iloc[69000:69500]\n",
    "    \n",
    "# Apply the neutrality check\n",
    "df_140['Neutrality'] = df_140['Formula'].apply(check_neutrality)\n",
    "print(\"BATCH 140: \")\n",
    "print(\"Total Formulas: \", len(df_140))\n",
    "# Count true and false results\n",
    "true_count_b140 = df_140['Neutrality'].sum()\n",
    "false_count_b140 = len(df_140) - true_count_b140\n",
    "print(f\"Number of neutral formulas: {true_count_b140}\")\n",
    "print(f\"Number of non-neutral formulas: {false_count_b140}\")\n",
    "\n",
    "# Store the formulas with true results in a new CSV file\n",
    "df_true = df_140[df_140['Neutrality']]\n",
    "df_true.to_csv(\"../../data/d3_validity_check/valid_formulas.csv\", mode='a', header=False, index=False)"
   ]
  },
  {
   "cell_type": "code",
   "execution_count": 11,
   "metadata": {},
   "outputs": [
    {
     "name": "stdout",
     "output_type": "stream",
     "text": [
      "BATCH 141: \n",
      "Total Formulas:  1000\n",
      "Number of neutral formulas: 374\n",
      "Number of non-neutral formulas: 626\n"
     ]
    },
    {
     "name": "stderr",
     "output_type": "stream",
     "text": [
      "C:\\Users\\aaayu\\AppData\\Local\\Temp\\ipykernel_13180\\217196081.py:5: SettingWithCopyWarning: \n",
      "A value is trying to be set on a copy of a slice from a DataFrame.\n",
      "Try using .loc[row_indexer,col_indexer] = value instead\n",
      "\n",
      "See the caveats in the documentation: https://pandas.pydata.org/pandas-docs/stable/user_guide/indexing.html#returning-a-view-versus-a-copy\n",
      "  df_141['Neutrality'] = df_141['Formula'].apply(check_neutrality)\n"
     ]
    }
   ],
   "source": [
    "# Select the next formulas\n",
    "df_141 = df.iloc[69500:70500]\n",
    "    \n",
    "# Apply the neutrality check\n",
    "df_141['Neutrality'] = df_141['Formula'].apply(check_neutrality)\n",
    "print(\"BATCH 141: \")\n",
    "print(\"Total Formulas: \", len(df_141))\n",
    "# Count true and false results\n",
    "true_count_b141 = df_141['Neutrality'].sum()\n",
    "false_count_b141 = len(df_141) - true_count_b141\n",
    "print(f\"Number of neutral formulas: {true_count_b141}\")\n",
    "print(f\"Number of non-neutral formulas: {false_count_b141}\")\n",
    "\n",
    "# Store the formulas with true results in a new CSV file\n",
    "df_true = df_141[df_141['Neutrality']]\n",
    "df_true.to_csv(\"../../data/d3_validity_check/valid_formulas.csv\", mode='a', header=False, index=False)"
   ]
  },
  {
   "cell_type": "code",
   "execution_count": 12,
   "metadata": {},
   "outputs": [
    {
     "name": "stdout",
     "output_type": "stream",
     "text": [
      "BATCH 142: \n",
      "Total Formulas:  500\n",
      "Number of neutral formulas: 177\n",
      "Number of non-neutral formulas: 323\n"
     ]
    },
    {
     "name": "stderr",
     "output_type": "stream",
     "text": [
      "C:\\Users\\aaayu\\AppData\\Local\\Temp\\ipykernel_13180\\1923977834.py:5: SettingWithCopyWarning: \n",
      "A value is trying to be set on a copy of a slice from a DataFrame.\n",
      "Try using .loc[row_indexer,col_indexer] = value instead\n",
      "\n",
      "See the caveats in the documentation: https://pandas.pydata.org/pandas-docs/stable/user_guide/indexing.html#returning-a-view-versus-a-copy\n",
      "  df_142['Neutrality'] = df_142['Formula'].apply(check_neutrality)\n"
     ]
    }
   ],
   "source": [
    "# Select the next formulas\n",
    "df_142 = df.iloc[70500:71000]\n",
    "    \n",
    "# Apply the neutrality check\n",
    "df_142['Neutrality'] = df_142['Formula'].apply(check_neutrality)\n",
    "print(\"BATCH 142: \")\n",
    "print(\"Total Formulas: \", len(df_142))\n",
    "# Count true and false results\n",
    "true_count_b142 = df_142['Neutrality'].sum()\n",
    "false_count_b142 = len(df_142) - true_count_b142\n",
    "print(f\"Number of neutral formulas: {true_count_b142}\")\n",
    "print(f\"Number of non-neutral formulas: {false_count_b142}\")\n",
    "\n",
    "# Store the formulas with true results in a new CSV file\n",
    "df_true = df_142[df_142['Neutrality']]\n",
    "df_true.to_csv(\"../../data/d3_validity_check/valid_formulas.csv\", mode='a', header=False, index=False)"
   ]
  },
  {
   "cell_type": "code",
   "execution_count": 13,
   "metadata": {},
   "outputs": [
    {
     "name": "stdout",
     "output_type": "stream",
     "text": [
      "BATCH 143: \n",
      "Total Formulas:  1000\n",
      "Number of neutral formulas: 357\n",
      "Number of non-neutral formulas: 643\n"
     ]
    },
    {
     "name": "stderr",
     "output_type": "stream",
     "text": [
      "C:\\Users\\aaayu\\AppData\\Local\\Temp\\ipykernel_13180\\4294961598.py:5: SettingWithCopyWarning: \n",
      "A value is trying to be set on a copy of a slice from a DataFrame.\n",
      "Try using .loc[row_indexer,col_indexer] = value instead\n",
      "\n",
      "See the caveats in the documentation: https://pandas.pydata.org/pandas-docs/stable/user_guide/indexing.html#returning-a-view-versus-a-copy\n",
      "  df_143['Neutrality'] = df_143['Formula'].apply(check_neutrality)\n"
     ]
    }
   ],
   "source": [
    "# Select the next formulas\n",
    "df_143 = df.iloc[71000:72000]\n",
    "    \n",
    "# Apply the neutrality check\n",
    "df_143['Neutrality'] = df_143['Formula'].apply(check_neutrality)\n",
    "print(\"BATCH 143: \")\n",
    "print(\"Total Formulas: \", len(df_143))\n",
    "# Count true and false results\n",
    "true_count_b143 = df_143['Neutrality'].sum()\n",
    "false_count_b143 = len(df_143) - true_count_b143\n",
    "print(f\"Number of neutral formulas: {true_count_b143}\")\n",
    "print(f\"Number of non-neutral formulas: {false_count_b143}\")\n",
    "\n",
    "# Store the formulas with true results in a new CSV file\n",
    "df_true = df_143[df_143['Neutrality']]\n",
    "df_true.to_csv(\"../../data/d3_validity_check/valid_formulas.csv\", mode='a', header=False, index=False)"
   ]
  },
  {
   "cell_type": "code",
   "execution_count": 14,
   "metadata": {},
   "outputs": [
    {
     "name": "stdout",
     "output_type": "stream",
     "text": [
      "BATCH 144: \n",
      "Total Formulas:  1000\n",
      "Number of neutral formulas: 372\n",
      "Number of non-neutral formulas: 628\n"
     ]
    },
    {
     "name": "stderr",
     "output_type": "stream",
     "text": [
      "C:\\Users\\aaayu\\AppData\\Local\\Temp\\ipykernel_13180\\4081037998.py:5: SettingWithCopyWarning: \n",
      "A value is trying to be set on a copy of a slice from a DataFrame.\n",
      "Try using .loc[row_indexer,col_indexer] = value instead\n",
      "\n",
      "See the caveats in the documentation: https://pandas.pydata.org/pandas-docs/stable/user_guide/indexing.html#returning-a-view-versus-a-copy\n",
      "  df_144['Neutrality'] = df_144['Formula'].apply(check_neutrality)\n"
     ]
    }
   ],
   "source": [
    "# Select the next formulas\n",
    "df_144 = df.iloc[72000:73000]\n",
    "    \n",
    "# Apply the neutrality check\n",
    "df_144['Neutrality'] = df_144['Formula'].apply(check_neutrality)\n",
    "print(\"BATCH 144: \")\n",
    "print(\"Total Formulas: \", len(df_144))\n",
    "# Count true and false results\n",
    "true_count_b144 = df_144['Neutrality'].sum()\n",
    "false_count_b144 = len(df_144) - true_count_b144\n",
    "print(f\"Number of neutral formulas: {true_count_b144}\")\n",
    "print(f\"Number of non-neutral formulas: {false_count_b144}\")\n",
    "\n",
    "# Store the formulas with true results in a new CSV file\n",
    "df_true = df_144[df_144['Neutrality']]\n",
    "df_true.to_csv(\"../../data/d3_validity_check/valid_formulas.csv\", mode='a', header=False, index=False)"
   ]
  },
  {
   "cell_type": "code",
   "execution_count": 15,
   "metadata": {},
   "outputs": [
    {
     "name": "stdout",
     "output_type": "stream",
     "text": [
      "BATCH 145: \n",
      "Total Formulas:  1000\n",
      "Number of neutral formulas: 388\n",
      "Number of non-neutral formulas: 612\n"
     ]
    },
    {
     "name": "stderr",
     "output_type": "stream",
     "text": [
      "C:\\Users\\aaayu\\AppData\\Local\\Temp\\ipykernel_13180\\3607080241.py:5: SettingWithCopyWarning: \n",
      "A value is trying to be set on a copy of a slice from a DataFrame.\n",
      "Try using .loc[row_indexer,col_indexer] = value instead\n",
      "\n",
      "See the caveats in the documentation: https://pandas.pydata.org/pandas-docs/stable/user_guide/indexing.html#returning-a-view-versus-a-copy\n",
      "  df_145['Neutrality'] = df_145['Formula'].apply(check_neutrality)\n"
     ]
    }
   ],
   "source": [
    "# Select the next formulas\n",
    "df_145 = df.iloc[73000:74000]\n",
    "    \n",
    "# Apply the neutrality check\n",
    "df_145['Neutrality'] = df_145['Formula'].apply(check_neutrality)\n",
    "print(\"BATCH 145: \")\n",
    "print(\"Total Formulas: \", len(df_145))\n",
    "# Count true and false results\n",
    "true_count_b145 = df_145['Neutrality'].sum()\n",
    "false_count_b145 = len(df_145) - true_count_b145\n",
    "print(f\"Number of neutral formulas: {true_count_b145}\")\n",
    "print(f\"Number of non-neutral formulas: {false_count_b145}\")\n",
    "\n",
    "# Store the formulas with true results in a new CSV file\n",
    "df_true = df_145[df_145['Neutrality']]\n",
    "df_true.to_csv(\"../../data/d3_validity_check/valid_formulas.csv\", mode='a', header=False, index=False)"
   ]
  },
  {
   "cell_type": "code",
   "execution_count": 16,
   "metadata": {},
   "outputs": [
    {
     "name": "stdout",
     "output_type": "stream",
     "text": [
      "BATCH 146: \n",
      "Total Formulas:  1000\n",
      "Number of neutral formulas: 376\n",
      "Number of non-neutral formulas: 624\n"
     ]
    },
    {
     "name": "stderr",
     "output_type": "stream",
     "text": [
      "C:\\Users\\aaayu\\AppData\\Local\\Temp\\ipykernel_13180\\1275791952.py:5: SettingWithCopyWarning: \n",
      "A value is trying to be set on a copy of a slice from a DataFrame.\n",
      "Try using .loc[row_indexer,col_indexer] = value instead\n",
      "\n",
      "See the caveats in the documentation: https://pandas.pydata.org/pandas-docs/stable/user_guide/indexing.html#returning-a-view-versus-a-copy\n",
      "  df_146['Neutrality'] = df_146['Formula'].apply(check_neutrality)\n"
     ]
    }
   ],
   "source": [
    "# Select the next formulas\n",
    "df_146 = df.iloc[74000:75000]\n",
    "    \n",
    "# Apply the neutrality check\n",
    "df_146['Neutrality'] = df_146['Formula'].apply(check_neutrality)\n",
    "print(\"BATCH 146: \")\n",
    "print(\"Total Formulas: \", len(df_146))\n",
    "# Count true and false results\n",
    "true_count_b146 = df_146['Neutrality'].sum()\n",
    "false_count_b146 = len(df_146) - true_count_b146\n",
    "print(f\"Number of neutral formulas: {true_count_b146}\")\n",
    "print(f\"Number of non-neutral formulas: {false_count_b146}\")\n",
    "\n",
    "# Store the formulas with true results in a new CSV file\n",
    "df_true = df_146[df_146['Neutrality']]\n",
    "df_true.to_csv(\"../../data/d3_validity_check/valid_formulas.csv\", mode='a', header=False, index=False)"
   ]
  },
  {
   "cell_type": "code",
   "execution_count": 17,
   "metadata": {},
   "outputs": [
    {
     "name": "stdout",
     "output_type": "stream",
     "text": [
      "BATCH 147: \n",
      "Total Formulas:  1000\n",
      "Number of neutral formulas: 357\n",
      "Number of non-neutral formulas: 643\n"
     ]
    },
    {
     "name": "stderr",
     "output_type": "stream",
     "text": [
      "C:\\Users\\aaayu\\AppData\\Local\\Temp\\ipykernel_13180\\3541074246.py:5: SettingWithCopyWarning: \n",
      "A value is trying to be set on a copy of a slice from a DataFrame.\n",
      "Try using .loc[row_indexer,col_indexer] = value instead\n",
      "\n",
      "See the caveats in the documentation: https://pandas.pydata.org/pandas-docs/stable/user_guide/indexing.html#returning-a-view-versus-a-copy\n",
      "  df_147['Neutrality'] = df_147['Formula'].apply(check_neutrality)\n"
     ]
    }
   ],
   "source": [
    "# Select the next formulas\n",
    "df_147 = df.iloc[75000:76000]\n",
    "    \n",
    "# Apply the neutrality check\n",
    "df_147['Neutrality'] = df_147['Formula'].apply(check_neutrality)\n",
    "print(\"BATCH 147: \")\n",
    "print(\"Total Formulas: \", len(df_147))\n",
    "# Count true and false results\n",
    "true_count_b147 = df_147['Neutrality'].sum()\n",
    "false_count_b147 = len(df_147) - true_count_b147\n",
    "print(f\"Number of neutral formulas: {true_count_b147}\")\n",
    "print(f\"Number of non-neutral formulas: {false_count_b147}\")\n",
    "\n",
    "# Store the formulas with true results in a new CSV file\n",
    "df_true = df_147[df_147['Neutrality']]\n",
    "df_true.to_csv(\"../../data/d3_validity_check/valid_formulas.csv\", mode='a', header=False, index=False)"
   ]
  },
  {
   "cell_type": "code",
   "execution_count": 18,
   "metadata": {},
   "outputs": [
    {
     "name": "stdout",
     "output_type": "stream",
     "text": [
      "BATCH 148: \n",
      "Total Formulas:  1000\n",
      "Number of neutral formulas: 376\n",
      "Number of non-neutral formulas: 624\n"
     ]
    },
    {
     "name": "stderr",
     "output_type": "stream",
     "text": [
      "C:\\Users\\aaayu\\AppData\\Local\\Temp\\ipykernel_13180\\421635499.py:5: SettingWithCopyWarning: \n",
      "A value is trying to be set on a copy of a slice from a DataFrame.\n",
      "Try using .loc[row_indexer,col_indexer] = value instead\n",
      "\n",
      "See the caveats in the documentation: https://pandas.pydata.org/pandas-docs/stable/user_guide/indexing.html#returning-a-view-versus-a-copy\n",
      "  df_148['Neutrality'] = df_148['Formula'].apply(check_neutrality)\n"
     ]
    }
   ],
   "source": [
    "# Select the next formulas\n",
    "df_148 = df.iloc[76000:77000]\n",
    "    \n",
    "# Apply the neutrality check\n",
    "df_148['Neutrality'] = df_148['Formula'].apply(check_neutrality)\n",
    "print(\"BATCH 148: \")\n",
    "print(\"Total Formulas: \", len(df_148))\n",
    "# Count true and false results\n",
    "true_count_b148 = df_148['Neutrality'].sum()\n",
    "false_count_b148 = len(df_148) - true_count_b148\n",
    "print(f\"Number of neutral formulas: {true_count_b148}\")\n",
    "print(f\"Number of non-neutral formulas: {false_count_b148}\")\n",
    "\n",
    "# Store the formulas with true results in a new CSV file\n",
    "df_true = df_148[df_148['Neutrality']]\n",
    "df_true.to_csv(\"../../data/d3_validity_check/valid_formulas.csv\", mode='a', header=False, index=False)"
   ]
  },
  {
   "cell_type": "code",
   "execution_count": 19,
   "metadata": {},
   "outputs": [
    {
     "name": "stdout",
     "output_type": "stream",
     "text": [
      "BATCH 149: \n",
      "Total Formulas:  1000\n",
      "Number of neutral formulas: 383\n",
      "Number of non-neutral formulas: 617\n"
     ]
    },
    {
     "name": "stderr",
     "output_type": "stream",
     "text": [
      "C:\\Users\\aaayu\\AppData\\Local\\Temp\\ipykernel_13180\\2851033743.py:5: SettingWithCopyWarning: \n",
      "A value is trying to be set on a copy of a slice from a DataFrame.\n",
      "Try using .loc[row_indexer,col_indexer] = value instead\n",
      "\n",
      "See the caveats in the documentation: https://pandas.pydata.org/pandas-docs/stable/user_guide/indexing.html#returning-a-view-versus-a-copy\n",
      "  df_149['Neutrality'] = df_149['Formula'].apply(check_neutrality)\n"
     ]
    }
   ],
   "source": [
    "# Select the next formulas\n",
    "df_149 = df.iloc[77000:78000]\n",
    "    \n",
    "# Apply the neutrality check\n",
    "df_149['Neutrality'] = df_149['Formula'].apply(check_neutrality)\n",
    "print(\"BATCH 149: \")\n",
    "print(\"Total Formulas: \", len(df_149))\n",
    "# Count true and false results\n",
    "true_count_b149 = df_149['Neutrality'].sum()\n",
    "false_count_b149 = len(df_149) - true_count_b149\n",
    "print(f\"Number of neutral formulas: {true_count_b149}\")\n",
    "print(f\"Number of non-neutral formulas: {false_count_b149}\")\n",
    "\n",
    "# Store the formulas with true results in a new CSV file\n",
    "df_true = df_149[df_149['Neutrality']]\n",
    "df_true.to_csv(\"../../data/d3_validity_check/valid_formulas.csv\", mode='a', header=False, index=False)"
   ]
  },
  {
   "cell_type": "code",
   "execution_count": 20,
   "metadata": {},
   "outputs": [
    {
     "name": "stdout",
     "output_type": "stream",
     "text": [
      "BATCH 150: \n",
      "Total Formulas:  1000\n",
      "Number of neutral formulas: 359\n",
      "Number of non-neutral formulas: 641\n"
     ]
    },
    {
     "name": "stderr",
     "output_type": "stream",
     "text": [
      "C:\\Users\\aaayu\\AppData\\Local\\Temp\\ipykernel_13180\\1285718503.py:5: SettingWithCopyWarning: \n",
      "A value is trying to be set on a copy of a slice from a DataFrame.\n",
      "Try using .loc[row_indexer,col_indexer] = value instead\n",
      "\n",
      "See the caveats in the documentation: https://pandas.pydata.org/pandas-docs/stable/user_guide/indexing.html#returning-a-view-versus-a-copy\n",
      "  df_150['Neutrality'] = df_150['Formula'].apply(check_neutrality)\n"
     ]
    }
   ],
   "source": [
    "# Select the next formulas\n",
    "df_150 = df.iloc[78000:79000]\n",
    "    \n",
    "# Apply the neutrality check\n",
    "df_150['Neutrality'] = df_150['Formula'].apply(check_neutrality)\n",
    "print(\"BATCH 150: \")\n",
    "print(\"Total Formulas: \", len(df_150))\n",
    "# Count true and false results\n",
    "true_count_b150 = df_150['Neutrality'].sum()\n",
    "false_count_b150 = len(df_150) - true_count_b150\n",
    "print(f\"Number of neutral formulas: {true_count_b150}\")\n",
    "print(f\"Number of non-neutral formulas: {false_count_b150}\")\n",
    "\n",
    "# Store the formulas with true results in a new CSV file\n",
    "df_true = df_150[df_150['Neutrality']]\n",
    "df_true.to_csv(\"../../data/d3_validity_check/valid_formulas.csv\", mode='a', header=False, index=False)"
   ]
  },
  {
   "cell_type": "code",
   "execution_count": 21,
   "metadata": {},
   "outputs": [
    {
     "name": "stdout",
     "output_type": "stream",
     "text": [
      "BATCH 151: \n",
      "Total Formulas:  1000\n",
      "Number of neutral formulas: 399\n",
      "Number of non-neutral formulas: 601\n"
     ]
    },
    {
     "name": "stderr",
     "output_type": "stream",
     "text": [
      "C:\\Users\\aaayu\\AppData\\Local\\Temp\\ipykernel_13180\\3733954695.py:5: SettingWithCopyWarning: \n",
      "A value is trying to be set on a copy of a slice from a DataFrame.\n",
      "Try using .loc[row_indexer,col_indexer] = value instead\n",
      "\n",
      "See the caveats in the documentation: https://pandas.pydata.org/pandas-docs/stable/user_guide/indexing.html#returning-a-view-versus-a-copy\n",
      "  df_151['Neutrality'] = df_151['Formula'].apply(check_neutrality)\n"
     ]
    }
   ],
   "source": [
    "# Select the next formulas\n",
    "df_151 = df.iloc[79000:80000]\n",
    "    \n",
    "# Apply the neutrality check\n",
    "df_151['Neutrality'] = df_151['Formula'].apply(check_neutrality)\n",
    "print(\"BATCH 151: \")\n",
    "print(\"Total Formulas: \", len(df_151))\n",
    "# Count true and false results\n",
    "true_count_b151 = df_151['Neutrality'].sum()\n",
    "false_count_b151 = len(df_151) - true_count_b151\n",
    "print(f\"Number of neutral formulas: {true_count_b151}\")\n",
    "print(f\"Number of non-neutral formulas: {false_count_b151}\")\n",
    "\n",
    "# Store the formulas with true results in a new CSV file\n",
    "df_true = df_151[df_151['Neutrality']]\n",
    "df_true.to_csv(\"../../data/d3_validity_check/valid_formulas.csv\", mode='a', header=False, index=False)"
   ]
  },
  {
   "cell_type": "code",
   "execution_count": 22,
   "metadata": {},
   "outputs": [
    {
     "name": "stdout",
     "output_type": "stream",
     "text": [
      "BATCH 152: \n",
      "Total Formulas:  1000\n",
      "Number of neutral formulas: 355\n",
      "Number of non-neutral formulas: 645\n"
     ]
    },
    {
     "name": "stderr",
     "output_type": "stream",
     "text": [
      "C:\\Users\\aaayu\\AppData\\Local\\Temp\\ipykernel_13180\\2425011121.py:5: SettingWithCopyWarning: \n",
      "A value is trying to be set on a copy of a slice from a DataFrame.\n",
      "Try using .loc[row_indexer,col_indexer] = value instead\n",
      "\n",
      "See the caveats in the documentation: https://pandas.pydata.org/pandas-docs/stable/user_guide/indexing.html#returning-a-view-versus-a-copy\n",
      "  df_152['Neutrality'] = df_152['Formula'].apply(check_neutrality)\n"
     ]
    }
   ],
   "source": [
    "# Select the next formulas\n",
    "df_152 = df.iloc[80000:81000]\n",
    "    \n",
    "# Apply the neutrality check\n",
    "df_152['Neutrality'] = df_152['Formula'].apply(check_neutrality)\n",
    "print(\"BATCH 152: \")\n",
    "print(\"Total Formulas: \", len(df_152))\n",
    "# Count true and false results\n",
    "true_count_b152 = df_152['Neutrality'].sum()\n",
    "false_count_b152 = len(df_152) - true_count_b152\n",
    "print(f\"Number of neutral formulas: {true_count_b152}\")\n",
    "print(f\"Number of non-neutral formulas: {false_count_b152}\")\n",
    "\n",
    "# Store the formulas with true results in a new CSV file\n",
    "df_true = df_152[df_152['Neutrality']]\n",
    "df_true.to_csv(\"../../data/d3_validity_check/valid_formulas.csv\", mode='a', header=False, index=False)"
   ]
  },
  {
   "cell_type": "code",
   "execution_count": 23,
   "metadata": {},
   "outputs": [
    {
     "name": "stdout",
     "output_type": "stream",
     "text": [
      "BATCH 153: \n",
      "Total Formulas:  1000\n",
      "Number of neutral formulas: 385\n",
      "Number of non-neutral formulas: 615\n"
     ]
    },
    {
     "name": "stderr",
     "output_type": "stream",
     "text": [
      "C:\\Users\\aaayu\\AppData\\Local\\Temp\\ipykernel_13180\\733838826.py:5: SettingWithCopyWarning: \n",
      "A value is trying to be set on a copy of a slice from a DataFrame.\n",
      "Try using .loc[row_indexer,col_indexer] = value instead\n",
      "\n",
      "See the caveats in the documentation: https://pandas.pydata.org/pandas-docs/stable/user_guide/indexing.html#returning-a-view-versus-a-copy\n",
      "  df_153['Neutrality'] = df_153['Formula'].apply(check_neutrality)\n"
     ]
    }
   ],
   "source": [
    "# Select the next formulas\n",
    "df_153 = df.iloc[81000:82000]\n",
    "    \n",
    "# Apply the neutrality check\n",
    "df_153['Neutrality'] = df_153['Formula'].apply(check_neutrality)\n",
    "print(\"BATCH 153: \")\n",
    "print(\"Total Formulas: \", len(df_153))\n",
    "# Count true and false results\n",
    "true_count_b153 = df_153['Neutrality'].sum()\n",
    "false_count_b153 = len(df_153) - true_count_b153\n",
    "print(f\"Number of neutral formulas: {true_count_b153}\")\n",
    "print(f\"Number of non-neutral formulas: {false_count_b153}\")\n",
    "\n",
    "# Store the formulas with true results in a new CSV file\n",
    "df_true = df_153[df_153['Neutrality']]\n",
    "df_true.to_csv(\"../../data/d3_validity_check/valid_formulas.csv\", mode='a', header=False, index=False)"
   ]
  },
  {
   "cell_type": "code",
   "execution_count": 24,
   "metadata": {},
   "outputs": [
    {
     "name": "stdout",
     "output_type": "stream",
     "text": [
      "BATCH 154: \n",
      "Total Formulas:  1000\n",
      "Number of neutral formulas: 373\n",
      "Number of non-neutral formulas: 627\n"
     ]
    },
    {
     "name": "stderr",
     "output_type": "stream",
     "text": [
      "C:\\Users\\aaayu\\AppData\\Local\\Temp\\ipykernel_13180\\3024321744.py:5: SettingWithCopyWarning: \n",
      "A value is trying to be set on a copy of a slice from a DataFrame.\n",
      "Try using .loc[row_indexer,col_indexer] = value instead\n",
      "\n",
      "See the caveats in the documentation: https://pandas.pydata.org/pandas-docs/stable/user_guide/indexing.html#returning-a-view-versus-a-copy\n",
      "  df_154['Neutrality'] = df_154['Formula'].apply(check_neutrality)\n"
     ]
    }
   ],
   "source": [
    "# Select the next formulas\n",
    "df_154 = df.iloc[82000:83000]\n",
    "    \n",
    "# Apply the neutrality check\n",
    "df_154['Neutrality'] = df_154['Formula'].apply(check_neutrality)\n",
    "print(\"BATCH 154: \")\n",
    "print(\"Total Formulas: \", len(df_154))\n",
    "# Count true and false results\n",
    "true_count_b154 = df_154['Neutrality'].sum()\n",
    "false_count_b154 = len(df_154) - true_count_b154\n",
    "print(f\"Number of neutral formulas: {true_count_b154}\")\n",
    "print(f\"Number of non-neutral formulas: {false_count_b154}\")\n",
    "\n",
    "# Store the formulas with true results in a new CSV file\n",
    "df_true = df_154[df_154['Neutrality']]\n",
    "df_true.to_csv(\"../../data/d3_validity_check/valid_formulas.csv\", mode='a', header=False, index=False)"
   ]
  },
  {
   "cell_type": "code",
   "execution_count": 25,
   "metadata": {},
   "outputs": [
    {
     "name": "stdout",
     "output_type": "stream",
     "text": [
      "BATCH 155: \n",
      "Total Formulas:  1000\n",
      "Number of neutral formulas: 374\n",
      "Number of non-neutral formulas: 626\n"
     ]
    },
    {
     "name": "stderr",
     "output_type": "stream",
     "text": [
      "C:\\Users\\aaayu\\AppData\\Local\\Temp\\ipykernel_13180\\2276040072.py:5: SettingWithCopyWarning: \n",
      "A value is trying to be set on a copy of a slice from a DataFrame.\n",
      "Try using .loc[row_indexer,col_indexer] = value instead\n",
      "\n",
      "See the caveats in the documentation: https://pandas.pydata.org/pandas-docs/stable/user_guide/indexing.html#returning-a-view-versus-a-copy\n",
      "  df_155['Neutrality'] = df_155['Formula'].apply(check_neutrality)\n"
     ]
    }
   ],
   "source": [
    "# Select the next formulas\n",
    "df_155 = df.iloc[83000:84000]\n",
    "    \n",
    "# Apply the neutrality check\n",
    "df_155['Neutrality'] = df_155['Formula'].apply(check_neutrality)\n",
    "print(\"BATCH 155: \")\n",
    "print(\"Total Formulas: \", len(df_155))\n",
    "# Count true and false results\n",
    "true_count_b155 = df_155['Neutrality'].sum()\n",
    "false_count_b155 = len(df_155) - true_count_b155\n",
    "print(f\"Number of neutral formulas: {true_count_b155}\")\n",
    "print(f\"Number of non-neutral formulas: {false_count_b155}\")\n",
    "\n",
    "# Store the formulas with true results in a new CSV file\n",
    "df_true = df_155[df_155['Neutrality']]\n",
    "df_true.to_csv(\"../../data/d3_validity_check/valid_formulas.csv\", mode='a', header=False, index=False)"
   ]
  },
  {
   "cell_type": "code",
   "execution_count": 26,
   "metadata": {},
   "outputs": [
    {
     "name": "stdout",
     "output_type": "stream",
     "text": [
      "BATCH 156: \n",
      "Total Formulas:  1000\n",
      "Number of neutral formulas: 382\n",
      "Number of non-neutral formulas: 618\n"
     ]
    },
    {
     "name": "stderr",
     "output_type": "stream",
     "text": [
      "C:\\Users\\aaayu\\AppData\\Local\\Temp\\ipykernel_13180\\2151661132.py:5: SettingWithCopyWarning: \n",
      "A value is trying to be set on a copy of a slice from a DataFrame.\n",
      "Try using .loc[row_indexer,col_indexer] = value instead\n",
      "\n",
      "See the caveats in the documentation: https://pandas.pydata.org/pandas-docs/stable/user_guide/indexing.html#returning-a-view-versus-a-copy\n",
      "  df_156['Neutrality'] = df_156['Formula'].apply(check_neutrality)\n"
     ]
    }
   ],
   "source": [
    "# Select the next formulas\n",
    "df_156 = df.iloc[84000:85000]\n",
    "    \n",
    "# Apply the neutrality check\n",
    "df_156['Neutrality'] = df_156['Formula'].apply(check_neutrality)\n",
    "print(\"BATCH 156: \")\n",
    "print(\"Total Formulas: \", len(df_156))\n",
    "# Count true and false results\n",
    "true_count_b156 = df_156['Neutrality'].sum()\n",
    "false_count_b156 = len(df_156) - true_count_b156\n",
    "print(f\"Number of neutral formulas: {true_count_b156}\")\n",
    "print(f\"Number of non-neutral formulas: {false_count_b156}\")\n",
    "\n",
    "# Store the formulas with true results in a new CSV file\n",
    "df_true = df_156[df_156['Neutrality']]\n",
    "df_true.to_csv(\"../../data/d3_validity_check/valid_formulas.csv\", mode='a', header=False, index=False)"
   ]
  },
  {
   "cell_type": "code",
   "execution_count": 27,
   "metadata": {},
   "outputs": [
    {
     "name": "stderr",
     "output_type": "stream",
     "text": [
      "C:\\Users\\aaayu\\AppData\\Local\\Temp\\ipykernel_13180\\3058714751.py:5: SettingWithCopyWarning: \n",
      "A value is trying to be set on a copy of a slice from a DataFrame.\n",
      "Try using .loc[row_indexer,col_indexer] = value instead\n",
      "\n",
      "See the caveats in the documentation: https://pandas.pydata.org/pandas-docs/stable/user_guide/indexing.html#returning-a-view-versus-a-copy\n",
      "  df_157['Neutrality'] = df_157['Formula'].apply(check_neutrality)\n"
     ]
    },
    {
     "name": "stdout",
     "output_type": "stream",
     "text": [
      "BATCH 157: \n",
      "Total Formulas:  1000\n",
      "Number of neutral formulas: 366\n",
      "Number of non-neutral formulas: 634\n"
     ]
    }
   ],
   "source": [
    "# Select the next formulas\n",
    "df_157 = df.iloc[85000:86000]\n",
    "    \n",
    "# Apply the neutrality check\n",
    "df_157['Neutrality'] = df_157['Formula'].apply(check_neutrality)\n",
    "print(\"BATCH 157: \")\n",
    "print(\"Total Formulas: \", len(df_157))\n",
    "# Count true and false results\n",
    "true_count_b157 = df_157['Neutrality'].sum()\n",
    "false_count_b157 = len(df_157) - true_count_b157\n",
    "print(f\"Number of neutral formulas: {true_count_b157}\")\n",
    "print(f\"Number of non-neutral formulas: {false_count_b157}\")\n",
    "\n",
    "# Store the formulas with true results in a new CSV file\n",
    "df_true = df_157[df_157['Neutrality']]\n",
    "df_true.to_csv(\"../../data/d3_validity_check/valid_formulas.csv\", mode='a', header=False, index=False)"
   ]
  },
  {
   "cell_type": "code",
   "execution_count": 28,
   "metadata": {},
   "outputs": [
    {
     "name": "stdout",
     "output_type": "stream",
     "text": [
      "BATCH 158: \n",
      "Total Formulas:  1000\n",
      "Number of neutral formulas: 372\n",
      "Number of non-neutral formulas: 628\n"
     ]
    },
    {
     "name": "stderr",
     "output_type": "stream",
     "text": [
      "C:\\Users\\aaayu\\AppData\\Local\\Temp\\ipykernel_13180\\3819294137.py:5: SettingWithCopyWarning: \n",
      "A value is trying to be set on a copy of a slice from a DataFrame.\n",
      "Try using .loc[row_indexer,col_indexer] = value instead\n",
      "\n",
      "See the caveats in the documentation: https://pandas.pydata.org/pandas-docs/stable/user_guide/indexing.html#returning-a-view-versus-a-copy\n",
      "  df_158['Neutrality'] = df_158['Formula'].apply(check_neutrality)\n"
     ]
    }
   ],
   "source": [
    "# Select the next formulas\n",
    "df_158 = df.iloc[86000:87000]\n",
    "    \n",
    "# Apply the neutrality check\n",
    "df_158['Neutrality'] = df_158['Formula'].apply(check_neutrality)\n",
    "print(\"BATCH 158: \")\n",
    "print(\"Total Formulas: \", len(df_158))\n",
    "# Count true and false results\n",
    "true_count_b158 = df_158['Neutrality'].sum()\n",
    "false_count_b158 = len(df_158) - true_count_b158\n",
    "print(f\"Number of neutral formulas: {true_count_b158}\")\n",
    "print(f\"Number of non-neutral formulas: {false_count_b158}\")\n",
    "\n",
    "# Store the formulas with true results in a new CSV file\n",
    "df_true = df_158[df_158['Neutrality']]\n",
    "df_true.to_csv(\"../../data/d3_validity_check/valid_formulas.csv\", mode='a', header=False, index=False)"
   ]
  },
  {
   "cell_type": "code",
   "execution_count": 29,
   "metadata": {},
   "outputs": [
    {
     "name": "stdout",
     "output_type": "stream",
     "text": [
      "BATCH 159: \n",
      "Total Formulas:  3000\n",
      "Number of neutral formulas: 1160\n",
      "Number of non-neutral formulas: 1840\n"
     ]
    },
    {
     "name": "stderr",
     "output_type": "stream",
     "text": [
      "C:\\Users\\aaayu\\AppData\\Local\\Temp\\ipykernel_13180\\3789138132.py:5: SettingWithCopyWarning: \n",
      "A value is trying to be set on a copy of a slice from a DataFrame.\n",
      "Try using .loc[row_indexer,col_indexer] = value instead\n",
      "\n",
      "See the caveats in the documentation: https://pandas.pydata.org/pandas-docs/stable/user_guide/indexing.html#returning-a-view-versus-a-copy\n",
      "  df_159['Neutrality'] = df_159['Formula'].apply(check_neutrality)\n"
     ]
    }
   ],
   "source": [
    "# Select the next formulas\n",
    "df_159 = df.iloc[87000:90000]\n",
    "    \n",
    "# Apply the neutrality check\n",
    "df_159['Neutrality'] = df_159['Formula'].apply(check_neutrality)\n",
    "print(\"BATCH 159: \")\n",
    "print(\"Total Formulas: \", len(df_159))\n",
    "# Count true and false results\n",
    "true_count_b159 = df_159['Neutrality'].sum()\n",
    "false_count_b159 = len(df_159) - true_count_b159\n",
    "print(f\"Number of neutral formulas: {true_count_b159}\")\n",
    "print(f\"Number of non-neutral formulas: {false_count_b159}\")\n",
    "\n",
    "# Store the formulas with true results in a new CSV file\n",
    "df_true = df_159[df_159['Neutrality']]\n",
    "df_true.to_csv(\"../../data/d3_validity_check/valid_formulas.csv\", mode='a', header=False, index=False)"
   ]
  },
  {
   "cell_type": "code",
   "execution_count": 30,
   "metadata": {},
   "outputs": [
    {
     "name": "stdout",
     "output_type": "stream",
     "text": [
      "BATCH 160: \n",
      "Total Formulas:  3000\n",
      "Number of neutral formulas: 1071\n",
      "Number of non-neutral formulas: 1929\n"
     ]
    },
    {
     "name": "stderr",
     "output_type": "stream",
     "text": [
      "C:\\Users\\aaayu\\AppData\\Local\\Temp\\ipykernel_13180\\1754196739.py:5: SettingWithCopyWarning: \n",
      "A value is trying to be set on a copy of a slice from a DataFrame.\n",
      "Try using .loc[row_indexer,col_indexer] = value instead\n",
      "\n",
      "See the caveats in the documentation: https://pandas.pydata.org/pandas-docs/stable/user_guide/indexing.html#returning-a-view-versus-a-copy\n",
      "  df_160['Neutrality'] = df_160['Formula'].apply(check_neutrality)\n"
     ]
    }
   ],
   "source": [
    "# Select the next formulas\n",
    "df_160 = df.iloc[90000:93000]\n",
    "    \n",
    "# Apply the neutrality check\n",
    "df_160['Neutrality'] = df_160['Formula'].apply(check_neutrality)\n",
    "print(\"BATCH 160: \")\n",
    "print(\"Total Formulas: \", len(df_160))\n",
    "# Count true and false results\n",
    "true_count_b160 = df_160['Neutrality'].sum()\n",
    "false_count_b160 = len(df_160) - true_count_b160\n",
    "print(f\"Number of neutral formulas: {true_count_b160}\")\n",
    "print(f\"Number of non-neutral formulas: {false_count_b160}\")\n",
    "\n",
    "# Store the formulas with true results in a new CSV file\n",
    "df_true = df_160[df_160['Neutrality']]\n",
    "df_true.to_csv(\"../../data/d3_validity_check/valid_formulas.csv\", mode='a', header=False, index=False)"
   ]
  },
  {
   "cell_type": "code",
   "execution_count": 31,
   "metadata": {},
   "outputs": [
    {
     "name": "stdout",
     "output_type": "stream",
     "text": [
      "BATCH 161: \n",
      "Total Formulas:  3000\n",
      "Number of neutral formulas: 1081\n",
      "Number of non-neutral formulas: 1919\n"
     ]
    },
    {
     "name": "stderr",
     "output_type": "stream",
     "text": [
      "C:\\Users\\aaayu\\AppData\\Local\\Temp\\ipykernel_13180\\3616734369.py:5: SettingWithCopyWarning: \n",
      "A value is trying to be set on a copy of a slice from a DataFrame.\n",
      "Try using .loc[row_indexer,col_indexer] = value instead\n",
      "\n",
      "See the caveats in the documentation: https://pandas.pydata.org/pandas-docs/stable/user_guide/indexing.html#returning-a-view-versus-a-copy\n",
      "  df_161['Neutrality'] = df_161['Formula'].apply(check_neutrality)\n"
     ]
    }
   ],
   "source": [
    "# Select the next formulas\n",
    "df_161 = df.iloc[93000:96000]\n",
    "    \n",
    "# Apply the neutrality check\n",
    "df_161['Neutrality'] = df_161['Formula'].apply(check_neutrality)\n",
    "print(\"BATCH 161: \")\n",
    "print(\"Total Formulas: \", len(df_161))\n",
    "# Count true and false results\n",
    "true_count_b161 = df_161['Neutrality'].sum()\n",
    "false_count_b161 = len(df_161) - true_count_b161\n",
    "print(f\"Number of neutral formulas: {true_count_b161}\")\n",
    "print(f\"Number of non-neutral formulas: {false_count_b161}\")\n",
    "\n",
    "# Store the formulas with true results in a new CSV file\n",
    "df_true = df_161[df_161['Neutrality']]\n",
    "df_true.to_csv(\"../../data/d3_validity_check/valid_formulas.csv\", mode='a', header=False, index=False)"
   ]
  },
  {
   "cell_type": "code",
   "execution_count": 32,
   "metadata": {},
   "outputs": [
    {
     "name": "stdout",
     "output_type": "stream",
     "text": [
      "BATCH 162: \n",
      "Total Formulas:  3000\n",
      "Number of neutral formulas: 1149\n",
      "Number of non-neutral formulas: 1851\n"
     ]
    },
    {
     "name": "stderr",
     "output_type": "stream",
     "text": [
      "C:\\Users\\aaayu\\AppData\\Local\\Temp\\ipykernel_13180\\1961819795.py:5: SettingWithCopyWarning: \n",
      "A value is trying to be set on a copy of a slice from a DataFrame.\n",
      "Try using .loc[row_indexer,col_indexer] = value instead\n",
      "\n",
      "See the caveats in the documentation: https://pandas.pydata.org/pandas-docs/stable/user_guide/indexing.html#returning-a-view-versus-a-copy\n",
      "  df_162['Neutrality'] = df_162['Formula'].apply(check_neutrality)\n"
     ]
    }
   ],
   "source": [
    "# Select the next formulas\n",
    "df_162 = df.iloc[96000:99000]\n",
    "    \n",
    "# Apply the neutrality check\n",
    "df_162['Neutrality'] = df_162['Formula'].apply(check_neutrality)\n",
    "print(\"BATCH 162: \")\n",
    "print(\"Total Formulas: \", len(df_162))\n",
    "# Count true and false results\n",
    "true_count_b162 = df_162['Neutrality'].sum()\n",
    "false_count_b162 = len(df_162) - true_count_b162\n",
    "print(f\"Number of neutral formulas: {true_count_b162}\")\n",
    "print(f\"Number of non-neutral formulas: {false_count_b162}\")\n",
    "\n",
    "# Store the formulas with true results in a new CSV file\n",
    "df_true = df_162[df_162['Neutrality']]\n",
    "df_true.to_csv(\"../../data/d3_validity_check/valid_formulas.csv\", mode='a', header=False, index=False)"
   ]
  },
  {
   "cell_type": "code",
   "execution_count": 33,
   "metadata": {},
   "outputs": [
    {
     "name": "stdout",
     "output_type": "stream",
     "text": [
      "BATCH 163: \n",
      "Total Formulas:  1000\n",
      "Number of neutral formulas: 372\n",
      "Number of non-neutral formulas: 628\n"
     ]
    },
    {
     "name": "stderr",
     "output_type": "stream",
     "text": [
      "C:\\Users\\aaayu\\AppData\\Local\\Temp\\ipykernel_13180\\2762303464.py:5: SettingWithCopyWarning: \n",
      "A value is trying to be set on a copy of a slice from a DataFrame.\n",
      "Try using .loc[row_indexer,col_indexer] = value instead\n",
      "\n",
      "See the caveats in the documentation: https://pandas.pydata.org/pandas-docs/stable/user_guide/indexing.html#returning-a-view-versus-a-copy\n",
      "  df_163['Neutrality'] = df_163['Formula'].apply(check_neutrality)\n"
     ]
    }
   ],
   "source": [
    "# Select the next formulas\n",
    "df_163 = df.iloc[99000:100000]\n",
    "    \n",
    "# Apply the neutrality check\n",
    "df_163['Neutrality'] = df_163['Formula'].apply(check_neutrality)\n",
    "print(\"BATCH 163: \")\n",
    "print(\"Total Formulas: \", len(df_163))\n",
    "# Count true and false results\n",
    "true_count_b163 = df_163['Neutrality'].sum()\n",
    "false_count_b163 = len(df_163) - true_count_b163\n",
    "print(f\"Number of neutral formulas: {true_count_b163}\")\n",
    "print(f\"Number of non-neutral formulas: {false_count_b163}\")\n",
    "\n",
    "# Store the formulas with true results in a new CSV file\n",
    "df_true = df_163[df_163['Neutrality']]\n",
    "df_true.to_csv(\"../../data/d3_validity_check/valid_formulas.csv\", mode='a', header=False, index=False)"
   ]
  },
  {
   "cell_type": "code",
   "execution_count": 5,
   "metadata": {},
   "outputs": [],
   "source": [
    "# Load Valid Formulas File\n",
    "\n",
    "valid_formulas = pd.read_csv(\"../../data/d3_validity_check/valid_formulas.csv\")"
   ]
  },
  {
   "cell_type": "code",
   "execution_count": 6,
   "metadata": {},
   "outputs": [
    {
     "data": {
      "text/plain": [
       "(37410, 2)"
      ]
     },
     "execution_count": 6,
     "metadata": {},
     "output_type": "execute_result"
    }
   ],
   "source": [
    "# Shape of valid formulas\n",
    "\n",
    "valid_formulas.shape"
   ]
  },
  {
   "cell_type": "code",
   "execution_count": 7,
   "metadata": {},
   "outputs": [
    {
     "data": {
      "text/html": [
       "<div>\n",
       "<style scoped>\n",
       "    .dataframe tbody tr th:only-of-type {\n",
       "        vertical-align: middle;\n",
       "    }\n",
       "\n",
       "    .dataframe tbody tr th {\n",
       "        vertical-align: top;\n",
       "    }\n",
       "\n",
       "    .dataframe thead th {\n",
       "        text-align: right;\n",
       "    }\n",
       "</style>\n",
       "<table border=\"1\" class=\"dataframe\">\n",
       "  <thead>\n",
       "    <tr style=\"text-align: right;\">\n",
       "      <th></th>\n",
       "      <th>Formula</th>\n",
       "    </tr>\n",
       "  </thead>\n",
       "  <tbody>\n",
       "    <tr>\n",
       "      <th>0</th>\n",
       "      <td>TmFe2V5</td>\n",
       "    </tr>\n",
       "    <tr>\n",
       "      <th>1</th>\n",
       "      <td>Zr5W7C8</td>\n",
       "    </tr>\n",
       "    <tr>\n",
       "      <th>2</th>\n",
       "      <td>Rb2</td>\n",
       "    </tr>\n",
       "    <tr>\n",
       "      <th>3</th>\n",
       "      <td>Rb5</td>\n",
       "    </tr>\n",
       "    <tr>\n",
       "      <th>4</th>\n",
       "      <td>Bi2As4Os5Ac5</td>\n",
       "    </tr>\n",
       "  </tbody>\n",
       "</table>\n",
       "</div>"
      ],
      "text/plain": [
       "        Formula\n",
       "0       TmFe2V5\n",
       "1       Zr5W7C8\n",
       "2           Rb2\n",
       "3           Rb5\n",
       "4  Bi2As4Os5Ac5"
      ]
     },
     "execution_count": 7,
     "metadata": {},
     "output_type": "execute_result"
    }
   ],
   "source": [
    "# Extracting Required Columns\n",
    "\n",
    "valid_formulas = valid_formulas[['Formula']]\n",
    "valid_formulas.head()\n"
   ]
  },
  {
   "cell_type": "code",
   "execution_count": 8,
   "metadata": {},
   "outputs": [
    {
     "name": "stdout",
     "output_type": "stream",
     "text": [
      "Shape Before Remvoing Duplicates:  (37410, 1)\n",
      "Duplicate formulas found:\n",
      "      Formula\n",
      "2         Rb2\n",
      "3         Rb5\n",
      "5         Ni3\n",
      "7         Pr7\n",
      "10        Rb2\n",
      "...       ...\n",
      "37402       O\n",
      "37404     In4\n",
      "37406     Hg4\n",
      "37407      F4\n",
      "37408      Se\n",
      "\n",
      "[20322 rows x 1 columns]\n",
      "Duplicate formulas removed:\n",
      "              Formula\n",
      "0             TmFe2V5\n",
      "1             Zr5W7C8\n",
      "2                 Rb2\n",
      "3                 Rb5\n",
      "4        Bi2As4Os5Ac5\n",
      "...               ...\n",
      "37399  F2Mn2Po2No3Na8\n",
      "37400         SmZr3P6\n",
      "37403      SrNi4Bi6I8\n",
      "37405       Cu5Mo6Se7\n",
      "37409        HgMn4Cr8\n",
      "\n",
      "[17949 rows x 1 columns]\n",
      "No duplicate formulas found.\n",
      "Shape After removing Duplicates:  (17949, 1)\n"
     ]
    }
   ],
   "source": [
    "# Handling Duplicates\n",
    "\n",
    "print(\"Shape Before Remvoing Duplicates: \", valid_formulas.shape)\n",
    "\n",
    "# Checking Duplicates before removing\n",
    "duplicate_formulas = valid_formulas[valid_formulas['Formula'].duplicated(keep=False)]\n",
    "\n",
    "if not duplicate_formulas.empty:\n",
    "    print(\"Duplicate formulas found:\")\n",
    "    print(duplicate_formulas)\n",
    "else:\n",
    "    print(\"No duplicate formulas found.\")\n",
    "\n",
    "\n",
    "# Removing Duplicates\n",
    "formulas = valid_formulas.drop_duplicates(subset='Formula', keep='first')\n",
    "\n",
    "print(\"Duplicate formulas removed:\")\n",
    "print(formulas)\n",
    "\n",
    "\n",
    "# Checking Duplicates after removing\n",
    "duplicate_formulas = formulas[formulas['Formula'].duplicated(keep=False)]\n",
    "\n",
    "if not duplicate_formulas.empty:\n",
    "    print(\"Duplicate formulas found:\")\n",
    "    print(duplicate_formulas)\n",
    "else:\n",
    "    print(\"No duplicate formulas found.\")\n",
    "\n",
    "\n",
    "# Checking Shape after removing\n",
    "print(\"Shape After removing Duplicates: \", formulas.shape)\n"
   ]
  },
  {
   "cell_type": "code",
   "execution_count": 9,
   "metadata": {},
   "outputs": [
    {
     "name": "stdout",
     "output_type": "stream",
     "text": [
      "Formula    0\n",
      "dtype: int64\n"
     ]
    }
   ],
   "source": [
    "# Handling Missing Values\n",
    "\n",
    "print(formulas.isna().sum())"
   ]
  },
  {
   "cell_type": "code",
   "execution_count": 10,
   "metadata": {},
   "outputs": [],
   "source": [
    "formulas.to_csv(\"../../data/d3_validity_check/formulas.csv\", index=False)"
   ]
  },
  {
   "cell_type": "code",
   "execution_count": null,
   "metadata": {},
   "outputs": [],
   "source": []
  }
 ],
 "metadata": {
  "kernelspec": {
   "display_name": "Python 3",
   "language": "python",
   "name": "python3"
  },
  "language_info": {
   "codemirror_mode": {
    "name": "ipython",
    "version": 3
   },
   "file_extension": ".py",
   "mimetype": "text/x-python",
   "name": "python",
   "nbconvert_exporter": "python",
   "pygments_lexer": "ipython3",
   "version": "3.11.3"
  }
 },
 "nbformat": 4,
 "nbformat_minor": 2
}
