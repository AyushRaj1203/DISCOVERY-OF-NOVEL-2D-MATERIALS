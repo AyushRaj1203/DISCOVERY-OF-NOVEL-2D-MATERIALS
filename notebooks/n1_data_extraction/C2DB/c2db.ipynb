{
 "cells": [
  {
   "cell_type": "code",
   "execution_count": 1,
   "metadata": {},
   "outputs": [],
   "source": [
    "import sqlite3\n",
    "import pandas as pd\n",
    "import json"
   ]
  },
  {
   "cell_type": "code",
   "execution_count": 2,
   "metadata": {},
   "outputs": [
    {
     "name": "stdout",
     "output_type": "stream",
     "text": [
      "CSV file generated successfully!\n"
     ]
    }
   ],
   "source": [
    "# Connect to the database\n",
    "conn = sqlite3.connect('c2db.db')\n",
    "\n",
    "# Create a cursor object\n",
    "cursor = conn.cursor()\n",
    "\n",
    "# Execute a query to fetch the data from the 'systems' table\n",
    "cursor.execute(\"SELECT key_value_pairs FROM systems\")\n",
    "\n",
    "# Fetch the results\n",
    "rows = cursor.fetchall()\n",
    "\n",
    "# Close the cursor and the database connection\n",
    "cursor.close()\n",
    "conn.close()\n",
    "\n",
    "# Convert the rows into a list of dictionaries\n",
    "data = []\n",
    "for row in rows:\n",
    "    data.append(json.loads(row[0]))\n",
    "\n",
    "# Convert the list of dictionaries into a DataFrame\n",
    "df = pd.DataFrame(data)\n",
    "\n",
    "# Extract id from uid\n",
    "df[\"Formula\"] = df.apply(lambda x: x.uid.split(\"-\")[0], axis=1)\n",
    "\n",
    "# Write the DataFrame to a CSV file\n",
    "df.to_csv('../../../data/d1_data_extraction/c2db.csv', index=False)\n",
    "\n",
    "print(\"CSV file generated successfully!\")"
   ]
  },
  {
   "cell_type": "code",
   "execution_count": null,
   "metadata": {},
   "outputs": [],
   "source": []
  }
 ],
 "metadata": {
  "kernelspec": {
   "display_name": "Python 3",
   "language": "python",
   "name": "python3"
  },
  "language_info": {
   "codemirror_mode": {
    "name": "ipython",
    "version": 3
   },
   "file_extension": ".py",
   "mimetype": "text/x-python",
   "name": "python",
   "nbconvert_exporter": "python",
   "pygments_lexer": "ipython3",
   "version": "3.11.3"
  }
 },
 "nbformat": 4,
 "nbformat_minor": 2
}
