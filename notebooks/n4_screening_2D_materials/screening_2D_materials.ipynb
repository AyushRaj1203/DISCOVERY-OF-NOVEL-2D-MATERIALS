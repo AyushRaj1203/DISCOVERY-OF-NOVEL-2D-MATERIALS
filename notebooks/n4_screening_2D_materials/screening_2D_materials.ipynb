{
  "cells": [
    {
      "cell_type": "markdown",
      "metadata": {
        "id": "4xm2lxMLUO1t"
      },
      "source": [
        "# **IMPORT NECESSARY LIBRARIES**"
      ]
    },
    {
      "cell_type": "code",
      "execution_count": 1,
      "metadata": {
        "id": "e4ZHZF-mT77G"
      },
      "outputs": [],
      "source": [
        "# Import Libraries\n",
        "\n",
        "import pandas as pd\n",
        "from CBFV import composition\n",
        "from sklearn.preprocessing import StandardScaler\n",
        "from sklearn.preprocessing import normalize\n",
        "from sklearn.ensemble import RandomForestClassifier\n",
        "from sklearn.model_selection import cross_val_score\n"
      ]
    },
    {
      "cell_type": "markdown",
      "metadata": {
        "id": "waUjqoGsU0Rf"
      },
      "source": [
        "# **LOAD DATASETS**"
      ]
    },
    {
      "cell_type": "code",
      "execution_count": 2,
      "metadata": {
        "colab": {
          "base_uri": "https://localhost:8080/"
        },
        "id": "YGaMUhCDUvb8",
        "outputId": "7d98ff25-1352-430e-ab8e-8f5abf0dbd62"
      },
      "outputs": [
        {
          "name": "stderr",
          "output_type": "stream",
          "text": [
            "C:\\Users\\aaayu\\AppData\\Local\\Temp\\ipykernel_21508\\4262069811.py:4: DtypeWarning: Columns (149) have mixed types. Specify dtype option on import or set low_memory=False.\n",
            "  c2db = pd.read_csv('../../data/d1_data_extraction/c2db.csv')\n"
          ]
        }
      ],
      "source": [
        "# Load chemical_formulas\n",
        "\n",
        "matpedia = pd.read_csv('../../data/d1_data_extraction/2Dmatpedia.csv')\n",
        "c2db = pd.read_csv('../../data/d1_data_extraction/c2db.csv')\n",
        "mc3d = pd.read_csv('../../data/d1_data_extraction/mc3d.csv')\n",
        "c1db = pd.read_csv('../../data/d1_data_extraction/c1db.csv')\n",
        "formulas = pd.read_csv('../../data/d3_validity_check/formulas.csv')"
      ]
    },
    {
      "cell_type": "markdown",
      "metadata": {
        "id": "tqERvuSgViU6"
      },
      "source": [
        "# **PREPARING KNOWN 2D FORMULAS**"
      ]
    },
    {
      "cell_type": "markdown",
      "metadata": {
        "id": "2Qewcpj7VrHr"
      },
      "source": [
        "\n",
        "\n",
        "*   **2DMATPEDIA**\n",
        "\n",
        "\n"
      ]
    },
    {
      "cell_type": "code",
      "execution_count": 3,
      "metadata": {
        "colab": {
          "base_uri": "https://localhost:8080/",
          "height": 206
        },
        "id": "ypyHAotSVgbJ",
        "outputId": "12816c3f-9d9e-448a-edba-0a80b6aafbe2"
      },
      "outputs": [
        {
          "data": {
            "text/html": [
              "<div>\n",
              "<style scoped>\n",
              "    .dataframe tbody tr th:only-of-type {\n",
              "        vertical-align: middle;\n",
              "    }\n",
              "\n",
              "    .dataframe tbody tr th {\n",
              "        vertical-align: top;\n",
              "    }\n",
              "\n",
              "    .dataframe thead th {\n",
              "        text-align: right;\n",
              "    }\n",
              "</style>\n",
              "<table border=\"1\" class=\"dataframe\">\n",
              "  <thead>\n",
              "    <tr style=\"text-align: right;\">\n",
              "      <th></th>\n",
              "      <th>Formula</th>\n",
              "    </tr>\n",
              "  </thead>\n",
              "  <tbody>\n",
              "    <tr>\n",
              "      <th>0</th>\n",
              "      <td>O2</td>\n",
              "    </tr>\n",
              "    <tr>\n",
              "      <th>1</th>\n",
              "      <td>C3N</td>\n",
              "    </tr>\n",
              "    <tr>\n",
              "      <th>2</th>\n",
              "      <td>GaN</td>\n",
              "    </tr>\n",
              "    <tr>\n",
              "      <th>3</th>\n",
              "      <td>LiB</td>\n",
              "    </tr>\n",
              "    <tr>\n",
              "      <th>4</th>\n",
              "      <td>Ga</td>\n",
              "    </tr>\n",
              "  </tbody>\n",
              "</table>\n",
              "</div>"
            ],
            "text/plain": [
              "  Formula\n",
              "0      O2\n",
              "1     C3N\n",
              "2     GaN\n",
              "3     LiB\n",
              "4      Ga"
            ]
          },
          "execution_count": 3,
          "metadata": {},
          "output_type": "execute_result"
        }
      ],
      "source": [
        "# Extracting Required Columns\n",
        "\n",
        "matpedia = matpedia[['Formula']]\n",
        "matpedia.head()"
      ]
    },
    {
      "cell_type": "code",
      "execution_count": 4,
      "metadata": {
        "colab": {
          "base_uri": "https://localhost:8080/"
        },
        "id": "L1Na7lC5Y2nb",
        "outputId": "a39b595a-0b45-4950-8268-4a24a508c852"
      },
      "outputs": [
        {
          "data": {
            "text/plain": [
              "Formula    0\n",
              "dtype: int64"
            ]
          },
          "execution_count": 4,
          "metadata": {},
          "output_type": "execute_result"
        }
      ],
      "source": [
        "# Handling Missing Values\n",
        "\n",
        "matpedia.isna().sum()"
      ]
    },
    {
      "cell_type": "code",
      "execution_count": 5,
      "metadata": {
        "colab": {
          "base_uri": "https://localhost:8080/"
        },
        "id": "aR4mZUFfVy6U",
        "outputId": "eccc5984-32eb-497f-8028-4de36441338d"
      },
      "outputs": [
        {
          "name": "stdout",
          "output_type": "stream",
          "text": [
            "Shape Before Remvoing Duplicates:  (6349, 1)\n",
            "Duplicate formulas found:\n",
            "     Formula\n",
            "1        C3N\n",
            "2        GaN\n",
            "4         Ga\n",
            "5     Sb2Te3\n",
            "8       LiMg\n",
            "...      ...\n",
            "6335   TaBr4\n",
            "6337     GaP\n",
            "6338   AuCl2\n",
            "6341   SbBr3\n",
            "6346    WBr2\n",
            "\n",
            "[3004 rows x 1 columns]\n",
            "Duplicate formulas removed:\n",
            "     Formula\n",
            "0         O2\n",
            "1        C3N\n",
            "2        GaN\n",
            "3        LiB\n",
            "4         Ga\n",
            "...      ...\n",
            "6343   GeCl3\n",
            "6344     B2O\n",
            "6345   Ga3Co\n",
            "6347    MgAg\n",
            "6348    SiI3\n",
            "\n",
            "[4378 rows x 1 columns]\n",
            "No duplicate formulas found.\n",
            "Shape After removing Duplicates:  (4378, 1)\n"
          ]
        }
      ],
      "source": [
        "# Handling Duplicates\n",
        "\n",
        "print(\"Shape Before Remvoing Duplicates: \", matpedia.shape)\n",
        "\n",
        "# Checking Duplicates before removing\n",
        "duplicate_formulas = matpedia[matpedia['Formula'].duplicated(keep=False)]\n",
        "\n",
        "if not duplicate_formulas.empty:\n",
        "    print(\"Duplicate formulas found:\")\n",
        "    print(duplicate_formulas)\n",
        "else:\n",
        "    print(\"No duplicate formulas found.\")\n",
        "\n",
        "\n",
        "# Removing Duplicates\n",
        "known_2D_1 = matpedia.drop_duplicates(subset='Formula', keep='first')\n",
        "\n",
        "print(\"Duplicate formulas removed:\")\n",
        "print(known_2D_1)\n",
        "\n",
        "\n",
        "# Checking Duplicates after removing\n",
        "duplicate_formulas = known_2D_1[known_2D_1['Formula'].duplicated(keep=False)]\n",
        "\n",
        "if not duplicate_formulas.empty:\n",
        "    print(\"Duplicate formulas found:\")\n",
        "    print(duplicate_formulas)\n",
        "else:\n",
        "    print(\"No duplicate formulas found.\")\n",
        "\n",
        "\n",
        "# Checking Shape after removing\n",
        "print(\"Shape After removing Duplicates: \", known_2D_1.shape)\n"
      ]
    },
    {
      "cell_type": "markdown",
      "metadata": {
        "id": "3okJTrWgWAn2"
      },
      "source": [
        "\n",
        "\n",
        "*   **C2DB**\n",
        "\n",
        "\n"
      ]
    },
    {
      "cell_type": "code",
      "execution_count": 6,
      "metadata": {
        "colab": {
          "base_uri": "https://localhost:8080/"
        },
        "id": "YFKtBEyDV8Bf",
        "outputId": "ffed0f07-4f6e-4fef-e5c2-45cec08e9776"
      },
      "outputs": [
        {
          "data": {
            "text/plain": [
              "(14264, 168)"
            ]
          },
          "execution_count": 6,
          "metadata": {},
          "output_type": "execute_result"
        }
      ],
      "source": [
        "# Remove non-2d materials\n",
        "c2db = c2db[c2db['dim_nclusters_2D'] == 1]\n",
        "c2db.shape"
      ]
    },
    {
      "cell_type": "code",
      "execution_count": 7,
      "metadata": {
        "colab": {
          "base_uri": "https://localhost:8080/",
          "height": 424
        },
        "id": "Sfcn8XaEWu9B",
        "outputId": "31834c2a-1699-4764-bf57-a83681fd7ead"
      },
      "outputs": [
        {
          "data": {
            "text/html": [
              "<div>\n",
              "<style scoped>\n",
              "    .dataframe tbody tr th:only-of-type {\n",
              "        vertical-align: middle;\n",
              "    }\n",
              "\n",
              "    .dataframe tbody tr th {\n",
              "        vertical-align: top;\n",
              "    }\n",
              "\n",
              "    .dataframe thead th {\n",
              "        text-align: right;\n",
              "    }\n",
              "</style>\n",
              "<table border=\"1\" class=\"dataframe\">\n",
              "  <thead>\n",
              "    <tr style=\"text-align: right;\">\n",
              "      <th></th>\n",
              "      <th>Formula</th>\n",
              "    </tr>\n",
              "  </thead>\n",
              "  <tbody>\n",
              "    <tr>\n",
              "      <th>0</th>\n",
              "      <td>Ga4</td>\n",
              "    </tr>\n",
              "    <tr>\n",
              "      <th>1</th>\n",
              "      <td>Br2Sn2O3</td>\n",
              "    </tr>\n",
              "    <tr>\n",
              "      <th>2</th>\n",
              "      <td>I2O2Au3</td>\n",
              "    </tr>\n",
              "    <tr>\n",
              "      <th>3</th>\n",
              "      <td>Nb2Br3S3</td>\n",
              "    </tr>\n",
              "    <tr>\n",
              "      <th>4</th>\n",
              "      <td>Br2Nb3Se5</td>\n",
              "    </tr>\n",
              "    <tr>\n",
              "      <th>...</th>\n",
              "      <td>...</td>\n",
              "    </tr>\n",
              "    <tr>\n",
              "      <th>15728</th>\n",
              "      <td>P2Rh2S6</td>\n",
              "    </tr>\n",
              "    <tr>\n",
              "      <th>15729</th>\n",
              "      <td>P2Ta2Se6</td>\n",
              "    </tr>\n",
              "    <tr>\n",
              "      <th>15730</th>\n",
              "      <td>P2Zr2Se6</td>\n",
              "    </tr>\n",
              "    <tr>\n",
              "      <th>15731</th>\n",
              "      <td>Mo2W2Se8</td>\n",
              "    </tr>\n",
              "    <tr>\n",
              "      <th>15732</th>\n",
              "      <td>FeZrI6</td>\n",
              "    </tr>\n",
              "  </tbody>\n",
              "</table>\n",
              "<p>14264 rows × 1 columns</p>\n",
              "</div>"
            ],
            "text/plain": [
              "         Formula\n",
              "0            Ga4\n",
              "1       Br2Sn2O3\n",
              "2        I2O2Au3\n",
              "3       Nb2Br3S3\n",
              "4      Br2Nb3Se5\n",
              "...          ...\n",
              "15728    P2Rh2S6\n",
              "15729   P2Ta2Se6\n",
              "15730   P2Zr2Se6\n",
              "15731   Mo2W2Se8\n",
              "15732     FeZrI6\n",
              "\n",
              "[14264 rows x 1 columns]"
            ]
          },
          "execution_count": 7,
          "metadata": {},
          "output_type": "execute_result"
        }
      ],
      "source": [
        "# Extracting Required Columns\n",
        "\n",
        "c2db = c2db[['Formula']]\n",
        "c2db"
      ]
    },
    {
      "cell_type": "code",
      "execution_count": 8,
      "metadata": {
        "colab": {
          "base_uri": "https://localhost:8080/"
        },
        "id": "lxW7pECKZJTs",
        "outputId": "651fde50-f04c-4c4f-e5e5-e80cf5e9ed13"
      },
      "outputs": [
        {
          "data": {
            "text/plain": [
              "Formula    0\n",
              "dtype: int64"
            ]
          },
          "execution_count": 8,
          "metadata": {},
          "output_type": "execute_result"
        }
      ],
      "source": [
        "# Handling Missing Values\n",
        "\n",
        "c2db.isna().sum()"
      ]
    },
    {
      "cell_type": "code",
      "execution_count": 9,
      "metadata": {
        "colab": {
          "base_uri": "https://localhost:8080/"
        },
        "id": "CeTGelDUW_NS",
        "outputId": "4a40a60c-df52-4199-baf0-8a786a4c1ac4"
      },
      "outputs": [
        {
          "name": "stdout",
          "output_type": "stream",
          "text": [
            "Shape Before Remvoing Duplicates:  (14264, 1)\n",
            "Duplicate formulas found:\n",
            "          Formula\n",
            "44       Cl2N2Nb2\n",
            "206    B2F2Se2Ti3\n",
            "209    C2H2Te2Ti3\n",
            "210    F2N2Se2Ti3\n",
            "240      Al2Fe2S5\n",
            "...           ...\n",
            "15721      SeTeTi\n",
            "15725     Cr2P2S6\n",
            "15728     P2Rh2S6\n",
            "15729    P2Ta2Se6\n",
            "15730    P2Zr2Se6\n",
            "\n",
            "[3240 rows x 1 columns]\n",
            "Duplicate formulas removed:\n",
            "         Formula\n",
            "0            Ga4\n",
            "1       Br2Sn2O3\n",
            "2        I2O2Au3\n",
            "3       Nb2Br3S3\n",
            "4      Br2Nb3Se5\n",
            "...          ...\n",
            "15723    Co2H2O4\n",
            "15724    Al2P2S6\n",
            "15727    Ni2P2S6\n",
            "15731   Mo2W2Se8\n",
            "15732     FeZrI6\n",
            "\n",
            "[12316 rows x 1 columns]\n",
            "No duplicate formulas found.\n",
            "Shape After removing Duplicates:  (12316, 1)\n"
          ]
        }
      ],
      "source": [
        "# Handling Duplicates\n",
        "\n",
        "print(\"Shape Before Remvoing Duplicates: \", c2db.shape)\n",
        "\n",
        "# Checking Duplicates before removing\n",
        "duplicate_formulas = c2db[c2db['Formula'].duplicated(keep=False)]\n",
        "\n",
        "if not duplicate_formulas.empty:\n",
        "    print(\"Duplicate formulas found:\")\n",
        "    print(duplicate_formulas)\n",
        "else:\n",
        "    print(\"No duplicate formulas found.\")\n",
        "\n",
        "\n",
        "# Removing Duplicates\n",
        "known_2D_2 = c2db.drop_duplicates(subset='Formula', keep='first')\n",
        "\n",
        "print(\"Duplicate formulas removed:\")\n",
        "print(known_2D_2)\n",
        "\n",
        "\n",
        "# Checking Duplicates after removing\n",
        "duplicate_formulas = known_2D_2[known_2D_2['Formula'].duplicated(keep=False)]\n",
        "\n",
        "if not duplicate_formulas.empty:\n",
        "    print(\"Duplicate formulas found:\")\n",
        "    print(duplicate_formulas)\n",
        "else:\n",
        "    print(\"No duplicate formulas found.\")\n",
        "\n",
        "\n",
        "# Checking Shape after removing\n",
        "print(\"Shape After removing Duplicates: \", known_2D_2.shape)\n"
      ]
    },
    {
      "cell_type": "markdown",
      "metadata": {
        "id": "fZXTZyXgZZaL"
      },
      "source": [
        "\n",
        "\n",
        "*   **KNOWN 2D FORMULAS**\n",
        "\n",
        "\n"
      ]
    },
    {
      "cell_type": "code",
      "execution_count": 10,
      "metadata": {
        "id": "3XC_TQ_lXTST"
      },
      "outputs": [],
      "source": [
        "# Concatenate the known_2D_1 with the known_2D_2\n",
        "known_2D = pd.concat([known_2D_1, known_2D_2], ignore_index=True)\n",
        "indices_to_drop = known_2D[known_2D['Formula'].isin(['2-Feb', '3-Feb', '4-Feb'])].index\n",
        "known_2D.drop(indices_to_drop, inplace=True)"
      ]
    },
    {
      "cell_type": "code",
      "execution_count": 11,
      "metadata": {
        "colab": {
          "base_uri": "https://localhost:8080/"
        },
        "id": "0sMDXpwZX1Qj",
        "outputId": "302e8a01-75aa-4965-e9ff-fb1c010bed83"
      },
      "outputs": [
        {
          "data": {
            "text/plain": [
              "(16691, 1)"
            ]
          },
          "execution_count": 11,
          "metadata": {},
          "output_type": "execute_result"
        }
      ],
      "source": [
        "known_2D.shape"
      ]
    },
    {
      "cell_type": "markdown",
      "metadata": {
        "id": "yRR96abyYJHr"
      },
      "source": [
        "# **PREPARING KNOWN NON-2D FORMULAS**"
      ]
    },
    {
      "cell_type": "markdown",
      "metadata": {
        "id": "dbNywxANZkXA"
      },
      "source": [
        "\n",
        "\n",
        "*   **C1DB**\n",
        "\n",
        "\n"
      ]
    },
    {
      "cell_type": "code",
      "execution_count": 12,
      "metadata": {
        "colab": {
          "base_uri": "https://localhost:8080/",
          "height": 206
        },
        "id": "2i1VRbFZX4Cz",
        "outputId": "041f1d2e-ef02-4d33-9c48-b2494b11c30b"
      },
      "outputs": [
        {
          "data": {
            "text/html": [
              "<div>\n",
              "<style scoped>\n",
              "    .dataframe tbody tr th:only-of-type {\n",
              "        vertical-align: middle;\n",
              "    }\n",
              "\n",
              "    .dataframe tbody tr th {\n",
              "        vertical-align: top;\n",
              "    }\n",
              "\n",
              "    .dataframe thead th {\n",
              "        text-align: right;\n",
              "    }\n",
              "</style>\n",
              "<table border=\"1\" class=\"dataframe\">\n",
              "  <thead>\n",
              "    <tr style=\"text-align: right;\">\n",
              "      <th></th>\n",
              "      <th>Formula</th>\n",
              "    </tr>\n",
              "  </thead>\n",
              "  <tbody>\n",
              "    <tr>\n",
              "      <th>0</th>\n",
              "      <td>ZrSe4Hf5Br10</td>\n",
              "    </tr>\n",
              "    <tr>\n",
              "      <th>1</th>\n",
              "      <td>SiSnTiHf2S3I4Br6</td>\n",
              "    </tr>\n",
              "    <tr>\n",
              "      <th>2</th>\n",
              "      <td>Cl2P2Se2</td>\n",
              "    </tr>\n",
              "    <tr>\n",
              "      <th>3</th>\n",
              "      <td>SSiMo2Cl8</td>\n",
              "    </tr>\n",
              "    <tr>\n",
              "      <th>4</th>\n",
              "      <td>VZrI6</td>\n",
              "    </tr>\n",
              "  </tbody>\n",
              "</table>\n",
              "</div>"
            ],
            "text/plain": [
              "            Formula\n",
              "0      ZrSe4Hf5Br10\n",
              "1  SiSnTiHf2S3I4Br6\n",
              "2          Cl2P2Se2\n",
              "3         SSiMo2Cl8\n",
              "4             VZrI6"
            ]
          },
          "execution_count": 12,
          "metadata": {},
          "output_type": "execute_result"
        }
      ],
      "source": [
        "# Extracting Required Columns\n",
        "\n",
        "c1db = c1db[['Formula']]\n",
        "c1db.head()"
      ]
    },
    {
      "cell_type": "code",
      "execution_count": 13,
      "metadata": {
        "colab": {
          "base_uri": "https://localhost:8080/"
        },
        "id": "ZmUCvy9MZoND",
        "outputId": "de3e8b06-6b5b-49a9-cd6c-90bcbd7ad92c"
      },
      "outputs": [
        {
          "data": {
            "text/plain": [
              "Formula    0\n",
              "dtype: int64"
            ]
          },
          "execution_count": 13,
          "metadata": {},
          "output_type": "execute_result"
        }
      ],
      "source": [
        "# Handling Missing Values\n",
        "\n",
        "c1db.isna().sum()"
      ]
    },
    {
      "cell_type": "code",
      "execution_count": 14,
      "metadata": {
        "colab": {
          "base_uri": "https://localhost:8080/"
        },
        "id": "VgHGbOCOZswN",
        "outputId": "1768254a-de93-468d-8ae2-ac48eb42f747"
      },
      "outputs": [
        {
          "name": "stdout",
          "output_type": "stream",
          "text": [
            "Shape Before Remvoing Duplicates:  (3152, 1)\n",
            "Duplicate formulas found:\n",
            "        Formula\n",
            "2      Cl2P2Se2\n",
            "61     OsVS2Br5\n",
            "133       S2Ag4\n",
            "135      As4Te6\n",
            "136      Be2Br4\n",
            "...         ...\n",
            "3147      NW2I8\n",
            "3148  Mo4N4Br12\n",
            "3149   Mo4N4I12\n",
            "3150   N4W4Br12\n",
            "3151    N4W4I12\n",
            "\n",
            "[1850 rows x 1 columns]\n",
            "Duplicate formulas removed:\n",
            "               Formula\n",
            "0         ZrSe4Hf5Br10\n",
            "1     SiSnTiHf2S3I4Br6\n",
            "2             Cl2P2Se2\n",
            "3            SSiMo2Cl8\n",
            "4                VZrI6\n",
            "...                ...\n",
            "3127         Ta4Br8Cl8\n",
            "3130        Ge4Ti4Se12\n",
            "3133        Si4Ti4Te12\n",
            "3136        Si4Ti4Se24\n",
            "3142           Mo2O2I8\n",
            "\n",
            "[2111 rows x 1 columns]\n",
            "No duplicate formulas found.\n",
            "Shape After removing Duplicates:  (2111, 1)\n"
          ]
        }
      ],
      "source": [
        "# Handling Duplicates\n",
        "\n",
        "print(\"Shape Before Remvoing Duplicates: \", c1db.shape)\n",
        "\n",
        "# Checking Duplicates before removing\n",
        "duplicate_formulas = c1db[c1db['Formula'].duplicated(keep=False)]\n",
        "\n",
        "if not duplicate_formulas.empty:\n",
        "    print(\"Duplicate formulas found:\")\n",
        "    print(duplicate_formulas)\n",
        "else:\n",
        "    print(\"No duplicate formulas found.\")\n",
        "\n",
        "\n",
        "# Removing Duplicates\n",
        "known_non2D_1 = c1db.drop_duplicates(subset='Formula', keep='first')\n",
        "\n",
        "print(\"Duplicate formulas removed:\")\n",
        "print(known_non2D_1)\n",
        "\n",
        "\n",
        "# Checking Duplicates after removing\n",
        "duplicate_formulas = known_non2D_1[known_non2D_1['Formula'].duplicated(keep=False)]\n",
        "\n",
        "if not duplicate_formulas.empty:\n",
        "    print(\"Duplicate formulas found:\")\n",
        "    print(duplicate_formulas)\n",
        "else:\n",
        "    print(\"No duplicate formulas found.\")\n",
        "\n",
        "\n",
        "# Checking Shape after removing\n",
        "print(\"Shape After removing Duplicates: \", known_non2D_1.shape)\n"
      ]
    },
    {
      "cell_type": "markdown",
      "metadata": {
        "id": "RJgCZyhFaT43"
      },
      "source": [
        "\n",
        "\n",
        "*   **MC3D**\n",
        "\n"
      ]
    },
    {
      "cell_type": "code",
      "execution_count": 15,
      "metadata": {
        "colab": {
          "base_uri": "https://localhost:8080/",
          "height": 293
        },
        "id": "_EQrzkCeaQwk",
        "outputId": "fa9eed74-8c0a-4af2-e017-874b93450413"
      },
      "outputs": [
        {
          "data": {
            "text/html": [
              "<div>\n",
              "<style scoped>\n",
              "    .dataframe tbody tr th:only-of-type {\n",
              "        vertical-align: middle;\n",
              "    }\n",
              "\n",
              "    .dataframe tbody tr th {\n",
              "        vertical-align: top;\n",
              "    }\n",
              "\n",
              "    .dataframe thead th {\n",
              "        text-align: right;\n",
              "    }\n",
              "</style>\n",
              "<table border=\"1\" class=\"dataframe\">\n",
              "  <thead>\n",
              "    <tr style=\"text-align: right;\">\n",
              "      <th></th>\n",
              "      <th>Formula</th>\n",
              "    </tr>\n",
              "  </thead>\n",
              "  <tbody>\n",
              "    <tr>\n",
              "      <th>0</th>\n",
              "      <td>Ge26Ir8Y6</td>\n",
              "    </tr>\n",
              "    <tr>\n",
              "      <th>1</th>\n",
              "      <td>FeSbV</td>\n",
              "    </tr>\n",
              "    <tr>\n",
              "      <th>2</th>\n",
              "      <td>C4Ba2N4S4</td>\n",
              "    </tr>\n",
              "    <tr>\n",
              "      <th>3</th>\n",
              "      <td>Ag4F28Ru4</td>\n",
              "    </tr>\n",
              "    <tr>\n",
              "      <th>4</th>\n",
              "      <td>Rh4Sn16</td>\n",
              "    </tr>\n",
              "  </tbody>\n",
              "</table>\n",
              "</div>"
            ],
            "text/plain": [
              "     Formula\n",
              "0  Ge26Ir8Y6\n",
              "1      FeSbV\n",
              "2  C4Ba2N4S4\n",
              "3  Ag4F28Ru4\n",
              "4    Rh4Sn16"
            ]
          },
          "execution_count": 15,
          "metadata": {},
          "output_type": "execute_result"
        }
      ],
      "source": [
        "# Extracting Required Columns\n",
        "\n",
        "mc3d.rename(columns={'formula': 'Formula'}, inplace=True)\n",
        "mc3d = mc3d[['Formula']]\n",
        "mc3d.head()"
      ]
    },
    {
      "cell_type": "code",
      "execution_count": 16,
      "metadata": {
        "colab": {
          "base_uri": "https://localhost:8080/"
        },
        "id": "ZRYnzEYXaeCy",
        "outputId": "e56e79ac-8846-4ab8-f85e-bc78cd385a41"
      },
      "outputs": [
        {
          "data": {
            "text/plain": [
              "Formula    0\n",
              "dtype: int64"
            ]
          },
          "execution_count": 16,
          "metadata": {},
          "output_type": "execute_result"
        }
      ],
      "source": [
        "# Handling Missing Values\n",
        "\n",
        "mc3d.isna().sum()"
      ]
    },
    {
      "cell_type": "code",
      "execution_count": 17,
      "metadata": {
        "colab": {
          "base_uri": "https://localhost:8080/"
        },
        "id": "pvbG4K1Ka0s_",
        "outputId": "10a131e1-4298-47a0-9b25-5f57350801c4"
      },
      "outputs": [
        {
          "name": "stdout",
          "output_type": "stream",
          "text": [
            "Shape Before Remvoing Duplicates:  (34487, 1)\n",
            "Duplicate formulas found:\n",
            "            Formula\n",
            "1             FeSbV\n",
            "2         C4Ba2N4S4\n",
            "15     B14Cl2Mg6O26\n",
            "32         Au2F8Li2\n",
            "37        Mo6Se6Tl2\n",
            "...             ...\n",
            "34470     Cs2H4O8P2\n",
            "34480     O24Pb12W4\n",
            "34482     Bi4Nb4O16\n",
            "34484           Ca4\n",
            "34485     Cu2FeS4Sn\n",
            "\n",
            "[5203 rows x 1 columns]\n",
            "Duplicate formulas removed:\n",
            "                Formula\n",
            "0             Ge26Ir8Y6\n",
            "1                 FeSbV\n",
            "2             C4Ba2N4S4\n",
            "3             Ag4F28Ru4\n",
            "4               Rh4Sn16\n",
            "...                 ...\n",
            "34478            F24Tb6\n",
            "34479       K4O42S12Sn2\n",
            "34481            As6Mo4\n",
            "34483      Cr4Mg4O24Si8\n",
            "34486  Ca2H4Mn4Na2O24P6\n",
            "\n",
            "[31464 rows x 1 columns]\n",
            "No duplicate formulas found.\n",
            "Shape After removing Duplicates:  (31464, 1)\n"
          ]
        }
      ],
      "source": [
        "# Handling Duplicates\n",
        "\n",
        "print(\"Shape Before Remvoing Duplicates: \", mc3d.shape)\n",
        "\n",
        "# Checking Duplicates before removing\n",
        "duplicate_formulas = mc3d[mc3d['Formula'].duplicated(keep=False)]\n",
        "\n",
        "if not duplicate_formulas.empty:\n",
        "    print(\"Duplicate formulas found:\")\n",
        "    print(duplicate_formulas)\n",
        "else:\n",
        "    print(\"No duplicate formulas found.\")\n",
        "\n",
        "\n",
        "# Removing Duplicates\n",
        "known_non2D_2 = mc3d.drop_duplicates(subset='Formula', keep='first')\n",
        "\n",
        "print(\"Duplicate formulas removed:\")\n",
        "print(known_non2D_2)\n",
        "\n",
        "\n",
        "# Checking Duplicates after removing\n",
        "duplicate_formulas = known_non2D_2[known_non2D_2['Formula'].duplicated(keep=False)]\n",
        "\n",
        "if not duplicate_formulas.empty:\n",
        "    print(\"Duplicate formulas found:\")\n",
        "    print(duplicate_formulas)\n",
        "else:\n",
        "    print(\"No duplicate formulas found.\")\n",
        "\n",
        "\n",
        "# Checking Shape after removing\n",
        "print(\"Shape After removing Duplicates: \", known_non2D_2.shape)"
      ]
    },
    {
      "cell_type": "markdown",
      "metadata": {
        "id": "HxIjiO5jbNDL"
      },
      "source": [
        "\n",
        "\n",
        "*   **KNOWN NON 2D FORMULAS**\n",
        "\n",
        "\n"
      ]
    },
    {
      "cell_type": "code",
      "execution_count": 18,
      "metadata": {
        "id": "vECiXEHpbDED"
      },
      "outputs": [],
      "source": [
        "# Concatenate the known_2D_1 with the known_2D_2\n",
        "known_non2D = pd.concat([known_non2D_1, known_non2D_2], ignore_index=True)\n",
        "indices_to_drop = known_non2D[known_non2D['Formula'].isin(['2-Feb', '3-Feb', '4-Feb'])].index\n",
        "known_non2D.drop(indices_to_drop, inplace=True)"
      ]
    },
    {
      "cell_type": "code",
      "execution_count": 19,
      "metadata": {
        "colab": {
          "base_uri": "https://localhost:8080/"
        },
        "id": "-tHfNzIYbcTd",
        "outputId": "b5a3bca8-8089-4a7c-fde3-b88c1b87affc"
      },
      "outputs": [
        {
          "data": {
            "text/plain": [
              "(33575, 1)"
            ]
          },
          "execution_count": 19,
          "metadata": {},
          "output_type": "execute_result"
        }
      ],
      "source": [
        "known_non2D.shape"
      ]
    },
    {
      "cell_type": "markdown",
      "metadata": {
        "id": "Z94xnEYfbxRg"
      },
      "source": [
        "# **PREPARING TRAINING DATA**"
      ]
    },
    {
      "cell_type": "code",
      "execution_count": 20,
      "metadata": {
        "id": "hB5EHYw6bipD"
      },
      "outputs": [],
      "source": [
        "# Rename Columns\n",
        "\n",
        "known_2D.rename(columns={'Formula': 'formula'}, inplace=True)\n",
        "known_non2D.rename(columns={'Formula': 'formula'}, inplace=True)\n",
        "\n",
        "# Add labels\n",
        "known_2D['target'] = 1\n",
        "known_non2D['target'] = 0"
      ]
    },
    {
      "cell_type": "code",
      "execution_count": 21,
      "metadata": {
        "id": "Iz0YvA2KcWXT"
      },
      "outputs": [],
      "source": [
        "desired_non2D_count = int(1.5 * known_2D.shape[0])"
      ]
    },
    {
      "cell_type": "code",
      "execution_count": 22,
      "metadata": {
        "id": "lfc96yHHcme-"
      },
      "outputs": [],
      "source": [
        "# Randomly sample from non-2D samples to match the desired count\n",
        "oversampled_known_non2D = known_non2D.sample(n=desired_non2D_count, replace=True, random_state=42)"
      ]
    },
    {
      "cell_type": "code",
      "execution_count": 23,
      "metadata": {
        "id": "V349vLNZc1MK"
      },
      "outputs": [],
      "source": [
        "# Concatenate the oversampled positive samples with the original negative samples\n",
        "training_data = pd.concat([oversampled_known_non2D, known_2D], ignore_index=True)\n",
        "indices_to_drop = training_data[training_data['formula'].isin(['2-Feb', '3-Feb', '4-Feb'])].index\n",
        "training_data.drop(indices_to_drop, inplace=True)"
      ]
    },
    {
      "cell_type": "code",
      "execution_count": 24,
      "metadata": {
        "colab": {
          "base_uri": "https://localhost:8080/"
        },
        "id": "org6ri_8dAdL",
        "outputId": "60586437-ad3e-4f27-95c1-136aac9e9785"
      },
      "outputs": [
        {
          "name": "stdout",
          "output_type": "stream",
          "text": [
            "KNOWN 2D Shape:  (16691, 2)\n",
            "KNOWN NON 2D Shape:  (25036, 2)\n",
            "Training Data Shape:  (41727, 2)\n"
          ]
        }
      ],
      "source": [
        "# Shuffle the data to mix positive and negative samples\n",
        "training_data = training_data.sample(frac=1, random_state=42).reset_index(drop=True)\n",
        "print(\"KNOWN 2D Shape: \", known_2D.shape)\n",
        "print(\"KNOWN NON 2D Shape: \", oversampled_known_non2D.shape)\n",
        "print(\"Training Data Shape: \", training_data.shape)"
      ]
    },
    {
      "cell_type": "code",
      "execution_count": 25,
      "metadata": {
        "colab": {
          "base_uri": "https://localhost:8080/",
          "height": 206
        },
        "id": "C-6pES88dalv",
        "outputId": "3249e899-7c18-408b-c1eb-0ac168a30f3f"
      },
      "outputs": [
        {
          "data": {
            "text/html": [
              "<div>\n",
              "<style scoped>\n",
              "    .dataframe tbody tr th:only-of-type {\n",
              "        vertical-align: middle;\n",
              "    }\n",
              "\n",
              "    .dataframe tbody tr th {\n",
              "        vertical-align: top;\n",
              "    }\n",
              "\n",
              "    .dataframe thead th {\n",
              "        text-align: right;\n",
              "    }\n",
              "</style>\n",
              "<table border=\"1\" class=\"dataframe\">\n",
              "  <thead>\n",
              "    <tr style=\"text-align: right;\">\n",
              "      <th></th>\n",
              "      <th>formula</th>\n",
              "      <th>target</th>\n",
              "    </tr>\n",
              "  </thead>\n",
              "  <tbody>\n",
              "    <tr>\n",
              "      <th>0</th>\n",
              "      <td>Pt12Zr4</td>\n",
              "      <td>0</td>\n",
              "    </tr>\n",
              "    <tr>\n",
              "      <th>1</th>\n",
              "      <td>Br12Sn6</td>\n",
              "      <td>0</td>\n",
              "    </tr>\n",
              "    <tr>\n",
              "      <th>2</th>\n",
              "      <td>Co4Mo4P4</td>\n",
              "      <td>0</td>\n",
              "    </tr>\n",
              "    <tr>\n",
              "      <th>3</th>\n",
              "      <td>F2Sc2Se2</td>\n",
              "      <td>1</td>\n",
              "    </tr>\n",
              "    <tr>\n",
              "      <th>4</th>\n",
              "      <td>Ge8Ti4</td>\n",
              "      <td>0</td>\n",
              "    </tr>\n",
              "  </tbody>\n",
              "</table>\n",
              "</div>"
            ],
            "text/plain": [
              "    formula  target\n",
              "0   Pt12Zr4       0\n",
              "1   Br12Sn6       0\n",
              "2  Co4Mo4P4       0\n",
              "3  F2Sc2Se2       1\n",
              "4    Ge8Ti4       0"
            ]
          },
          "execution_count": 25,
          "metadata": {},
          "output_type": "execute_result"
        }
      ],
      "source": [
        "training_data.head()"
      ]
    },
    {
      "cell_type": "markdown",
      "metadata": {
        "id": "PBefo8-Bdin-"
      },
      "source": [
        "# **PREPARING VALID FORMULAS**"
      ]
    },
    {
      "cell_type": "code",
      "execution_count": 26,
      "metadata": {
        "id": "7JYdST0mdfu3"
      },
      "outputs": [],
      "source": [
        "formulas['target'] = 0"
      ]
    },
    {
      "cell_type": "code",
      "execution_count": 27,
      "metadata": {
        "id": "SVdv3oN-dqan"
      },
      "outputs": [],
      "source": [
        "# Rename Valid_Formulas\n",
        "\n",
        "formulas.rename(columns={'Formula': 'formula'}, inplace=True)"
      ]
    },
    {
      "cell_type": "code",
      "execution_count": 28,
      "metadata": {
        "colab": {
          "base_uri": "https://localhost:8080/",
          "height": 424
        },
        "id": "7HXvnQtadxvz",
        "outputId": "7e6f7648-e0c3-42cb-e970-0ad89b0cf049"
      },
      "outputs": [
        {
          "data": {
            "text/html": [
              "<div>\n",
              "<style scoped>\n",
              "    .dataframe tbody tr th:only-of-type {\n",
              "        vertical-align: middle;\n",
              "    }\n",
              "\n",
              "    .dataframe tbody tr th {\n",
              "        vertical-align: top;\n",
              "    }\n",
              "\n",
              "    .dataframe thead th {\n",
              "        text-align: right;\n",
              "    }\n",
              "</style>\n",
              "<table border=\"1\" class=\"dataframe\">\n",
              "  <thead>\n",
              "    <tr style=\"text-align: right;\">\n",
              "      <th></th>\n",
              "      <th>formula</th>\n",
              "      <th>target</th>\n",
              "    </tr>\n",
              "  </thead>\n",
              "  <tbody>\n",
              "    <tr>\n",
              "      <th>0</th>\n",
              "      <td>TmFe2V5</td>\n",
              "      <td>0</td>\n",
              "    </tr>\n",
              "    <tr>\n",
              "      <th>1</th>\n",
              "      <td>Zr5W7C8</td>\n",
              "      <td>0</td>\n",
              "    </tr>\n",
              "    <tr>\n",
              "      <th>2</th>\n",
              "      <td>Rb2</td>\n",
              "      <td>0</td>\n",
              "    </tr>\n",
              "    <tr>\n",
              "      <th>3</th>\n",
              "      <td>Rb5</td>\n",
              "      <td>0</td>\n",
              "    </tr>\n",
              "    <tr>\n",
              "      <th>4</th>\n",
              "      <td>Bi2As4Os5Ac5</td>\n",
              "      <td>0</td>\n",
              "    </tr>\n",
              "    <tr>\n",
              "      <th>...</th>\n",
              "      <td>...</td>\n",
              "      <td>...</td>\n",
              "    </tr>\n",
              "    <tr>\n",
              "      <th>17944</th>\n",
              "      <td>F2Mn2Po2No3Na8</td>\n",
              "      <td>0</td>\n",
              "    </tr>\n",
              "    <tr>\n",
              "      <th>17945</th>\n",
              "      <td>SmZr3P6</td>\n",
              "      <td>0</td>\n",
              "    </tr>\n",
              "    <tr>\n",
              "      <th>17946</th>\n",
              "      <td>SrNi4Bi6I8</td>\n",
              "      <td>0</td>\n",
              "    </tr>\n",
              "    <tr>\n",
              "      <th>17947</th>\n",
              "      <td>Cu5Mo6Se7</td>\n",
              "      <td>0</td>\n",
              "    </tr>\n",
              "    <tr>\n",
              "      <th>17948</th>\n",
              "      <td>HgMn4Cr8</td>\n",
              "      <td>0</td>\n",
              "    </tr>\n",
              "  </tbody>\n",
              "</table>\n",
              "<p>17949 rows × 2 columns</p>\n",
              "</div>"
            ],
            "text/plain": [
              "              formula  target\n",
              "0             TmFe2V5       0\n",
              "1             Zr5W7C8       0\n",
              "2                 Rb2       0\n",
              "3                 Rb5       0\n",
              "4        Bi2As4Os5Ac5       0\n",
              "...               ...     ...\n",
              "17944  F2Mn2Po2No3Na8       0\n",
              "17945         SmZr3P6       0\n",
              "17946      SrNi4Bi6I8       0\n",
              "17947       Cu5Mo6Se7       0\n",
              "17948        HgMn4Cr8       0\n",
              "\n",
              "[17949 rows x 2 columns]"
            ]
          },
          "execution_count": 28,
          "metadata": {},
          "output_type": "execute_result"
        }
      ],
      "source": [
        "formulas"
      ]
    },
    {
      "cell_type": "code",
      "execution_count": 29,
      "metadata": {
        "id": "5K8zoefWdzpM"
      },
      "outputs": [],
      "source": [
        "# Save all data in csv file\n",
        "\n",
        "known_2D.to_csv(\"../../data/d4_screening_2D_materials/known_2D.csv\", index=False)\n",
        "oversampled_known_non2D.to_csv(\"../../data/d4_screening_2D_materials/known_non2D.csv\", index=False)\n",
        "training_data.to_csv(\"../../data/d4_screening_2D_materials/training_data.csv\", index=False)"
      ]
    },
    {
      "cell_type": "markdown",
      "metadata": {
        "id": "Iwn4atgJeO8K"
      },
      "source": [
        "# **FEATURIZATION**"
      ]
    },
    {
      "cell_type": "code",
      "execution_count": 30,
      "metadata": {
        "colab": {
          "base_uri": "https://localhost:8080/"
        },
        "id": "Z5Rmo4FEeOgM",
        "outputId": "293323f0-1c6d-4a0a-aca4-428895c80af3"
      },
      "outputs": [
        {
          "name": "stderr",
          "output_type": "stream",
          "text": [
            "Processing Input Data: 100%|██████████| 41727/41727 [00:01<00:00, 22803.65it/s]\n"
          ]
        },
        {
          "name": "stdout",
          "output_type": "stream",
          "text": [
            "\tFeaturizing Compositions...\n"
          ]
        },
        {
          "name": "stderr",
          "output_type": "stream",
          "text": [
            "Assigning Features...: 100%|██████████| 41727/41727 [00:04<00:00, 10349.32it/s]\n"
          ]
        },
        {
          "name": "stdout",
          "output_type": "stream",
          "text": [
            "\tCreating Pandas Objects...\n"
          ]
        },
        {
          "name": "stderr",
          "output_type": "stream",
          "text": [
            "Processing Input Data: 100%|██████████| 17949/17949 [00:00<00:00, 19344.49it/s]\n"
          ]
        },
        {
          "name": "stdout",
          "output_type": "stream",
          "text": [
            "\tFeaturizing Compositions...\n"
          ]
        },
        {
          "name": "stderr",
          "output_type": "stream",
          "text": [
            "Assigning Features...: 100%|██████████| 17949/17949 [00:01<00:00, 10224.70it/s]\n"
          ]
        },
        {
          "name": "stdout",
          "output_type": "stream",
          "text": [
            "\n",
            "NOTE: Your data contains formula with exotic elements. These were skipped.\n",
            "\tCreating Pandas Objects...\n"
          ]
        }
      ],
      "source": [
        "# Featurizing\n",
        "\n",
        "X_train_unscaled, y_train, _, _ = composition.generate_features(training_data, elem_prop='magpie', drop_duplicates=False, extend_features=True, sum_feat=True)\n",
        "X_test_unscaled, _, _, _ = composition.generate_features(formulas, elem_prop='magpie', drop_duplicates=False, extend_features=False, sum_feat=True)"
      ]
    },
    {
      "cell_type": "code",
      "execution_count": 31,
      "metadata": {
        "id": "lnzdzgbbeXhj"
      },
      "outputs": [],
      "source": [
        "# Scaling the Data\n",
        "scaler = StandardScaler()\n",
        "X_train = scaler.fit_transform(X_train_unscaled)\n",
        "X_test = scaler.fit_transform(X_test_unscaled)\n",
        "# Normalizing the Data\n",
        "X_train = normalize(X_train)\n",
        "X_test = normalize(X_test)"
      ]
    },
    {
      "cell_type": "markdown",
      "metadata": {
        "id": "_7IGN5NAegjM"
      },
      "source": [
        "# **MODEL TRAINING**"
      ]
    },
    {
      "cell_type": "code",
      "execution_count": 32,
      "metadata": {
        "id": "K2-UElDneeYn"
      },
      "outputs": [],
      "source": [
        "# Initialize and train the model\n",
        "rf = RandomForestClassifier(max_depth=10, n_estimators=250, random_state=42)\n",
        "cv_scores = cross_val_score(rf, X_train, y_train, cv=10, scoring='accuracy')"
      ]
    },
    {
      "cell_type": "code",
      "execution_count": 33,
      "metadata": {
        "colab": {
          "base_uri": "https://localhost:8080/"
        },
        "id": "Ma0E17gNeoqg",
        "outputId": "bb9a8fce-e584-4021-8955-20e8ebbc668e"
      },
      "outputs": [
        {
          "name": "stdout",
          "output_type": "stream",
          "text": [
            "Cross-validation accuracy: 0.8953432891305312\n"
          ]
        }
      ],
      "source": [
        "print(f'Cross-validation accuracy: {cv_scores.mean()}')"
      ]
    },
    {
      "cell_type": "code",
      "execution_count": 34,
      "metadata": {
        "colab": {
          "base_uri": "https://localhost:8080/",
          "height": 75
        },
        "id": "VDGiZxtKlKw3",
        "outputId": "fd19b149-5a6c-4b06-b65b-78f7f98924a5"
      },
      "outputs": [
        {
          "data": {
            "text/html": [
              "<style>#sk-container-id-1 {\n",
              "  /* Definition of color scheme common for light and dark mode */\n",
              "  --sklearn-color-text: black;\n",
              "  --sklearn-color-line: gray;\n",
              "  /* Definition of color scheme for unfitted estimators */\n",
              "  --sklearn-color-unfitted-level-0: #fff5e6;\n",
              "  --sklearn-color-unfitted-level-1: #f6e4d2;\n",
              "  --sklearn-color-unfitted-level-2: #ffe0b3;\n",
              "  --sklearn-color-unfitted-level-3: chocolate;\n",
              "  /* Definition of color scheme for fitted estimators */\n",
              "  --sklearn-color-fitted-level-0: #f0f8ff;\n",
              "  --sklearn-color-fitted-level-1: #d4ebff;\n",
              "  --sklearn-color-fitted-level-2: #b3dbfd;\n",
              "  --sklearn-color-fitted-level-3: cornflowerblue;\n",
              "\n",
              "  /* Specific color for light theme */\n",
              "  --sklearn-color-text-on-default-background: var(--sg-text-color, var(--theme-code-foreground, var(--jp-content-font-color1, black)));\n",
              "  --sklearn-color-background: var(--sg-background-color, var(--theme-background, var(--jp-layout-color0, white)));\n",
              "  --sklearn-color-border-box: var(--sg-text-color, var(--theme-code-foreground, var(--jp-content-font-color1, black)));\n",
              "  --sklearn-color-icon: #696969;\n",
              "\n",
              "  @media (prefers-color-scheme: dark) {\n",
              "    /* Redefinition of color scheme for dark theme */\n",
              "    --sklearn-color-text-on-default-background: var(--sg-text-color, var(--theme-code-foreground, var(--jp-content-font-color1, white)));\n",
              "    --sklearn-color-background: var(--sg-background-color, var(--theme-background, var(--jp-layout-color0, #111)));\n",
              "    --sklearn-color-border-box: var(--sg-text-color, var(--theme-code-foreground, var(--jp-content-font-color1, white)));\n",
              "    --sklearn-color-icon: #878787;\n",
              "  }\n",
              "}\n",
              "\n",
              "#sk-container-id-1 {\n",
              "  color: var(--sklearn-color-text);\n",
              "}\n",
              "\n",
              "#sk-container-id-1 pre {\n",
              "  padding: 0;\n",
              "}\n",
              "\n",
              "#sk-container-id-1 input.sk-hidden--visually {\n",
              "  border: 0;\n",
              "  clip: rect(1px 1px 1px 1px);\n",
              "  clip: rect(1px, 1px, 1px, 1px);\n",
              "  height: 1px;\n",
              "  margin: -1px;\n",
              "  overflow: hidden;\n",
              "  padding: 0;\n",
              "  position: absolute;\n",
              "  width: 1px;\n",
              "}\n",
              "\n",
              "#sk-container-id-1 div.sk-dashed-wrapped {\n",
              "  border: 1px dashed var(--sklearn-color-line);\n",
              "  margin: 0 0.4em 0.5em 0.4em;\n",
              "  box-sizing: border-box;\n",
              "  padding-bottom: 0.4em;\n",
              "  background-color: var(--sklearn-color-background);\n",
              "}\n",
              "\n",
              "#sk-container-id-1 div.sk-container {\n",
              "  /* jupyter's `normalize.less` sets `[hidden] { display: none; }`\n",
              "     but bootstrap.min.css set `[hidden] { display: none !important; }`\n",
              "     so we also need the `!important` here to be able to override the\n",
              "     default hidden behavior on the sphinx rendered scikit-learn.org.\n",
              "     See: https://github.com/scikit-learn/scikit-learn/issues/21755 */\n",
              "  display: inline-block !important;\n",
              "  position: relative;\n",
              "}\n",
              "\n",
              "#sk-container-id-1 div.sk-text-repr-fallback {\n",
              "  display: none;\n",
              "}\n",
              "\n",
              "div.sk-parallel-item,\n",
              "div.sk-serial,\n",
              "div.sk-item {\n",
              "  /* draw centered vertical line to link estimators */\n",
              "  background-image: linear-gradient(var(--sklearn-color-text-on-default-background), var(--sklearn-color-text-on-default-background));\n",
              "  background-size: 2px 100%;\n",
              "  background-repeat: no-repeat;\n",
              "  background-position: center center;\n",
              "}\n",
              "\n",
              "/* Parallel-specific style estimator block */\n",
              "\n",
              "#sk-container-id-1 div.sk-parallel-item::after {\n",
              "  content: \"\";\n",
              "  width: 100%;\n",
              "  border-bottom: 2px solid var(--sklearn-color-text-on-default-background);\n",
              "  flex-grow: 1;\n",
              "}\n",
              "\n",
              "#sk-container-id-1 div.sk-parallel {\n",
              "  display: flex;\n",
              "  align-items: stretch;\n",
              "  justify-content: center;\n",
              "  background-color: var(--sklearn-color-background);\n",
              "  position: relative;\n",
              "}\n",
              "\n",
              "#sk-container-id-1 div.sk-parallel-item {\n",
              "  display: flex;\n",
              "  flex-direction: column;\n",
              "}\n",
              "\n",
              "#sk-container-id-1 div.sk-parallel-item:first-child::after {\n",
              "  align-self: flex-end;\n",
              "  width: 50%;\n",
              "}\n",
              "\n",
              "#sk-container-id-1 div.sk-parallel-item:last-child::after {\n",
              "  align-self: flex-start;\n",
              "  width: 50%;\n",
              "}\n",
              "\n",
              "#sk-container-id-1 div.sk-parallel-item:only-child::after {\n",
              "  width: 0;\n",
              "}\n",
              "\n",
              "/* Serial-specific style estimator block */\n",
              "\n",
              "#sk-container-id-1 div.sk-serial {\n",
              "  display: flex;\n",
              "  flex-direction: column;\n",
              "  align-items: center;\n",
              "  background-color: var(--sklearn-color-background);\n",
              "  padding-right: 1em;\n",
              "  padding-left: 1em;\n",
              "}\n",
              "\n",
              "\n",
              "/* Toggleable style: style used for estimator/Pipeline/ColumnTransformer box that is\n",
              "clickable and can be expanded/collapsed.\n",
              "- Pipeline and ColumnTransformer use this feature and define the default style\n",
              "- Estimators will overwrite some part of the style using the `sk-estimator` class\n",
              "*/\n",
              "\n",
              "/* Pipeline and ColumnTransformer style (default) */\n",
              "\n",
              "#sk-container-id-1 div.sk-toggleable {\n",
              "  /* Default theme specific background. It is overwritten whether we have a\n",
              "  specific estimator or a Pipeline/ColumnTransformer */\n",
              "  background-color: var(--sklearn-color-background);\n",
              "}\n",
              "\n",
              "/* Toggleable label */\n",
              "#sk-container-id-1 label.sk-toggleable__label {\n",
              "  cursor: pointer;\n",
              "  display: block;\n",
              "  width: 100%;\n",
              "  margin-bottom: 0;\n",
              "  padding: 0.5em;\n",
              "  box-sizing: border-box;\n",
              "  text-align: center;\n",
              "}\n",
              "\n",
              "#sk-container-id-1 label.sk-toggleable__label-arrow:before {\n",
              "  /* Arrow on the left of the label */\n",
              "  content: \"▸\";\n",
              "  float: left;\n",
              "  margin-right: 0.25em;\n",
              "  color: var(--sklearn-color-icon);\n",
              "}\n",
              "\n",
              "#sk-container-id-1 label.sk-toggleable__label-arrow:hover:before {\n",
              "  color: var(--sklearn-color-text);\n",
              "}\n",
              "\n",
              "/* Toggleable content - dropdown */\n",
              "\n",
              "#sk-container-id-1 div.sk-toggleable__content {\n",
              "  max-height: 0;\n",
              "  max-width: 0;\n",
              "  overflow: hidden;\n",
              "  text-align: left;\n",
              "  /* unfitted */\n",
              "  background-color: var(--sklearn-color-unfitted-level-0);\n",
              "}\n",
              "\n",
              "#sk-container-id-1 div.sk-toggleable__content.fitted {\n",
              "  /* fitted */\n",
              "  background-color: var(--sklearn-color-fitted-level-0);\n",
              "}\n",
              "\n",
              "#sk-container-id-1 div.sk-toggleable__content pre {\n",
              "  margin: 0.2em;\n",
              "  border-radius: 0.25em;\n",
              "  color: var(--sklearn-color-text);\n",
              "  /* unfitted */\n",
              "  background-color: var(--sklearn-color-unfitted-level-0);\n",
              "}\n",
              "\n",
              "#sk-container-id-1 div.sk-toggleable__content.fitted pre {\n",
              "  /* unfitted */\n",
              "  background-color: var(--sklearn-color-fitted-level-0);\n",
              "}\n",
              "\n",
              "#sk-container-id-1 input.sk-toggleable__control:checked~div.sk-toggleable__content {\n",
              "  /* Expand drop-down */\n",
              "  max-height: 200px;\n",
              "  max-width: 100%;\n",
              "  overflow: auto;\n",
              "}\n",
              "\n",
              "#sk-container-id-1 input.sk-toggleable__control:checked~label.sk-toggleable__label-arrow:before {\n",
              "  content: \"▾\";\n",
              "}\n",
              "\n",
              "/* Pipeline/ColumnTransformer-specific style */\n",
              "\n",
              "#sk-container-id-1 div.sk-label input.sk-toggleable__control:checked~label.sk-toggleable__label {\n",
              "  color: var(--sklearn-color-text);\n",
              "  background-color: var(--sklearn-color-unfitted-level-2);\n",
              "}\n",
              "\n",
              "#sk-container-id-1 div.sk-label.fitted input.sk-toggleable__control:checked~label.sk-toggleable__label {\n",
              "  background-color: var(--sklearn-color-fitted-level-2);\n",
              "}\n",
              "\n",
              "/* Estimator-specific style */\n",
              "\n",
              "/* Colorize estimator box */\n",
              "#sk-container-id-1 div.sk-estimator input.sk-toggleable__control:checked~label.sk-toggleable__label {\n",
              "  /* unfitted */\n",
              "  background-color: var(--sklearn-color-unfitted-level-2);\n",
              "}\n",
              "\n",
              "#sk-container-id-1 div.sk-estimator.fitted input.sk-toggleable__control:checked~label.sk-toggleable__label {\n",
              "  /* fitted */\n",
              "  background-color: var(--sklearn-color-fitted-level-2);\n",
              "}\n",
              "\n",
              "#sk-container-id-1 div.sk-label label.sk-toggleable__label,\n",
              "#sk-container-id-1 div.sk-label label {\n",
              "  /* The background is the default theme color */\n",
              "  color: var(--sklearn-color-text-on-default-background);\n",
              "}\n",
              "\n",
              "/* On hover, darken the color of the background */\n",
              "#sk-container-id-1 div.sk-label:hover label.sk-toggleable__label {\n",
              "  color: var(--sklearn-color-text);\n",
              "  background-color: var(--sklearn-color-unfitted-level-2);\n",
              "}\n",
              "\n",
              "/* Label box, darken color on hover, fitted */\n",
              "#sk-container-id-1 div.sk-label.fitted:hover label.sk-toggleable__label.fitted {\n",
              "  color: var(--sklearn-color-text);\n",
              "  background-color: var(--sklearn-color-fitted-level-2);\n",
              "}\n",
              "\n",
              "/* Estimator label */\n",
              "\n",
              "#sk-container-id-1 div.sk-label label {\n",
              "  font-family: monospace;\n",
              "  font-weight: bold;\n",
              "  display: inline-block;\n",
              "  line-height: 1.2em;\n",
              "}\n",
              "\n",
              "#sk-container-id-1 div.sk-label-container {\n",
              "  text-align: center;\n",
              "}\n",
              "\n",
              "/* Estimator-specific */\n",
              "#sk-container-id-1 div.sk-estimator {\n",
              "  font-family: monospace;\n",
              "  border: 1px dotted var(--sklearn-color-border-box);\n",
              "  border-radius: 0.25em;\n",
              "  box-sizing: border-box;\n",
              "  margin-bottom: 0.5em;\n",
              "  /* unfitted */\n",
              "  background-color: var(--sklearn-color-unfitted-level-0);\n",
              "}\n",
              "\n",
              "#sk-container-id-1 div.sk-estimator.fitted {\n",
              "  /* fitted */\n",
              "  background-color: var(--sklearn-color-fitted-level-0);\n",
              "}\n",
              "\n",
              "/* on hover */\n",
              "#sk-container-id-1 div.sk-estimator:hover {\n",
              "  /* unfitted */\n",
              "  background-color: var(--sklearn-color-unfitted-level-2);\n",
              "}\n",
              "\n",
              "#sk-container-id-1 div.sk-estimator.fitted:hover {\n",
              "  /* fitted */\n",
              "  background-color: var(--sklearn-color-fitted-level-2);\n",
              "}\n",
              "\n",
              "/* Specification for estimator info (e.g. \"i\" and \"?\") */\n",
              "\n",
              "/* Common style for \"i\" and \"?\" */\n",
              "\n",
              ".sk-estimator-doc-link,\n",
              "a:link.sk-estimator-doc-link,\n",
              "a:visited.sk-estimator-doc-link {\n",
              "  float: right;\n",
              "  font-size: smaller;\n",
              "  line-height: 1em;\n",
              "  font-family: monospace;\n",
              "  background-color: var(--sklearn-color-background);\n",
              "  border-radius: 1em;\n",
              "  height: 1em;\n",
              "  width: 1em;\n",
              "  text-decoration: none !important;\n",
              "  margin-left: 1ex;\n",
              "  /* unfitted */\n",
              "  border: var(--sklearn-color-unfitted-level-1) 1pt solid;\n",
              "  color: var(--sklearn-color-unfitted-level-1);\n",
              "}\n",
              "\n",
              ".sk-estimator-doc-link.fitted,\n",
              "a:link.sk-estimator-doc-link.fitted,\n",
              "a:visited.sk-estimator-doc-link.fitted {\n",
              "  /* fitted */\n",
              "  border: var(--sklearn-color-fitted-level-1) 1pt solid;\n",
              "  color: var(--sklearn-color-fitted-level-1);\n",
              "}\n",
              "\n",
              "/* On hover */\n",
              "div.sk-estimator:hover .sk-estimator-doc-link:hover,\n",
              ".sk-estimator-doc-link:hover,\n",
              "div.sk-label-container:hover .sk-estimator-doc-link:hover,\n",
              ".sk-estimator-doc-link:hover {\n",
              "  /* unfitted */\n",
              "  background-color: var(--sklearn-color-unfitted-level-3);\n",
              "  color: var(--sklearn-color-background);\n",
              "  text-decoration: none;\n",
              "}\n",
              "\n",
              "div.sk-estimator.fitted:hover .sk-estimator-doc-link.fitted:hover,\n",
              ".sk-estimator-doc-link.fitted:hover,\n",
              "div.sk-label-container:hover .sk-estimator-doc-link.fitted:hover,\n",
              ".sk-estimator-doc-link.fitted:hover {\n",
              "  /* fitted */\n",
              "  background-color: var(--sklearn-color-fitted-level-3);\n",
              "  color: var(--sklearn-color-background);\n",
              "  text-decoration: none;\n",
              "}\n",
              "\n",
              "/* Span, style for the box shown on hovering the info icon */\n",
              ".sk-estimator-doc-link span {\n",
              "  display: none;\n",
              "  z-index: 9999;\n",
              "  position: relative;\n",
              "  font-weight: normal;\n",
              "  right: .2ex;\n",
              "  padding: .5ex;\n",
              "  margin: .5ex;\n",
              "  width: min-content;\n",
              "  min-width: 20ex;\n",
              "  max-width: 50ex;\n",
              "  color: var(--sklearn-color-text);\n",
              "  box-shadow: 2pt 2pt 4pt #999;\n",
              "  /* unfitted */\n",
              "  background: var(--sklearn-color-unfitted-level-0);\n",
              "  border: .5pt solid var(--sklearn-color-unfitted-level-3);\n",
              "}\n",
              "\n",
              ".sk-estimator-doc-link.fitted span {\n",
              "  /* fitted */\n",
              "  background: var(--sklearn-color-fitted-level-0);\n",
              "  border: var(--sklearn-color-fitted-level-3);\n",
              "}\n",
              "\n",
              ".sk-estimator-doc-link:hover span {\n",
              "  display: block;\n",
              "}\n",
              "\n",
              "/* \"?\"-specific style due to the `<a>` HTML tag */\n",
              "\n",
              "#sk-container-id-1 a.estimator_doc_link {\n",
              "  float: right;\n",
              "  font-size: 1rem;\n",
              "  line-height: 1em;\n",
              "  font-family: monospace;\n",
              "  background-color: var(--sklearn-color-background);\n",
              "  border-radius: 1rem;\n",
              "  height: 1rem;\n",
              "  width: 1rem;\n",
              "  text-decoration: none;\n",
              "  /* unfitted */\n",
              "  color: var(--sklearn-color-unfitted-level-1);\n",
              "  border: var(--sklearn-color-unfitted-level-1) 1pt solid;\n",
              "}\n",
              "\n",
              "#sk-container-id-1 a.estimator_doc_link.fitted {\n",
              "  /* fitted */\n",
              "  border: var(--sklearn-color-fitted-level-1) 1pt solid;\n",
              "  color: var(--sklearn-color-fitted-level-1);\n",
              "}\n",
              "\n",
              "/* On hover */\n",
              "#sk-container-id-1 a.estimator_doc_link:hover {\n",
              "  /* unfitted */\n",
              "  background-color: var(--sklearn-color-unfitted-level-3);\n",
              "  color: var(--sklearn-color-background);\n",
              "  text-decoration: none;\n",
              "}\n",
              "\n",
              "#sk-container-id-1 a.estimator_doc_link.fitted:hover {\n",
              "  /* fitted */\n",
              "  background-color: var(--sklearn-color-fitted-level-3);\n",
              "}\n",
              "</style><div id=\"sk-container-id-1\" class=\"sk-top-container\"><div class=\"sk-text-repr-fallback\"><pre>RandomForestClassifier(max_depth=10, n_estimators=250, random_state=42)</pre><b>In a Jupyter environment, please rerun this cell to show the HTML representation or trust the notebook. <br />On GitHub, the HTML representation is unable to render, please try loading this page with nbviewer.org.</b></div><div class=\"sk-container\" hidden><div class=\"sk-item\"><div class=\"sk-estimator fitted sk-toggleable\"><input class=\"sk-toggleable__control sk-hidden--visually\" id=\"sk-estimator-id-1\" type=\"checkbox\" checked><label for=\"sk-estimator-id-1\" class=\"sk-toggleable__label fitted sk-toggleable__label-arrow fitted\">&nbsp;&nbsp;RandomForestClassifier<a class=\"sk-estimator-doc-link fitted\" rel=\"noreferrer\" target=\"_blank\" href=\"https://scikit-learn.org/1.5/modules/generated/sklearn.ensemble.RandomForestClassifier.html\">?<span>Documentation for RandomForestClassifier</span></a><span class=\"sk-estimator-doc-link fitted\">i<span>Fitted</span></span></label><div class=\"sk-toggleable__content fitted\"><pre>RandomForestClassifier(max_depth=10, n_estimators=250, random_state=42)</pre></div> </div></div></div></div>"
            ],
            "text/plain": [
              "RandomForestClassifier(max_depth=10, n_estimators=250, random_state=42)"
            ]
          },
          "execution_count": 34,
          "metadata": {},
          "output_type": "execute_result"
        }
      ],
      "source": [
        "# Fit the model on the full training set\n",
        "rf.fit(X_train, y_train)"
      ]
    },
    {
      "cell_type": "code",
      "execution_count": 35,
      "metadata": {},
      "outputs": [],
      "source": [
        "# Function to predict metal or not\n",
        "\n",
        "def predict_2D(formula, classifier):\n",
        "    # Generate features for the formula\n",
        "    input = pd.DataFrame({'formula': [formula], 'target': [0]})\n",
        "    features, _, _, _ = composition.generate_features(input, elem_prop='magpie', drop_duplicates=False, extend_features=False, sum_feat=True)\n",
        "\n",
        "    # Scale and normalize the features\n",
        "    features_scaled = scaler.transform(features)\n",
        "    features_normalized = normalize(features_scaled)\n",
        "\n",
        "    # Predict using the classifier\n",
        "    prediction = classifier.predict(features_normalized)\n",
        "\n",
        "    # Map the prediction to the corresponding label\n",
        "    prediction_label = '2D Formula' if prediction[0] == 1 else 'Non-2D Formula'\n",
        "\n",
        "    # Print the Prediction\n",
        "    print(f\"Formula = {formula}, Prediction = {prediction_label}\")\n",
        "\n"
      ]
    },
    {
      "cell_type": "code",
      "execution_count": 36,
      "metadata": {},
      "outputs": [
        {
          "name": "stderr",
          "output_type": "stream",
          "text": [
            "Processing Input Data: 100%|██████████| 1/1 [00:00<00:00, 193.15it/s]\n"
          ]
        },
        {
          "name": "stdout",
          "output_type": "stream",
          "text": [
            "\tFeaturizing Compositions...\n"
          ]
        },
        {
          "name": "stderr",
          "output_type": "stream",
          "text": [
            "Assigning Features...: 100%|██████████| 1/1 [00:00<00:00, 1001.98it/s]"
          ]
        },
        {
          "name": "stdout",
          "output_type": "stream",
          "text": [
            "\tCreating Pandas Objects...\n",
            "Formula = IrI2Ta5, Prediction = 2D Formula\n"
          ]
        },
        {
          "name": "stderr",
          "output_type": "stream",
          "text": [
            "\n"
          ]
        }
      ],
      "source": [
        "# Print predictions for a particular Formula using Random Forest classifier\n",
        "formula = 'IrI2Ta5'\n",
        "prediction_rf = predict_2D(formula, rf)"
      ]
    },
    {
      "cell_type": "code",
      "execution_count": 42,
      "metadata": {},
      "outputs": [
        {
          "name": "stderr",
          "output_type": "stream",
          "text": [
            "Processing Input Data: 100%|██████████| 1/1 [00:00<00:00, 977.01it/s]\n"
          ]
        },
        {
          "name": "stdout",
          "output_type": "stream",
          "text": [
            "\tFeaturizing Compositions...\n"
          ]
        },
        {
          "name": "stderr",
          "output_type": "stream",
          "text": [
            "Assigning Features...: 100%|██████████| 1/1 [00:00<?, ?it/s]"
          ]
        },
        {
          "name": "stdout",
          "output_type": "stream",
          "text": [
            "\tCreating Pandas Objects...\n",
            "Formula = Nb3Cu4Si6, Prediction = Non-2D Formula\n"
          ]
        },
        {
          "name": "stderr",
          "output_type": "stream",
          "text": [
            "\n"
          ]
        }
      ],
      "source": [
        "# Print predictions for a particular Formula using Random Forest classifier\n",
        "formula = 'Nb3Cu4Si6'\n",
        "prediction_rf = predict_2D(formula, rf)"
      ]
    },
    {
      "cell_type": "code",
      "execution_count": 41,
      "metadata": {},
      "outputs": [
        {
          "name": "stderr",
          "output_type": "stream",
          "text": [
            "Processing Input Data: 100%|██████████| 1/1 [00:00<00:00, 730.33it/s]\n"
          ]
        },
        {
          "name": "stdout",
          "output_type": "stream",
          "text": [
            "\tFeaturizing Compositions...\n"
          ]
        },
        {
          "name": "stderr",
          "output_type": "stream",
          "text": [
            "Assigning Features...: 100%|██████████| 1/1 [00:00<?, ?it/s]"
          ]
        },
        {
          "name": "stdout",
          "output_type": "stream",
          "text": [
            "\tCreating Pandas Objects...\n",
            "Formula = PoSe2, Prediction = 2D Formula\n"
          ]
        },
        {
          "name": "stderr",
          "output_type": "stream",
          "text": [
            "\n"
          ]
        }
      ],
      "source": [
        "# Print predictions for a particular Formula using Random Forest classifier\n",
        "formula = 'PoSe2'\n",
        "prediction_rf = predict_2D(formula, rf)"
      ]
    },
    {
      "cell_type": "code",
      "execution_count": 35,
      "metadata": {
        "id": "4uWeEwFalOXJ"
      },
      "outputs": [],
      "source": [
        "# Predict the probability scores\n",
        "probabilities = rf.predict_proba(X_test)[:, 1]"
      ]
    },
    {
      "cell_type": "code",
      "execution_count": 36,
      "metadata": {},
      "outputs": [
        {
          "data": {
            "text/html": [
              "<div>\n",
              "<style scoped>\n",
              "    .dataframe tbody tr th:only-of-type {\n",
              "        vertical-align: middle;\n",
              "    }\n",
              "\n",
              "    .dataframe tbody tr th {\n",
              "        vertical-align: top;\n",
              "    }\n",
              "\n",
              "    .dataframe thead th {\n",
              "        text-align: right;\n",
              "    }\n",
              "</style>\n",
              "<table border=\"1\" class=\"dataframe\">\n",
              "  <thead>\n",
              "    <tr style=\"text-align: right;\">\n",
              "      <th></th>\n",
              "      <th>formula</th>\n",
              "      <th>target</th>\n",
              "    </tr>\n",
              "  </thead>\n",
              "  <tbody>\n",
              "    <tr>\n",
              "      <th>0</th>\n",
              "      <td>TmFe2V5</td>\n",
              "      <td>0</td>\n",
              "    </tr>\n",
              "    <tr>\n",
              "      <th>1</th>\n",
              "      <td>Zr5W7C8</td>\n",
              "      <td>0</td>\n",
              "    </tr>\n",
              "    <tr>\n",
              "      <th>2</th>\n",
              "      <td>Rb2</td>\n",
              "      <td>0</td>\n",
              "    </tr>\n",
              "    <tr>\n",
              "      <th>3</th>\n",
              "      <td>Rb5</td>\n",
              "      <td>0</td>\n",
              "    </tr>\n",
              "    <tr>\n",
              "      <th>4</th>\n",
              "      <td>Bi2As4Os5Ac5</td>\n",
              "      <td>0</td>\n",
              "    </tr>\n",
              "    <tr>\n",
              "      <th>...</th>\n",
              "      <td>...</td>\n",
              "      <td>...</td>\n",
              "    </tr>\n",
              "    <tr>\n",
              "      <th>17944</th>\n",
              "      <td>F2Mn2Po2No3Na8</td>\n",
              "      <td>0</td>\n",
              "    </tr>\n",
              "    <tr>\n",
              "      <th>17945</th>\n",
              "      <td>SmZr3P6</td>\n",
              "      <td>0</td>\n",
              "    </tr>\n",
              "    <tr>\n",
              "      <th>17946</th>\n",
              "      <td>SrNi4Bi6I8</td>\n",
              "      <td>0</td>\n",
              "    </tr>\n",
              "    <tr>\n",
              "      <th>17947</th>\n",
              "      <td>Cu5Mo6Se7</td>\n",
              "      <td>0</td>\n",
              "    </tr>\n",
              "    <tr>\n",
              "      <th>17948</th>\n",
              "      <td>HgMn4Cr8</td>\n",
              "      <td>0</td>\n",
              "    </tr>\n",
              "  </tbody>\n",
              "</table>\n",
              "<p>17949 rows × 2 columns</p>\n",
              "</div>"
            ],
            "text/plain": [
              "              formula  target\n",
              "0             TmFe2V5       0\n",
              "1             Zr5W7C8       0\n",
              "2                 Rb2       0\n",
              "3                 Rb5       0\n",
              "4        Bi2As4Os5Ac5       0\n",
              "...               ...     ...\n",
              "17944  F2Mn2Po2No3Na8       0\n",
              "17945         SmZr3P6       0\n",
              "17946      SrNi4Bi6I8       0\n",
              "17947       Cu5Mo6Se7       0\n",
              "17948        HgMn4Cr8       0\n",
              "\n",
              "[17949 rows x 2 columns]"
            ]
          },
          "execution_count": 36,
          "metadata": {},
          "output_type": "execute_result"
        }
      ],
      "source": [
        "formulas"
      ]
    },
    {
      "cell_type": "code",
      "execution_count": 37,
      "metadata": {
        "id": "Fg-oGAx-mBUS"
      },
      "outputs": [],
      "source": [
        "# Add the probabilities to the original dataframe\n",
        "formulas = formulas.drop(['target'], axis=1)\n",
        "formulas['2D_probability'] = probabilities\n"
      ]
    },
    {
      "cell_type": "code",
      "execution_count": 38,
      "metadata": {
        "id": "YajlfGI8mFt2"
      },
      "outputs": [],
      "source": [
        "# Save the probabilities of valid formulas\n",
        "formulas.to_csv('../../data/d4_screening_2D_materials/valid_Formulas_prob.csv', index=False)"
      ]
    },
    {
      "cell_type": "code",
      "execution_count": 39,
      "metadata": {
        "id": "ii3rN2EcmOsY"
      },
      "outputs": [],
      "source": [
        "# Filter formulas with high probability of being 2D\n",
        "threshold = 0.7  # Adjust threshold as needed\n",
        "valid_2d_formulas = formulas[formulas['2D_probability'] > threshold]"
      ]
    },
    {
      "cell_type": "code",
      "execution_count": 40,
      "metadata": {
        "colab": {
          "base_uri": "https://localhost:8080/"
        },
        "id": "ajN3MyNTmRno",
        "outputId": "4044ab79-1306-422a-c69a-633ae8f4ff9d"
      },
      "outputs": [
        {
          "data": {
            "text/plain": [
              "(1492, 2)"
            ]
          },
          "execution_count": 40,
          "metadata": {},
          "output_type": "execute_result"
        }
      ],
      "source": [
        "valid_2d_formulas.shape"
      ]
    },
    {
      "cell_type": "code",
      "execution_count": 41,
      "metadata": {
        "id": "QH8pbAkcmX1D"
      },
      "outputs": [],
      "source": [
        "# Save the valid 2D formulas\n",
        "valid_2d_formulas.to_csv('../../data/d4_screening_2D_materials/valid2D_Formulas.csv', index=False)"
      ]
    },
    {
      "cell_type": "code",
      "execution_count": 42,
      "metadata": {},
      "outputs": [
        {
          "data": {
            "text/html": [
              "<div>\n",
              "<style scoped>\n",
              "    .dataframe tbody tr th:only-of-type {\n",
              "        vertical-align: middle;\n",
              "    }\n",
              "\n",
              "    .dataframe tbody tr th {\n",
              "        vertical-align: top;\n",
              "    }\n",
              "\n",
              "    .dataframe thead th {\n",
              "        text-align: right;\n",
              "    }\n",
              "</style>\n",
              "<table border=\"1\" class=\"dataframe\">\n",
              "  <thead>\n",
              "    <tr style=\"text-align: right;\">\n",
              "      <th></th>\n",
              "      <th>formula</th>\n",
              "      <th>2D_probability</th>\n",
              "    </tr>\n",
              "  </thead>\n",
              "  <tbody>\n",
              "    <tr>\n",
              "      <th>15</th>\n",
              "      <td>S3</td>\n",
              "      <td>0.795150</td>\n",
              "    </tr>\n",
              "    <tr>\n",
              "      <th>19</th>\n",
              "      <td>Kr</td>\n",
              "      <td>0.757073</td>\n",
              "    </tr>\n",
              "    <tr>\n",
              "      <th>25</th>\n",
              "      <td>I2Nd2Ta3At3</td>\n",
              "      <td>0.742599</td>\n",
              "    </tr>\n",
              "    <tr>\n",
              "      <th>30</th>\n",
              "      <td>P6</td>\n",
              "      <td>0.737882</td>\n",
              "    </tr>\n",
              "    <tr>\n",
              "      <th>35</th>\n",
              "      <td>At5</td>\n",
              "      <td>0.714678</td>\n",
              "    </tr>\n",
              "    <tr>\n",
              "      <th>...</th>\n",
              "      <td>...</td>\n",
              "      <td>...</td>\n",
              "    </tr>\n",
              "    <tr>\n",
              "      <th>17907</th>\n",
              "      <td>C2Fe2Se3</td>\n",
              "      <td>0.828354</td>\n",
              "    </tr>\n",
              "    <tr>\n",
              "      <th>17908</th>\n",
              "      <td>TbF2Pd2Ta2</td>\n",
              "      <td>0.854095</td>\n",
              "    </tr>\n",
              "    <tr>\n",
              "      <th>17910</th>\n",
              "      <td>B2Se3</td>\n",
              "      <td>0.827179</td>\n",
              "    </tr>\n",
              "    <tr>\n",
              "      <th>17925</th>\n",
              "      <td>RnPt6</td>\n",
              "      <td>0.779697</td>\n",
              "    </tr>\n",
              "    <tr>\n",
              "      <th>17926</th>\n",
              "      <td>S2Sc2Fe2Rh3</td>\n",
              "      <td>0.792446</td>\n",
              "    </tr>\n",
              "  </tbody>\n",
              "</table>\n",
              "<p>1492 rows × 2 columns</p>\n",
              "</div>"
            ],
            "text/plain": [
              "           formula  2D_probability\n",
              "15              S3        0.795150\n",
              "19              Kr        0.757073\n",
              "25     I2Nd2Ta3At3        0.742599\n",
              "30              P6        0.737882\n",
              "35             At5        0.714678\n",
              "...            ...             ...\n",
              "17907     C2Fe2Se3        0.828354\n",
              "17908   TbF2Pd2Ta2        0.854095\n",
              "17910        B2Se3        0.827179\n",
              "17925        RnPt6        0.779697\n",
              "17926  S2Sc2Fe2Rh3        0.792446\n",
              "\n",
              "[1492 rows x 2 columns]"
            ]
          },
          "execution_count": 42,
          "metadata": {},
          "output_type": "execute_result"
        }
      ],
      "source": [
        "valid_2d_formulas"
      ]
    },
    {
      "cell_type": "code",
      "execution_count": 43,
      "metadata": {},
      "outputs": [
        {
          "data": {
            "image/png": "[encoded data removed]",
            "text/plain": [
              "<Figure size 1000x600 with 1 Axes>"
            ]
          },
          "metadata": {},
          "output_type": "display_data"
        }
      ],
      "source": [
        "import pandas as pd\n",
        "import matplotlib.pyplot as plt\n",
        "\n",
        "# Assuming your DataFrame has columns named 'Formula' and 'probabilities'\n",
        "# Replace 'valid_2d_formulas' with the actual name of your DataFrame\n",
        "\n",
        "# Plotting histogram of probabilities\n",
        "plt.figure(figsize=(10, 6))\n",
        "plt.hist(valid_2d_formulas['2D_probability'], bins=30, edgecolor='black')\n",
        "plt.xlabel('Probabilities')\n",
        "plt.ylabel('Frequency')\n",
        "plt.title('Distribution of Probabilities')\n",
        "plt.grid(True)\n",
        "plt.show()\n"
      ]
    },
    {
      "cell_type": "code",
      "execution_count": 48,
      "metadata": {},
      "outputs": [],
      "source": [
        "top_formulas = valid_2d_formulas.nlargest(10, '2D_probability')"
      ]
    },
    {
      "cell_type": "code",
      "execution_count": 49,
      "metadata": {},
      "outputs": [
        {
          "data": {
            "text/html": [
              "<div>\n",
              "<style scoped>\n",
              "    .dataframe tbody tr th:only-of-type {\n",
              "        vertical-align: middle;\n",
              "    }\n",
              "\n",
              "    .dataframe tbody tr th {\n",
              "        vertical-align: top;\n",
              "    }\n",
              "\n",
              "    .dataframe thead th {\n",
              "        text-align: right;\n",
              "    }\n",
              "</style>\n",
              "<table border=\"1\" class=\"dataframe\">\n",
              "  <thead>\n",
              "    <tr style=\"text-align: right;\">\n",
              "      <th></th>\n",
              "      <th>formula</th>\n",
              "      <th>2D_probability</th>\n",
              "    </tr>\n",
              "  </thead>\n",
              "  <tbody>\n",
              "    <tr>\n",
              "      <th>15061</th>\n",
              "      <td>XeBiRe3</td>\n",
              "      <td>0.932754</td>\n",
              "    </tr>\n",
              "    <tr>\n",
              "      <th>9106</th>\n",
              "      <td>FeNiWCl2Ag2</td>\n",
              "      <td>0.927680</td>\n",
              "    </tr>\n",
              "    <tr>\n",
              "      <th>5516</th>\n",
              "      <td>RhBr3Re6</td>\n",
              "      <td>0.925749</td>\n",
              "    </tr>\n",
              "    <tr>\n",
              "      <th>927</th>\n",
              "      <td>Cl2Os5</td>\n",
              "      <td>0.924434</td>\n",
              "    </tr>\n",
              "    <tr>\n",
              "      <th>13318</th>\n",
              "      <td>IrI2Ta5</td>\n",
              "      <td>0.919987</td>\n",
              "    </tr>\n",
              "    <tr>\n",
              "      <th>13862</th>\n",
              "      <td>CrI</td>\n",
              "      <td>0.915075</td>\n",
              "    </tr>\n",
              "    <tr>\n",
              "      <th>13860</th>\n",
              "      <td>I2Mn5</td>\n",
              "      <td>0.914463</td>\n",
              "    </tr>\n",
              "    <tr>\n",
              "      <th>4471</th>\n",
              "      <td>I3Tc5</td>\n",
              "      <td>0.914414</td>\n",
              "    </tr>\n",
              "    <tr>\n",
              "      <th>10163</th>\n",
              "      <td>CdTaCl3Mo4</td>\n",
              "      <td>0.913819</td>\n",
              "    </tr>\n",
              "    <tr>\n",
              "      <th>9562</th>\n",
              "      <td>FKrNb</td>\n",
              "      <td>0.912111</td>\n",
              "    </tr>\n",
              "  </tbody>\n",
              "</table>\n",
              "</div>"
            ],
            "text/plain": [
              "           formula  2D_probability\n",
              "15061      XeBiRe3        0.932754\n",
              "9106   FeNiWCl2Ag2        0.927680\n",
              "5516      RhBr3Re6        0.925749\n",
              "927         Cl2Os5        0.924434\n",
              "13318      IrI2Ta5        0.919987\n",
              "13862          CrI        0.915075\n",
              "13860        I2Mn5        0.914463\n",
              "4471         I3Tc5        0.914414\n",
              "10163   CdTaCl3Mo4        0.913819\n",
              "9562         FKrNb        0.912111"
            ]
          },
          "execution_count": 49,
          "metadata": {},
          "output_type": "execute_result"
        }
      ],
      "source": [
        "top_formulas"
      ]
    },
    {
      "cell_type": "code",
      "execution_count": 50,
      "metadata": {},
      "outputs": [],
      "source": [
        "top_formulas.to_csv('../../data/d4_screening_2D_materials/top_10.csv', index=False)"
      ]
    },
    {
      "cell_type": "code",
      "execution_count": 51,
      "metadata": {},
      "outputs": [
        {
          "data": {
            "image/png": "[encoded data removed]",
            "text/plain": [
              "<Figure size 1000x600 with 1 Axes>"
            ]
          },
          "metadata": {},
          "output_type": "display_data"
        }
      ],
      "source": [
        "import pandas as pd\n",
        "import matplotlib.pyplot as plt\n",
        "\n",
        "\n",
        "# Plotting scatter plot of formulas vs. 2D probabilities\n",
        "plt.figure(figsize=(10, 6))\n",
        "plt.scatter(top_formulas['formula'], top_formulas['2D_probability'], color='red')\n",
        "plt.xlabel('Formula')\n",
        "plt.ylabel('2D Probability')\n",
        "plt.title('Formulas vs. 2D Probabilities')\n",
        "plt.xticks(rotation=45, ha='right')  # Rotate x-axis labels for better visibility\n",
        "plt.grid(True)\n",
        "plt.tight_layout()\n",
        "plt.show()\n"
      ]
    },
    {
      "cell_type": "code",
      "execution_count": null,
      "metadata": {},
      "outputs": [],
      "source": []
    }
  ],
  "metadata": {
    "colab": {
      "provenance": []
    },
    "kernelspec": {
      "display_name": "Python 3",
      "name": "python3"
    },
    "language_info": {
      "codemirror_mode": {
        "name": "ipython",
        "version": 3
      },
      "file_extension": ".py",
      "mimetype": "text/x-python",
      "name": "python",
      "nbconvert_exporter": "python",
      "pygments_lexer": "ipython3",
      "version": "3.11.3"
    }
  },
  "nbformat": 4,
  "nbformat_minor": 0
}
